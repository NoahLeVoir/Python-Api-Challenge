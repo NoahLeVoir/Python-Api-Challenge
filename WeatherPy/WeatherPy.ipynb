{
 "cells": [
  {
   "cell_type": "markdown",
   "metadata": {},
   "source": [
    "# WeatherPy\n",
    "----\n",
    "\n",
    "#### Note\n",
    "* Instructions have been included for each segment. You do not have to follow them exactly, but they are included to help you think through the steps."
   ]
  },
  {
   "cell_type": "markdown",
   "metadata": {},
   "source": [
    "## Observations and Analysis\n",
    "\n",
    "### 1.)\n",
    "The temperature does increase the closer the latitude is to the equator. We can see through both the overall, as well as the northern and southern hemisphere split charts. As the latitude value approaches 0, the temperature becomes consistently higher. This proves the initial hypothesis of the homework to be true in an statistical and easy to digest visual way!\n",
    "\n",
    "### 2.)\n",
    "Something that was surprising to me was that humidity % did not have a strong correlation with the latitude. I am unsure why, but I assumed it would at the start of this assignment. But as the graphs show, humidity is not necassarily dictatated by latitude but more likely other factors, perhaps by the amount of water to land mass in an area. This could be why we see such dispersion in our charts.\n",
    "\n",
    "### 3.)\n",
    "Both cloudiness and wind speed did not seem to have any correlation with latitude. Wind speed is more a factor of pressure currents which, to my knowledge are not effected by the tilt of the earth. This is likely why temperature is so closely correlated with latitude but the other values tested in this homework are not as much."
   ]
  },
  {
   "cell_type": "code",
   "execution_count": 1,
   "metadata": {},
   "outputs": [],
   "source": [
    "# Dependencies and Setup\n",
    "import matplotlib.pyplot as plt\n",
    "import pandas as pd\n",
    "import numpy as np\n",
    "import requests\n",
    "import json\n",
    "import time\n",
    "from scipy.stats import linregress\n",
    "\n",
    "# Import API key\n",
    "from config import weather_api_key"
   ]
  },
  {
   "cell_type": "code",
   "execution_count": 2,
   "metadata": {
    "scrolled": true
   },
   "outputs": [],
   "source": [
    "# Incorporated citipy to determine city based on latitude and longitude\n",
    "from citipy import citipy\n",
    "\n",
    "# Output File (CSV)\n",
    "output_data_file = \"output_data/cities.csv\"\n",
    "\n",
    "# Range of latitudes and longitudes\n",
    "lat_range = (-90, 90)\n",
    "lng_range = (-180, 180)"
   ]
  },
  {
   "cell_type": "markdown",
   "metadata": {},
   "source": [
    "## Generate Cities List"
   ]
  },
  {
   "cell_type": "code",
   "execution_count": 3,
   "metadata": {},
   "outputs": [
    {
     "name": "stdout",
     "output_type": "stream",
     "text": [
      "612\n",
      "['mar del plata', 'atuona', 'sechura', 'san patricio', 'new norfolk', 'mys shmidta', 'hermanus', 'basar', 'kapaa', 'mogadishu', 'olkhovatka', 'santa isabel do rio negro', 'xining', 'tarudant', 'cagsiay', 'illoqqortoormiut', 'nikolskoye', 'haines junction', 'iracoubo', 'bredasdorp', 'mingguang', 'bluff', 'vanavara', 'rikitea', 'jamestown', 'floro', 'ushuaia', 'ozinki', 'maloshuyka', 'port alfred', 'jalapa', 'east london', 'arraial do cabo', 'makakilo city', 'lata', 'vaini', 'kalmunai', 'flin flon', 'viedma', 'port lincoln', 'san quintin', 'puerto ayora', 'merauke', 'dikson', 'lyuban', 'tarakan', 'itapeva', 'jhajjar', 'norman wells', 'hilo', 'faanui', 'lavrentiya', 'najran', 'metro', 'tiznit', 'eldikan', 'rocha', 'qaanaaq', 'provideniya', 'igrim', 'great yarmouth', 'barentsburg', 'albany', 'bandeirantes', 'qaqortoq', 'dujuma', 'chalmette', 'butaritari', 'barrow', 'concordia', 'beloha', 'rurrenabaque', 'longlac', 'soe', 'hithadhoo', 'longyearbyen', 'kodiak', 'ribeira grande', 'kahului', 'luderitz', 'carnarvon', 'portneuf', 'husavik', 'sao joao da barra', 'chimbote', 'saskylakh', 'ponta do sol', 'teya', 'gold coast', 'ulagan', 'kununurra', 'codrington', 'vadso', 'cherskiy', 'punta arenas', 'waipawa', 'busselton', 'tazovskiy', 'wajima', 'pisco', 'kaitangata', 'chiang rai', 'yellowknife', 'souillac', 'saint-pierre', 'cidreira', 'marcona', 'robertson', 'walvis bay', 'poum', 'along', 'thompson', 'hami', 'barra bonita', 'belushya guba', 'georgetown', 'pacific grove', 'balakhta', 'saleaula', 'sao filipe', 'namibe', 'upernavik', 'tasiilaq', 'bira', 'bonfim', 'necochea', 'beringovskiy', 'kamenskoye', 'cayenne', 'severo-kurilsk', 'orlik', 'aswan', 'takoradi', 'mataura', 'jasper', 'tendukheda', 'sena madureira', 'piacabucu', 'seoul', 'rincon', 'atambua', 'zhigansk', 'nanortalik', 'ambilobe', 'wloszczowa', 'laguna', 'yeppoon', 'port elizabeth', 'ancud', 'kashi', 'warqla', 'grand gaube', 'dong hoi', 'upington', 'tocopilla', 'margate', 'winnemucca', 'ulladulla', 'college', 'benguela', 'attawapiskat', 'port macquarie', 'wuzhou', 'verkhnyaya inta', 'kedrovyy', 'rajec', 'anadyr', 'hihifo', 'roald', 'aykhal', 'doctor pedro p. pena', 'nouadhibou', 'cape town', 'lorengau', 'vila velha', 'kampong chhnang', 'dingle', 'montepuez', 'strezhevoy', 'salalah', 'pevek', 'avarua', 'quatre cocos', 'lalmohan', 'omsukchan', 'isangel', 'noyabrsk', 'goure', 'bengkulu', 'guarapari', 'castro', 'santa maria da vitoria', 'victoria', 'vila', 'brewster', 'puerto lempira', 'bethel', 'faya', 'nizhniy kuranakh', 'lebu', 'bambous virieux', 'biltine', 'buedu', 'chhukha', 'samusu', 'mathbaria', 'mahebourg', 'guozhen', 'antofagasta', 'iqaluit', 'lockport', 'avera', 'coquimbo', 'luanda', 'fortuna', 'petropavlovsk-kamchatskiy', 'katsuura', 'bilibino', 'yinchuan', 'zambezi', 'jalna', 'taolanaro', 'sur', 'tumannyy', 'amapa', 'tiksi', 'hobart', 'marzuq', 'chokurdakh', 'vestmannaeyjar', 'xai-xai', 'kieta', 'umzimvubu', 'hasaki', 'general pico', 'morgantown', 'finschhafen', 'kazalinsk', 'airai', 'richards bay', 'powell river', 'puerto del rosario', 'sicamous', 'malindi', 'roebourne', 'nova vicosa', 'tidore', 'ojinaga', 'tabiauea', 'el limon', 'kupino', 'mwingi', 'tigre', 'ostersund', 'russell', 'tuatapere', 'evensk', 'leningradskiy', 'bathsheba', 'boortmeerbeek', 'samarai', 'havoysund', 'salinopolis', 'smithers', 'mogadouro', 'biak', 'hervey bay', 'wajir', 'kerki', 'babanusah', 'ahipara', 'lamu', 'amderma', 'porbandar', 'karasjok', 'kingston', 'clyde river', 'leshan', 'itanhem', 'ketchikan', 'tonj', 'louisbourg', 'nhulunbuy', 'lincoln', 'khatanga', 'nantucket', 'shelburne', 'upata', 'gat', 'hue', 'maues', 'llangefni', 'constitucion', 'utiroa', 'shihezi', 'saint george', 'la palma', 'tahe', 'loiza', 'port augusta', 'payson', 'alyangula', 'champerico', 'rubtsovsk', 'nizhneyansk', 'kjollefjord', 'bontang', 'nema', 'luza', 'yerbogachen', 'sulzbach-rosenberg', 'guerrero negro', 'santa maria', 'starokostyantyniv', 'cabo san lucas', 'nador', 'marawi', 'fairbanks', 'moron', 'rawannawi', 'gazanjyk', 'ixtapa', 'grand river south east', 'jinchang', 'ruatoria', 'babaeski', 'tura', 'inhambane', 'carbonia', 'kruisfontein', 'pangkalanbuun', 'carballo', 'baherden', 'balad', 'caravelas', 'invermere', 'los llanos de aridane', 'balakhninskiy', 'opuwo', 'bolungarvik', 'teeswater', 'sitka', 'tuktoyaktuk', 'yingzhong', 'ushtobe', 'kapoeta', 'roros', 'yumen', 'manado', 'ossora', 'astaneh-ye ashrafiyeh', 'sept-iles', 'karaul', 'port hedland', 'tigil', 'baykit', 'southbridge', 'saint-louis', 'saint-philippe', 'sao joao de pirabas', 'sentyabrskiy', 'balatan', 'talcahuano', 'saint-francois', 'guadalupe y calvo', 'shimoda', 'kuytun', 'changji', 'mezhdurechenskiy', 'flagstaff', 'palabuhanratu', 'gualaquiza', 'ishim', 'santa marta', 'high rock', 'bourail', 'aklavik', 'umm kaddadah', 'bani', 'augusto correa', 'la ronge', 'balibago', 'ishigaki', 'rio claro', 'libreville', 'korla', 'chuy', 'gebre guracha', 'burnie', 'te anau', 'ranong', 'meulaboh', 'uray', 'geraldton', 'baruun-urt', 'xixiang', 'saint-augustin', 'half moon bay', 'vyartsilya', 'kalabo', 'sorvag', 'talnakh', 'penzance', 'marathon', 'vaitupu', 'tsaratanana', 'brae', 'kangaatsiaq', 'poughkeepsie', 'karratha', 'buala', 'qasigiannguit', 'chiriguana', 'smoky lake', 'mayna', 'ngukurr', 'puerto baquerizo moreno', 'severnoye', 'ust-maya', 'narsaq', 'omboue', 'mount isa', 'northam', 'snyder', 'porangatu', 'magadan', 'klaksvik', 'bardiyah', 'hualmay', 'tashla', 'sinnamary', 'araouane', 'havre-saint-pierre', 'panama city', 'nykobing', 'acarau', 'culleredo', 'sangar', 'gushikawa', 'eskasem', 'havelock', 'rio grande', 'kingsland', 'marrakesh', 'notre-dame-du-lac', 'yamada', 'kuching', 'hofn', 'dunedin', 'manaure', 'san rafael', 'turukhansk', 'santa cruz', 'vostok', 'kukes', 'kropotkin', 'komsomolskiy', 'koumac', 'port hardy', 'ilulissat', 'san ignacio', 'bur gabo', 'bejar', 'olafsvik', 'portland', 'kloulklubed', 'itoman', 'tamandare', 'alofi', 'sorland', 'shingu', 'guangyuan', 'bac lieu', 'churapcha', 'kavieng', 'stephenville crossing', 'abomsa', 'muscat', 'suicheng', 'flinders', 'pokoynoye', 'soubre', 'nova venecia', 'tazmalt', 'belmonte', 'mocuba', 'matay', 'byron bay', 'komatsu', 'gilgit', 'anar darreh', 'bukavu', 'kalawit', 'praia da vitoria', 'armacao dos buzios', 'kichera', 'carmarthen', 'gejiu', 'pakxan', 'novikovo', 'naze', 'dubenskiy', 'zhezkazgan', 'palmer', 'nijar', 'oranjemund', 'mercedes', 'landau', 'xiazhen', 'paamiut', 'jogindarnagar', 'hambantota', 'milkovo', 'shakiso', 'kaseda', 'tsiroanomandidy', 'nyurba', 'oum hadjer', 'scarborough', 'madridejos', 'yiyang', 'taylorville', 'kapit', 'taoudenni', 'aldan', 'campobasso', 'pirovskoye', 'verkhniy uslon', 'jalu', 'olinda', 'yar-sale', 'thinadhoo', 'srednekolymsk', 'okha', 'port blair', 'wichian buri', 'hit', 'rawson', 'camacha', 'sabang', 'makat', 'lethem', 'kishorganj', 'carauari', 'valmiera', 'rantepao', 'hastings', 'mahadday weyne', 'san jeronimo', 'lasa', 'custodia', 'kharian', 'riyadh', 'peace river', 'vuktyl', 'yashkul', 'sayyan', 'palauig', 'ruteng', 'esperance', 'touros', 'limoges', 'pitimbu', 'ahuimanu', 'manjacaze', 'businga', 'todos santos', 'forestville', 'parabel', 'arauca', 'salta', 'catamayo', 'voi', 'tricase', 'prado', 'billings', 'sarakhs', 'pierre', 'tsihombe', 'cotonou', 'batagay-alyta', 'ardistan', 'awbari', 'port arthur', 'leh', 'puerto escondido', 'chapais', 'sakaiminato', 'kawalu', 'asau', 'vredendal', 'zatyshshya', 'zhuozhou', 'okhotsk', 'vaitape', 'funadhoo', 'iwanai', 'yurginskoye', 'tulsipur', 'otane', 'kungurtug', 'ponte de sor', 'sao jose da coroa grande', 'dafeng', 'dudinka', 'svetlaya', 'melbu', 'lanivtsi', 'general roca', 'nuuk', 'namie', 'plainview']\n"
     ]
    }
   ],
   "source": [
    "# List for holding lat_lngs and cities\n",
    "lat_lngs = []\n",
    "cities = []\n",
    "\n",
    "# Create a set of random lat and lng combinations\n",
    "# Returning size of random selection back to original for hw submission\n",
    "lats = np.random.uniform(lat_range[0], lat_range[1], size=1500)\n",
    "lngs = np.random.uniform(lng_range[0], lng_range[1], size=1500)\n",
    "lat_lngs = zip(lats, lngs)\n",
    "\n",
    "# Identify nearest city for each lat, lng combination\n",
    "for lat_lng in lat_lngs:\n",
    "    city = citipy.nearest_city(lat_lng[0], lat_lng[1]).city_name\n",
    "    \n",
    "    # If the city is unique, then add it to a our cities list\n",
    "    if city not in cities:\n",
    "        cities.append(city)\n",
    "\n",
    "# Print the city count to confirm sufficient count\n",
    "print(len(cities))\n",
    "print(cities)"
   ]
  },
  {
   "cell_type": "markdown",
   "metadata": {},
   "source": [
    "### Perform API Calls\n",
    "* Perform a weather check on each city using a series of successive API calls.\n",
    "* Include a print log of each city as it'sbeing processed (with the city number and city name).\n"
   ]
  },
  {
   "cell_type": "code",
   "execution_count": 4,
   "metadata": {
    "scrolled": true
   },
   "outputs": [],
   "source": [
    "# Create the base url and query url that will be used for the API call\n",
    "base_url = \"http://api.openweathermap.org/data/2.5/weather?q=\"\n",
    "# Defult is kelvin, so I need to update units to read fahrenheit\n",
    "units = \"imperial\"\n",
    "query_url = base_url + city + \"&appid=\" + weather_api_key + \"&units=\" + units"
   ]
  },
  {
   "cell_type": "code",
   "execution_count": 5,
   "metadata": {},
   "outputs": [
    {
     "name": "stdout",
     "output_type": "stream",
     "text": [
      "{\n",
      "    \"base\": \"stations\",\n",
      "    \"clouds\": {\n",
      "        \"all\": 90\n",
      "    },\n",
      "    \"cod\": 200,\n",
      "    \"coord\": {\n",
      "        \"lat\": 40.7765,\n",
      "        \"lon\": -73.4673\n",
      "    },\n",
      "    \"dt\": 1613154037,\n",
      "    \"id\": 5131638,\n",
      "    \"main\": {\n",
      "        \"feels_like\": 19.02,\n",
      "        \"humidity\": 31,\n",
      "        \"pressure\": 1026,\n",
      "        \"temp\": 28.49,\n",
      "        \"temp_max\": 30,\n",
      "        \"temp_min\": 27\n",
      "    },\n",
      "    \"name\": \"Plainview\",\n",
      "    \"sys\": {\n",
      "        \"country\": \"US\",\n",
      "        \"id\": 4135,\n",
      "        \"sunrise\": 1613130695,\n",
      "        \"sunset\": 1613168688,\n",
      "        \"type\": 1\n",
      "    },\n",
      "    \"timezone\": -18000,\n",
      "    \"visibility\": 10000,\n",
      "    \"weather\": [\n",
      "        {\n",
      "            \"description\": \"overcast clouds\",\n",
      "            \"icon\": \"04d\",\n",
      "            \"id\": 804,\n",
      "            \"main\": \"Clouds\"\n",
      "        }\n",
      "    ],\n",
      "    \"wind\": {\n",
      "        \"deg\": 10,\n",
      "        \"speed\": 5.75\n",
      "    }\n",
      "}\n"
     ]
    }
   ],
   "source": [
    "# Perform a GET request\n",
    "response = requests.get(query_url)\n",
    "\n",
    "# Convert the response to a JSON\n",
    "weather_data = response.json()\n",
    "\n",
    "# To print in a more readable way, use json.dumps with indent and sort_keys\n",
    "print(json.dumps(weather_data, indent = 4, sort_keys = True))"
   ]
  },
  {
   "cell_type": "code",
   "execution_count": 6,
   "metadata": {},
   "outputs": [
    {
     "name": "stdout",
     "output_type": "stream",
     "text": [
      "Currently processing Plainview, ID Number:4135\n"
     ]
    }
   ],
   "source": [
    "# Print the city number and name while it is being processed\n",
    "# I've found that sometimes there is no city ID listed so I added this try logic to ensure the cell runs regardless\n",
    "try:\n",
    "    city_num = weather_data[\"sys\"][\"id\"]\n",
    "except(KeyError, IndexError):\n",
    "    city_num = \"NA\"\n",
    "city_name = weather_data[\"name\"]\n",
    "print(f\"Currently processing {city_name}, ID Number:{city_num}\")"
   ]
  },
  {
   "cell_type": "code",
   "execution_count": 7,
   "metadata": {},
   "outputs": [
    {
     "name": "stdout",
     "output_type": "stream",
     "text": [
      "Requesting weather information from 612 random cities around the world\n",
      "-----------------------------\n",
      "1 of 612: Currently processing mar del plata, ID Number:8305\n",
      "2 of 612: Unfortunately unable to pull data for atuona, Skipping atuona for now\n",
      "3 of 612: Unfortunately unable to pull data for sechura, Skipping sechura for now\n",
      "4 of 612: Currently processing san patricio, ID Number:3705\n",
      "5 of 612: Currently processing new norfolk, ID Number:2031307\n",
      "6 of 612: Unfortunately unable to pull data for mys shmidta, Skipping mys shmidta for now\n",
      "7 of 612: Currently processing hermanus, ID Number:2006131\n",
      "8 of 612: Unfortunately unable to pull data for basar, Skipping basar for now\n",
      "9 of 612: Currently processing kapaa, ID Number:7873\n",
      "10 of 612: Unfortunately unable to pull data for mogadishu, Skipping mogadishu for now\n",
      "11 of 612: Unfortunately unable to pull data for olkhovatka, Skipping olkhovatka for now\n",
      "12 of 612: Unfortunately unable to pull data for santa isabel do rio negro, Skipping santa isabel do rio negro for now\n",
      "13 of 612: Unfortunately unable to pull data for xining, Skipping xining for now\n",
      "14 of 612: Unfortunately unable to pull data for tarudant, Skipping tarudant for now\n",
      "15 of 612: Unfortunately unable to pull data for cagsiay, Skipping cagsiay for now\n",
      "16 of 612: Unfortunately unable to pull data for illoqqortoormiut, Skipping illoqqortoormiut for now\n",
      "17 of 612: Currently processing nikolskoye, ID Number:8926\n",
      "18 of 612: Currently processing haines junction, ID Number:287\n",
      "19 of 612: Unfortunately unable to pull data for iracoubo, Skipping iracoubo for now\n",
      "20 of 612: Currently processing bredasdorp, ID Number:1966\n",
      "21 of 612: Unfortunately unable to pull data for mingguang, Skipping mingguang for now\n",
      "22 of 612: Currently processing bluff, ID Number:2008959\n",
      "23 of 612: Unfortunately unable to pull data for vanavara, Skipping vanavara for now\n",
      "24 of 612: Unfortunately unable to pull data for rikitea, Skipping rikitea for now\n",
      "25 of 612: Currently processing jamestown, ID Number:4588\n",
      "26 of 612: Currently processing floro, ID Number:1616\n",
      "27 of 612: Currently processing ushuaia, ID Number:8303\n",
      "28 of 612: Unfortunately unable to pull data for ozinki, Skipping ozinki for now\n",
      "29 of 612: Unfortunately unable to pull data for maloshuyka, Skipping maloshuyka for now\n",
      "30 of 612: Currently processing port alfred, ID Number:2011314\n",
      "31 of 612: Unfortunately unable to pull data for jalapa, Skipping jalapa for now\n",
      "32 of 612: Currently processing east london, ID Number:1912\n",
      "33 of 612: Currently processing arraial do cabo, ID Number:8326\n",
      "34 of 612: Currently processing makakilo city, ID Number:7868\n",
      "35 of 612: Currently processing lata, ID Number:6896\n",
      "36 of 612: Currently processing vaini, ID Number:7285\n",
      "37 of 612: Unfortunately unable to pull data for kalmunai, Skipping kalmunai for now\n",
      "38 of 612: Currently processing flin flon, ID Number:782\n",
      "39 of 612: Currently processing viedma, ID Number:2030260\n",
      "40 of 612: Unfortunately unable to pull data for port lincoln, Skipping port lincoln for now\n",
      "41 of 612: Unfortunately unable to pull data for san quintin, Skipping san quintin for now\n",
      "42 of 612: Currently processing puerto ayora, ID Number:8521\n",
      "43 of 612: Unfortunately unable to pull data for merauke, Skipping merauke for now\n",
      "44 of 612: Unfortunately unable to pull data for dikson, Skipping dikson for now\n",
      "45 of 612: Unfortunately unable to pull data for lyuban, Skipping lyuban for now\n",
      "46 of 612: Unfortunately unable to pull data for tarakan, Skipping tarakan for now\n",
      "47 of 612: Unfortunately unable to pull data for itapeva, Skipping itapeva for now\n",
      "48 of 612: Currently processing jhajjar, ID Number:9165\n",
      "49 of 612: Currently processing norman wells, ID Number:951\n",
      "50 of 612: Currently processing hilo, ID Number:7881\n",
      "51 of 612: Unfortunately unable to pull data for faanui, Skipping faanui for now\n",
      "52 of 612: Unfortunately unable to pull data for lavrentiya, Skipping lavrentiya for now\n",
      "53 of 612: Currently processing najran, ID Number:7421\n",
      "54 of 612: Unfortunately unable to pull data for metro, Skipping metro for now\n",
      "55 of 612: Unfortunately unable to pull data for tiznit, Skipping tiznit for now\n",
      "56 of 612: Unfortunately unable to pull data for eldikan, Skipping eldikan for now\n",
      "57 of 612: Unfortunately unable to pull data for rocha, Skipping rocha for now\n",
      "58 of 612: Unfortunately unable to pull data for qaanaaq, Skipping qaanaaq for now\n",
      "59 of 612: Unfortunately unable to pull data for provideniya, Skipping provideniya for now\n",
      "60 of 612: Unfortunately unable to pull data for igrim, Skipping igrim for now\n",
      "61 of 612: Currently processing great yarmouth, ID Number:1467\n",
      "62 of 612: Unfortunately unable to pull data for barentsburg, Skipping barentsburg for now\n",
      "63 of 612: Currently processing albany, ID Number:19530\n",
      "64 of 612: Unfortunately unable to pull data for bandeirantes, Skipping bandeirantes for now\n",
      "65 of 612: Currently processing qaqortoq, ID Number:47\n",
      "66 of 612: Unfortunately unable to pull data for dujuma, Skipping dujuma for now\n",
      "67 of 612: Currently processing chalmette, ID Number:3104\n",
      "68 of 612: Unfortunately unable to pull data for butaritari, Skipping butaritari for now\n",
      "69 of 612: Currently processing barrow, ID Number:7649\n",
      "70 of 612: Currently processing concordia, ID Number:8703\n",
      "71 of 612: Unfortunately unable to pull data for beloha, Skipping beloha for now\n",
      "72 of 612: Currently processing rurrenabaque, ID Number:8630\n",
      "73 of 612: Unfortunately unable to pull data for longlac, Skipping longlac for now\n",
      "74 of 612: Unfortunately unable to pull data for soe, Skipping soe for now\n",
      "75 of 612: Unfortunately unable to pull data for hithadhoo, Skipping hithadhoo for now\n",
      "76 of 612: Currently processing longyearbyen, ID Number:1663\n",
      "77 of 612: Currently processing kodiak, ID Number:7668\n",
      "78 of 612: Currently processing ribeira grande, ID Number:6883\n",
      "79 of 612: Currently processing kahului, ID Number:7879\n",
      "80 of 612: Unfortunately unable to pull data for luderitz, Skipping luderitz for now\n",
      "81 of 612: Currently processing carnarvon, ID Number:9505\n",
      "82 of 612: Currently processing portneuf, ID Number:289\n",
      "83 of 612: Currently processing husavik, ID Number:83\n",
      "84 of 612: Currently processing sao joao da barra, ID Number:8337\n",
      "85 of 612: Unfortunately unable to pull data for chimbote, Skipping chimbote for now\n",
      "86 of 612: Unfortunately unable to pull data for saskylakh, Skipping saskylakh for now\n",
      "87 of 612: Currently processing ponta do sol, ID Number:2008291\n",
      "88 of 612: Unfortunately unable to pull data for teya, Skipping teya for now\n",
      "89 of 612: Currently processing gold coast, ID Number:9486\n",
      "90 of 612: Unfortunately unable to pull data for ulagan, Skipping ulagan for now\n",
      "91 of 612: Currently processing kununurra, ID Number:9587\n",
      "92 of 612: Unfortunately unable to pull data for codrington, Skipping codrington for now\n",
      "93 of 612: Currently processing vadso, ID Number:1682\n",
      "94 of 612: Unfortunately unable to pull data for cherskiy, Skipping cherskiy for now\n",
      "95 of 612: Currently processing punta arenas, ID Number:8487\n",
      "96 of 612: Currently processing waipawa, ID Number:7358\n",
      "97 of 612: Currently processing busselton, ID Number:2020551\n",
      "98 of 612: Unfortunately unable to pull data for tazovskiy, Skipping tazovskiy for now\n",
      "99 of 612: Unfortunately unable to pull data for wajima, Skipping wajima for now\n",
      "100 of 612: Currently processing pisco, ID Number:8691\n",
      "101 of 612: Currently processing kaitangata, ID Number:2000217\n",
      "102 of 612: Currently processing chiang rai, ID Number:9256\n",
      "103 of 612: Currently processing yellowknife, ID Number:1007\n",
      "104 of 612: Currently processing souillac, ID Number:2061\n",
      "105 of 612: Currently processing saint-pierre, ID Number:2127\n",
      "106 of 612: Unfortunately unable to pull data for cidreira, Skipping cidreira for now\n",
      "107 of 612: Unfortunately unable to pull data for marcona, Skipping marcona for now\n",
      "108 of 612: Currently processing robertson, ID Number:4828\n",
      "109 of 612: Currently processing walvis bay, ID Number:2288\n",
      "110 of 612: Unfortunately unable to pull data for poum, Skipping poum for now\n",
      "111 of 612: Unfortunately unable to pull data for along, Skipping along for now\n",
      "112 of 612: Currently processing thompson, ID Number:935\n",
      "113 of 612: Unfortunately unable to pull data for hami, Skipping hami for now\n"
     ]
    },
    {
     "name": "stdout",
     "output_type": "stream",
     "text": [
      "114 of 612: Currently processing barra bonita, ID Number:8341\n",
      "115 of 612: Unfortunately unable to pull data for belushya guba, Skipping belushya guba for now\n",
      "116 of 612: Currently processing georgetown, ID Number:9429\n",
      "117 of 612: Currently processing pacific grove, ID Number:4980\n",
      "118 of 612: Unfortunately unable to pull data for balakhta, Skipping balakhta for now\n",
      "119 of 612: Unfortunately unable to pull data for saleaula, Skipping saleaula for now\n",
      "120 of 612: Unfortunately unable to pull data for sao filipe, Skipping sao filipe for now\n",
      "121 of 612: Unfortunately unable to pull data for namibe, Skipping namibe for now\n",
      "122 of 612: Unfortunately unable to pull data for upernavik, Skipping upernavik for now\n",
      "123 of 612: Currently processing tasiilaq, ID Number:81\n",
      "124 of 612: Unfortunately unable to pull data for bira, Skipping bira for now\n",
      "125 of 612: Unfortunately unable to pull data for bonfim, Skipping bonfim for now\n",
      "126 of 612: Currently processing necochea, ID Number:2010353\n",
      "127 of 612: Unfortunately unable to pull data for beringovskiy, Skipping beringovskiy for now\n",
      "128 of 612: Unfortunately unable to pull data for kamenskoye, Skipping kamenskoye for now\n",
      "129 of 612: Currently processing cayenne, ID Number:8669\n",
      "130 of 612: Unfortunately unable to pull data for severo-kurilsk, Skipping severo-kurilsk for now\n",
      "131 of 612: Unfortunately unable to pull data for orlik, Skipping orlik for now\n",
      "132 of 612: Unfortunately unable to pull data for aswan, Skipping aswan for now\n",
      "133 of 612: Unfortunately unable to pull data for takoradi, Skipping takoradi for now\n",
      "134 of 612: Currently processing mataura, ID Number:2008959\n",
      "135 of 612: Currently processing jasper, ID Number:4590\n",
      "136 of 612: Currently processing tendukheda, ID Number:9066\n",
      "137 of 612: Unfortunately unable to pull data for sena madureira, Skipping sena madureira for now\n",
      "138 of 612: Unfortunately unable to pull data for piacabucu, Skipping piacabucu for now\n",
      "139 of 612: Currently processing seoul, ID Number:8105\n",
      "140 of 612: Currently processing rincon, ID Number:5775\n",
      "141 of 612: Unfortunately unable to pull data for atambua, Skipping atambua for now\n",
      "142 of 612: Unfortunately unable to pull data for zhigansk, Skipping zhigansk for now\n",
      "143 of 612: Unfortunately unable to pull data for nanortalik, Skipping nanortalik for now\n",
      "144 of 612: Unfortunately unable to pull data for ambilobe, Skipping ambilobe for now\n",
      "145 of 612: Currently processing wloszczowa, ID Number:2009434\n",
      "146 of 612: Currently processing laguna, ID Number:5769\n",
      "147 of 612: Currently processing yeppoon, ID Number:9499\n",
      "148 of 612: Currently processing port elizabeth, ID Number:1973\n",
      "149 of 612: Currently processing ancud, ID Number:8512\n",
      "150 of 612: Currently processing kashi, ID Number:9676\n",
      "151 of 612: Unfortunately unable to pull data for warqla, Skipping warqla for now\n",
      "152 of 612: Currently processing grand gaube, ID Number:2002134\n",
      "153 of 612: Unfortunately unable to pull data for dong hoi, Skipping dong hoi for now\n",
      "154 of 612: Currently processing upington, ID Number:1990\n",
      "155 of 612: Unfortunately unable to pull data for tocopilla, Skipping tocopilla for now\n",
      "156 of 612: Currently processing margate, ID Number:2020742\n",
      "157 of 612: Currently processing winnemucca, ID Number:6249\n",
      "158 of 612: Currently processing ulladulla, ID Number:9594\n",
      "159 of 612: Currently processing college, ID Number:7683\n",
      "160 of 612: Unfortunately unable to pull data for benguela, Skipping benguela for now\n",
      "161 of 612: Unfortunately unable to pull data for attawapiskat, Skipping attawapiskat for now\n",
      "162 of 612: Currently processing port macquarie, ID Number:2030397\n",
      "163 of 612: Unfortunately unable to pull data for wuzhou, Skipping wuzhou for now\n",
      "164 of 612: Unfortunately unable to pull data for verkhnyaya inta, Skipping verkhnyaya inta for now\n",
      "165 of 612: Currently processing kedrovyy, ID Number:8957\n",
      "166 of 612: Currently processing rajec, ID Number:7057\n",
      "167 of 612: Currently processing anadyr, ID Number:8872\n",
      "168 of 612: Unfortunately unable to pull data for hihifo, Skipping hihifo for now\n",
      "169 of 612: Currently processing roald, ID Number:1602\n",
      "170 of 612: Unfortunately unable to pull data for aykhal, Skipping aykhal for now\n",
      "171 of 612: Unfortunately unable to pull data for doctor pedro p. pena, Skipping doctor pedro p. pena for now\n",
      "172 of 612: Currently processing nouadhibou, ID Number:2444\n",
      "173 of 612: Currently processing cape town, ID Number:1899\n",
      "174 of 612: Unfortunately unable to pull data for lorengau, Skipping lorengau for now\n",
      "175 of 612: Currently processing vila velha, ID Number:8474\n",
      "176 of 612: Unfortunately unable to pull data for kampong chhnang, Skipping kampong chhnang for now\n",
      "177 of 612: Unfortunately unable to pull data for dingle, Skipping dingle for now\n",
      "178 of 612: Unfortunately unable to pull data for montepuez, Skipping montepuez for now\n",
      "179 of 612: Currently processing strezhevoy, ID Number:8986\n",
      "180 of 612: Currently processing salalah, ID Number:7562\n",
      "181 of 612: Unfortunately unable to pull data for pevek, Skipping pevek for now\n",
      "182 of 612: Currently processing avarua, ID Number:7271\n",
      "183 of 612: Currently processing quatre cocos, ID Number:2061\n",
      "184 of 612: Unfortunately unable to pull data for lalmohan, Skipping lalmohan for now\n",
      "185 of 612: Unfortunately unable to pull data for omsukchan, Skipping omsukchan for now\n",
      "186 of 612: Currently processing isangel, ID Number:7317\n",
      "187 of 612: Unfortunately unable to pull data for noyabrsk, Skipping noyabrsk for now\n",
      "188 of 612: Currently processing goure, ID Number:2021605\n",
      "189 of 612: Unfortunately unable to pull data for bengkulu, Skipping bengkulu for now\n",
      "190 of 612: Currently processing guarapari, ID Number:8474\n",
      "191 of 612: Unfortunately unable to pull data for castro, Skipping castro for now\n",
      "192 of 612: Unfortunately unable to pull data for santa maria da vitoria, Skipping santa maria da vitoria for now\n",
      "193 of 612: Currently processing victoria, ID Number:2035800\n",
      "194 of 612: Currently processing vila, ID Number:2007751\n",
      "195 of 612: Currently processing brewster, ID Number:3888\n",
      "196 of 612: Currently processing puerto lempira, ID Number:7087\n",
      "197 of 612: Currently processing bethel, ID Number:3888\n",
      "198 of 612: Currently processing faya, ID Number:7396\n",
      "199 of 612: Unfortunately unable to pull data for nizhniy kuranakh, Skipping nizhniy kuranakh for now\n",
      "200 of 612: Unfortunately unable to pull data for lebu, Skipping lebu for now\n",
      "201 of 612: Currently processing bambous virieux, ID Number:2061\n",
      "202 of 612: Unfortunately unable to pull data for biltine, Skipping biltine for now\n",
      "203 of 612: Unfortunately unable to pull data for buedu, Skipping buedu for now\n",
      "204 of 612: Unfortunately unable to pull data for chhukha, Skipping chhukha for now\n",
      "205 of 612: Unfortunately unable to pull data for samusu, Skipping samusu for now\n",
      "206 of 612: Unfortunately unable to pull data for mathbaria, Skipping mathbaria for now\n",
      "207 of 612: Currently processing mahebourg, ID Number:2061\n",
      "208 of 612: Unfortunately unable to pull data for guozhen, Skipping guozhen for now\n",
      "209 of 612: Currently processing antofagasta, ID Number:8488\n",
      "210 of 612: Currently processing iqaluit, ID Number:797\n",
      "211 of 612: Currently processing lockport, ID Number:4744\n",
      "212 of 612: Currently processing avera, ID Number:2827\n",
      "213 of 612: Currently processing coquimbo, ID Number:8514\n",
      "214 of 612: Currently processing luanda, ID Number:2173\n",
      "215 of 612: Currently processing fortuna, ID Number:4127\n",
      "216 of 612: Currently processing petropavlovsk-kamchatskiy, ID Number:8887\n",
      "217 of 612: Currently processing katsuura, ID Number:8074\n",
      "218 of 612: Unfortunately unable to pull data for bilibino, Skipping bilibino for now\n",
      "219 of 612: Unfortunately unable to pull data for yinchuan, Skipping yinchuan for now\n",
      "220 of 612: Unfortunately unable to pull data for zambezi, Skipping zambezi for now\n",
      "221 of 612: Unfortunately unable to pull data for jalna, Skipping jalna for now\n",
      "222 of 612: Unfortunately unable to pull data for taolanaro, Skipping taolanaro for now\n",
      "223 of 612: Unfortunately unable to pull data for sur, Skipping sur for now\n",
      "224 of 612: Unfortunately unable to pull data for tumannyy, Skipping tumannyy for now\n",
      "225 of 612: Unfortunately unable to pull data for amapa, Skipping amapa for now\n"
     ]
    },
    {
     "name": "stdout",
     "output_type": "stream",
     "text": [
      "226 of 612: Unfortunately unable to pull data for tiksi, Skipping tiksi for now\n",
      "227 of 612: Currently processing hobart, ID Number:9545\n",
      "228 of 612: Unfortunately unable to pull data for marzuq, Skipping marzuq for now\n",
      "229 of 612: Unfortunately unable to pull data for chokurdakh, Skipping chokurdakh for now\n",
      "230 of 612: Currently processing vestmannaeyjar, ID Number:93\n",
      "231 of 612: Unfortunately unable to pull data for xai-xai, Skipping xai-xai for now\n",
      "232 of 612: Unfortunately unable to pull data for kieta, Skipping kieta for now\n",
      "233 of 612: Unfortunately unable to pull data for umzimvubu, Skipping umzimvubu for now\n",
      "234 of 612: Currently processing hasaki, ID Number:7955\n",
      "235 of 612: Unfortunately unable to pull data for general pico, Skipping general pico for now\n",
      "236 of 612: Currently processing morgantown, ID Number:4888\n",
      "237 of 612: Unfortunately unable to pull data for finschhafen, Skipping finschhafen for now\n",
      "238 of 612: Unfortunately unable to pull data for kazalinsk, Skipping kazalinsk for now\n",
      "239 of 612: Unfortunately unable to pull data for airai, Skipping airai for now\n",
      "240 of 612: Unfortunately unable to pull data for richards bay, Skipping richards bay for now\n",
      "241 of 612: Currently processing powell river, ID Number:874\n",
      "242 of 612: Currently processing puerto del rosario, ID Number:2371\n",
      "243 of 612: Currently processing sicamous, ID Number:483\n",
      "244 of 612: Currently processing malindi, ID Number:2555\n",
      "245 of 612: Unfortunately unable to pull data for roebourne, Skipping roebourne for now\n",
      "246 of 612: Unfortunately unable to pull data for nova vicosa, Skipping nova vicosa for now\n",
      "247 of 612: Unfortunately unable to pull data for tidore, Skipping tidore for now\n",
      "248 of 612: Currently processing ojinaga, ID Number:5416\n",
      "249 of 612: Unfortunately unable to pull data for tabiauea, Skipping tabiauea for now\n",
      "250 of 612: Currently processing el limon, ID Number:8750\n",
      "251 of 612: Unfortunately unable to pull data for kupino, Skipping kupino for now\n",
      "252 of 612: Unfortunately unable to pull data for mwingi, Skipping mwingi for now\n",
      "253 of 612: Currently processing tigre, ID Number:8232\n",
      "254 of 612: Currently processing ostersund, ID Number:1774\n",
      "255 of 612: Currently processing russell, ID Number:4765\n",
      "256 of 612: Currently processing tuatapere, ID Number:2008959\n",
      "257 of 612: Unfortunately unable to pull data for evensk, Skipping evensk for now\n",
      "258 of 612: Unfortunately unable to pull data for leningradskiy, Skipping leningradskiy for now\n",
      "259 of 612: Currently processing bathsheba, ID Number:8772\n",
      "260 of 612: Currently processing boortmeerbeek, ID Number:2019979\n",
      "261 of 612: Unfortunately unable to pull data for samarai, Skipping samarai for now\n",
      "262 of 612: Currently processing havoysund, ID Number:1638\n",
      "263 of 612: Unfortunately unable to pull data for salinopolis, Skipping salinopolis for now\n",
      "264 of 612: Currently processing smithers, ID Number:990\n",
      "265 of 612: Currently processing mogadouro, ID Number:2016552\n",
      "266 of 612: Unfortunately unable to pull data for biak, Skipping biak for now\n",
      "267 of 612: Currently processing hervey bay, ID Number:2032484\n",
      "268 of 612: Currently processing wajir, ID Number:2571\n",
      "269 of 612: Unfortunately unable to pull data for kerki, Skipping kerki for now\n",
      "270 of 612: Unfortunately unable to pull data for babanusah, Skipping babanusah for now\n",
      "271 of 612: Unfortunately unable to pull data for ahipara, Skipping ahipara for now\n",
      "272 of 612: Currently processing lamu, ID Number:5604\n",
      "273 of 612: Unfortunately unable to pull data for amderma, Skipping amderma for now\n",
      "274 of 612: Unfortunately unable to pull data for porbandar, Skipping porbandar for now\n",
      "275 of 612: Currently processing karasjok, ID Number:1646\n",
      "276 of 612: Currently processing kingston, ID Number:7105\n",
      "277 of 612: Currently processing clyde river, ID Number:776\n",
      "278 of 612: Unfortunately unable to pull data for leshan, Skipping leshan for now\n",
      "279 of 612: Unfortunately unable to pull data for itanhem, Skipping itanhem for now\n",
      "280 of 612: Currently processing ketchikan, ID Number:7741\n",
      "281 of 612: Unfortunately unable to pull data for tonj, Skipping tonj for now\n",
      "282 of 612: Unfortunately unable to pull data for louisbourg, Skipping louisbourg for now\n",
      "283 of 612: Currently processing nhulunbuy, ID Number:9576\n",
      "284 of 612: Currently processing lincoln, ID Number:4736\n",
      "285 of 612: Unfortunately unable to pull data for khatanga, Skipping khatanga for now\n",
      "286 of 612: Currently processing nantucket, ID Number:3218\n",
      "287 of 612: Currently processing shelburne, ID Number:762\n",
      "288 of 612: Unfortunately unable to pull data for upata, Skipping upata for now\n",
      "289 of 612: Currently processing gat, ID Number:2002441\n",
      "290 of 612: Currently processing hue, ID Number:9310\n",
      "291 of 612: Unfortunately unable to pull data for maues, Skipping maues for now\n",
      "292 of 612: Currently processing llangefni, ID Number:1432\n",
      "293 of 612: Unfortunately unable to pull data for constitucion, Skipping constitucion for now\n",
      "294 of 612: Unfortunately unable to pull data for utiroa, Skipping utiroa for now\n",
      "295 of 612: Unfortunately unable to pull data for shihezi, Skipping shihezi for now\n",
      "296 of 612: Currently processing saint george, ID Number:5832\n",
      "297 of 612: Currently processing la palma, ID Number:5860\n",
      "298 of 612: Unfortunately unable to pull data for tahe, Skipping tahe for now\n",
      "299 of 612: Currently processing loiza, ID Number:8793\n",
      "300 of 612: Currently processing port augusta, ID Number:9613\n",
      "301 of 612: Currently processing payson, ID Number:5442\n",
      "302 of 612: Currently processing alyangula, ID Number:9527\n",
      "303 of 612: Currently processing champerico, ID Number:7068\n",
      "304 of 612: Unfortunately unable to pull data for rubtsovsk, Skipping rubtsovsk for now\n",
      "305 of 612: Unfortunately unable to pull data for nizhneyansk, Skipping nizhneyansk for now\n",
      "306 of 612: Currently processing kjollefjord, ID Number:1633\n",
      "307 of 612: Unfortunately unable to pull data for bontang, Skipping bontang for now\n",
      "308 of 612: Unfortunately unable to pull data for nema, Skipping nema for now\n",
      "309 of 612: Unfortunately unable to pull data for luza, Skipping luza for now\n",
      "310 of 612: Unfortunately unable to pull data for yerbogachen, Skipping yerbogachen for now\n",
      "311 of 612: Currently processing sulzbach-rosenberg, ID Number:1836\n",
      "312 of 612: Unfortunately unable to pull data for guerrero negro, Skipping guerrero negro for now\n",
      "313 of 612: Currently processing santa maria, ID Number:8430\n",
      "314 of 612: Unfortunately unable to pull data for starokostyantyniv, Skipping starokostyantyniv for now\n",
      "315 of 612: Currently processing cabo san lucas, ID Number:7151\n",
      "316 of 612: Currently processing nador, ID Number:2380\n",
      "317 of 612: Currently processing marawi, ID Number:2007154\n",
      "318 of 612: Currently processing fairbanks, ID Number:7684\n",
      "319 of 612: Currently processing moron, ID Number:2008838\n",
      "320 of 612: Unfortunately unable to pull data for rawannawi, Skipping rawannawi for now\n",
      "321 of 612: Unfortunately unable to pull data for gazanjyk, Skipping gazanjyk for now\n",
      "322 of 612: Currently processing ixtapa, ID Number:7156\n",
      "323 of 612: Unfortunately unable to pull data for grand river south east, Skipping grand river south east for now\n",
      "324 of 612: Unfortunately unable to pull data for jinchang, Skipping jinchang for now\n",
      "325 of 612: Unfortunately unable to pull data for ruatoria, Skipping ruatoria for now\n",
      "326 of 612: Unfortunately unable to pull data for babaeski, Skipping babaeski for now\n",
      "327 of 612: Unfortunately unable to pull data for tura, Skipping tura for now\n",
      "328 of 612: Currently processing inhambane, ID Number:2200\n",
      "329 of 612: Currently processing carbonia, ID Number:6719\n",
      "330 of 612: Currently processing kruisfontein, ID Number:2035063\n",
      "331 of 612: Unfortunately unable to pull data for pangkalanbuun, Skipping pangkalanbuun for now\n",
      "332 of 612: Currently processing carballo, ID Number:6403\n",
      "333 of 612: Unfortunately unable to pull data for baherden, Skipping baherden for now\n",
      "334 of 612: Unfortunately unable to pull data for balad, Skipping balad for now\n",
      "335 of 612: Unfortunately unable to pull data for caravelas, Skipping caravelas for now\n",
      "336 of 612: Unfortunately unable to pull data for invermere, Skipping invermere for now\n",
      "337 of 612: Currently processing los llanos de aridane, ID Number:2377\n"
     ]
    },
    {
     "name": "stdout",
     "output_type": "stream",
     "text": [
      "338 of 612: Unfortunately unable to pull data for balakhninskiy, Skipping balakhninskiy for now\n",
      "339 of 612: Unfortunately unable to pull data for opuwo, Skipping opuwo for now\n",
      "340 of 612: Unfortunately unable to pull data for bolungarvik, Skipping bolungarvik for now\n",
      "341 of 612: Currently processing teeswater, ID Number:2006307\n",
      "342 of 612: Currently processing sitka, ID Number:7795\n",
      "343 of 612: Currently processing tuktoyaktuk, ID Number:942\n",
      "344 of 612: Unfortunately unable to pull data for yingzhong, Skipping yingzhong for now\n",
      "345 of 612: Unfortunately unable to pull data for ushtobe, Skipping ushtobe for now\n",
      "346 of 612: Unfortunately unable to pull data for kapoeta, Skipping kapoeta for now\n",
      "347 of 612: Currently processing roros, ID Number:1655\n",
      "348 of 612: Unfortunately unable to pull data for yumen, Skipping yumen for now\n",
      "349 of 612: Currently processing manado, ID Number:9356\n",
      "350 of 612: Unfortunately unable to pull data for ossora, Skipping ossora for now\n",
      "351 of 612: Currently processing astaneh-ye ashrafiyeh, ID Number:7466\n",
      "352 of 612: Currently processing sept-iles, ID Number:1013\n",
      "353 of 612: Unfortunately unable to pull data for karaul, Skipping karaul for now\n",
      "354 of 612: Currently processing port hedland, ID Number:9585\n",
      "355 of 612: Unfortunately unable to pull data for tigil, Skipping tigil for now\n",
      "356 of 612: Unfortunately unable to pull data for baykit, Skipping baykit for now\n",
      "357 of 612: Currently processing southbridge, ID Number:2033035\n",
      "358 of 612: Currently processing saint-louis, ID Number:2427\n",
      "359 of 612: Currently processing saint-philippe, ID Number:2127\n",
      "360 of 612: Unfortunately unable to pull data for sao joao de pirabas, Skipping sao joao de pirabas for now\n",
      "361 of 612: Unfortunately unable to pull data for sentyabrskiy, Skipping sentyabrskiy for now\n",
      "362 of 612: Unfortunately unable to pull data for balatan, Skipping balatan for now\n",
      "363 of 612: Currently processing talcahuano, ID Number:8499\n",
      "364 of 612: Currently processing saint-francois, ID Number:6499\n",
      "365 of 612: Unfortunately unable to pull data for guadalupe y calvo, Skipping guadalupe y calvo for now\n",
      "366 of 612: Currently processing shimoda, ID Number:2019346\n",
      "367 of 612: Unfortunately unable to pull data for kuytun, Skipping kuytun for now\n",
      "368 of 612: Currently processing changji, ID Number:9677\n",
      "369 of 612: Unfortunately unable to pull data for mezhdurechenskiy, Skipping mezhdurechenskiy for now\n",
      "370 of 612: Currently processing flagstaff, ID Number:4105\n",
      "371 of 612: Unfortunately unable to pull data for palabuhanratu, Skipping palabuhanratu for now\n",
      "372 of 612: Unfortunately unable to pull data for gualaquiza, Skipping gualaquiza for now\n",
      "373 of 612: Unfortunately unable to pull data for ishim, Skipping ishim for now\n",
      "374 of 612: Currently processing santa marta, ID Number:37763\n",
      "375 of 612: Unfortunately unable to pull data for high rock, Skipping high rock for now\n",
      "376 of 612: Unfortunately unable to pull data for bourail, Skipping bourail for now\n",
      "377 of 612: Currently processing aklavik, ID Number:821\n",
      "378 of 612: Unfortunately unable to pull data for umm kaddadah, Skipping umm kaddadah for now\n",
      "379 of 612: Currently processing bani, ID Number:7052\n",
      "380 of 612: Unfortunately unable to pull data for augusto correa, Skipping augusto correa for now\n",
      "381 of 612: Currently processing la ronge, ID Number:696\n",
      "382 of 612: Currently processing balibago, ID Number:8152\n",
      "383 of 612: Unfortunately unable to pull data for ishigaki, Skipping ishigaki for now\n",
      "384 of 612: Currently processing rio claro, ID Number:8462\n",
      "385 of 612: Currently processing libreville, ID Number:2190\n",
      "386 of 612: Unfortunately unable to pull data for korla, Skipping korla for now\n",
      "387 of 612: Unfortunately unable to pull data for chuy, Skipping chuy for now\n",
      "388 of 612: Unfortunately unable to pull data for gebre guracha, Skipping gebre guracha for now\n",
      "389 of 612: Unfortunately unable to pull data for burnie, Skipping burnie for now\n",
      "390 of 612: Unfortunately unable to pull data for te anau, Skipping te anau for now\n",
      "391 of 612: Unfortunately unable to pull data for ranong, Skipping ranong for now\n",
      "392 of 612: Unfortunately unable to pull data for meulaboh, Skipping meulaboh for now\n",
      "393 of 612: Unfortunately unable to pull data for uray, Skipping uray for now\n",
      "394 of 612: Currently processing geraldton, ID Number:9522\n",
      "395 of 612: Unfortunately unable to pull data for baruun-urt, Skipping baruun-urt for now\n",
      "396 of 612: Unfortunately unable to pull data for xixiang, Skipping xixiang for now\n",
      "397 of 612: Unfortunately unable to pull data for saint-augustin, Skipping saint-augustin for now\n",
      "398 of 612: Currently processing half moon bay, ID Number:4322\n",
      "399 of 612: Unfortunately unable to pull data for vyartsilya, Skipping vyartsilya for now\n",
      "400 of 612: Unfortunately unable to pull data for kalabo, Skipping kalabo for now\n",
      "401 of 612: Unfortunately unable to pull data for sorvag, Skipping sorvag for now\n",
      "402 of 612: Unfortunately unable to pull data for talnakh, Skipping talnakh for now\n",
      "403 of 612: Currently processing penzance, ID Number:1393\n",
      "404 of 612: Currently processing marathon, ID Number:3354\n",
      "405 of 612: Unfortunately unable to pull data for vaitupu, Skipping vaitupu for now\n",
      "406 of 612: Unfortunately unable to pull data for tsaratanana, Skipping tsaratanana for now\n",
      "407 of 612: Currently processing brae, ID Number:1438\n",
      "408 of 612: Unfortunately unable to pull data for kangaatsiaq, Skipping kangaatsiaq for now\n",
      "409 of 612: Currently processing poughkeepsie, ID Number:5391\n",
      "410 of 612: Unfortunately unable to pull data for karratha, Skipping karratha for now\n",
      "411 of 612: Unfortunately unable to pull data for buala, Skipping buala for now\n",
      "412 of 612: Currently processing qasigiannguit, ID Number:165\n",
      "413 of 612: Unfortunately unable to pull data for chiriguana, Skipping chiriguana for now\n",
      "414 of 612: Currently processing smoky lake, ID Number:712\n",
      "415 of 612: Unfortunately unable to pull data for mayna, Skipping mayna for now\n",
      "416 of 612: Unfortunately unable to pull data for ngukurr, Skipping ngukurr for now\n",
      "417 of 612: Currently processing puerto baquerizo moreno, ID Number:8546\n",
      "418 of 612: Unfortunately unable to pull data for severnoye, Skipping severnoye for now\n",
      "419 of 612: Unfortunately unable to pull data for ust-maya, Skipping ust-maya for now\n",
      "420 of 612: Currently processing narsaq, ID Number:47\n",
      "421 of 612: Unfortunately unable to pull data for omboue, Skipping omboue for now\n",
      "422 of 612: Currently processing mount isa, ID Number:9495\n",
      "423 of 612: Currently processing northam, ID Number:2005965\n",
      "424 of 612: Currently processing snyder, ID Number:5879\n",
      "425 of 612: Unfortunately unable to pull data for porangatu, Skipping porangatu for now\n",
      "426 of 612: Unfortunately unable to pull data for magadan, Skipping magadan for now\n",
      "427 of 612: Currently processing klaksvik, ID Number:1596\n",
      "428 of 612: Unfortunately unable to pull data for bardiyah, Skipping bardiyah for now\n",
      "429 of 612: Unfortunately unable to pull data for hualmay, Skipping hualmay for now\n",
      "430 of 612: Unfortunately unable to pull data for tashla, Skipping tashla for now\n",
      "431 of 612: Unfortunately unable to pull data for sinnamary, Skipping sinnamary for now\n",
      "432 of 612: Unfortunately unable to pull data for araouane, Skipping araouane for now\n",
      "433 of 612: Currently processing havre-saint-pierre, ID Number:812\n",
      "434 of 612: Currently processing panama city, ID Number:7190\n",
      "435 of 612: Unfortunately unable to pull data for nykobing, Skipping nykobing for now\n",
      "436 of 612: Unfortunately unable to pull data for acarau, Skipping acarau for now\n",
      "437 of 612: Currently processing culleredo, ID Number:6403\n",
      "438 of 612: Unfortunately unable to pull data for sangar, Skipping sangar for now\n",
      "439 of 612: Currently processing gushikawa, ID Number:8138\n",
      "440 of 612: Unfortunately unable to pull data for eskasem, Skipping eskasem for now\n",
      "441 of 612: Currently processing havelock, ID Number:5098\n",
      "442 of 612: Currently processing rio grande, ID Number:8408\n",
      "443 of 612: Currently processing kingsland, ID Number:2037431\n",
      "444 of 612: Currently processing marrakesh, ID Number:2409\n",
      "445 of 612: Currently processing notre-dame-du-lac, ID Number:94\n",
      "446 of 612: Unfortunately unable to pull data for yamada, Skipping yamada for now\n"
     ]
    },
    {
     "name": "stdout",
     "output_type": "stream",
     "text": [
      "447 of 612: Currently processing kuching, ID Number:9366\n",
      "448 of 612: Currently processing hofn, ID Number:76\n",
      "449 of 612: Currently processing dunedin, ID Number:75281\n",
      "450 of 612: Unfortunately unable to pull data for manaure, Skipping manaure for now\n",
      "451 of 612: Unfortunately unable to pull data for san rafael, Skipping san rafael for now\n",
      "452 of 612: Unfortunately unable to pull data for turukhansk, Skipping turukhansk for now\n",
      "453 of 612: Currently processing santa cruz, ID Number:8616\n",
      "454 of 612: Unfortunately unable to pull data for vostok, Skipping vostok for now\n",
      "455 of 612: Unfortunately unable to pull data for kukes, Skipping kukes for now\n",
      "456 of 612: Unfortunately unable to pull data for kropotkin, Skipping kropotkin for now\n",
      "457 of 612: Currently processing komsomolskiy, ID Number:9011\n",
      "458 of 612: Unfortunately unable to pull data for koumac, Skipping koumac for now\n",
      "459 of 612: Currently processing port hardy, ID Number:1011\n",
      "460 of 612: Currently processing ilulissat, ID Number:165\n",
      "461 of 612: Currently processing san ignacio, ID Number:7082\n",
      "462 of 612: Unfortunately unable to pull data for bur gabo, Skipping bur gabo for now\n",
      "463 of 612: Currently processing bejar, ID Number:6430\n",
      "464 of 612: Unfortunately unable to pull data for olafsvik, Skipping olafsvik for now\n",
      "465 of 612: Currently processing portland, ID Number:5321\n",
      "466 of 612: Currently processing kloulklubed, ID Number:7901\n",
      "467 of 612: Currently processing itoman, ID Number:8137\n",
      "468 of 612: Unfortunately unable to pull data for tamandare, Skipping tamandare for now\n",
      "469 of 612: Currently processing alofi, ID Number:7306\n",
      "470 of 612: Currently processing sorland, ID Number:1661\n",
      "471 of 612: Unfortunately unable to pull data for shingu, Skipping shingu for now\n",
      "472 of 612: Currently processing guangyuan, ID Number:2031351\n",
      "473 of 612: Unfortunately unable to pull data for bac lieu, Skipping bac lieu for now\n",
      "474 of 612: Unfortunately unable to pull data for churapcha, Skipping churapcha for now\n",
      "475 of 612: Unfortunately unable to pull data for kavieng, Skipping kavieng for now\n",
      "476 of 612: Currently processing stephenville crossing, ID Number:832\n",
      "477 of 612: Unfortunately unable to pull data for abomsa, Skipping abomsa for now\n",
      "478 of 612: Currently processing muscat, ID Number:7560\n",
      "479 of 612: Unfortunately unable to pull data for suicheng, Skipping suicheng for now\n",
      "480 of 612: Currently processing flinders, ID Number:2033627\n",
      "481 of 612: Unfortunately unable to pull data for pokoynoye, Skipping pokoynoye for now\n",
      "482 of 612: Unfortunately unable to pull data for soubre, Skipping soubre for now\n",
      "483 of 612: Unfortunately unable to pull data for nova venecia, Skipping nova venecia for now\n",
      "484 of 612: Unfortunately unable to pull data for tazmalt, Skipping tazmalt for now\n",
      "485 of 612: Currently processing belmonte, ID Number:8436\n",
      "486 of 612: Unfortunately unable to pull data for mocuba, Skipping mocuba for now\n",
      "487 of 612: Unfortunately unable to pull data for matay, Skipping matay for now\n",
      "488 of 612: Currently processing byron bay, ID Number:9496\n",
      "489 of 612: Currently processing komatsu, ID Number:8017\n",
      "490 of 612: Unfortunately unable to pull data for gilgit, Skipping gilgit for now\n",
      "491 of 612: Unfortunately unable to pull data for anar darreh, Skipping anar darreh for now\n",
      "492 of 612: Unfortunately unable to pull data for bukavu, Skipping bukavu for now\n",
      "493 of 612: Unfortunately unable to pull data for kalawit, Skipping kalawit for now\n",
      "494 of 612: Currently processing praia da vitoria, ID Number:6895\n",
      "495 of 612: Unfortunately unable to pull data for armacao dos buzios, Skipping armacao dos buzios for now\n",
      "496 of 612: Unfortunately unable to pull data for kichera, Skipping kichera for now\n",
      "497 of 612: Currently processing carmarthen, ID Number:1434\n",
      "498 of 612: Unfortunately unable to pull data for gejiu, Skipping gejiu for now\n",
      "499 of 612: Unfortunately unable to pull data for pakxan, Skipping pakxan for now\n",
      "500 of 612: Unfortunately unable to pull data for novikovo, Skipping novikovo for now\n",
      "501 of 612: Unfortunately unable to pull data for naze, Skipping naze for now\n",
      "502 of 612: Unfortunately unable to pull data for dubenskiy, Skipping dubenskiy for now\n",
      "503 of 612: Unfortunately unable to pull data for zhezkazgan, Skipping zhezkazgan for now\n",
      "504 of 612: Currently processing palmer, ID Number:2010865\n",
      "505 of 612: Currently processing nijar, ID Number:6393\n",
      "506 of 612: Unfortunately unable to pull data for oranjemund, Skipping oranjemund for now\n",
      "507 of 612: Currently processing mercedes, ID Number:2021774\n",
      "508 of 612: Currently processing landau, ID Number:2007721\n",
      "509 of 612: Unfortunately unable to pull data for xiazhen, Skipping xiazhen for now\n",
      "510 of 612: Unfortunately unable to pull data for paamiut, Skipping paamiut for now\n",
      "511 of 612: Unfortunately unable to pull data for jogindarnagar, Skipping jogindarnagar for now\n",
      "512 of 612: Currently processing hambantota, ID Number:9124\n",
      "513 of 612: Unfortunately unable to pull data for milkovo, Skipping milkovo for now\n",
      "514 of 612: Unfortunately unable to pull data for shakiso, Skipping shakiso for now\n",
      "515 of 612: Unfortunately unable to pull data for kaseda, Skipping kaseda for now\n",
      "516 of 612: Unfortunately unable to pull data for tsiroanomandidy, Skipping tsiroanomandidy for now\n",
      "517 of 612: Unfortunately unable to pull data for nyurba, Skipping nyurba for now\n",
      "518 of 612: Unfortunately unable to pull data for oum hadjer, Skipping oum hadjer for now\n",
      "519 of 612: Currently processing scarborough, ID Number:2005986\n",
      "520 of 612: Currently processing madridejos, ID Number:6397\n",
      "521 of 612: Unfortunately unable to pull data for yiyang, Skipping yiyang for now\n",
      "522 of 612: Currently processing taylorville, ID Number:5998\n",
      "523 of 612: Unfortunately unable to pull data for kapit, Skipping kapit for now\n",
      "524 of 612: Unfortunately unable to pull data for taoudenni, Skipping taoudenni for now\n",
      "525 of 612: Unfortunately unable to pull data for aldan, Skipping aldan for now\n",
      "526 of 612: Currently processing campobasso, ID Number:2006941\n",
      "527 of 612: Unfortunately unable to pull data for pirovskoye, Skipping pirovskoye for now\n",
      "528 of 612: Currently processing verkhniy uslon, ID Number:9038\n",
      "529 of 612: Unfortunately unable to pull data for jalu, Skipping jalu for now\n",
      "530 of 612: Currently processing olinda, ID Number:8426\n",
      "531 of 612: Unfortunately unable to pull data for yar-sale, Skipping yar-sale for now\n",
      "532 of 612: Unfortunately unable to pull data for thinadhoo, Skipping thinadhoo for now\n",
      "533 of 612: Unfortunately unable to pull data for srednekolymsk, Skipping srednekolymsk for now\n",
      "534 of 612: Unfortunately unable to pull data for okha, Skipping okha for now\n",
      "535 of 612: Unfortunately unable to pull data for port blair, Skipping port blair for now\n",
      "536 of 612: Unfortunately unable to pull data for wichian buri, Skipping wichian buri for now\n",
      "537 of 612: Unfortunately unable to pull data for hit, Skipping hit for now\n",
      "538 of 612: Unfortunately unable to pull data for rawson, Skipping rawson for now\n",
      "539 of 612: Currently processing camacha, ID Number:6902\n",
      "540 of 612: Unfortunately unable to pull data for sabang, Skipping sabang for now\n",
      "541 of 612: Unfortunately unable to pull data for makat, Skipping makat for now\n",
      "542 of 612: Currently processing lethem, ID Number:8761\n",
      "543 of 612: Unfortunately unable to pull data for kishorganj, Skipping kishorganj for now\n",
      "544 of 612: Unfortunately unable to pull data for carauari, Skipping carauari for now\n",
      "545 of 612: Currently processing valmiera, ID Number:2010293\n",
      "546 of 612: Unfortunately unable to pull data for rantepao, Skipping rantepao for now\n",
      "547 of 612: Currently processing hastings, ID Number:2032234\n",
      "548 of 612: Unfortunately unable to pull data for mahadday weyne, Skipping mahadday weyne for now\n",
      "549 of 612: Unfortunately unable to pull data for san jeronimo, Skipping san jeronimo for now\n",
      "550 of 612: Currently processing lasa, ID Number:6813\n",
      "551 of 612: Unfortunately unable to pull data for custodia, Skipping custodia for now\n",
      "552 of 612: Currently processing kharian, ID Number:7594\n",
      "553 of 612: Currently processing riyadh, ID Number:7426\n",
      "554 of 612: Currently processing peace river, ID Number:877\n",
      "555 of 612: Unfortunately unable to pull data for vuktyl, Skipping vuktyl for now\n"
     ]
    },
    {
     "name": "stdout",
     "output_type": "stream",
     "text": [
      "556 of 612: Unfortunately unable to pull data for yashkul, Skipping yashkul for now\n",
      "557 of 612: Unfortunately unable to pull data for sayyan, Skipping sayyan for now\n",
      "558 of 612: Unfortunately unable to pull data for palauig, Skipping palauig for now\n",
      "559 of 612: Unfortunately unable to pull data for ruteng, Skipping ruteng for now\n",
      "560 of 612: Currently processing esperance, ID Number:9525\n",
      "561 of 612: Currently processing touros, ID Number:8452\n",
      "562 of 612: Currently processing limoges, ID Number:6459\n",
      "563 of 612: Currently processing pitimbu, ID Number:8391\n",
      "564 of 612: Currently processing ahuimanu, ID Number:7877\n",
      "565 of 612: Unfortunately unable to pull data for manjacaze, Skipping manjacaze for now\n",
      "566 of 612: Unfortunately unable to pull data for businga, Skipping businga for now\n",
      "567 of 612: Currently processing todos santos, ID Number:2004498\n",
      "568 of 612: Currently processing forestville, ID Number:3231\n",
      "569 of 612: Unfortunately unable to pull data for parabel, Skipping parabel for now\n",
      "570 of 612: Unfortunately unable to pull data for arauca, Skipping arauca for now\n",
      "571 of 612: Currently processing salta, ID Number:8267\n",
      "572 of 612: Currently processing catamayo, ID Number:8540\n",
      "573 of 612: Unfortunately unable to pull data for voi, Skipping voi for now\n",
      "574 of 612: Currently processing tricase, ID Number:6707\n",
      "575 of 612: Unfortunately unable to pull data for prado, Skipping prado for now\n",
      "576 of 612: Currently processing billings, ID Number:2030866\n",
      "577 of 612: Currently processing sarakhs, ID Number:7484\n",
      "578 of 612: Currently processing pierre, ID Number:5361\n",
      "579 of 612: Unfortunately unable to pull data for tsihombe, Skipping tsihombe for now\n",
      "580 of 612: Currently processing cotonou, ID Number:1119\n",
      "581 of 612: Unfortunately unable to pull data for batagay-alyta, Skipping batagay-alyta for now\n",
      "582 of 612: Unfortunately unable to pull data for ardistan, Skipping ardistan for now\n",
      "583 of 612: Unfortunately unable to pull data for awbari, Skipping awbari for now\n",
      "584 of 612: Currently processing port arthur, ID Number:9679\n",
      "585 of 612: Unfortunately unable to pull data for leh, Skipping leh for now\n",
      "586 of 612: Currently processing puerto escondido, ID Number:7157\n",
      "587 of 612: Currently processing chapais, ID Number:859\n",
      "588 of 612: Currently processing sakaiminato, ID Number:8028\n",
      "589 of 612: Unfortunately unable to pull data for kawalu, Skipping kawalu for now\n",
      "590 of 612: Currently processing asau, ID Number:2033571\n",
      "591 of 612: Unfortunately unable to pull data for vredendal, Skipping vredendal for now\n",
      "592 of 612: Unfortunately unable to pull data for zatyshshya, Skipping zatyshshya for now\n",
      "593 of 612: Unfortunately unable to pull data for zhuozhou, Skipping zhuozhou for now\n",
      "594 of 612: Unfortunately unable to pull data for okhotsk, Skipping okhotsk for now\n",
      "595 of 612: Unfortunately unable to pull data for vaitape, Skipping vaitape for now\n",
      "596 of 612: Unfortunately unable to pull data for funadhoo, Skipping funadhoo for now\n",
      "597 of 612: Unfortunately unable to pull data for iwanai, Skipping iwanai for now\n",
      "598 of 612: Unfortunately unable to pull data for yurginskoye, Skipping yurginskoye for now\n",
      "599 of 612: Unfortunately unable to pull data for tulsipur, Skipping tulsipur for now\n",
      "600 of 612: Currently processing otane, ID Number:2010964\n",
      "601 of 612: Unfortunately unable to pull data for kungurtug, Skipping kungurtug for now\n",
      "602 of 612: Currently processing ponte de sor, ID Number:2034411\n",
      "603 of 612: Unfortunately unable to pull data for sao jose da coroa grande, Skipping sao jose da coroa grande for now\n",
      "604 of 612: Unfortunately unable to pull data for dafeng, Skipping dafeng for now\n",
      "605 of 612: Unfortunately unable to pull data for dudinka, Skipping dudinka for now\n",
      "606 of 612: Unfortunately unable to pull data for svetlaya, Skipping svetlaya for now\n",
      "607 of 612: Currently processing melbu, ID Number:1668\n",
      "608 of 612: Unfortunately unable to pull data for lanivtsi, Skipping lanivtsi for now\n",
      "609 of 612: Currently processing general roca, ID Number:8310\n",
      "610 of 612: Currently processing nuuk, ID Number:86\n",
      "611 of 612: Currently processing namie, ID Number:2012425\n",
      "612 of 612: Currently processing plainview, ID Number:4135\n",
      "-----------------------------\n",
      "Finished collecting weather information from 612 cities around the world\n"
     ]
    }
   ],
   "source": [
    "# Putting everything together into a for loop now to get API request to run the list of cities\n",
    "\n",
    "# Generate lists that will store the cities data as the loop runs\n",
    "# Lists developed based on what information the homework requests we gather\n",
    "city_name_list = []\n",
    "cloud_list = []\n",
    "country_list = []\n",
    "date_list = []\n",
    "humidity_list = []\n",
    "lat_list = []\n",
    "lng_list = []\n",
    "temp_list = []\n",
    "wind_list = []\n",
    "\n",
    "# Variable to track the request process\n",
    "counter = 0\n",
    "\n",
    "# Printing the log of cities as they are being requested per homework instructions\n",
    "print(f\"Requesting weather information from {len(cities)} random cities around the world\")\n",
    "print(\"-----------------------------\")\n",
    "\n",
    "\n",
    "# Set up loop to make an api call on each city in the list and store it's value before moving to the next\n",
    "for city in cities:    \n",
    "    \n",
    "    # Adding a counter to track the processing better\n",
    "    # I think this is what hw is asking, not city ID, but I will add both to be safe\n",
    "    counter += 1\n",
    "    \n",
    "   # Need try logic for cases where weather api does not have records for that city\n",
    "    try:\n",
    "        # Update the query url with a new city\n",
    "        query_url = base_url + city + \"&appid=\" + weather_api_key + \"&units=\" + units\n",
    "        # Perform a GET request\n",
    "        response = requests.get(query_url)\n",
    "        # Convert the response to a JSON\n",
    "        weather_data = response.json()\n",
    "        # print(json.dumps(weather_data, indent = 4, sort_keys = True))\n",
    "   \n",
    "        # Collect all weather information for that city\n",
    "        city_num = weather_data[\"sys\"][\"id\"]\n",
    "        city_name_list.append(weather_data[\"name\"])\n",
    "        cloud_list.append(weather_data[\"clouds\"][\"all\"])\n",
    "        country_list.append(weather_data[\"sys\"][\"country\"])\n",
    "        date_list.append(weather_data[\"dt\"])\n",
    "        humidity_list.append(weather_data[\"main\"][\"humidity\"])\n",
    "        lat_list.append(weather_data[\"coord\"][\"lat\"])\n",
    "        lng_list.append(weather_data[\"coord\"][\"lon\"])\n",
    "        temp_list.append(weather_data['main']['temp'])\n",
    "        wind_list.append(weather_data[\"wind\"][\"speed\"])\n",
    "    \n",
    "        # Print that the city is currently being processed per homework instructions\n",
    "        print(f\"{counter} of {len(cities)}: Currently processing {city}, ID Number:{city_num}\")\n",
    "    \n",
    "    # If city data is not found then use this except command and continue to the next city\n",
    "    except(KeyError, IndexError):\n",
    "        print(f\"{counter} of {len(cities)}: Unfortunately unable to pull data for {city}, Skipping {city} for now\")\n",
    "\n",
    "    # Adding in a one second sleep interval between queries to avoid exceeding the API query limits\n",
    "    time.sleep(1)\n",
    "        \n",
    "print(\"-----------------------------\")\n",
    "print(f\"Finished collecting weather information from {len(cities)} cities around the world\")\n",
    "    "
   ]
  },
  {
   "cell_type": "markdown",
   "metadata": {},
   "source": [
    "### Convert Raw Data to DataFrame\n",
    "* Export the city data into a .csv.\n",
    "* Display the DataFrame"
   ]
  },
  {
   "cell_type": "code",
   "execution_count": 8,
   "metadata": {},
   "outputs": [
    {
     "data": {
      "text/html": [
       "<div>\n",
       "<style scoped>\n",
       "    .dataframe tbody tr th:only-of-type {\n",
       "        vertical-align: middle;\n",
       "    }\n",
       "\n",
       "    .dataframe tbody tr th {\n",
       "        vertical-align: top;\n",
       "    }\n",
       "\n",
       "    .dataframe thead th {\n",
       "        text-align: right;\n",
       "    }\n",
       "</style>\n",
       "<table border=\"1\" class=\"dataframe\">\n",
       "  <thead>\n",
       "    <tr style=\"text-align: right;\">\n",
       "      <th></th>\n",
       "      <th>City</th>\n",
       "      <th>Country</th>\n",
       "      <th>Temperature (F)</th>\n",
       "      <th>Date</th>\n",
       "      <th>Humidity %</th>\n",
       "      <th>Cloud</th>\n",
       "      <th>Wind Speed</th>\n",
       "      <th>Lat</th>\n",
       "      <th>Lng</th>\n",
       "    </tr>\n",
       "  </thead>\n",
       "  <tbody>\n",
       "    <tr>\n",
       "      <th>0</th>\n",
       "      <td>Mar del Plata</td>\n",
       "      <td>AR</td>\n",
       "      <td>69.35</td>\n",
       "      <td>1613154009</td>\n",
       "      <td>94</td>\n",
       "      <td>90</td>\n",
       "      <td>20.71</td>\n",
       "      <td>-38.0023</td>\n",
       "      <td>-57.5575</td>\n",
       "    </tr>\n",
       "    <tr>\n",
       "      <th>1</th>\n",
       "      <td>San Patricio</td>\n",
       "      <td>US</td>\n",
       "      <td>37.13</td>\n",
       "      <td>1613154173</td>\n",
       "      <td>93</td>\n",
       "      <td>90</td>\n",
       "      <td>21.85</td>\n",
       "      <td>28.0170</td>\n",
       "      <td>-97.5169</td>\n",
       "    </tr>\n",
       "    <tr>\n",
       "      <th>2</th>\n",
       "      <td>New Norfolk</td>\n",
       "      <td>AU</td>\n",
       "      <td>54.99</td>\n",
       "      <td>1613153952</td>\n",
       "      <td>73</td>\n",
       "      <td>61</td>\n",
       "      <td>1.99</td>\n",
       "      <td>-42.7826</td>\n",
       "      <td>147.0587</td>\n",
       "    </tr>\n",
       "    <tr>\n",
       "      <th>3</th>\n",
       "      <td>Hermanus</td>\n",
       "      <td>ZA</td>\n",
       "      <td>73.00</td>\n",
       "      <td>1613153953</td>\n",
       "      <td>80</td>\n",
       "      <td>14</td>\n",
       "      <td>3.18</td>\n",
       "      <td>-34.4187</td>\n",
       "      <td>19.2345</td>\n",
       "    </tr>\n",
       "    <tr>\n",
       "      <th>4</th>\n",
       "      <td>Kapaa</td>\n",
       "      <td>US</td>\n",
       "      <td>68.43</td>\n",
       "      <td>1613153967</td>\n",
       "      <td>68</td>\n",
       "      <td>75</td>\n",
       "      <td>10.36</td>\n",
       "      <td>22.0752</td>\n",
       "      <td>-159.3190</td>\n",
       "    </tr>\n",
       "  </tbody>\n",
       "</table>\n",
       "</div>"
      ],
      "text/plain": [
       "            City Country  Temperature (F)        Date  Humidity %  Cloud  \\\n",
       "0  Mar del Plata      AR            69.35  1613154009          94     90   \n",
       "1   San Patricio      US            37.13  1613154173          93     90   \n",
       "2    New Norfolk      AU            54.99  1613153952          73     61   \n",
       "3       Hermanus      ZA            73.00  1613153953          80     14   \n",
       "4          Kapaa      US            68.43  1613153967          68     75   \n",
       "\n",
       "   Wind Speed      Lat       Lng  \n",
       "0       20.71 -38.0023  -57.5575  \n",
       "1       21.85  28.0170  -97.5169  \n",
       "2        1.99 -42.7826  147.0587  \n",
       "3        3.18 -34.4187   19.2345  \n",
       "4       10.36  22.0752 -159.3190  "
      ]
     },
     "execution_count": 8,
     "metadata": {},
     "output_type": "execute_result"
    }
   ],
   "source": [
    "# Use pandas function pd.DataFrame to create a dataframe from the list information generated above\n",
    "# I chose to re-arrange this order of the columns here to what I felt more logical\n",
    "cities_weather_df = pd.DataFrame({\"City\": city_name_list,\n",
    "                                  \"Country\": country_list,\n",
    "                                  \"Temperature (F)\": temp_list,\n",
    "                                  \"Date\": date_list,\n",
    "                                  \"Humidity %\": humidity_list,\n",
    "                                  \"Cloud\": cloud_list,\n",
    "                                  \"Wind Speed\": wind_list,\n",
    "                                  \"Lat\": lat_list,\n",
    "                                  \"Lng\":lng_list                                  \n",
    "                                })\n",
    "\n",
    "# Display the dataframe\n",
    "cities_weather_df.head()"
   ]
  },
  {
   "cell_type": "code",
   "execution_count": 9,
   "metadata": {},
   "outputs": [],
   "source": [
    "# Save city data into a csv file\n",
    "cities_weather_df.to_csv(output_data_file, index = False)"
   ]
  },
  {
   "cell_type": "markdown",
   "metadata": {},
   "source": [
    "## Inspect the data and remove the cities where the humidity > 100%.\n",
    "----\n",
    "Skip this step if there are no cities that have humidity > 100%. "
   ]
  },
  {
   "cell_type": "code",
   "execution_count": 10,
   "metadata": {},
   "outputs": [
    {
     "data": {
      "text/html": [
       "<div>\n",
       "<style scoped>\n",
       "    .dataframe tbody tr th:only-of-type {\n",
       "        vertical-align: middle;\n",
       "    }\n",
       "\n",
       "    .dataframe tbody tr th {\n",
       "        vertical-align: top;\n",
       "    }\n",
       "\n",
       "    .dataframe thead th {\n",
       "        text-align: right;\n",
       "    }\n",
       "</style>\n",
       "<table border=\"1\" class=\"dataframe\">\n",
       "  <thead>\n",
       "    <tr style=\"text-align: right;\">\n",
       "      <th></th>\n",
       "      <th>City</th>\n",
       "      <th>Country</th>\n",
       "      <th>Temperature (F)</th>\n",
       "      <th>Date</th>\n",
       "      <th>Humidity %</th>\n",
       "      <th>Cloud</th>\n",
       "      <th>Wind Speed</th>\n",
       "      <th>Lat</th>\n",
       "      <th>Lng</th>\n",
       "    </tr>\n",
       "  </thead>\n",
       "  <tbody>\n",
       "    <tr>\n",
       "      <th>0</th>\n",
       "      <td>Mar del Plata</td>\n",
       "      <td>AR</td>\n",
       "      <td>69.35</td>\n",
       "      <td>1613154009</td>\n",
       "      <td>94</td>\n",
       "      <td>90</td>\n",
       "      <td>20.71</td>\n",
       "      <td>-38.0023</td>\n",
       "      <td>-57.5575</td>\n",
       "    </tr>\n",
       "    <tr>\n",
       "      <th>1</th>\n",
       "      <td>San Patricio</td>\n",
       "      <td>US</td>\n",
       "      <td>37.13</td>\n",
       "      <td>1613154173</td>\n",
       "      <td>93</td>\n",
       "      <td>90</td>\n",
       "      <td>21.85</td>\n",
       "      <td>28.0170</td>\n",
       "      <td>-97.5169</td>\n",
       "    </tr>\n",
       "    <tr>\n",
       "      <th>2</th>\n",
       "      <td>New Norfolk</td>\n",
       "      <td>AU</td>\n",
       "      <td>54.99</td>\n",
       "      <td>1613153952</td>\n",
       "      <td>73</td>\n",
       "      <td>61</td>\n",
       "      <td>1.99</td>\n",
       "      <td>-42.7826</td>\n",
       "      <td>147.0587</td>\n",
       "    </tr>\n",
       "    <tr>\n",
       "      <th>3</th>\n",
       "      <td>Hermanus</td>\n",
       "      <td>ZA</td>\n",
       "      <td>73.00</td>\n",
       "      <td>1613153953</td>\n",
       "      <td>80</td>\n",
       "      <td>14</td>\n",
       "      <td>3.18</td>\n",
       "      <td>-34.4187</td>\n",
       "      <td>19.2345</td>\n",
       "    </tr>\n",
       "    <tr>\n",
       "      <th>4</th>\n",
       "      <td>Kapaa</td>\n",
       "      <td>US</td>\n",
       "      <td>68.43</td>\n",
       "      <td>1613153967</td>\n",
       "      <td>68</td>\n",
       "      <td>75</td>\n",
       "      <td>10.36</td>\n",
       "      <td>22.0752</td>\n",
       "      <td>-159.3190</td>\n",
       "    </tr>\n",
       "  </tbody>\n",
       "</table>\n",
       "</div>"
      ],
      "text/plain": [
       "            City Country  Temperature (F)        Date  Humidity %  Cloud  \\\n",
       "0  Mar del Plata      AR            69.35  1613154009          94     90   \n",
       "1   San Patricio      US            37.13  1613154173          93     90   \n",
       "2    New Norfolk      AU            54.99  1613153952          73     61   \n",
       "3       Hermanus      ZA            73.00  1613153953          80     14   \n",
       "4          Kapaa      US            68.43  1613153967          68     75   \n",
       "\n",
       "   Wind Speed      Lat       Lng  \n",
       "0       20.71 -38.0023  -57.5575  \n",
       "1       21.85  28.0170  -97.5169  \n",
       "2        1.99 -42.7826  147.0587  \n",
       "3        3.18 -34.4187   19.2345  \n",
       "4       10.36  22.0752 -159.3190  "
      ]
     },
     "execution_count": 10,
     "metadata": {},
     "output_type": "execute_result"
    }
   ],
   "source": [
    "# Running this cell anyway just to be sure\n",
    "cleaned_data_df = cities_weather_df[cities_weather_df[\"Humidity %\"] < 100]\n",
    "cleaned_data_df.head()"
   ]
  },
  {
   "cell_type": "code",
   "execution_count": 11,
   "metadata": {},
   "outputs": [
    {
     "data": {
      "text/plain": [
       "Int64Index([], dtype='int64')"
      ]
     },
     "execution_count": 11,
     "metadata": {},
     "output_type": "execute_result"
    }
   ],
   "source": [
    "#  Get the indices of cities that have humidity over 100%.\n",
    "high_humidity_df = cities_weather_df[cities_weather_df[\"Humidity %\"] > 100]\n",
    "\n",
    "high_humidity_df\n",
    "\n",
    "high_humidity_index = high_humidity_df.index\n",
    "high_humidity_index"
   ]
  },
  {
   "cell_type": "code",
   "execution_count": 12,
   "metadata": {},
   "outputs": [
    {
     "data": {
      "text/html": [
       "<div>\n",
       "<style scoped>\n",
       "    .dataframe tbody tr th:only-of-type {\n",
       "        vertical-align: middle;\n",
       "    }\n",
       "\n",
       "    .dataframe tbody tr th {\n",
       "        vertical-align: top;\n",
       "    }\n",
       "\n",
       "    .dataframe thead th {\n",
       "        text-align: right;\n",
       "    }\n",
       "</style>\n",
       "<table border=\"1\" class=\"dataframe\">\n",
       "  <thead>\n",
       "    <tr style=\"text-align: right;\">\n",
       "      <th></th>\n",
       "      <th>City</th>\n",
       "      <th>Country</th>\n",
       "      <th>Temperature (F)</th>\n",
       "      <th>Date</th>\n",
       "      <th>Humidity %</th>\n",
       "      <th>Cloud</th>\n",
       "      <th>Wind Speed</th>\n",
       "      <th>Lat</th>\n",
       "      <th>Lng</th>\n",
       "    </tr>\n",
       "  </thead>\n",
       "  <tbody>\n",
       "    <tr>\n",
       "      <th>0</th>\n",
       "      <td>Mar del Plata</td>\n",
       "      <td>AR</td>\n",
       "      <td>69.35</td>\n",
       "      <td>1613154009</td>\n",
       "      <td>94</td>\n",
       "      <td>90</td>\n",
       "      <td>20.71</td>\n",
       "      <td>-38.0023</td>\n",
       "      <td>-57.5575</td>\n",
       "    </tr>\n",
       "    <tr>\n",
       "      <th>1</th>\n",
       "      <td>San Patricio</td>\n",
       "      <td>US</td>\n",
       "      <td>37.13</td>\n",
       "      <td>1613154173</td>\n",
       "      <td>93</td>\n",
       "      <td>90</td>\n",
       "      <td>21.85</td>\n",
       "      <td>28.0170</td>\n",
       "      <td>-97.5169</td>\n",
       "    </tr>\n",
       "    <tr>\n",
       "      <th>2</th>\n",
       "      <td>New Norfolk</td>\n",
       "      <td>AU</td>\n",
       "      <td>54.99</td>\n",
       "      <td>1613153952</td>\n",
       "      <td>73</td>\n",
       "      <td>61</td>\n",
       "      <td>1.99</td>\n",
       "      <td>-42.7826</td>\n",
       "      <td>147.0587</td>\n",
       "    </tr>\n",
       "    <tr>\n",
       "      <th>3</th>\n",
       "      <td>Hermanus</td>\n",
       "      <td>ZA</td>\n",
       "      <td>73.00</td>\n",
       "      <td>1613153953</td>\n",
       "      <td>80</td>\n",
       "      <td>14</td>\n",
       "      <td>3.18</td>\n",
       "      <td>-34.4187</td>\n",
       "      <td>19.2345</td>\n",
       "    </tr>\n",
       "    <tr>\n",
       "      <th>4</th>\n",
       "      <td>Kapaa</td>\n",
       "      <td>US</td>\n",
       "      <td>68.43</td>\n",
       "      <td>1613153967</td>\n",
       "      <td>68</td>\n",
       "      <td>75</td>\n",
       "      <td>10.36</td>\n",
       "      <td>22.0752</td>\n",
       "      <td>-159.3190</td>\n",
       "    </tr>\n",
       "  </tbody>\n",
       "</table>\n",
       "</div>"
      ],
      "text/plain": [
       "            City Country  Temperature (F)        Date  Humidity %  Cloud  \\\n",
       "0  Mar del Plata      AR            69.35  1613154009          94     90   \n",
       "1   San Patricio      US            37.13  1613154173          93     90   \n",
       "2    New Norfolk      AU            54.99  1613153952          73     61   \n",
       "3       Hermanus      ZA            73.00  1613153953          80     14   \n",
       "4          Kapaa      US            68.43  1613153967          68     75   \n",
       "\n",
       "   Wind Speed      Lat       Lng  \n",
       "0       20.71 -38.0023  -57.5575  \n",
       "1       21.85  28.0170  -97.5169  \n",
       "2        1.99 -42.7826  147.0587  \n",
       "3        3.18 -34.4187   19.2345  \n",
       "4       10.36  22.0752 -159.3190  "
      ]
     },
     "execution_count": 12,
     "metadata": {},
     "output_type": "execute_result"
    }
   ],
   "source": [
    "# Make a new DataFrame equal to the city data to drop all humidity outliers by index.\n",
    "# The step above created this cleaned dataframe, here it is displayed again\n",
    "cleaned_data_df.head()"
   ]
  },
  {
   "cell_type": "markdown",
   "metadata": {},
   "source": [
    "## Plotting the Data\n",
    "* Use proper labeling of the plots using plot titles (including date of analysis) and axes labels.\n",
    "* Save the plotted figures as .pngs."
   ]
  },
  {
   "cell_type": "markdown",
   "metadata": {},
   "source": [
    "## Latitude vs. Temperature Plot"
   ]
  },
  {
   "cell_type": "code",
   "execution_count": 13,
   "metadata": {
    "scrolled": true
   },
   "outputs": [
    {
     "data": {
      "image/png": "[encoded data removed]",
      "text/plain": [
       "<Figure size 432x288 with 1 Axes>"
      ]
     },
     "metadata": {
      "needs_background": "light"
     },
     "output_type": "display_data"
    }
   ],
   "source": [
    "# Create Latitude vs. Temperature scatter plot\n",
    "plt.scatter(cleaned_data_df[\"Lat\"], cleaned_data_df[\"Temperature (F)\"])\n",
    "\n",
    "# Set the title and x and y labels of the plot\n",
    "plt.title(\"Latitude v Temperature (F) (Feb 12, 2021)\")\n",
    "plt.xlabel(\"Latitude\")\n",
    "plt.ylabel(\"Temperature (F)\")\n",
    "\n",
    "# Save the plotted figure as .pngs\n",
    "plt.savefig(\"Images/Latitude v Temperature (F).png\")\n",
    "\n",
    "# Best practice to use plt.show()\n",
    "plt.show()"
   ]
  },
  {
   "cell_type": "markdown",
   "metadata": {},
   "source": [
    "### This above plot shows the relationship between the change in latitude and how that potentially correlates to the temperature value recorded.\n",
    "The data seems to suggest that that the temperature seems to increase as it gets closer to 0 and decrease at varrying rates the further it gets from 0. This relationship supports the initial hypothesis that it gets warmer the closer you are to the equator."
   ]
  },
  {
   "cell_type": "markdown",
   "metadata": {},
   "source": [
    "## Latitude vs. Humidity Plot"
   ]
  },
  {
   "cell_type": "code",
   "execution_count": 14,
   "metadata": {},
   "outputs": [
    {
     "data": {
      "image/png": "[encoded data removed]",
      "text/plain": [
       "<Figure size 432x288 with 1 Axes>"
      ]
     },
     "metadata": {
      "needs_background": "light"
     },
     "output_type": "display_data"
    }
   ],
   "source": [
    "# Create Latitude vs. Humidity scatter plot\n",
    "plt.scatter(cleaned_data_df[\"Lat\"], cleaned_data_df[\"Humidity %\"])\n",
    "\n",
    "# Set the title and x and y labels of the plot\n",
    "plt.title(\"Latitude v Humidity % (Feb 12, 2021)\")\n",
    "plt.xlabel(\"Latitude\")\n",
    "plt.ylabel(\"Humidity %\")\n",
    "\n",
    "# Save the plotted figure as .pngs\n",
    "plt.savefig(\"Images/Latitude v Humidity %.png\")\n",
    "\n",
    "# Best practice to use plt.show()\n",
    "plt.show()"
   ]
  },
  {
   "cell_type": "markdown",
   "metadata": {},
   "source": [
    "### This above plot shows the relationship between the change in latitude and how that potentially correlates to the percent humidity value recorded.\n",
    "The data does not show a true correlation between the latitude and the percent humidity. While we do see the humidity values to trend lower at more extreme latitudes (-50, 50) the data is too dispersed in this chart to accurately say there is a strong correlation between the two"
   ]
  },
  {
   "cell_type": "markdown",
   "metadata": {},
   "source": [
    "## Latitude vs. Cloudiness Plot"
   ]
  },
  {
   "cell_type": "code",
   "execution_count": 15,
   "metadata": {},
   "outputs": [
    {
     "data": {
      "image/png": "[encoded data removed]",
      "text/plain": [
       "<Figure size 432x288 with 1 Axes>"
      ]
     },
     "metadata": {
      "needs_background": "light"
     },
     "output_type": "display_data"
    }
   ],
   "source": [
    "# Create Latitude vs. Cloudiness scatter plot\n",
    "plt.scatter(cleaned_data_df[\"Lat\"], cleaned_data_df[\"Cloud\"])\n",
    "\n",
    "# Set the title and x and y labels of the plot\n",
    "plt.title(\"Latitude v Cloudiness (Feb 12, 2021)\")\n",
    "plt.xlabel(\"Latitude\")\n",
    "plt.ylabel(\"Cloudiness\")\n",
    "\n",
    "# Save the plotted figure as .pngs\n",
    "plt.savefig(\"Images/Latitude v Cloudiness.png\")\n",
    "\n",
    "# Best practice to use plt.show()\n",
    "plt.show()"
   ]
  },
  {
   "cell_type": "markdown",
   "metadata": {},
   "source": [
    "### This above plot shows the relationship between the change in latitude and how that potentially correlates to the Cloudiness value recorded.\n",
    "The data seems to suggest that that there is little to no discernable coorilation between the level of cloudiness and the latitude, as the points are dispersed across the chart"
   ]
  },
  {
   "cell_type": "markdown",
   "metadata": {},
   "source": [
    "## Latitude vs. Wind Speed Plot"
   ]
  },
  {
   "cell_type": "code",
   "execution_count": 16,
   "metadata": {},
   "outputs": [
    {
     "data": {
      "image/png": "[encoded data removed]",
      "text/plain": [
       "<Figure size 432x288 with 1 Axes>"
      ]
     },
     "metadata": {
      "needs_background": "light"
     },
     "output_type": "display_data"
    }
   ],
   "source": [
    "# Create Latitude vs. Wind Speed scatter plot\n",
    "plt.scatter(cleaned_data_df[\"Lat\"], cleaned_data_df[\"Wind Speed\"])\n",
    "\n",
    "# Set the title and x and y labels of the plot\n",
    "plt.title(\"Latitude v Wind Speed (Feb 12, 2021)\")\n",
    "plt.xlabel(\"Latitude\")\n",
    "plt.ylabel(\"Wind Speed\")\n",
    "\n",
    "# Save the plotted figure as .pngs\n",
    "plt.savefig(\"Images/Latitude v Wind Speed.png\")\n",
    "\n",
    "# Best practice to use plt.show()\n",
    "plt.show()"
   ]
  },
  {
   "cell_type": "markdown",
   "metadata": {},
   "source": [
    "### This above plot shows the relationship between the change in latitude and how that potentially correlates to the wind speed value recorded.\n",
    "This chart again depicts little correlation between latitude and wind speed as the data is spread across the whole chart, not being effected by the latitude value it is tied to."
   ]
  },
  {
   "cell_type": "markdown",
   "metadata": {},
   "source": [
    "## Linear Regression"
   ]
  },
  {
   "cell_type": "code",
   "execution_count": 17,
   "metadata": {},
   "outputs": [
    {
     "data": {
      "text/html": [
       "<div>\n",
       "<style scoped>\n",
       "    .dataframe tbody tr th:only-of-type {\n",
       "        vertical-align: middle;\n",
       "    }\n",
       "\n",
       "    .dataframe tbody tr th {\n",
       "        vertical-align: top;\n",
       "    }\n",
       "\n",
       "    .dataframe thead th {\n",
       "        text-align: right;\n",
       "    }\n",
       "</style>\n",
       "<table border=\"1\" class=\"dataframe\">\n",
       "  <thead>\n",
       "    <tr style=\"text-align: right;\">\n",
       "      <th></th>\n",
       "      <th>City</th>\n",
       "      <th>Country</th>\n",
       "      <th>Temperature (F)</th>\n",
       "      <th>Date</th>\n",
       "      <th>Humidity %</th>\n",
       "      <th>Cloud</th>\n",
       "      <th>Wind Speed</th>\n",
       "      <th>Lat</th>\n",
       "      <th>Lng</th>\n",
       "    </tr>\n",
       "  </thead>\n",
       "  <tbody>\n",
       "    <tr>\n",
       "      <th>1</th>\n",
       "      <td>San Patricio</td>\n",
       "      <td>US</td>\n",
       "      <td>37.13</td>\n",
       "      <td>1613154173</td>\n",
       "      <td>93</td>\n",
       "      <td>90</td>\n",
       "      <td>21.85</td>\n",
       "      <td>28.0170</td>\n",
       "      <td>-97.5169</td>\n",
       "    </tr>\n",
       "    <tr>\n",
       "      <th>4</th>\n",
       "      <td>Kapaa</td>\n",
       "      <td>US</td>\n",
       "      <td>68.43</td>\n",
       "      <td>1613153967</td>\n",
       "      <td>68</td>\n",
       "      <td>75</td>\n",
       "      <td>10.36</td>\n",
       "      <td>22.0752</td>\n",
       "      <td>-159.3190</td>\n",
       "    </tr>\n",
       "    <tr>\n",
       "      <th>5</th>\n",
       "      <td>Nikolskoye</td>\n",
       "      <td>RU</td>\n",
       "      <td>2.52</td>\n",
       "      <td>1613154188</td>\n",
       "      <td>85</td>\n",
       "      <td>75</td>\n",
       "      <td>6.71</td>\n",
       "      <td>59.7035</td>\n",
       "      <td>30.7861</td>\n",
       "    </tr>\n",
       "    <tr>\n",
       "      <th>6</th>\n",
       "      <td>Haines Junction</td>\n",
       "      <td>CA</td>\n",
       "      <td>-29.20</td>\n",
       "      <td>1613154190</td>\n",
       "      <td>68</td>\n",
       "      <td>0</td>\n",
       "      <td>1.14</td>\n",
       "      <td>60.7522</td>\n",
       "      <td>-137.5108</td>\n",
       "    </tr>\n",
       "    <tr>\n",
       "      <th>9</th>\n",
       "      <td>Jamestown</td>\n",
       "      <td>US</td>\n",
       "      <td>23.13</td>\n",
       "      <td>1613154097</td>\n",
       "      <td>53</td>\n",
       "      <td>90</td>\n",
       "      <td>5.75</td>\n",
       "      <td>42.0970</td>\n",
       "      <td>-79.2353</td>\n",
       "    </tr>\n",
       "  </tbody>\n",
       "</table>\n",
       "</div>"
      ],
      "text/plain": [
       "              City Country  Temperature (F)        Date  Humidity %  Cloud  \\\n",
       "1     San Patricio      US            37.13  1613154173          93     90   \n",
       "4            Kapaa      US            68.43  1613153967          68     75   \n",
       "5       Nikolskoye      RU             2.52  1613154188          85     75   \n",
       "6  Haines Junction      CA           -29.20  1613154190          68      0   \n",
       "9        Jamestown      US            23.13  1613154097          53     90   \n",
       "\n",
       "   Wind Speed      Lat       Lng  \n",
       "1       21.85  28.0170  -97.5169  \n",
       "4       10.36  22.0752 -159.3190  \n",
       "5        6.71  59.7035   30.7861  \n",
       "6        1.14  60.7522 -137.5108  \n",
       "9        5.75  42.0970  -79.2353  "
      ]
     },
     "execution_count": 17,
     "metadata": {},
     "output_type": "execute_result"
    }
   ],
   "source": [
    "# Create Northern and Southern hemisphere dataframes based on homework instructions\n",
    "# Norther hemisphere is if lat >= 0 and Southern is if it is < 0\n",
    "northern_hemisphere = cleaned_data_df.loc[cleaned_data_df[\"Lat\"] >= 0]\n",
    "southern_hemisphere = cleaned_data_df.loc[cleaned_data_df[\"Lat\"] < 0]\n",
    "northern_hemisphere.head()"
   ]
  },
  {
   "cell_type": "code",
   "execution_count": 18,
   "metadata": {},
   "outputs": [
    {
     "name": "stdout",
     "output_type": "stream",
     "text": [
      "0      86.432662\n",
      "1      43.999355\n",
      "2      89.505156\n",
      "3      84.129335\n",
      "4      47.818393\n",
      "         ...    \n",
      "274    17.976445\n",
      "275    87.095327\n",
      "276    20.753664\n",
      "277    37.914976\n",
      "278    35.798302\n",
      "Name: Lat, Length: 266, dtype: float64\n",
      "y = -0.64x + 62.01\n"
     ]
    }
   ],
   "source": [
    "# Generate x and y values to start\n",
    "# These will be updated for each chart, but the rest of the setup will stay\n",
    "x_values = cleaned_data_df[\"Lat\"]\n",
    "y_values = cleaned_data_df[\"Temperature (F)\"]\n",
    "\n",
    "# Set up linear regression equation\n",
    "(slope, intercept, rvalue, pvalue, stderr) = linregress(x_values, y_values)\n",
    "\n",
    "# Get regression values\n",
    "regress_values = x_values * slope + intercept\n",
    "print(regress_values)\n",
    "\n",
    "# Create a line equation using the linregress values generated above\n",
    "line_eq = \"y = \" + str(round(slope,2)) + \"x + \" + str(round(intercept,2))\n",
    "print(line_eq)"
   ]
  },
  {
   "cell_type": "markdown",
   "metadata": {},
   "source": [
    "####  Northern Hemisphere - Max Temp vs. Latitude Linear Regression"
   ]
  },
  {
   "cell_type": "code",
   "execution_count": 19,
   "metadata": {},
   "outputs": [
    {
     "name": "stdout",
     "output_type": "stream",
     "text": [
      "The r-value is: 0.6824480468514366\n"
     ]
    },
    {
     "data": {
      "image/png": "[encoded data removed]",
      "text/plain": [
       "<Figure size 432x288 with 1 Axes>"
      ]
     },
     "metadata": {
      "needs_background": "light"
     },
     "output_type": "display_data"
    }
   ],
   "source": [
    "# Update the x and y values\n",
    "x_values = northern_hemisphere[\"Lat\"]\n",
    "y_values = northern_hemisphere[\"Temperature (F)\"]\n",
    "\n",
    "# Generate the scatter plot\n",
    "plt.scatter(x_values,y_values)\n",
    "\n",
    "# Set up linear regression equation\n",
    "(slope, intercept, rvalue, pvalue, stderr) = linregress(x_values, y_values)\n",
    "# Get regression values\n",
    "regress_values = x_values * slope + intercept\n",
    "#print(regress_values)\n",
    "\n",
    "# Generate regression values\n",
    "plt.plot(x_values,regress_values,\"r-\")\n",
    "\n",
    "# Label plot and annotate the line equation\n",
    "plt.title(\"Northern Latitude v Temperature (F) (Feb 12, 2021)\")\n",
    "plt.xlabel(\"Latitude\")\n",
    "plt.ylabel(\"Temperature (F)\")\n",
    "# Update the coordinates here to make sure the chart displays properly\n",
    "plt.annotate(line_eq,(20,0), fontsize=15, color=\"red\")\n",
    "\n",
    "# Print r value\n",
    "print(f\"The r-value is: {rvalue**2}\")\n",
    "\n",
    "# Save the plotted figure as .pngs\n",
    "plt.savefig(\"Images/Northern Latitude v Temperature (F).png\")\n",
    "\n",
    "# Show plot\n",
    "plt.show()"
   ]
  },
  {
   "cell_type": "markdown",
   "metadata": {},
   "source": [
    "### This above plot for the northern hemisphere shows the relationship between the change in latitude and how that potentially correlates to the temperature value recorded. It also shows a regression line to further display any correlation.\n",
    "The regression line clearly shows the hypothesis to be true as the temperature drops the further the latitude is from 0 (the equator). Also, the r value being pretty close to 1.0 each time I've run this with new random cities gives me confidence that the correlation between these values is strong."
   ]
  },
  {
   "cell_type": "markdown",
   "metadata": {},
   "source": [
    "####  Southern Hemisphere - Max Temp vs. Latitude Linear Regression"
   ]
  },
  {
   "cell_type": "code",
   "execution_count": 20,
   "metadata": {},
   "outputs": [
    {
     "name": "stdout",
     "output_type": "stream",
     "text": [
      "The r-value is: 0.41537824660124956\n"
     ]
    },
    {
     "data": {
      "image/png": "[encoded data removed]",
      "text/plain": [
       "<Figure size 432x288 with 1 Axes>"
      ]
     },
     "metadata": {
      "needs_background": "light"
     },
     "output_type": "display_data"
    }
   ],
   "source": [
    "# Update the x and y values\n",
    "x_values = southern_hemisphere[\"Lat\"]\n",
    "y_values = southern_hemisphere[\"Temperature (F)\"]\n",
    "\n",
    "# Generate the scatter plot and regression line\n",
    "plt.scatter(x_values,y_values)\n",
    "\n",
    "# Set up linear regression equation\n",
    "(slope, intercept, rvalue, pvalue, stderr) = linregress(x_values, y_values)\n",
    "# Get regression values\n",
    "regress_values = x_values * slope + intercept\n",
    "#print(regress_values)\n",
    "\n",
    "# Generate regression values\n",
    "plt.plot(x_values,regress_values,\"r-\")\n",
    "\n",
    "# Label plot and annotate the line equation\n",
    "plt.title(\"Southern Latitude v Temperature (F) (Feb 12, 2021)\")\n",
    "plt.xlabel(\"Latitude\")\n",
    "plt.ylabel(\"Temperature (F)\")\n",
    "# Update the coordinates here to make sure the chart displays properly\n",
    "plt.annotate(line_eq,(-30,60), fontsize=15, color=\"red\")\n",
    "\n",
    "# Print r value\n",
    "print(f\"The r-value is: {rvalue**2}\")\n",
    "\n",
    "# Save the plotted figure as .pngs\n",
    "plt.savefig(\"Images/Southern Latitude v Temperature (F).png\")\n",
    "\n",
    "# Show plot\n",
    "plt.show()"
   ]
  },
  {
   "cell_type": "markdown",
   "metadata": {},
   "source": [
    "### This above plot for the southern hemisphere shows the relationship between the change in latitude and how that potentially correlates to the temperature value recorded. It also shows a regression line to further display any correlation.\n",
    "The regression line again clearly shows the hypothesis to be true as the temperature rises the closer the latitude gets to 0 (the equator). Also, the r value again is on the 'higher' side as it closer to 1.0, shows that the correlation between these values is strong."
   ]
  },
  {
   "cell_type": "markdown",
   "metadata": {},
   "source": [
    "####  Northern Hemisphere - Humidity (%) vs. Latitude Linear Regression"
   ]
  },
  {
   "cell_type": "code",
   "execution_count": 21,
   "metadata": {},
   "outputs": [
    {
     "name": "stdout",
     "output_type": "stream",
     "text": [
      "The r-value is: 9.088548370345133e-06\n"
     ]
    },
    {
     "data": {
      "image/png": "[encoded data removed]",
      "text/plain": [
       "<Figure size 432x288 with 1 Axes>"
      ]
     },
     "metadata": {
      "needs_background": "light"
     },
     "output_type": "display_data"
    }
   ],
   "source": [
    "# Update the x and y values\n",
    "x_values = northern_hemisphere[\"Lat\"]\n",
    "y_values = northern_hemisphere[\"Humidity %\"]\n",
    "\n",
    "# Generate the scatter plot and regression line\n",
    "plt.scatter(x_values,y_values)\n",
    "\n",
    "# Set up linear regression equation\n",
    "(slope, intercept, rvalue, pvalue, stderr) = linregress(x_values, y_values)\n",
    "# Get regression values\n",
    "regress_values = x_values * slope + intercept\n",
    "#print(regress_values)\n",
    "\n",
    "# Generate regression values\n",
    "plt.plot(x_values,regress_values,\"r-\")\n",
    "\n",
    "# Label plot and annotate the line equation\n",
    "plt.title(\"Northern Latitude v Humidity % (Feb 12, 2021)\")\n",
    "plt.xlabel(\"Latitude\")\n",
    "plt.ylabel(\"Humidity %\")\n",
    "# Update the coordinates here to make sure the chart displays properly\n",
    "plt.annotate(line_eq,(38, 50), fontsize=15, color=\"red\")\n",
    "\n",
    "# Print r value\n",
    "print(f\"The r-value is: {rvalue**2}\")\n",
    "\n",
    "# Save the plotted figure as .pngs\n",
    "plt.savefig(\"Images/Northern Latitude v Humidity %.png\")\n",
    "\n",
    "# Show plot\n",
    "plt.show()"
   ]
  },
  {
   "cell_type": "markdown",
   "metadata": {},
   "source": [
    "### This above plot for the northern hemisphere shows the relationship between the change in latitude and how that potentially correlates to the percent humidity value recorded. It also shows a regression line to further display any correlation.\n",
    "The regression leads me to believe that there is very little correlation between the latitude and the percent humidity. A low r value is a telling sign of this."
   ]
  },
  {
   "cell_type": "markdown",
   "metadata": {},
   "source": [
    "####  Southern Hemisphere - Humidity (%) vs. Latitude Linear Regression"
   ]
  },
  {
   "cell_type": "code",
   "execution_count": 22,
   "metadata": {},
   "outputs": [
    {
     "name": "stdout",
     "output_type": "stream",
     "text": [
      "The r-value is: 0.007527605035458448\n"
     ]
    },
    {
     "data": {
      "image/png": "[encoded data removed]",
      "text/plain": [
       "<Figure size 432x288 with 1 Axes>"
      ]
     },
     "metadata": {
      "needs_background": "light"
     },
     "output_type": "display_data"
    }
   ],
   "source": [
    "# Update the x and y values\n",
    "x_values = southern_hemisphere[\"Lat\"]\n",
    "y_values = southern_hemisphere[\"Humidity %\"]\n",
    "\n",
    "# Generate the scatter plot and regression line\n",
    "plt.scatter(x_values,y_values)\n",
    "\n",
    "# Set up linear regression equation\n",
    "(slope, intercept, rvalue, pvalue, stderr) = linregress(x_values, y_values)\n",
    "# Get regression values\n",
    "regress_values = x_values * slope + intercept\n",
    "#print(regress_values)\n",
    "\n",
    "# Generate regression values\n",
    "plt.plot(x_values,regress_values,\"r-\")\n",
    "\n",
    "# Label plot and annotate the line equation\n",
    "plt.title(\"Southern Latitude v Humidity % (Feb 12, 2021)\")\n",
    "plt.xlabel(\"Latitude\")\n",
    "plt.ylabel(\"Humidity %\")\n",
    "# Update the coordinates here to make sure the chart displays properly\n",
    "plt.annotate(line_eq,(-32,50), fontsize=15, color=\"red\")\n",
    "\n",
    "# Print r value\n",
    "print(f\"The r-value is: {rvalue**2}\")\n",
    "\n",
    "# Save the plotted figure as .pngs\n",
    "plt.savefig(\"Images/Southern Latitude v Humidity %.png\")\n",
    "\n",
    "# Show plot\n",
    "plt.show()"
   ]
  },
  {
   "cell_type": "markdown",
   "metadata": {},
   "source": [
    "### This above plot for the southern hemisphere shows the relationship between the change in latitude and how that potentially correlates to the percent humidity value recorded. It also shows a regression line to further display any correlation.\n",
    "While there is a stronger correlation between the latitude and humidity in the southern hemisphere data gathered, the low r value and slope of the regression line indicate that this is still a weak correlation."
   ]
  },
  {
   "cell_type": "markdown",
   "metadata": {},
   "source": [
    "####  Northern Hemisphere - Cloudiness (%) vs. Latitude Linear Regression"
   ]
  },
  {
   "cell_type": "code",
   "execution_count": 23,
   "metadata": {},
   "outputs": [
    {
     "name": "stdout",
     "output_type": "stream",
     "text": [
      "The r-value is: 0.008293120333981571\n"
     ]
    },
    {
     "data": {
      "image/png": "[encoded data removed]",
      "text/plain": [
       "<Figure size 432x288 with 1 Axes>"
      ]
     },
     "metadata": {
      "needs_background": "light"
     },
     "output_type": "display_data"
    }
   ],
   "source": [
    "# Update the x and y values\n",
    "x_values = northern_hemisphere[\"Lat\"]\n",
    "y_values = northern_hemisphere[\"Cloud\"]\n",
    "\n",
    "# Generate the scatter plot and regression line\n",
    "plt.scatter(x_values,y_values)\n",
    "\n",
    "# Set up linear regression equation\n",
    "(slope, intercept, rvalue, pvalue, stderr) = linregress(x_values, y_values)\n",
    "# Get regression values\n",
    "regress_values = x_values * slope + intercept\n",
    "#print(regress_values)\n",
    "\n",
    "# Generate regression values\n",
    "plt.plot(x_values,regress_values,\"r-\")\n",
    "\n",
    "# Label plot and annotate the line equation\n",
    "plt.title(\"Northern Latitude v Cloudiness (Feb 12, 2021)\")\n",
    "plt.xlabel(\"Latitude\")\n",
    "plt.ylabel(\"Cloudiness\")\n",
    "# Update the coordinates here to make sure the chart displays properly\n",
    "plt.annotate(line_eq,(35,15), fontsize=15, color=\"red\")\n",
    "\n",
    "# Print r value\n",
    "print(f\"The r-value is: {rvalue**2}\")\n",
    "\n",
    "# Save the plotted figure as .pngs\n",
    "plt.savefig(\"Images/Northern Latitude v Cloudiness.png\")\n",
    "\n",
    "# Show plot\n",
    "plt.show()"
   ]
  },
  {
   "cell_type": "markdown",
   "metadata": {},
   "source": [
    "### This above plot for the northern hemisphere shows the relationship between the change in latitude and how that potentially correlates to the cloudiness value recorded. It also shows a regression line to further display any correlation.\n",
    "There is a positive correlation displayed here, however it is a weak correlation. Leading to the conclusion that the cloudiness and latitude values do not necessarily effect one another."
   ]
  },
  {
   "cell_type": "markdown",
   "metadata": {},
   "source": [
    "####  Southern Hemisphere - Cloudiness (%) vs. Latitude Linear Regression"
   ]
  },
  {
   "cell_type": "code",
   "execution_count": 24,
   "metadata": {},
   "outputs": [
    {
     "name": "stdout",
     "output_type": "stream",
     "text": [
      "The r-value is: 0.006671856220479146\n"
     ]
    },
    {
     "data": {
      "image/png": "[encoded data removed]",
      "text/plain": [
       "<Figure size 432x288 with 1 Axes>"
      ]
     },
     "metadata": {
      "needs_background": "light"
     },
     "output_type": "display_data"
    }
   ],
   "source": [
    "# Update the x and y values\n",
    "x_values = southern_hemisphere[\"Lat\"]\n",
    "y_values = southern_hemisphere[\"Cloud\"]\n",
    "\n",
    "# Generate the scatter plot and regression line\n",
    "plt.scatter(x_values,y_values)\n",
    "\n",
    "# Set up linear regression equation\n",
    "(slope, intercept, rvalue, pvalue, stderr) = linregress(x_values, y_values)\n",
    "# Get regression values\n",
    "regress_values = x_values * slope + intercept\n",
    "#print(regress_values)\n",
    "\n",
    "# Generate regression values\n",
    "plt.plot(x_values,regress_values,\"r-\")\n",
    "\n",
    "# Label plot and annotate the line equation\n",
    "plt.title(\"Southern Latitude v Cloudiness (Feb 12, 2021)\")\n",
    "plt.xlabel(\"Latitude\")\n",
    "plt.ylabel(\"Cloudiness\")\n",
    "# Update the coordinates here to make sure the chart displays properly\n",
    "plt.annotate(line_eq,(-32,20), fontsize=15, color=\"red\")\n",
    "\n",
    "# Print r value\n",
    "print(f\"The r-value is: {rvalue**2}\")\n",
    "\n",
    "# Save the plotted figure as .pngs\n",
    "plt.savefig(\"Images/Southern Latitude v Cloudiness.png\")\n",
    "\n",
    "# Show plot\n",
    "plt.show()"
   ]
  },
  {
   "cell_type": "markdown",
   "metadata": {},
   "source": [
    "### This above plot for the southern hemisphere shows the relationship between the change in latitude and how that potentially correlates to the temperature value recorded. It also shows a regression line to further display any correlation.\n",
    "There is a negative correlation displayed here, however it is a weak correlation. Leading to the conclusion that the cloudiness and latitude values do not necessarily effect one another."
   ]
  },
  {
   "cell_type": "markdown",
   "metadata": {},
   "source": [
    "####  Northern Hemisphere - Wind Speed (mph) vs. Latitude Linear Regression"
   ]
  },
  {
   "cell_type": "code",
   "execution_count": 25,
   "metadata": {},
   "outputs": [
    {
     "name": "stdout",
     "output_type": "stream",
     "text": [
      "The r-value is: 0.015685853183676633\n"
     ]
    },
    {
     "data": {
      "image/png": "[encoded data removed]",
      "text/plain": [
       "<Figure size 432x288 with 1 Axes>"
      ]
     },
     "metadata": {
      "needs_background": "light"
     },
     "output_type": "display_data"
    }
   ],
   "source": [
    "# Update the x and y values\n",
    "x_values = northern_hemisphere[\"Lat\"]\n",
    "y_values = northern_hemisphere[\"Wind Speed\"]\n",
    "\n",
    "# Generate the scatter plot and regression line\n",
    "plt.scatter(x_values,y_values)\n",
    "\n",
    "# Set up linear regression equation\n",
    "(slope, intercept, rvalue, pvalue, stderr) = linregress(x_values, y_values)\n",
    "# Get regression values\n",
    "regress_values = x_values * slope + intercept\n",
    "#print(regress_values)\n",
    "\n",
    "# Generate regression values\n",
    "plt.plot(x_values,regress_values,\"r-\")\n",
    "\n",
    "# Label plot and annotate the line equation\n",
    "plt.title(\"Northern Latitude v Wind Speed (Feb 12, 2021)\")\n",
    "plt.xlabel(\"Latitude\")\n",
    "plt.ylabel(\"Wind Speed\")\n",
    "# Update the coordinates here to make sure the chart displays properly\n",
    "plt.annotate(line_eq,(35,2), fontsize=15, color=\"red\")\n",
    "\n",
    "# Print r value\n",
    "print(f\"The r-value is: {rvalue**2}\")\n",
    "\n",
    "# Save the plotted figure as .pngs\n",
    "plt.savefig(\"Images/Northern Latitude v Wind Speed.png\")\n",
    "\n",
    "# Show plot\n",
    "plt.show()"
   ]
  },
  {
   "cell_type": "markdown",
   "metadata": {},
   "source": [
    "### This above plot for the northern hemisphere shows the relationship between the change in latitude and how that potentially correlates to the wind speed value recorded. It also shows a regression line to further display any correlation.\n",
    "The chart and regression line show that in the northern hemisphere there is a weak, yet slightly positive correlation between the wind speed recorded and the latitude. The r value being very close to 0 is also telling that this correlation is very minimal."
   ]
  },
  {
   "cell_type": "markdown",
   "metadata": {},
   "source": [
    "####  Southern Hemisphere - Wind Speed (mph) vs. Latitude Linear Regression"
   ]
  },
  {
   "cell_type": "code",
   "execution_count": 27,
   "metadata": {},
   "outputs": [
    {
     "name": "stdout",
     "output_type": "stream",
     "text": [
      "The r-value is: 0.0004530674509430032\n"
     ]
    },
    {
     "data": {
      "image/png": "[encoded data removed]",
      "text/plain": [
       "<Figure size 432x288 with 1 Axes>"
      ]
     },
     "metadata": {
      "needs_background": "light"
     },
     "output_type": "display_data"
    }
   ],
   "source": [
    "# Update the x and y values\n",
    "x_values = southern_hemisphere[\"Lat\"]\n",
    "y_values = southern_hemisphere[\"Wind Speed\"]\n",
    "\n",
    "# Generate the scatter plot and regression line\n",
    "plt.scatter(x_values,y_values)\n",
    "\n",
    "# Set up linear regression equation\n",
    "(slope, intercept, rvalue, pvalue, stderr) = linregress(x_values, y_values)\n",
    "# Get regression values\n",
    "regress_values = x_values * slope + intercept\n",
    "#print(regress_values)\n",
    "\n",
    "# Generate regression values\n",
    "plt.plot(x_values,regress_values,\"r-\")\n",
    "\n",
    "# Label plot and annotate the line equation\n",
    "plt.title(\"Southern Latitude v Wind Speed (Feb 12, 2021)\")\n",
    "plt.xlabel(\"Latitude\")\n",
    "plt.ylabel(\"Wind Speed\")\n",
    "# Update the coordinates here to make sure the chart displays properly\n",
    "plt.annotate(line_eq,(-50, 8), fontsize=15, color=\"red\")\n",
    "\n",
    "# Print r value\n",
    "print(f\"The r-value is: {rvalue**2}\")\n",
    "\n",
    "# Save the plotted figure as .pngs\n",
    "plt.savefig(\"Images/Southern Latitude v Wind Speed.png\")\n",
    "\n",
    "# Show plot\n",
    "plt.show()"
   ]
  },
  {
   "cell_type": "markdown",
   "metadata": {},
   "source": [
    "### This above plot for the southern hemisphere shows the relationship between the change in latitude and how that potentially correlates to the temperature value recorded. It also shows a regression line to further display any correlation.\n",
    "The chart and regression line show that in the southern hemisphere there is a weak, yet slightly negative correlation between the wind speed recorded and the latitude. The r value being very close to 0 is also telling that this correlation is very minimal."
   ]
  },
  {
   "cell_type": "code",
   "execution_count": null,
   "metadata": {},
   "outputs": [],
   "source": []
  }
 ],
 "metadata": {
  "anaconda-cloud": {},
  "kernel_info": {
   "name": "python3"
  },
  "kernelspec": {
   "display_name": "Python 3",
   "language": "python",
   "name": "python3"
  },
  "language_info": {
   "codemirror_mode": {
    "name": "ipython",
    "version": 3
   },
   "file_extension": ".py",
   "mimetype": "text/x-python",
   "name": "python",
   "nbconvert_exporter": "python",
   "pygments_lexer": "ipython3",
   "version": "3.6.10"
  },
  "latex_envs": {
   "LaTeX_envs_menu_present": true,
   "autoclose": false,
   "autocomplete": true,
   "bibliofile": "biblio.bib",
   "cite_by": "apalike",
   "current_citInitial": 1,
   "eqLabelWithNumbers": true,
   "eqNumInitial": 1,
   "hotkeys": {
    "equation": "Ctrl-E",
    "itemize": "Ctrl-I"
   },
   "labels_anchors": false,
   "latex_user_defs": false,
   "report_style_numbering": false,
   "user_envs_cfg": false
  },
  "nteract": {
   "version": "0.12.3"
  }
 },
 "nbformat": 4,
 "nbformat_minor": 2
}
