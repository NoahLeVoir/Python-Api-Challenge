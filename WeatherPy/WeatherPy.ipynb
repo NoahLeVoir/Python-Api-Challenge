{
 "cells": [
  {
   "cell_type": "markdown",
   "metadata": {},
   "source": [
    "# WeatherPy\n",
    "----\n",
    "\n",
    "#### Note\n",
    "* Instructions have been included for each segment. You do not have to follow them exactly, but they are included to help you think through the steps."
   ]
  },
  {
   "cell_type": "code",
   "execution_count": 1,
   "metadata": {},
   "outputs": [],
   "source": [
    "# Dependencies and Setup\n",
    "import matplotlib.pyplot as plt\n",
    "import pandas as pd\n",
    "import numpy as np\n",
    "import requests\n",
    "import json\n",
    "import time\n",
    "from scipy.stats import linregress\n",
    "\n",
    "# Import API key\n",
    "from config import weather_api_key"
   ]
  },
  {
   "cell_type": "code",
   "execution_count": 2,
   "metadata": {
    "scrolled": true
   },
   "outputs": [],
   "source": [
    "# Incorporated citipy to determine city based on latitude and longitude\n",
    "from citipy import citipy\n",
    "\n",
    "# Output File (CSV)\n",
    "# output_data_file = \"output_data/cities.csv\"\n",
    "\n",
    "# Range of latitudes and longitudes\n",
    "lat_range = (-90, 90)\n",
    "lng_range = (-180, 180)"
   ]
  },
  {
   "cell_type": "markdown",
   "metadata": {},
   "source": [
    "## Generate Cities List"
   ]
  },
  {
   "cell_type": "code",
   "execution_count": 3,
   "metadata": {},
   "outputs": [
    {
     "name": "stdout",
     "output_type": "stream",
     "text": [
      "41\n",
      "['castro', 'luorong', 'avarua', 'santa ines', 'jamestown', 'albany', 'fairbanks', 'bredasdorp', 'port alfred', 'banda aceh', 'chapleau', 'flin flon', 'barrow', 'cape town', 'ushuaia', 'mackay', 'punta arenas', 'touros', 'rikitea', 'dikson', 'tsihombe', 'la ronge', 'saint-philippe', 'kodiak', 'cabo san lucas', 'taolanaro', 'shubarkuduk', 'busselton', 'hobart', 'belushya guba', 'qaqortoq', 'nikolskoye', 'bambous virieux', 'kununurra', 'quatre cocos', 'saskylakh', 'baley', 'kieta', 'tuktoyaktuk', 'yumen', 'kapaa']\n"
     ]
    }
   ],
   "source": [
    "# List for holding lat_lngs and cities\n",
    "lat_lngs = []\n",
    "cities = []\n",
    "\n",
    "# Create a set of random lat and lng combinations\n",
    "# Returning size of random selection back to original for hw submission\n",
    "lats = np.random.uniform(lat_range[0], lat_range[1], size=50)\n",
    "lngs = np.random.uniform(lng_range[0], lng_range[1], size=50)\n",
    "lat_lngs = zip(lats, lngs)\n",
    "\n",
    "# Identify nearest city for each lat, lng combination\n",
    "for lat_lng in lat_lngs:\n",
    "    city = citipy.nearest_city(lat_lng[0], lat_lng[1]).city_name\n",
    "    \n",
    "    # If the city is unique, then add it to a our cities list\n",
    "    if city not in cities:\n",
    "        cities.append(city)\n",
    "\n",
    "# Print the city count to confirm sufficient count\n",
    "print(len(cities))\n",
    "print(cities)"
   ]
  },
  {
   "cell_type": "markdown",
   "metadata": {},
   "source": [
    "### Perform API Calls\n",
    "* Perform a weather check on each city using a series of successive API calls.\n",
    "* Include a print log of each city as it'sbeing processed (with the city number and city name).\n"
   ]
  },
  {
   "cell_type": "code",
   "execution_count": 4,
   "metadata": {
    "scrolled": true
   },
   "outputs": [],
   "source": [
    "# Create the base url and query url that will be used for the API call\n",
    "base_url = \"http://api.openweathermap.org/data/2.5/weather?q=\"\n",
    "# Defult is kelvin, so I need to update units to read fahrenheit\n",
    "units = \"imperial\"\n",
    "query_url = base_url + city + \"&appid=\" + weather_api_key + \"&units=\" + units"
   ]
  },
  {
   "cell_type": "code",
   "execution_count": 5,
   "metadata": {},
   "outputs": [
    {
     "name": "stdout",
     "output_type": "stream",
     "text": [
      "{\n",
      "    \"base\": \"stations\",\n",
      "    \"clouds\": {\n",
      "        \"all\": 39\n",
      "    },\n",
      "    \"cod\": 200,\n",
      "    \"coord\": {\n",
      "        \"lat\": -42.8794,\n",
      "        \"lon\": 147.3294\n",
      "    },\n",
      "    \"dt\": 1613149988,\n",
      "    \"id\": 2163355,\n",
      "    \"main\": {\n",
      "        \"feels_like\": 47.3,\n",
      "        \"humidity\": 63,\n",
      "        \"pressure\": 1003,\n",
      "        \"temp\": 57.52,\n",
      "        \"temp_max\": 59,\n",
      "        \"temp_min\": 55.99\n",
      "    },\n",
      "    \"name\": \"Hobart\",\n",
      "    \"sys\": {\n",
      "        \"country\": \"AU\",\n",
      "        \"id\": 9545,\n",
      "        \"sunrise\": 1613158140,\n",
      "        \"sunset\": 1613208061,\n",
      "        \"type\": 1\n",
      "    },\n",
      "    \"timezone\": 39600,\n",
      "    \"visibility\": 10000,\n",
      "    \"weather\": [\n",
      "        {\n",
      "            \"description\": \"scattered clouds\",\n",
      "            \"icon\": \"03n\",\n",
      "            \"id\": 802,\n",
      "            \"main\": \"Clouds\"\n",
      "        }\n",
      "    ],\n",
      "    \"wind\": {\n",
      "        \"deg\": 330,\n",
      "        \"speed\": 16.11\n",
      "    }\n",
      "}\n"
     ]
    }
   ],
   "source": [
    "# Perform a GET request\n",
    "response = requests.get(query_url)\n",
    "\n",
    "# Convert the response to a JSON\n",
    "weather_data = response.json()\n",
    "\n",
    "# To print in a more readable way, use json.dumps with indent and sort_keys\n",
    "print(json.dumps(weather_data, indent = 4, sort_keys = True))"
   ]
  },
  {
   "cell_type": "code",
   "execution_count": 6,
   "metadata": {},
   "outputs": [
    {
     "name": "stdout",
     "output_type": "stream",
     "text": [
      "Currently processing Hobart, ID Number:9545\n"
     ]
    }
   ],
   "source": [
    "# Print the city number and name while it is being processed\n",
    "city_num = weather_data[\"sys\"][\"id\"]\n",
    "city_name = weather_data[\"name\"]\n",
    "print(f\"Currently processing {city_name}, ID Number:{city_num}\")"
   ]
  },
  {
   "cell_type": "code",
   "execution_count": 7,
   "metadata": {},
   "outputs": [
    {
     "name": "stdout",
     "output_type": "stream",
     "text": [
      "Requesting weather information from 41 random cities around the world\n",
      "-----------------------------\n",
      "Unfortunately unable to pull data for castro, Skipping castro for now\n",
      "Unfortunately unable to pull data for luorong, Skipping luorong for now\n",
      "Currently processing avarua, ID Number:7271\n",
      "Unfortunately unable to pull data for santa ines, Skipping santa ines for now\n",
      "Currently processing jamestown, ID Number:4588\n",
      "Currently processing albany, ID Number:19530\n",
      "Currently processing fairbanks, ID Number:7684\n",
      "Currently processing bredasdorp, ID Number:1966\n",
      "Unfortunately unable to pull data for port alfred, Skipping port alfred for now\n",
      "Unfortunately unable to pull data for banda aceh, Skipping banda aceh for now\n",
      "Currently processing chapleau, ID Number:831\n",
      "Currently processing flin flon, ID Number:782\n",
      "Currently processing barrow, ID Number:7649\n",
      "Currently processing cape town, ID Number:1899\n",
      "Currently processing ushuaia, ID Number:8303\n",
      "Currently processing mackay, ID Number:9498\n",
      "Currently processing punta arenas, ID Number:8487\n",
      "Currently processing touros, ID Number:8452\n",
      "Unfortunately unable to pull data for rikitea, Skipping rikitea for now\n",
      "Unfortunately unable to pull data for dikson, Skipping dikson for now\n",
      "Unfortunately unable to pull data for tsihombe, Skipping tsihombe for now\n",
      "Currently processing la ronge, ID Number:696\n",
      "Currently processing saint-philippe, ID Number:2127\n",
      "Currently processing kodiak, ID Number:7668\n",
      "Currently processing cabo san lucas, ID Number:7151\n",
      "Unfortunately unable to pull data for taolanaro, Skipping taolanaro for now\n",
      "Unfortunately unable to pull data for shubarkuduk, Skipping shubarkuduk for now\n",
      "Currently processing busselton, ID Number:2020551\n",
      "Currently processing hobart, ID Number:9545\n",
      "Unfortunately unable to pull data for belushya guba, Skipping belushya guba for now\n",
      "Currently processing qaqortoq, ID Number:47\n",
      "Currently processing nikolskoye, ID Number:8926\n",
      "Currently processing bambous virieux, ID Number:2061\n",
      "Currently processing kununurra, ID Number:9587\n",
      "Currently processing quatre cocos, ID Number:2061\n",
      "Unfortunately unable to pull data for saskylakh, Skipping saskylakh for now\n",
      "Unfortunately unable to pull data for baley, Skipping baley for now\n",
      "Unfortunately unable to pull data for kieta, Skipping kieta for now\n",
      "Currently processing tuktoyaktuk, ID Number:942\n",
      "Unfortunately unable to pull data for yumen, Skipping yumen for now\n",
      "Currently processing kapaa, ID Number:7873\n",
      "-----------------------------\n",
      "Finished collecting weather information from 41 cities around the world\n"
     ]
    }
   ],
   "source": [
    "# Putting everything together into a for loop now to get API request to run the list of cities\n",
    "\n",
    "# Generate lists that will store the cities data as the loop runs\n",
    "# Lists developed based on what information the homework requests we gather\n",
    "city_name_list = []\n",
    "cloud_list = []\n",
    "country_list = []\n",
    "date_list = []\n",
    "humidity_list = []\n",
    "lat_list = []\n",
    "lng_list = []\n",
    "temp_list = []\n",
    "wind_list = []\n",
    "\n",
    "# Printing the log of cities as they are being requested per homework instructions\n",
    "print(f\"Requesting weather information from {len(cities)} random cities around the world\")\n",
    "print(\"-----------------------------\")\n",
    "\n",
    "\n",
    "# Set up loop to make an api call on each city in the list and store it's value before moving to the next\n",
    "for city in cities:    \n",
    "    \n",
    "    # Need try logic for cases where weather api does not have records for that city\n",
    "    try:\n",
    "        # Update the query url with a new city\n",
    "        query_url = base_url + city + \"&appid=\" + weather_api_key + \"&units=\" + units\n",
    "        # Perform a GET request\n",
    "        response = requests.get(query_url)\n",
    "        # Convert the response to a JSON\n",
    "        weather_data = response.json()\n",
    "        # print(json.dumps(weather_data, indent = 4, sort_keys = True))\n",
    "   \n",
    "        # Collect all weather information for that city\n",
    "        city_num = weather_data[\"sys\"][\"id\"]\n",
    "        city_name_list.append(weather_data[\"name\"])\n",
    "        cloud_list.append(weather_data[\"clouds\"][\"all\"])\n",
    "        country_list.append(weather_data[\"sys\"][\"country\"])\n",
    "        date_list.append(weather_data[\"dt\"])\n",
    "        humidity_list.append(weather_data[\"main\"][\"humidity\"])\n",
    "        lat_list.append(weather_data[\"coord\"][\"lat\"])\n",
    "        lng_list.append(weather_data[\"coord\"][\"lon\"])\n",
    "        temp_list.append(weather_data['main']['temp'])\n",
    "        wind_list.append(weather_data[\"wind\"][\"speed\"])\n",
    "    \n",
    "        # Print that the city is currently being processed per homework instructions\n",
    "        print(f\"Currently processing {city}, ID Number:{city_num}\")\n",
    "    \n",
    "    # If city data is not found then use this except command and continue to the next city\n",
    "    except(KeyError, IndexError):\n",
    "        print(f\"Unfortunately unable to pull data for {city}, Skipping {city} for now\")\n",
    "\n",
    "    # Adding in a one second sleep interval between queries to avoid exceeding the API query limits\n",
    "    time.sleep(1)\n",
    "        \n",
    "print(\"-----------------------------\")\n",
    "print(f\"Finished collecting weather information from {len(cities)} cities around the world\")\n",
    "    "
   ]
  },
  {
   "cell_type": "markdown",
   "metadata": {},
   "source": [
    "### Convert Raw Data to DataFrame\n",
    "* Export the city data into a .csv.\n",
    "* Display the DataFrame"
   ]
  },
  {
   "cell_type": "code",
   "execution_count": 8,
   "metadata": {},
   "outputs": [
    {
     "data": {
      "text/html": [
       "<div>\n",
       "<style scoped>\n",
       "    .dataframe tbody tr th:only-of-type {\n",
       "        vertical-align: middle;\n",
       "    }\n",
       "\n",
       "    .dataframe tbody tr th {\n",
       "        vertical-align: top;\n",
       "    }\n",
       "\n",
       "    .dataframe thead th {\n",
       "        text-align: right;\n",
       "    }\n",
       "</style>\n",
       "<table border=\"1\" class=\"dataframe\">\n",
       "  <thead>\n",
       "    <tr style=\"text-align: right;\">\n",
       "      <th></th>\n",
       "      <th>City</th>\n",
       "      <th>Country</th>\n",
       "      <th>Temperature (F)</th>\n",
       "      <th>Date</th>\n",
       "      <th>Humidity %</th>\n",
       "      <th>Cloud</th>\n",
       "      <th>Wind Speed</th>\n",
       "      <th>Lat</th>\n",
       "      <th>Lng</th>\n",
       "    </tr>\n",
       "  </thead>\n",
       "  <tbody>\n",
       "    <tr>\n",
       "      <th>0</th>\n",
       "      <td>Avarua</td>\n",
       "      <td>CK</td>\n",
       "      <td>73.40</td>\n",
       "      <td>1613150309</td>\n",
       "      <td>94</td>\n",
       "      <td>14</td>\n",
       "      <td>2.30</td>\n",
       "      <td>-21.2078</td>\n",
       "      <td>-159.7750</td>\n",
       "    </tr>\n",
       "    <tr>\n",
       "      <th>1</th>\n",
       "      <td>Jamestown</td>\n",
       "      <td>US</td>\n",
       "      <td>20.35</td>\n",
       "      <td>1613150051</td>\n",
       "      <td>58</td>\n",
       "      <td>90</td>\n",
       "      <td>8.05</td>\n",
       "      <td>42.0970</td>\n",
       "      <td>-79.2353</td>\n",
       "    </tr>\n",
       "    <tr>\n",
       "      <th>2</th>\n",
       "      <td>Albany</td>\n",
       "      <td>US</td>\n",
       "      <td>14.67</td>\n",
       "      <td>1613150313</td>\n",
       "      <td>36</td>\n",
       "      <td>72</td>\n",
       "      <td>4.97</td>\n",
       "      <td>42.6001</td>\n",
       "      <td>-73.9662</td>\n",
       "    </tr>\n",
       "    <tr>\n",
       "      <th>3</th>\n",
       "      <td>Fairbanks</td>\n",
       "      <td>US</td>\n",
       "      <td>-8.43</td>\n",
       "      <td>1613150132</td>\n",
       "      <td>77</td>\n",
       "      <td>1</td>\n",
       "      <td>1.54</td>\n",
       "      <td>64.8378</td>\n",
       "      <td>-147.7164</td>\n",
       "    </tr>\n",
       "    <tr>\n",
       "      <th>4</th>\n",
       "      <td>Bredasdorp</td>\n",
       "      <td>ZA</td>\n",
       "      <td>71.60</td>\n",
       "      <td>1613150315</td>\n",
       "      <td>73</td>\n",
       "      <td>58</td>\n",
       "      <td>10.36</td>\n",
       "      <td>-34.5322</td>\n",
       "      <td>20.0403</td>\n",
       "    </tr>\n",
       "  </tbody>\n",
       "</table>\n",
       "</div>"
      ],
      "text/plain": [
       "         City Country  Temperature (F)        Date  Humidity %  Cloud  \\\n",
       "0      Avarua      CK            73.40  1613150309          94     14   \n",
       "1   Jamestown      US            20.35  1613150051          58     90   \n",
       "2      Albany      US            14.67  1613150313          36     72   \n",
       "3   Fairbanks      US            -8.43  1613150132          77      1   \n",
       "4  Bredasdorp      ZA            71.60  1613150315          73     58   \n",
       "\n",
       "   Wind Speed      Lat       Lng  \n",
       "0        2.30 -21.2078 -159.7750  \n",
       "1        8.05  42.0970  -79.2353  \n",
       "2        4.97  42.6001  -73.9662  \n",
       "3        1.54  64.8378 -147.7164  \n",
       "4       10.36 -34.5322   20.0403  "
      ]
     },
     "execution_count": 8,
     "metadata": {},
     "output_type": "execute_result"
    }
   ],
   "source": [
    "# Use pandas function pd.DataFrame to create a dataframe from the list information generated above\n",
    "# I chose to re-arrange this order of the columns here to what I felt more logical\n",
    "cities_weather_df = pd.DataFrame({\"City\": city_name_list,\n",
    "                                  \"Country\": country_list,\n",
    "                                  \"Temperature (F)\": temp_list,\n",
    "                                  \"Date\": date_list,\n",
    "                                  \"Humidity %\": humidity_list,\n",
    "                                  \"Cloud\": cloud_list,\n",
    "                                  \"Wind Speed\": wind_list,\n",
    "                                  \"Lat\": lat_list,\n",
    "                                  \"Lng\":lng_list                                  \n",
    "                                })\n",
    "\n",
    "# Display the dataframe\n",
    "cities_weather_df.head()"
   ]
  },
  {
   "cell_type": "code",
   "execution_count": null,
   "metadata": {},
   "outputs": [],
   "source": [
    "# Save city data into a csv file\n",
    "# cities_weather_df.to_csv(output_data_file, index = False)"
   ]
  },
  {
   "cell_type": "markdown",
   "metadata": {},
   "source": [
    "## Inspect the data and remove the cities where the humidity > 100%.\n",
    "----\n",
    "Skip this step if there are no cities that have humidity > 100%. "
   ]
  },
  {
   "cell_type": "code",
   "execution_count": 11,
   "metadata": {},
   "outputs": [
    {
     "data": {
      "text/html": [
       "<div>\n",
       "<style scoped>\n",
       "    .dataframe tbody tr th:only-of-type {\n",
       "        vertical-align: middle;\n",
       "    }\n",
       "\n",
       "    .dataframe tbody tr th {\n",
       "        vertical-align: top;\n",
       "    }\n",
       "\n",
       "    .dataframe thead th {\n",
       "        text-align: right;\n",
       "    }\n",
       "</style>\n",
       "<table border=\"1\" class=\"dataframe\">\n",
       "  <thead>\n",
       "    <tr style=\"text-align: right;\">\n",
       "      <th></th>\n",
       "      <th>City</th>\n",
       "      <th>Country</th>\n",
       "      <th>Temperature (F)</th>\n",
       "      <th>Date</th>\n",
       "      <th>Humidity %</th>\n",
       "      <th>Cloud</th>\n",
       "      <th>Wind Speed</th>\n",
       "      <th>Lat</th>\n",
       "      <th>Lng</th>\n",
       "    </tr>\n",
       "  </thead>\n",
       "  <tbody>\n",
       "    <tr>\n",
       "      <th>0</th>\n",
       "      <td>Avarua</td>\n",
       "      <td>CK</td>\n",
       "      <td>73.40</td>\n",
       "      <td>1613150309</td>\n",
       "      <td>94</td>\n",
       "      <td>14</td>\n",
       "      <td>2.30</td>\n",
       "      <td>-21.2078</td>\n",
       "      <td>-159.7750</td>\n",
       "    </tr>\n",
       "    <tr>\n",
       "      <th>1</th>\n",
       "      <td>Jamestown</td>\n",
       "      <td>US</td>\n",
       "      <td>20.35</td>\n",
       "      <td>1613150051</td>\n",
       "      <td>58</td>\n",
       "      <td>90</td>\n",
       "      <td>8.05</td>\n",
       "      <td>42.0970</td>\n",
       "      <td>-79.2353</td>\n",
       "    </tr>\n",
       "    <tr>\n",
       "      <th>2</th>\n",
       "      <td>Albany</td>\n",
       "      <td>US</td>\n",
       "      <td>14.67</td>\n",
       "      <td>1613150313</td>\n",
       "      <td>36</td>\n",
       "      <td>72</td>\n",
       "      <td>4.97</td>\n",
       "      <td>42.6001</td>\n",
       "      <td>-73.9662</td>\n",
       "    </tr>\n",
       "    <tr>\n",
       "      <th>3</th>\n",
       "      <td>Fairbanks</td>\n",
       "      <td>US</td>\n",
       "      <td>-8.43</td>\n",
       "      <td>1613150132</td>\n",
       "      <td>77</td>\n",
       "      <td>1</td>\n",
       "      <td>1.54</td>\n",
       "      <td>64.8378</td>\n",
       "      <td>-147.7164</td>\n",
       "    </tr>\n",
       "    <tr>\n",
       "      <th>4</th>\n",
       "      <td>Bredasdorp</td>\n",
       "      <td>ZA</td>\n",
       "      <td>71.60</td>\n",
       "      <td>1613150315</td>\n",
       "      <td>73</td>\n",
       "      <td>58</td>\n",
       "      <td>10.36</td>\n",
       "      <td>-34.5322</td>\n",
       "      <td>20.0403</td>\n",
       "    </tr>\n",
       "  </tbody>\n",
       "</table>\n",
       "</div>"
      ],
      "text/plain": [
       "         City Country  Temperature (F)        Date  Humidity %  Cloud  \\\n",
       "0      Avarua      CK            73.40  1613150309          94     14   \n",
       "1   Jamestown      US            20.35  1613150051          58     90   \n",
       "2      Albany      US            14.67  1613150313          36     72   \n",
       "3   Fairbanks      US            -8.43  1613150132          77      1   \n",
       "4  Bredasdorp      ZA            71.60  1613150315          73     58   \n",
       "\n",
       "   Wind Speed      Lat       Lng  \n",
       "0        2.30 -21.2078 -159.7750  \n",
       "1        8.05  42.0970  -79.2353  \n",
       "2        4.97  42.6001  -73.9662  \n",
       "3        1.54  64.8378 -147.7164  \n",
       "4       10.36 -34.5322   20.0403  "
      ]
     },
     "execution_count": 11,
     "metadata": {},
     "output_type": "execute_result"
    }
   ],
   "source": [
    "# Running this cell anyway just to be sure\n",
    "cleaned_data_df = cities_weather_df[cities_weather_df[\"Humidity %\"] < 100]\n",
    "cleaned_data_df.head()"
   ]
  },
  {
   "cell_type": "code",
   "execution_count": 12,
   "metadata": {},
   "outputs": [
    {
     "data": {
      "text/plain": [
       "Int64Index([], dtype='int64')"
      ]
     },
     "execution_count": 12,
     "metadata": {},
     "output_type": "execute_result"
    }
   ],
   "source": [
    "#  Get the indices of cities that have humidity over 100%.\n",
    "high_humidity_df = cities_weather_df[cities_weather_df[\"Humidity %\"] > 100]\n",
    "\n",
    "high_humidity_df\n",
    "\n",
    "high_humidity_index = high_humidity_df.index\n",
    "high_humidity_index"
   ]
  },
  {
   "cell_type": "code",
   "execution_count": 13,
   "metadata": {},
   "outputs": [
    {
     "data": {
      "text/html": [
       "<div>\n",
       "<style scoped>\n",
       "    .dataframe tbody tr th:only-of-type {\n",
       "        vertical-align: middle;\n",
       "    }\n",
       "\n",
       "    .dataframe tbody tr th {\n",
       "        vertical-align: top;\n",
       "    }\n",
       "\n",
       "    .dataframe thead th {\n",
       "        text-align: right;\n",
       "    }\n",
       "</style>\n",
       "<table border=\"1\" class=\"dataframe\">\n",
       "  <thead>\n",
       "    <tr style=\"text-align: right;\">\n",
       "      <th></th>\n",
       "      <th>City</th>\n",
       "      <th>Country</th>\n",
       "      <th>Temperature (F)</th>\n",
       "      <th>Date</th>\n",
       "      <th>Humidity %</th>\n",
       "      <th>Cloud</th>\n",
       "      <th>Wind Speed</th>\n",
       "      <th>Lat</th>\n",
       "      <th>Lng</th>\n",
       "    </tr>\n",
       "  </thead>\n",
       "  <tbody>\n",
       "    <tr>\n",
       "      <th>0</th>\n",
       "      <td>Avarua</td>\n",
       "      <td>CK</td>\n",
       "      <td>73.40</td>\n",
       "      <td>1613150309</td>\n",
       "      <td>94</td>\n",
       "      <td>14</td>\n",
       "      <td>2.30</td>\n",
       "      <td>-21.2078</td>\n",
       "      <td>-159.7750</td>\n",
       "    </tr>\n",
       "    <tr>\n",
       "      <th>1</th>\n",
       "      <td>Jamestown</td>\n",
       "      <td>US</td>\n",
       "      <td>20.35</td>\n",
       "      <td>1613150051</td>\n",
       "      <td>58</td>\n",
       "      <td>90</td>\n",
       "      <td>8.05</td>\n",
       "      <td>42.0970</td>\n",
       "      <td>-79.2353</td>\n",
       "    </tr>\n",
       "    <tr>\n",
       "      <th>2</th>\n",
       "      <td>Albany</td>\n",
       "      <td>US</td>\n",
       "      <td>14.67</td>\n",
       "      <td>1613150313</td>\n",
       "      <td>36</td>\n",
       "      <td>72</td>\n",
       "      <td>4.97</td>\n",
       "      <td>42.6001</td>\n",
       "      <td>-73.9662</td>\n",
       "    </tr>\n",
       "    <tr>\n",
       "      <th>3</th>\n",
       "      <td>Fairbanks</td>\n",
       "      <td>US</td>\n",
       "      <td>-8.43</td>\n",
       "      <td>1613150132</td>\n",
       "      <td>77</td>\n",
       "      <td>1</td>\n",
       "      <td>1.54</td>\n",
       "      <td>64.8378</td>\n",
       "      <td>-147.7164</td>\n",
       "    </tr>\n",
       "    <tr>\n",
       "      <th>4</th>\n",
       "      <td>Bredasdorp</td>\n",
       "      <td>ZA</td>\n",
       "      <td>71.60</td>\n",
       "      <td>1613150315</td>\n",
       "      <td>73</td>\n",
       "      <td>58</td>\n",
       "      <td>10.36</td>\n",
       "      <td>-34.5322</td>\n",
       "      <td>20.0403</td>\n",
       "    </tr>\n",
       "  </tbody>\n",
       "</table>\n",
       "</div>"
      ],
      "text/plain": [
       "         City Country  Temperature (F)        Date  Humidity %  Cloud  \\\n",
       "0      Avarua      CK            73.40  1613150309          94     14   \n",
       "1   Jamestown      US            20.35  1613150051          58     90   \n",
       "2      Albany      US            14.67  1613150313          36     72   \n",
       "3   Fairbanks      US            -8.43  1613150132          77      1   \n",
       "4  Bredasdorp      ZA            71.60  1613150315          73     58   \n",
       "\n",
       "   Wind Speed      Lat       Lng  \n",
       "0        2.30 -21.2078 -159.7750  \n",
       "1        8.05  42.0970  -79.2353  \n",
       "2        4.97  42.6001  -73.9662  \n",
       "3        1.54  64.8378 -147.7164  \n",
       "4       10.36 -34.5322   20.0403  "
      ]
     },
     "execution_count": 13,
     "metadata": {},
     "output_type": "execute_result"
    }
   ],
   "source": [
    "# Make a new DataFrame equal to the city data to drop all humidity outliers by index.\n",
    "# The step above created this cleaned dataframe, here it is displayed again\n",
    "cleaned_data_df.head()"
   ]
  },
  {
   "cell_type": "markdown",
   "metadata": {},
   "source": [
    "## Plotting the Data\n",
    "* Use proper labeling of the plots using plot titles (including date of analysis) and axes labels.\n",
    "* Save the plotted figures as .pngs."
   ]
  },
  {
   "cell_type": "markdown",
   "metadata": {},
   "source": [
    "## Latitude vs. Temperature Plot"
   ]
  },
  {
   "cell_type": "code",
   "execution_count": 15,
   "metadata": {
    "scrolled": true
   },
   "outputs": [
    {
     "data": {
      "image/png": "[encoded data removed]",
      "text/plain": [
       "<Figure size 432x288 with 1 Axes>"
      ]
     },
     "metadata": {
      "needs_background": "light"
     },
     "output_type": "display_data"
    }
   ],
   "source": [
    "# I KNOW THE TEMP VALUES ARE ODD AND PROBABLY NEED TO BE UPDATED\n",
    "# BUT THAT IS THE VALUE IN THE JSON SO I WILL LEAVE IT FOR NOW\n",
    "\n",
    "# Create Latitude vs. Temperature scatter plot\n",
    "plt.scatter(cleaned_data_df[\"Lat\"], cleaned_data_df[\"Temperature (F)\"])\n",
    "\n",
    "# Set the title and x and y labels of the plot\n",
    "plt.title(\"Latitude vs. Temperature (F)\")\n",
    "plt.xlabel(\"Latitude\")\n",
    "plt.ylabel(\"Temperature (F)\")\n",
    "\n",
    "# Best practice to use plt.show()\n",
    "plt.show()"
   ]
  },
  {
   "cell_type": "markdown",
   "metadata": {},
   "source": [
    "### This above plot shows the relationship between the change in latitude and how that potentially correlates to the temperature value recorded.\n",
    "The data seems to suggest that that the temperature seems to increase as it gets closer to 0 and decrease at varrying rates the further it gets from 0. This relationship supports the initial hypothesis that it gets warmer the closer you are to the equator."
   ]
  },
  {
   "cell_type": "markdown",
   "metadata": {},
   "source": [
    "## Latitude vs. Humidity Plot"
   ]
  },
  {
   "cell_type": "code",
   "execution_count": 16,
   "metadata": {},
   "outputs": [
    {
     "data": {
      "image/png": "[encoded data removed]",
      "text/plain": [
       "<Figure size 432x288 with 1 Axes>"
      ]
     },
     "metadata": {
      "needs_background": "light"
     },
     "output_type": "display_data"
    }
   ],
   "source": [
    "# Create Latitude vs. Humidity scatter plot\n",
    "plt.scatter(cleaned_data_df[\"Lat\"], cleaned_data_df[\"Humidity %\"])\n",
    "\n",
    "# Set the title and x and y labels of the plot\n",
    "plt.title(\"Latitude vs. Humidity %\")\n",
    "plt.xlabel(\"Latitude\")\n",
    "plt.ylabel(\"Humidity %\")\n",
    "\n",
    "# Best practice to use plt.show()\n",
    "plt.show()"
   ]
  },
  {
   "cell_type": "markdown",
   "metadata": {},
   "source": [
    "### This above plot shows the relationship between the change in latitude and how that potentially correlates to the percent humidity value recorded.\n",
    "The data does not show a true correlation between the latitude and the percent humidity. While we do see the humidity values to trend lower at more extreme latitudes (-50, 50) the data is too dispersed in this chart to accurately say there is a strong correlation between the two"
   ]
  },
  {
   "cell_type": "markdown",
   "metadata": {},
   "source": [
    "## Latitude vs. Cloudiness Plot"
   ]
  },
  {
   "cell_type": "code",
   "execution_count": 17,
   "metadata": {},
   "outputs": [
    {
     "data": {
      "image/png": "[encoded data removed]",
      "text/plain": [
       "<Figure size 432x288 with 1 Axes>"
      ]
     },
     "metadata": {
      "needs_background": "light"
     },
     "output_type": "display_data"
    }
   ],
   "source": [
    "# Create Latitude vs. Cloudiness scatter plot\n",
    "plt.scatter(cleaned_data_df[\"Lat\"], cleaned_data_df[\"Cloud\"])\n",
    "\n",
    "# Set the title and x and y labels of the plot\n",
    "plt.title(\"Latitude vs. Cloudiness\")\n",
    "plt.xlabel(\"Latitude\")\n",
    "plt.ylabel(\"Cloudiness\")\n",
    "\n",
    "# Best practice to use plt.show()\n",
    "plt.show()"
   ]
  },
  {
   "cell_type": "markdown",
   "metadata": {},
   "source": [
    "### This above plot shows the relationship between the change in latitude and how that potentially correlates to the Cloudiness value recorded.\n",
    "The data seems to suggest that that there is little to no discernable coorilation between the level of cloudiness and the latitude, as the points are dispersed across the chart"
   ]
  },
  {
   "cell_type": "markdown",
   "metadata": {},
   "source": [
    "## Latitude vs. Wind Speed Plot"
   ]
  },
  {
   "cell_type": "code",
   "execution_count": 18,
   "metadata": {},
   "outputs": [
    {
     "data": {
      "image/png": "[encoded data removed]",
      "text/plain": [
       "<Figure size 432x288 with 1 Axes>"
      ]
     },
     "metadata": {
      "needs_background": "light"
     },
     "output_type": "display_data"
    }
   ],
   "source": [
    "# Create Latitude vs. Wind Speed scatter plot\n",
    "plt.scatter(cleaned_data_df[\"Lat\"], cleaned_data_df[\"Wind Speed\"])\n",
    "\n",
    "# Set the title and x and y labels of the plot\n",
    "plt.title(\"Latitude vs. Wind Speed\")\n",
    "plt.xlabel(\"Latitude\")\n",
    "plt.ylabel(\"Wind Speed\")\n",
    "\n",
    "# Best practice to use plt.show()\n",
    "plt.show()"
   ]
  },
  {
   "cell_type": "markdown",
   "metadata": {},
   "source": [
    "### This above plot shows the relationship between the change in latitude and how that potentially correlates to the wind speed value recorded.\n",
    "This chart again depicts little correlation between latitude and wind speed as the data is spread across the whole chart, not being effected by the latitude value it is tied to."
   ]
  },
  {
   "cell_type": "markdown",
   "metadata": {},
   "source": [
    "## Linear Regression"
   ]
  },
  {
   "cell_type": "code",
   "execution_count": 19,
   "metadata": {},
   "outputs": [
    {
     "data": {
      "text/html": [
       "<div>\n",
       "<style scoped>\n",
       "    .dataframe tbody tr th:only-of-type {\n",
       "        vertical-align: middle;\n",
       "    }\n",
       "\n",
       "    .dataframe tbody tr th {\n",
       "        vertical-align: top;\n",
       "    }\n",
       "\n",
       "    .dataframe thead th {\n",
       "        text-align: right;\n",
       "    }\n",
       "</style>\n",
       "<table border=\"1\" class=\"dataframe\">\n",
       "  <thead>\n",
       "    <tr style=\"text-align: right;\">\n",
       "      <th></th>\n",
       "      <th>City</th>\n",
       "      <th>Country</th>\n",
       "      <th>Temperature (F)</th>\n",
       "      <th>Date</th>\n",
       "      <th>Humidity %</th>\n",
       "      <th>Cloud</th>\n",
       "      <th>Wind Speed</th>\n",
       "      <th>Lat</th>\n",
       "      <th>Lng</th>\n",
       "    </tr>\n",
       "  </thead>\n",
       "  <tbody>\n",
       "    <tr>\n",
       "      <th>1</th>\n",
       "      <td>Jamestown</td>\n",
       "      <td>US</td>\n",
       "      <td>20.35</td>\n",
       "      <td>1613150051</td>\n",
       "      <td>58</td>\n",
       "      <td>90</td>\n",
       "      <td>8.05</td>\n",
       "      <td>42.0970</td>\n",
       "      <td>-79.2353</td>\n",
       "    </tr>\n",
       "    <tr>\n",
       "      <th>2</th>\n",
       "      <td>Albany</td>\n",
       "      <td>US</td>\n",
       "      <td>14.67</td>\n",
       "      <td>1613150313</td>\n",
       "      <td>36</td>\n",
       "      <td>72</td>\n",
       "      <td>4.97</td>\n",
       "      <td>42.6001</td>\n",
       "      <td>-73.9662</td>\n",
       "    </tr>\n",
       "    <tr>\n",
       "      <th>3</th>\n",
       "      <td>Fairbanks</td>\n",
       "      <td>US</td>\n",
       "      <td>-8.43</td>\n",
       "      <td>1613150132</td>\n",
       "      <td>77</td>\n",
       "      <td>1</td>\n",
       "      <td>1.54</td>\n",
       "      <td>64.8378</td>\n",
       "      <td>-147.7164</td>\n",
       "    </tr>\n",
       "    <tr>\n",
       "      <th>5</th>\n",
       "      <td>Chapleau</td>\n",
       "      <td>CA</td>\n",
       "      <td>-4.00</td>\n",
       "      <td>1613150319</td>\n",
       "      <td>59</td>\n",
       "      <td>75</td>\n",
       "      <td>5.75</td>\n",
       "      <td>47.8405</td>\n",
       "      <td>-83.4034</td>\n",
       "    </tr>\n",
       "    <tr>\n",
       "      <th>6</th>\n",
       "      <td>Flin Flon</td>\n",
       "      <td>CA</td>\n",
       "      <td>-29.20</td>\n",
       "      <td>1613150106</td>\n",
       "      <td>68</td>\n",
       "      <td>1</td>\n",
       "      <td>3.62</td>\n",
       "      <td>54.7682</td>\n",
       "      <td>-101.8650</td>\n",
       "    </tr>\n",
       "  </tbody>\n",
       "</table>\n",
       "</div>"
      ],
      "text/plain": [
       "        City Country  Temperature (F)        Date  Humidity %  Cloud  \\\n",
       "1  Jamestown      US            20.35  1613150051          58     90   \n",
       "2     Albany      US            14.67  1613150313          36     72   \n",
       "3  Fairbanks      US            -8.43  1613150132          77      1   \n",
       "5   Chapleau      CA            -4.00  1613150319          59     75   \n",
       "6  Flin Flon      CA           -29.20  1613150106          68      1   \n",
       "\n",
       "   Wind Speed      Lat       Lng  \n",
       "1        8.05  42.0970  -79.2353  \n",
       "2        4.97  42.6001  -73.9662  \n",
       "3        1.54  64.8378 -147.7164  \n",
       "5        5.75  47.8405  -83.4034  \n",
       "6        3.62  54.7682 -101.8650  "
      ]
     },
     "execution_count": 19,
     "metadata": {},
     "output_type": "execute_result"
    }
   ],
   "source": [
    "# Create Northern and Southern hemisphere dataframes based on homework instructions\n",
    "# Norther hemisphere is if lat >= 0 and Southern is if it is < 0\n",
    "northern_hemisphere = cleaned_data_df.loc[cleaned_data_df[\"Lat\"] >= 0]\n",
    "southern_hemisphere = cleaned_data_df.loc[cleaned_data_df[\"Lat\"] < 0]\n",
    "northern_hemisphere.head()"
   ]
  },
  {
   "cell_type": "code",
   "execution_count": 20,
   "metadata": {},
   "outputs": [
    {
     "name": "stdout",
     "output_type": "stream",
     "text": [
      "0     62.855426\n",
      "1     20.948671\n",
      "2     20.615627\n",
      "3      5.894629\n",
      "4     71.675964\n",
      "5     17.146567\n",
      "6     12.560541\n",
      "7      1.622979\n",
      "8     71.274537\n",
      "9     85.092920\n",
      "10    62.817164\n",
      "11    84.000647\n",
      "12    52.257793\n",
      "13    12.340829\n",
      "14    62.955187\n",
      "15    10.560158\n",
      "16    33.662799\n",
      "17    71.091962\n",
      "18    77.201675\n",
      "19     8.622730\n",
      "20     9.293452\n",
      "21    62.282810\n",
      "23    62.193442\n",
      "24     2.838712\n",
      "25    34.202779\n",
      "Name: Lat, dtype: float64\n",
      "y = -0.66x + 48.82\n"
     ]
    }
   ],
   "source": [
    "# Generate x and y values to start\n",
    "# These will be updated for each chart, but the rest of the setup will stay\n",
    "x_values = cleaned_data_df[\"Lat\"]\n",
    "y_values = cleaned_data_df[\"Temperature (F)\"]\n",
    "\n",
    "# Set up linear regression equation\n",
    "(slope, intercept, rvalue, pvalue, stderr) = linregress(x_values, y_values)\n",
    "\n",
    "# Get regression values\n",
    "regress_values = x_values * slope + intercept\n",
    "print(regress_values)\n",
    "\n",
    "# Create a line equation using the linregress values generated above\n",
    "line_eq = \"y = \" + str(round(slope,2)) + \"x + \" + str(round(intercept,2))\n",
    "print(line_eq)"
   ]
  },
  {
   "cell_type": "markdown",
   "metadata": {},
   "source": [
    "####  Northern Hemisphere - Max Temp vs. Latitude Linear Regression"
   ]
  },
  {
   "cell_type": "code",
   "execution_count": 23,
   "metadata": {},
   "outputs": [
    {
     "name": "stdout",
     "output_type": "stream",
     "text": [
      "The r-value is: 0.481695269068983\n"
     ]
    },
    {
     "data": {
      "image/png": "[encoded data removed]",
      "text/plain": [
       "<Figure size 432x288 with 1 Axes>"
      ]
     },
     "metadata": {
      "needs_background": "light"
     },
     "output_type": "display_data"
    }
   ],
   "source": [
    "# Update the x and y values\n",
    "x_values = northern_hemisphere[\"Lat\"]\n",
    "y_values = northern_hemisphere[\"Temperature (F)\"]\n",
    "\n",
    "# Generate the scatter plot\n",
    "plt.scatter(x_values,y_values)\n",
    "\n",
    "# Set up linear regression equation\n",
    "(slope, intercept, rvalue, pvalue, stderr) = linregress(x_values, y_values)\n",
    "# Get regression values\n",
    "regress_values = x_values * slope + intercept\n",
    "#print(regress_values)\n",
    "\n",
    "# Generate regression values\n",
    "plt.plot(x_values,regress_values,\"r-\")\n",
    "\n",
    "# Label plot and annotate the line equation\n",
    "plt.title(\"Temperature (F) v Latitude\")\n",
    "plt.xlabel(\"Latitude\")\n",
    "plt.ylabel(\"Temperature (F)\")\n",
    "# Update the coordinates here to make sure the chart displays properly\n",
    "plt.annotate(line_eq,(20,0), fontsize=15, color=\"red\")\n",
    "\n",
    "# Print r value\n",
    "print(f\"The r-value is: {rvalue**2}\")\n",
    "\n",
    "# Show plot\n",
    "plt.show()"
   ]
  },
  {
   "cell_type": "markdown",
   "metadata": {},
   "source": [
    "### This above plot for the northern hemisphere shows the relationship between the change in latitude and how that potentially correlates to the temperature value recorded. It also shows a regression line to further display any correlation.\n",
    "The regression line clearly shows the hypothesis to be true as the temperature drops the further the latitude is from 0 (the equator). Also, the r value being pretty close to 1.0 each time I've run this with new random cities gives me confidence that the correlation between these values is strong."
   ]
  },
  {
   "cell_type": "markdown",
   "metadata": {},
   "source": [
    "####  Southern Hemisphere - Max Temp vs. Latitude Linear Regression"
   ]
  },
  {
   "cell_type": "code",
   "execution_count": 26,
   "metadata": {},
   "outputs": [
    {
     "name": "stdout",
     "output_type": "stream",
     "text": [
      "The r-value is: 0.753183131899397\n"
     ]
    },
    {
     "data": {
      "image/png": "[encoded data removed]",
      "text/plain": [
       "<Figure size 432x288 with 1 Axes>"
      ]
     },
     "metadata": {
      "needs_background": "light"
     },
     "output_type": "display_data"
    }
   ],
   "source": [
    "# Update the x and y values\n",
    "x_values = southern_hemisphere[\"Lat\"]\n",
    "y_values = southern_hemisphere[\"Temperature (F)\"]\n",
    "\n",
    "# Generate the scatter plot and regression line\n",
    "plt.scatter(x_values,y_values)\n",
    "\n",
    "# Set up linear regression equation\n",
    "(slope, intercept, rvalue, pvalue, stderr) = linregress(x_values, y_values)\n",
    "# Get regression values\n",
    "regress_values = x_values * slope + intercept\n",
    "#print(regress_values)\n",
    "\n",
    "# Generate regression values\n",
    "plt.plot(x_values,regress_values,\"r-\")\n",
    "\n",
    "# Label plot and annotate the line equation\n",
    "plt.title(\"Temperature (F) v Latitude\")\n",
    "plt.xlabel(\"Latitude\")\n",
    "plt.ylabel(\"Temperature (F)\")\n",
    "# Update the coordinates here to make sure the chart displays properly\n",
    "plt.annotate(line_eq,(-30,60), fontsize=15, color=\"red\")\n",
    "\n",
    "# Print r value\n",
    "print(f\"The r-value is: {rvalue**2}\")\n",
    "\n",
    "# Show plot\n",
    "plt.show()"
   ]
  },
  {
   "cell_type": "markdown",
   "metadata": {},
   "source": [
    "### This above plot for the southern hemisphere shows the relationship between the change in latitude and how that potentially correlates to the temperature value recorded. It also shows a regression line to further display any correlation.\n",
    "The regression line again clearly shows the hypothesis to be true as the temperature rises the closer the latitude gets to 0 (the equator). Also, the r value again is on the 'higher' side as it closer to 1.0, shows that the correlation between these values is strong."
   ]
  },
  {
   "cell_type": "markdown",
   "metadata": {},
   "source": [
    "####  Northern Hemisphere - Humidity (%) vs. Latitude Linear Regression"
   ]
  },
  {
   "cell_type": "code",
   "execution_count": 27,
   "metadata": {},
   "outputs": [
    {
     "name": "stdout",
     "output_type": "stream",
     "text": [
      "The r-value is: 0.1469238520264803\n"
     ]
    },
    {
     "data": {
      "image/png": "[encoded data removed]",
      "text/plain": [
       "<Figure size 432x288 with 1 Axes>"
      ]
     },
     "metadata": {
      "needs_background": "light"
     },
     "output_type": "display_data"
    }
   ],
   "source": [
    "# Update the x and y values\n",
    "x_values = northern_hemisphere[\"Lat\"]\n",
    "y_values = northern_hemisphere[\"Humidity %\"]\n",
    "\n",
    "# Generate the scatter plot and regression line\n",
    "plt.scatter(x_values,y_values)\n",
    "\n",
    "# Set up linear regression equation\n",
    "(slope, intercept, rvalue, pvalue, stderr) = linregress(x_values, y_values)\n",
    "# Get regression values\n",
    "regress_values = x_values * slope + intercept\n",
    "#print(regress_values)\n",
    "\n",
    "# Generate regression values\n",
    "plt.plot(x_values,regress_values,\"r-\")\n",
    "\n",
    "# Label plot and annotate the line equation\n",
    "plt.title(\"Humidity % v Latitude\")\n",
    "plt.xlabel(\"Latitude\")\n",
    "plt.ylabel(\"Humidity %\")\n",
    "# Update the coordinates here to make sure the chart displays properly\n",
    "plt.annotate(line_eq,(38, 50), fontsize=15, color=\"red\")\n",
    "\n",
    "# Print r value\n",
    "print(f\"The r-value is: {rvalue**2}\")\n",
    "\n",
    "# Show plot\n",
    "plt.show()"
   ]
  },
  {
   "cell_type": "markdown",
   "metadata": {},
   "source": [
    "### This above plot for the northern hemisphere shows the relationship between the change in latitude and how that potentially correlates to the percent humidity value recorded. It also shows a regression line to further display any correlation.\n",
    "The regression leads me to believe that there is very little correlation between the latitude and the percent humidity. A low r value is a telling sign of this."
   ]
  },
  {
   "cell_type": "markdown",
   "metadata": {},
   "source": [
    "####  Southern Hemisphere - Humidity (%) vs. Latitude Linear Regression"
   ]
  },
  {
   "cell_type": "code",
   "execution_count": 30,
   "metadata": {},
   "outputs": [
    {
     "name": "stdout",
     "output_type": "stream",
     "text": [
      "The r-value is: 0.2878495798264847\n"
     ]
    },
    {
     "data": {
      "image/png": "[encoded data removed]",
      "text/plain": [
       "<Figure size 432x288 with 1 Axes>"
      ]
     },
     "metadata": {
      "needs_background": "light"
     },
     "output_type": "display_data"
    }
   ],
   "source": [
    "# Update the x and y values\n",
    "x_values = southern_hemisphere[\"Lat\"]\n",
    "y_values = southern_hemisphere[\"Humidity %\"]\n",
    "\n",
    "# Generate the scatter plot and regression line\n",
    "plt.scatter(x_values,y_values)\n",
    "\n",
    "# Set up linear regression equation\n",
    "(slope, intercept, rvalue, pvalue, stderr) = linregress(x_values, y_values)\n",
    "# Get regression values\n",
    "regress_values = x_values * slope + intercept\n",
    "#print(regress_values)\n",
    "\n",
    "# Generate regression values\n",
    "plt.plot(x_values,regress_values,\"r-\")\n",
    "\n",
    "# Label plot and annotate the line equation\n",
    "plt.title(\"Humidity % v Latitude\")\n",
    "plt.xlabel(\"Latitude\")\n",
    "plt.ylabel(\"Humidity %\")\n",
    "# Update the coordinates here to make sure the chart displays properly\n",
    "plt.annotate(line_eq,(-32,50), fontsize=15, color=\"red\")\n",
    "\n",
    "# Print r value\n",
    "print(f\"The r-value is: {rvalue**2}\")\n",
    "\n",
    "# Show plot\n",
    "plt.show()"
   ]
  },
  {
   "cell_type": "markdown",
   "metadata": {},
   "source": [
    "### This above plot for the southern hemisphere shows the relationship between the change in latitude and how that potentially correlates to the percent humidity value recorded. It also shows a regression line to further display any correlation.\n",
    "While there is a stronger correlation between the latitude and humidity in the southern hemisphere data gathered, the low r value and slope of the regression line indicate that this is still a weak correlation."
   ]
  },
  {
   "cell_type": "markdown",
   "metadata": {},
   "source": [
    "####  Northern Hemisphere - Cloudiness (%) vs. Latitude Linear Regression"
   ]
  },
  {
   "cell_type": "code",
   "execution_count": 31,
   "metadata": {},
   "outputs": [
    {
     "name": "stdout",
     "output_type": "stream",
     "text": [
      "The r-value is: 0.11142915983654796\n"
     ]
    },
    {
     "data": {
      "image/png": "[encoded data removed]",
      "text/plain": [
       "<Figure size 432x288 with 1 Axes>"
      ]
     },
     "metadata": {
      "needs_background": "light"
     },
     "output_type": "display_data"
    }
   ],
   "source": [
    "# Update the x and y values\n",
    "x_values = northern_hemisphere[\"Lat\"]\n",
    "y_values = northern_hemisphere[\"Cloud\"]\n",
    "\n",
    "# Generate the scatter plot and regression line\n",
    "plt.scatter(x_values,y_values)\n",
    "\n",
    "# Set up linear regression equation\n",
    "(slope, intercept, rvalue, pvalue, stderr) = linregress(x_values, y_values)\n",
    "# Get regression values\n",
    "regress_values = x_values * slope + intercept\n",
    "#print(regress_values)\n",
    "\n",
    "# Generate regression values\n",
    "plt.plot(x_values,regress_values,\"r-\")\n",
    "\n",
    "# Label plot and annotate the line equation\n",
    "plt.title(\"Cloudiness v Latitude\")\n",
    "plt.xlabel(\"Latitude\")\n",
    "plt.ylabel(\"Cloudiness\")\n",
    "# Update the coordinates here to make sure the chart displays properly\n",
    "plt.annotate(line_eq,(35,15), fontsize=15, color=\"red\")\n",
    "\n",
    "# Print r value\n",
    "print(f\"The r-value is: {rvalue**2}\")\n",
    "\n",
    "# Show plot\n",
    "plt.show()"
   ]
  },
  {
   "cell_type": "markdown",
   "metadata": {},
   "source": [
    "### This above plot for the northern hemisphere shows the relationship between the change in latitude and how that potentially correlates to the cloudiness value recorded. It also shows a regression line to further display any correlation.\n",
    "There is a positive correlation displayed here, however it is a weak correlation. Leading to the conclusion that the cloudiness and latitude values do not necessarily effect one another."
   ]
  },
  {
   "cell_type": "markdown",
   "metadata": {},
   "source": [
    "####  Southern Hemisphere - Cloudiness (%) vs. Latitude Linear Regression"
   ]
  },
  {
   "cell_type": "code",
   "execution_count": 32,
   "metadata": {},
   "outputs": [
    {
     "name": "stdout",
     "output_type": "stream",
     "text": [
      "The r-value is: 0.07160266543755774\n"
     ]
    },
    {
     "data": {
      "image/png": "[encoded data removed]",
      "text/plain": [
       "<Figure size 432x288 with 1 Axes>"
      ]
     },
     "metadata": {
      "needs_background": "light"
     },
     "output_type": "display_data"
    }
   ],
   "source": [
    "# Update the x and y values\n",
    "x_values = southern_hemisphere[\"Lat\"]\n",
    "y_values = southern_hemisphere[\"Cloud\"]\n",
    "\n",
    "# Generate the scatter plot and regression line\n",
    "plt.scatter(x_values,y_values)\n",
    "\n",
    "# Set up linear regression equation\n",
    "(slope, intercept, rvalue, pvalue, stderr) = linregress(x_values, y_values)\n",
    "# Get regression values\n",
    "regress_values = x_values * slope + intercept\n",
    "#print(regress_values)\n",
    "\n",
    "# Generate regression values\n",
    "plt.plot(x_values,regress_values,\"r-\")\n",
    "\n",
    "# Label plot and annotate the line equation\n",
    "plt.title(\"Cloudiness v Latitude\")\n",
    "plt.xlabel(\"Latitude\")\n",
    "plt.ylabel(\"Cloudiness\")\n",
    "# Update the coordinates here to make sure the chart displays properly\n",
    "plt.annotate(line_eq,(-32,20), fontsize=15, color=\"red\")\n",
    "\n",
    "# Print r value\n",
    "print(f\"The r-value is: {rvalue**2}\")\n",
    "\n",
    "# Show plot\n",
    "plt.show()"
   ]
  },
  {
   "cell_type": "markdown",
   "metadata": {},
   "source": [
    "### This above plot for the southern hemisphere shows the relationship between the change in latitude and how that potentially correlates to the temperature value recorded. It also shows a regression line to further display any correlation.\n",
    "There is a negative correlation displayed here, however it is a weak correlation. Leading to the conclusion that the cloudiness and latitude values do not necessarily effect one another."
   ]
  },
  {
   "cell_type": "markdown",
   "metadata": {},
   "source": [
    "####  Northern Hemisphere - Wind Speed (mph) vs. Latitude Linear Regression"
   ]
  },
  {
   "cell_type": "code",
   "execution_count": 33,
   "metadata": {},
   "outputs": [
    {
     "name": "stdout",
     "output_type": "stream",
     "text": [
      "The r-value is: 0.06005092764788193\n"
     ]
    },
    {
     "data": {
      "image/png": "[encoded data removed]",
      "text/plain": [
       "<Figure size 432x288 with 1 Axes>"
      ]
     },
     "metadata": {
      "needs_background": "light"
     },
     "output_type": "display_data"
    }
   ],
   "source": [
    "# Update the x and y values\n",
    "x_values = northern_hemisphere[\"Lat\"]\n",
    "y_values = northern_hemisphere[\"Wind Speed\"]\n",
    "\n",
    "# Generate the scatter plot and regression line\n",
    "plt.scatter(x_values,y_values)\n",
    "\n",
    "# Set up linear regression equation\n",
    "(slope, intercept, rvalue, pvalue, stderr) = linregress(x_values, y_values)\n",
    "# Get regression values\n",
    "regress_values = x_values * slope + intercept\n",
    "#print(regress_values)\n",
    "\n",
    "# Generate regression values\n",
    "plt.plot(x_values,regress_values,\"r-\")\n",
    "\n",
    "# Label plot and annotate the line equation\n",
    "plt.title(\"Wind Speed v Latitude\")\n",
    "plt.xlabel(\"Latitude\")\n",
    "plt.ylabel(\"Wind Speed\")\n",
    "# Update the coordinates here to make sure the chart displays properly\n",
    "plt.annotate(line_eq,(35,2), fontsize=15, color=\"red\")\n",
    "\n",
    "# Print r value\n",
    "print(f\"The r-value is: {rvalue**2}\")\n",
    "\n",
    "# Show plot\n",
    "plt.show()"
   ]
  },
  {
   "cell_type": "markdown",
   "metadata": {},
   "source": [
    "### This above plot for the northern hemisphere shows the relationship between the change in latitude and how that potentially correlates to the wind speed value recorded. It also shows a regression line to further display any correlation.\n",
    "The chart and regression line show that in the northern hemisphere there is a weak, yet slightly positive correlation between the wind speed recorded and the latitude. The r value being very close to 0 is also telling that this correlation is very minimal."
   ]
  },
  {
   "cell_type": "markdown",
   "metadata": {},
   "source": [
    "####  Southern Hemisphere - Wind Speed (mph) vs. Latitude Linear Regression"
   ]
  },
  {
   "cell_type": "code",
   "execution_count": 36,
   "metadata": {},
   "outputs": [
    {
     "name": "stdout",
     "output_type": "stream",
     "text": [
      "The r-value is: 0.3629930506465903\n"
     ]
    },
    {
     "data": {
      "image/png": "[encoded data removed]",
      "text/plain": [
       "<Figure size 432x288 with 1 Axes>"
      ]
     },
     "metadata": {
      "needs_background": "light"
     },
     "output_type": "display_data"
    }
   ],
   "source": [
    "# Update the x and y values\n",
    "x_values = southern_hemisphere[\"Lat\"]\n",
    "y_values = southern_hemisphere[\"Wind Speed\"]\n",
    "\n",
    "# Generate the scatter plot and regression line\n",
    "plt.scatter(x_values,y_values)\n",
    "\n",
    "# Set up linear regression equation\n",
    "(slope, intercept, rvalue, pvalue, stderr) = linregress(x_values, y_values)\n",
    "# Get regression values\n",
    "regress_values = x_values * slope + intercept\n",
    "#print(regress_values)\n",
    "\n",
    "# Generate regression values\n",
    "plt.plot(x_values,regress_values,\"r-\")\n",
    "\n",
    "# Label plot and annotate the line equation\n",
    "plt.title(\"Wind Speed v Latitude\")\n",
    "plt.xlabel(\"Latitude\")\n",
    "plt.ylabel(\"Wind Speed\")\n",
    "# Update the coordinates here to make sure the chart displays properly\n",
    "plt.annotate(line_eq,(-50, 8), fontsize=15, color=\"red\")\n",
    "\n",
    "# Print r value\n",
    "print(f\"The r-value is: {rvalue**2}\")\n",
    "\n",
    "# Show plot\n",
    "plt.show()"
   ]
  },
  {
   "cell_type": "markdown",
   "metadata": {},
   "source": [
    "### This above plot for the southern hemisphere shows the relationship between the change in latitude and how that potentially correlates to the temperature value recorded. It also shows a regression line to further display any correlation.\n",
    "The chart and regression line show that in the southern hemisphere there is a weak, yet slightly negative correlation between the wind speed recorded and the latitude. The r value being very close to 0 is also telling that this correlation is very minimal."
   ]
  },
  {
   "cell_type": "code",
   "execution_count": null,
   "metadata": {},
   "outputs": [],
   "source": []
  }
 ],
 "metadata": {
  "anaconda-cloud": {},
  "kernel_info": {
   "name": "python3"
  },
  "kernelspec": {
   "display_name": "Python 3",
   "language": "python",
   "name": "python3"
  },
  "language_info": {
   "codemirror_mode": {
    "name": "ipython",
    "version": 3
   },
   "file_extension": ".py",
   "mimetype": "text/x-python",
   "name": "python",
   "nbconvert_exporter": "python",
   "pygments_lexer": "ipython3",
   "version": "3.6.10"
  },
  "latex_envs": {
   "LaTeX_envs_menu_present": true,
   "autoclose": false,
   "autocomplete": true,
   "bibliofile": "biblio.bib",
   "cite_by": "apalike",
   "current_citInitial": 1,
   "eqLabelWithNumbers": true,
   "eqNumInitial": 1,
   "hotkeys": {
    "equation": "Ctrl-E",
    "itemize": "Ctrl-I"
   },
   "labels_anchors": false,
   "latex_user_defs": false,
   "report_style_numbering": false,
   "user_envs_cfg": false
  },
  "nteract": {
   "version": "0.12.3"
  }
 },
 "nbformat": 4,
 "nbformat_minor": 2
}
