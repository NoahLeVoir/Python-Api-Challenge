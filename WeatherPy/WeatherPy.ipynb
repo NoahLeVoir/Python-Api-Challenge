{
 "cells": [
  {
   "cell_type": "markdown",
   "metadata": {},
   "source": [
    "# WeatherPy\n",
    "----\n",
    "\n",
    "#### Note\n",
    "* Instructions have been included for each segment. You do not have to follow them exactly, but they are included to help you think through the steps."
   ]
  },
  {
   "cell_type": "code",
   "execution_count": 1,
   "metadata": {},
   "outputs": [],
   "source": [
    "# Dependencies and Setup\n",
    "import matplotlib.pyplot as plt\n",
    "import pandas as pd\n",
    "import numpy as np\n",
    "import requests\n",
    "import json\n",
    "import time\n",
    "from scipy.stats import linregress\n",
    "\n",
    "# Import API key\n",
    "from config import weather_api_key"
   ]
  },
  {
   "cell_type": "code",
   "execution_count": 2,
   "metadata": {
    "scrolled": true
   },
   "outputs": [],
   "source": [
    "# Incorporated citipy to determine city based on latitude and longitude\n",
    "from citipy import citipy\n",
    "\n",
    "# Output File (CSV)\n",
    "output_data_file = \"output_data/cities.csv\"\n",
    "\n",
    "# Range of latitudes and longitudes\n",
    "lat_range = (-90, 90)\n",
    "lng_range = (-180, 180)"
   ]
  },
  {
   "cell_type": "markdown",
   "metadata": {},
   "source": [
    "## Generate Cities List"
   ]
  },
  {
   "cell_type": "code",
   "execution_count": 3,
   "metadata": {},
   "outputs": [
    {
     "name": "stdout",
     "output_type": "stream",
     "text": [
      "45\n",
      "['san quintin', 'sun city west', 'half moon bay', 'saskylakh', 'bandarbeyla', 'weyburn', 'puerto ayora', 'new norfolk', 'taolanaro', 'saint-philippe', 'cermik', 'lagoa', 'abu kamal', 'chomun', 'longyearbyen', 'barrow', 'general roca', 'bredasdorp', 'havre-saint-pierre', 'haibowan', 'bichura', 'rikitea', 'sergeyevka', 'chuy', 'mpanda', 'port hedland', 'busselton', 'ribeira grande', 'bambous virieux', 'belushya guba', 'hamilton', 'kolosovka', 'anloga', 'egvekinot', 'curup', 'saldanha', 'lebu', 'jilmah', 'ituni', 'darab', 'thompson', 'samoded', 'arkhara', 'airai', 'bar harbor']\n"
     ]
    }
   ],
   "source": [
    "# List for holding lat_lngs and cities\n",
    "lat_lngs = []\n",
    "cities = []\n",
    "\n",
    "# Create a set of random lat and lng combinations\n",
    "# Returning size of random selection back to original for hw submission\n",
    "lats = np.random.uniform(lat_range[0], lat_range[1], size=50)\n",
    "lngs = np.random.uniform(lng_range[0], lng_range[1], size=50)\n",
    "lat_lngs = zip(lats, lngs)\n",
    "\n",
    "# Identify nearest city for each lat, lng combination\n",
    "for lat_lng in lat_lngs:\n",
    "    city = citipy.nearest_city(lat_lng[0], lat_lng[1]).city_name\n",
    "    \n",
    "    # If the city is unique, then add it to a our cities list\n",
    "    if city not in cities:\n",
    "        cities.append(city)\n",
    "\n",
    "# Print the city count to confirm sufficient count\n",
    "print(len(cities))\n",
    "print(cities)"
   ]
  },
  {
   "cell_type": "markdown",
   "metadata": {},
   "source": [
    "### Perform API Calls\n",
    "* Perform a weather check on each city using a series of successive API calls.\n",
    "* Include a print log of each city as it'sbeing processed (with the city number and city name).\n"
   ]
  },
  {
   "cell_type": "code",
   "execution_count": 4,
   "metadata": {
    "scrolled": true
   },
   "outputs": [],
   "source": [
    "# Create the base url and query url that will be used for the API call\n",
    "base_url = \"http://api.openweathermap.org/data/2.5/weather?q=\"\n",
    "# Defult is kelvin, so I need to update units to read fahrenheit\n",
    "units = \"imperial\"\n",
    "query_url = base_url + city + \"&appid=\" + weather_api_key + \"&units=\" + units"
   ]
  },
  {
   "cell_type": "code",
   "execution_count": 5,
   "metadata": {},
   "outputs": [
    {
     "name": "stdout",
     "output_type": "stream",
     "text": [
      "{\n",
      "    \"base\": \"stations\",\n",
      "    \"clouds\": {\n",
      "        \"all\": 1\n",
      "    },\n",
      "    \"cod\": 200,\n",
      "    \"coord\": {\n",
      "        \"lat\": 44.3876,\n",
      "        \"lon\": -68.2039\n",
      "    },\n",
      "    \"dt\": 1613152344,\n",
      "    \"id\": 4957320,\n",
      "    \"main\": {\n",
      "        \"feels_like\": 8.67,\n",
      "        \"humidity\": 46,\n",
      "        \"pressure\": 1024,\n",
      "        \"temp\": 21.27,\n",
      "        \"temp_max\": 23,\n",
      "        \"temp_min\": 19\n",
      "    },\n",
      "    \"name\": \"Bar Harbor\",\n",
      "    \"sys\": {\n",
      "        \"country\": \"US\",\n",
      "        \"id\": 3431,\n",
      "        \"sunrise\": 1613129811,\n",
      "        \"sunset\": 1613167046,\n",
      "        \"type\": 1\n",
      "    },\n",
      "    \"timezone\": -18000,\n",
      "    \"visibility\": 10000,\n",
      "    \"weather\": [\n",
      "        {\n",
      "            \"description\": \"clear sky\",\n",
      "            \"icon\": \"01d\",\n",
      "            \"id\": 800,\n",
      "            \"main\": \"Clear\"\n",
      "        }\n",
      "    ],\n",
      "    \"wind\": {\n",
      "        \"deg\": 340,\n",
      "        \"speed\": 11.5\n",
      "    }\n",
      "}\n"
     ]
    }
   ],
   "source": [
    "# Perform a GET request\n",
    "response = requests.get(query_url)\n",
    "\n",
    "# Convert the response to a JSON\n",
    "weather_data = response.json()\n",
    "\n",
    "# To print in a more readable way, use json.dumps with indent and sort_keys\n",
    "print(json.dumps(weather_data, indent = 4, sort_keys = True))"
   ]
  },
  {
   "cell_type": "code",
   "execution_count": 6,
   "metadata": {},
   "outputs": [
    {
     "name": "stdout",
     "output_type": "stream",
     "text": [
      "Currently processing Bar Harbor, ID Number:3431\n"
     ]
    }
   ],
   "source": [
    "# Print the city number and name while it is being processed\n",
    "city_num = weather_data[\"sys\"][\"id\"]\n",
    "city_name = weather_data[\"name\"]\n",
    "print(f\"Currently processing {city_name}, ID Number:{city_num}\")"
   ]
  },
  {
   "cell_type": "code",
   "execution_count": 7,
   "metadata": {},
   "outputs": [
    {
     "name": "stdout",
     "output_type": "stream",
     "text": [
      "Requesting weather information from 45 random cities around the world\n",
      "-----------------------------\n",
      "Unfortunately unable to pull data for san quintin, Skipping san quintin for now\n",
      "Currently processing sun city west, ID Number:2011266\n",
      "Currently processing half moon bay, ID Number:4322\n",
      "Unfortunately unable to pull data for saskylakh, Skipping saskylakh for now\n",
      "Unfortunately unable to pull data for bandarbeyla, Skipping bandarbeyla for now\n",
      "Currently processing weyburn, ID Number:550\n",
      "Currently processing puerto ayora, ID Number:8521\n",
      "Currently processing new norfolk, ID Number:2031307\n",
      "Unfortunately unable to pull data for taolanaro, Skipping taolanaro for now\n",
      "Currently processing saint-philippe, ID Number:2127\n",
      "Currently processing cermik, ID Number:6983\n",
      "Unfortunately unable to pull data for lagoa, Skipping lagoa for now\n",
      "Unfortunately unable to pull data for abu kamal, Skipping abu kamal for now\n",
      "Unfortunately unable to pull data for chomun, Skipping chomun for now\n",
      "Currently processing longyearbyen, ID Number:1663\n",
      "Currently processing barrow, ID Number:7649\n",
      "Currently processing general roca, ID Number:8310\n",
      "Currently processing bredasdorp, ID Number:1966\n",
      "Currently processing havre-saint-pierre, ID Number:812\n",
      "Unfortunately unable to pull data for haibowan, Skipping haibowan for now\n",
      "Unfortunately unable to pull data for bichura, Skipping bichura for now\n",
      "Unfortunately unable to pull data for rikitea, Skipping rikitea for now\n",
      "Unfortunately unable to pull data for sergeyevka, Skipping sergeyevka for now\n",
      "Unfortunately unable to pull data for chuy, Skipping chuy for now\n",
      "Unfortunately unable to pull data for mpanda, Skipping mpanda for now\n",
      "Currently processing port hedland, ID Number:9585\n",
      "Currently processing busselton, ID Number:2020551\n",
      "Currently processing ribeira grande, ID Number:6883\n",
      "Currently processing bambous virieux, ID Number:2061\n",
      "Unfortunately unable to pull data for belushya guba, Skipping belushya guba for now\n",
      "Currently processing hamilton, ID Number:4776\n",
      "Unfortunately unable to pull data for kolosovka, Skipping kolosovka for now\n",
      "Currently processing anloga, ID Number:1218\n",
      "Unfortunately unable to pull data for egvekinot, Skipping egvekinot for now\n",
      "Unfortunately unable to pull data for curup, Skipping curup for now\n",
      "Currently processing saldanha, ID Number:1943\n",
      "Unfortunately unable to pull data for lebu, Skipping lebu for now\n",
      "Unfortunately unable to pull data for jilmah, Skipping jilmah for now\n",
      "Unfortunately unable to pull data for ituni, Skipping ituni for now\n",
      "Unfortunately unable to pull data for darab, Skipping darab for now\n",
      "Currently processing thompson, ID Number:935\n",
      "Unfortunately unable to pull data for samoded, Skipping samoded for now\n",
      "Unfortunately unable to pull data for arkhara, Skipping arkhara for now\n",
      "Unfortunately unable to pull data for airai, Skipping airai for now\n",
      "Currently processing bar harbor, ID Number:3431\n",
      "-----------------------------\n",
      "Finished collecting weather information from 45 cities around the world\n"
     ]
    }
   ],
   "source": [
    "# Putting everything together into a for loop now to get API request to run the list of cities\n",
    "\n",
    "# Generate lists that will store the cities data as the loop runs\n",
    "# Lists developed based on what information the homework requests we gather\n",
    "city_name_list = []\n",
    "cloud_list = []\n",
    "country_list = []\n",
    "date_list = []\n",
    "humidity_list = []\n",
    "lat_list = []\n",
    "lng_list = []\n",
    "temp_list = []\n",
    "wind_list = []\n",
    "\n",
    "# Printing the log of cities as they are being requested per homework instructions\n",
    "print(f\"Requesting weather information from {len(cities)} random cities around the world\")\n",
    "print(\"-----------------------------\")\n",
    "\n",
    "\n",
    "# Set up loop to make an api call on each city in the list and store it's value before moving to the next\n",
    "for city in cities:    \n",
    "    \n",
    "    # Need try logic for cases where weather api does not have records for that city\n",
    "    try:\n",
    "        # Update the query url with a new city\n",
    "        query_url = base_url + city + \"&appid=\" + weather_api_key + \"&units=\" + units\n",
    "        # Perform a GET request\n",
    "        response = requests.get(query_url)\n",
    "        # Convert the response to a JSON\n",
    "        weather_data = response.json()\n",
    "        # print(json.dumps(weather_data, indent = 4, sort_keys = True))\n",
    "   \n",
    "        # Collect all weather information for that city\n",
    "        city_num = weather_data[\"sys\"][\"id\"]\n",
    "        city_name_list.append(weather_data[\"name\"])\n",
    "        cloud_list.append(weather_data[\"clouds\"][\"all\"])\n",
    "        country_list.append(weather_data[\"sys\"][\"country\"])\n",
    "        date_list.append(weather_data[\"dt\"])\n",
    "        humidity_list.append(weather_data[\"main\"][\"humidity\"])\n",
    "        lat_list.append(weather_data[\"coord\"][\"lat\"])\n",
    "        lng_list.append(weather_data[\"coord\"][\"lon\"])\n",
    "        temp_list.append(weather_data['main']['temp'])\n",
    "        wind_list.append(weather_data[\"wind\"][\"speed\"])\n",
    "    \n",
    "        # Print that the city is currently being processed per homework instructions\n",
    "        print(f\"Currently processing {city}, ID Number:{city_num}\")\n",
    "    \n",
    "    # If city data is not found then use this except command and continue to the next city\n",
    "    except(KeyError, IndexError):\n",
    "        print(f\"Unfortunately unable to pull data for {city}, Skipping {city} for now\")\n",
    "\n",
    "    # Adding in a one second sleep interval between queries to avoid exceeding the API query limits\n",
    "    time.sleep(1)\n",
    "        \n",
    "print(\"-----------------------------\")\n",
    "print(f\"Finished collecting weather information from {len(cities)} cities around the world\")\n",
    "    "
   ]
  },
  {
   "cell_type": "markdown",
   "metadata": {},
   "source": [
    "### Convert Raw Data to DataFrame\n",
    "* Export the city data into a .csv.\n",
    "* Display the DataFrame"
   ]
  },
  {
   "cell_type": "code",
   "execution_count": 8,
   "metadata": {},
   "outputs": [
    {
     "data": {
      "text/html": [
       "<div>\n",
       "<style scoped>\n",
       "    .dataframe tbody tr th:only-of-type {\n",
       "        vertical-align: middle;\n",
       "    }\n",
       "\n",
       "    .dataframe tbody tr th {\n",
       "        vertical-align: top;\n",
       "    }\n",
       "\n",
       "    .dataframe thead th {\n",
       "        text-align: right;\n",
       "    }\n",
       "</style>\n",
       "<table border=\"1\" class=\"dataframe\">\n",
       "  <thead>\n",
       "    <tr style=\"text-align: right;\">\n",
       "      <th></th>\n",
       "      <th>City</th>\n",
       "      <th>Country</th>\n",
       "      <th>Temperature (F)</th>\n",
       "      <th>Date</th>\n",
       "      <th>Humidity %</th>\n",
       "      <th>Cloud</th>\n",
       "      <th>Wind Speed</th>\n",
       "      <th>Lat</th>\n",
       "      <th>Lng</th>\n",
       "    </tr>\n",
       "  </thead>\n",
       "  <tbody>\n",
       "    <tr>\n",
       "      <th>0</th>\n",
       "      <td>Sun City West</td>\n",
       "      <td>US</td>\n",
       "      <td>66.97</td>\n",
       "      <td>1613152235</td>\n",
       "      <td>34</td>\n",
       "      <td>33</td>\n",
       "      <td>7.90</td>\n",
       "      <td>33.6620</td>\n",
       "      <td>-112.3413</td>\n",
       "    </tr>\n",
       "    <tr>\n",
       "      <th>1</th>\n",
       "      <td>Half Moon Bay</td>\n",
       "      <td>US</td>\n",
       "      <td>53.96</td>\n",
       "      <td>1613152353</td>\n",
       "      <td>82</td>\n",
       "      <td>1</td>\n",
       "      <td>13.80</td>\n",
       "      <td>37.4636</td>\n",
       "      <td>-122.4286</td>\n",
       "    </tr>\n",
       "    <tr>\n",
       "      <th>2</th>\n",
       "      <td>Weyburn</td>\n",
       "      <td>CA</td>\n",
       "      <td>-16.60</td>\n",
       "      <td>1613152357</td>\n",
       "      <td>63</td>\n",
       "      <td>100</td>\n",
       "      <td>12.66</td>\n",
       "      <td>49.6668</td>\n",
       "      <td>-103.8511</td>\n",
       "    </tr>\n",
       "    <tr>\n",
       "      <th>3</th>\n",
       "      <td>Puerto Ayora</td>\n",
       "      <td>EC</td>\n",
       "      <td>80.89</td>\n",
       "      <td>1613152358</td>\n",
       "      <td>74</td>\n",
       "      <td>20</td>\n",
       "      <td>5.75</td>\n",
       "      <td>-0.7393</td>\n",
       "      <td>-90.3518</td>\n",
       "    </tr>\n",
       "    <tr>\n",
       "      <th>4</th>\n",
       "      <td>New Norfolk</td>\n",
       "      <td>AU</td>\n",
       "      <td>54.99</td>\n",
       "      <td>1613152094</td>\n",
       "      <td>75</td>\n",
       "      <td>58</td>\n",
       "      <td>4.00</td>\n",
       "      <td>-42.7826</td>\n",
       "      <td>147.0587</td>\n",
       "    </tr>\n",
       "  </tbody>\n",
       "</table>\n",
       "</div>"
      ],
      "text/plain": [
       "            City Country  Temperature (F)        Date  Humidity %  Cloud  \\\n",
       "0  Sun City West      US            66.97  1613152235          34     33   \n",
       "1  Half Moon Bay      US            53.96  1613152353          82      1   \n",
       "2        Weyburn      CA           -16.60  1613152357          63    100   \n",
       "3   Puerto Ayora      EC            80.89  1613152358          74     20   \n",
       "4    New Norfolk      AU            54.99  1613152094          75     58   \n",
       "\n",
       "   Wind Speed      Lat       Lng  \n",
       "0        7.90  33.6620 -112.3413  \n",
       "1       13.80  37.4636 -122.4286  \n",
       "2       12.66  49.6668 -103.8511  \n",
       "3        5.75  -0.7393  -90.3518  \n",
       "4        4.00 -42.7826  147.0587  "
      ]
     },
     "execution_count": 8,
     "metadata": {},
     "output_type": "execute_result"
    }
   ],
   "source": [
    "# Use pandas function pd.DataFrame to create a dataframe from the list information generated above\n",
    "# I chose to re-arrange this order of the columns here to what I felt more logical\n",
    "cities_weather_df = pd.DataFrame({\"City\": city_name_list,\n",
    "                                  \"Country\": country_list,\n",
    "                                  \"Temperature (F)\": temp_list,\n",
    "                                  \"Date\": date_list,\n",
    "                                  \"Humidity %\": humidity_list,\n",
    "                                  \"Cloud\": cloud_list,\n",
    "                                  \"Wind Speed\": wind_list,\n",
    "                                  \"Lat\": lat_list,\n",
    "                                  \"Lng\":lng_list                                  \n",
    "                                })\n",
    "\n",
    "# Display the dataframe\n",
    "cities_weather_df.head()"
   ]
  },
  {
   "cell_type": "code",
   "execution_count": 9,
   "metadata": {},
   "outputs": [],
   "source": [
    "# Save city data into a csv file\n",
    "cities_weather_df.to_csv(output_data_file, index = False)"
   ]
  },
  {
   "cell_type": "markdown",
   "metadata": {},
   "source": [
    "## Inspect the data and remove the cities where the humidity > 100%.\n",
    "----\n",
    "Skip this step if there are no cities that have humidity > 100%. "
   ]
  },
  {
   "cell_type": "code",
   "execution_count": 10,
   "metadata": {},
   "outputs": [
    {
     "data": {
      "text/html": [
       "<div>\n",
       "<style scoped>\n",
       "    .dataframe tbody tr th:only-of-type {\n",
       "        vertical-align: middle;\n",
       "    }\n",
       "\n",
       "    .dataframe tbody tr th {\n",
       "        vertical-align: top;\n",
       "    }\n",
       "\n",
       "    .dataframe thead th {\n",
       "        text-align: right;\n",
       "    }\n",
       "</style>\n",
       "<table border=\"1\" class=\"dataframe\">\n",
       "  <thead>\n",
       "    <tr style=\"text-align: right;\">\n",
       "      <th></th>\n",
       "      <th>City</th>\n",
       "      <th>Country</th>\n",
       "      <th>Temperature (F)</th>\n",
       "      <th>Date</th>\n",
       "      <th>Humidity %</th>\n",
       "      <th>Cloud</th>\n",
       "      <th>Wind Speed</th>\n",
       "      <th>Lat</th>\n",
       "      <th>Lng</th>\n",
       "    </tr>\n",
       "  </thead>\n",
       "  <tbody>\n",
       "    <tr>\n",
       "      <th>0</th>\n",
       "      <td>Sun City West</td>\n",
       "      <td>US</td>\n",
       "      <td>66.97</td>\n",
       "      <td>1613152235</td>\n",
       "      <td>34</td>\n",
       "      <td>33</td>\n",
       "      <td>7.90</td>\n",
       "      <td>33.6620</td>\n",
       "      <td>-112.3413</td>\n",
       "    </tr>\n",
       "    <tr>\n",
       "      <th>1</th>\n",
       "      <td>Half Moon Bay</td>\n",
       "      <td>US</td>\n",
       "      <td>53.96</td>\n",
       "      <td>1613152353</td>\n",
       "      <td>82</td>\n",
       "      <td>1</td>\n",
       "      <td>13.80</td>\n",
       "      <td>37.4636</td>\n",
       "      <td>-122.4286</td>\n",
       "    </tr>\n",
       "    <tr>\n",
       "      <th>2</th>\n",
       "      <td>Weyburn</td>\n",
       "      <td>CA</td>\n",
       "      <td>-16.60</td>\n",
       "      <td>1613152357</td>\n",
       "      <td>63</td>\n",
       "      <td>100</td>\n",
       "      <td>12.66</td>\n",
       "      <td>49.6668</td>\n",
       "      <td>-103.8511</td>\n",
       "    </tr>\n",
       "    <tr>\n",
       "      <th>3</th>\n",
       "      <td>Puerto Ayora</td>\n",
       "      <td>EC</td>\n",
       "      <td>80.89</td>\n",
       "      <td>1613152358</td>\n",
       "      <td>74</td>\n",
       "      <td>20</td>\n",
       "      <td>5.75</td>\n",
       "      <td>-0.7393</td>\n",
       "      <td>-90.3518</td>\n",
       "    </tr>\n",
       "    <tr>\n",
       "      <th>4</th>\n",
       "      <td>New Norfolk</td>\n",
       "      <td>AU</td>\n",
       "      <td>54.99</td>\n",
       "      <td>1613152094</td>\n",
       "      <td>75</td>\n",
       "      <td>58</td>\n",
       "      <td>4.00</td>\n",
       "      <td>-42.7826</td>\n",
       "      <td>147.0587</td>\n",
       "    </tr>\n",
       "  </tbody>\n",
       "</table>\n",
       "</div>"
      ],
      "text/plain": [
       "            City Country  Temperature (F)        Date  Humidity %  Cloud  \\\n",
       "0  Sun City West      US            66.97  1613152235          34     33   \n",
       "1  Half Moon Bay      US            53.96  1613152353          82      1   \n",
       "2        Weyburn      CA           -16.60  1613152357          63    100   \n",
       "3   Puerto Ayora      EC            80.89  1613152358          74     20   \n",
       "4    New Norfolk      AU            54.99  1613152094          75     58   \n",
       "\n",
       "   Wind Speed      Lat       Lng  \n",
       "0        7.90  33.6620 -112.3413  \n",
       "1       13.80  37.4636 -122.4286  \n",
       "2       12.66  49.6668 -103.8511  \n",
       "3        5.75  -0.7393  -90.3518  \n",
       "4        4.00 -42.7826  147.0587  "
      ]
     },
     "execution_count": 10,
     "metadata": {},
     "output_type": "execute_result"
    }
   ],
   "source": [
    "# Running this cell anyway just to be sure\n",
    "cleaned_data_df = cities_weather_df[cities_weather_df[\"Humidity %\"] < 100]\n",
    "cleaned_data_df.head()"
   ]
  },
  {
   "cell_type": "code",
   "execution_count": 11,
   "metadata": {},
   "outputs": [
    {
     "data": {
      "text/plain": [
       "Int64Index([], dtype='int64')"
      ]
     },
     "execution_count": 11,
     "metadata": {},
     "output_type": "execute_result"
    }
   ],
   "source": [
    "#  Get the indices of cities that have humidity over 100%.\n",
    "high_humidity_df = cities_weather_df[cities_weather_df[\"Humidity %\"] > 100]\n",
    "\n",
    "high_humidity_df\n",
    "\n",
    "high_humidity_index = high_humidity_df.index\n",
    "high_humidity_index"
   ]
  },
  {
   "cell_type": "code",
   "execution_count": 12,
   "metadata": {},
   "outputs": [
    {
     "data": {
      "text/html": [
       "<div>\n",
       "<style scoped>\n",
       "    .dataframe tbody tr th:only-of-type {\n",
       "        vertical-align: middle;\n",
       "    }\n",
       "\n",
       "    .dataframe tbody tr th {\n",
       "        vertical-align: top;\n",
       "    }\n",
       "\n",
       "    .dataframe thead th {\n",
       "        text-align: right;\n",
       "    }\n",
       "</style>\n",
       "<table border=\"1\" class=\"dataframe\">\n",
       "  <thead>\n",
       "    <tr style=\"text-align: right;\">\n",
       "      <th></th>\n",
       "      <th>City</th>\n",
       "      <th>Country</th>\n",
       "      <th>Temperature (F)</th>\n",
       "      <th>Date</th>\n",
       "      <th>Humidity %</th>\n",
       "      <th>Cloud</th>\n",
       "      <th>Wind Speed</th>\n",
       "      <th>Lat</th>\n",
       "      <th>Lng</th>\n",
       "    </tr>\n",
       "  </thead>\n",
       "  <tbody>\n",
       "    <tr>\n",
       "      <th>0</th>\n",
       "      <td>Sun City West</td>\n",
       "      <td>US</td>\n",
       "      <td>66.97</td>\n",
       "      <td>1613152235</td>\n",
       "      <td>34</td>\n",
       "      <td>33</td>\n",
       "      <td>7.90</td>\n",
       "      <td>33.6620</td>\n",
       "      <td>-112.3413</td>\n",
       "    </tr>\n",
       "    <tr>\n",
       "      <th>1</th>\n",
       "      <td>Half Moon Bay</td>\n",
       "      <td>US</td>\n",
       "      <td>53.96</td>\n",
       "      <td>1613152353</td>\n",
       "      <td>82</td>\n",
       "      <td>1</td>\n",
       "      <td>13.80</td>\n",
       "      <td>37.4636</td>\n",
       "      <td>-122.4286</td>\n",
       "    </tr>\n",
       "    <tr>\n",
       "      <th>2</th>\n",
       "      <td>Weyburn</td>\n",
       "      <td>CA</td>\n",
       "      <td>-16.60</td>\n",
       "      <td>1613152357</td>\n",
       "      <td>63</td>\n",
       "      <td>100</td>\n",
       "      <td>12.66</td>\n",
       "      <td>49.6668</td>\n",
       "      <td>-103.8511</td>\n",
       "    </tr>\n",
       "    <tr>\n",
       "      <th>3</th>\n",
       "      <td>Puerto Ayora</td>\n",
       "      <td>EC</td>\n",
       "      <td>80.89</td>\n",
       "      <td>1613152358</td>\n",
       "      <td>74</td>\n",
       "      <td>20</td>\n",
       "      <td>5.75</td>\n",
       "      <td>-0.7393</td>\n",
       "      <td>-90.3518</td>\n",
       "    </tr>\n",
       "    <tr>\n",
       "      <th>4</th>\n",
       "      <td>New Norfolk</td>\n",
       "      <td>AU</td>\n",
       "      <td>54.99</td>\n",
       "      <td>1613152094</td>\n",
       "      <td>75</td>\n",
       "      <td>58</td>\n",
       "      <td>4.00</td>\n",
       "      <td>-42.7826</td>\n",
       "      <td>147.0587</td>\n",
       "    </tr>\n",
       "  </tbody>\n",
       "</table>\n",
       "</div>"
      ],
      "text/plain": [
       "            City Country  Temperature (F)        Date  Humidity %  Cloud  \\\n",
       "0  Sun City West      US            66.97  1613152235          34     33   \n",
       "1  Half Moon Bay      US            53.96  1613152353          82      1   \n",
       "2        Weyburn      CA           -16.60  1613152357          63    100   \n",
       "3   Puerto Ayora      EC            80.89  1613152358          74     20   \n",
       "4    New Norfolk      AU            54.99  1613152094          75     58   \n",
       "\n",
       "   Wind Speed      Lat       Lng  \n",
       "0        7.90  33.6620 -112.3413  \n",
       "1       13.80  37.4636 -122.4286  \n",
       "2       12.66  49.6668 -103.8511  \n",
       "3        5.75  -0.7393  -90.3518  \n",
       "4        4.00 -42.7826  147.0587  "
      ]
     },
     "execution_count": 12,
     "metadata": {},
     "output_type": "execute_result"
    }
   ],
   "source": [
    "# Make a new DataFrame equal to the city data to drop all humidity outliers by index.\n",
    "# The step above created this cleaned dataframe, here it is displayed again\n",
    "cleaned_data_df.head()"
   ]
  },
  {
   "cell_type": "markdown",
   "metadata": {},
   "source": [
    "## Plotting the Data\n",
    "* Use proper labeling of the plots using plot titles (including date of analysis) and axes labels.\n",
    "* Save the plotted figures as .pngs."
   ]
  },
  {
   "cell_type": "markdown",
   "metadata": {},
   "source": [
    "## Latitude vs. Temperature Plot"
   ]
  },
  {
   "cell_type": "code",
   "execution_count": 14,
   "metadata": {
    "scrolled": true
   },
   "outputs": [
    {
     "data": {
      "image/png": "[encoded data removed]",
      "text/plain": [
       "<Figure size 432x288 with 1 Axes>"
      ]
     },
     "metadata": {
      "needs_background": "light"
     },
     "output_type": "display_data"
    },
    {
     "data": {
      "text/plain": [
       "<Figure size 432x288 with 0 Axes>"
      ]
     },
     "metadata": {},
     "output_type": "display_data"
    }
   ],
   "source": [
    "# Create Latitude vs. Temperature scatter plot\n",
    "plt.scatter(cleaned_data_df[\"Lat\"], cleaned_data_df[\"Temperature (F)\"])\n",
    "\n",
    "# Set the title and x and y labels of the plot\n",
    "plt.title(\"Latitude v Temperature (F)\")\n",
    "plt.xlabel(\"Latitude\")\n",
    "plt.ylabel(\"Temperature (F)\")\n",
    "\n",
    "# Best practice to use plt.show()\n",
    "plt.show()\n",
    "\n",
    "# Save the plotted figure as .pngs\n",
    "plt.savefig(\"Images/Latitude v Temperature (F).png\")"
   ]
  },
  {
   "cell_type": "markdown",
   "metadata": {},
   "source": [
    "### This above plot shows the relationship between the change in latitude and how that potentially correlates to the temperature value recorded.\n",
    "The data seems to suggest that that the temperature seems to increase as it gets closer to 0 and decrease at varrying rates the further it gets from 0. This relationship supports the initial hypothesis that it gets warmer the closer you are to the equator."
   ]
  },
  {
   "cell_type": "markdown",
   "metadata": {},
   "source": [
    "## Latitude vs. Humidity Plot"
   ]
  },
  {
   "cell_type": "code",
   "execution_count": 15,
   "metadata": {},
   "outputs": [
    {
     "data": {
      "image/png": "[encoded data removed]",
      "text/plain": [
       "<Figure size 432x288 with 1 Axes>"
      ]
     },
     "metadata": {
      "needs_background": "light"
     },
     "output_type": "display_data"
    },
    {
     "data": {
      "text/plain": [
       "<Figure size 432x288 with 0 Axes>"
      ]
     },
     "metadata": {},
     "output_type": "display_data"
    }
   ],
   "source": [
    "# Create Latitude vs. Humidity scatter plot\n",
    "plt.scatter(cleaned_data_df[\"Lat\"], cleaned_data_df[\"Humidity %\"])\n",
    "\n",
    "# Set the title and x and y labels of the plot\n",
    "plt.title(\"Latitude v Humidity %\")\n",
    "plt.xlabel(\"Latitude\")\n",
    "plt.ylabel(\"Humidity %\")\n",
    "\n",
    "# Best practice to use plt.show()\n",
    "plt.show()\n",
    "\n",
    "# Save the plotted figure as .pngs\n",
    "plt.savefig(\"Images/Latitude v Humidity %.png\")"
   ]
  },
  {
   "cell_type": "markdown",
   "metadata": {},
   "source": [
    "### This above plot shows the relationship between the change in latitude and how that potentially correlates to the percent humidity value recorded.\n",
    "The data does not show a true correlation between the latitude and the percent humidity. While we do see the humidity values to trend lower at more extreme latitudes (-50, 50) the data is too dispersed in this chart to accurately say there is a strong correlation between the two"
   ]
  },
  {
   "cell_type": "markdown",
   "metadata": {},
   "source": [
    "## Latitude vs. Cloudiness Plot"
   ]
  },
  {
   "cell_type": "code",
   "execution_count": 16,
   "metadata": {},
   "outputs": [
    {
     "data": {
      "image/png": "[encoded data removed]",
      "text/plain": [
       "<Figure size 432x288 with 1 Axes>"
      ]
     },
     "metadata": {
      "needs_background": "light"
     },
     "output_type": "display_data"
    },
    {
     "data": {
      "text/plain": [
       "<Figure size 432x288 with 0 Axes>"
      ]
     },
     "metadata": {},
     "output_type": "display_data"
    }
   ],
   "source": [
    "# Create Latitude vs. Cloudiness scatter plot\n",
    "plt.scatter(cleaned_data_df[\"Lat\"], cleaned_data_df[\"Cloud\"])\n",
    "\n",
    "# Set the title and x and y labels of the plot\n",
    "plt.title(\"Latitude v Cloudiness\")\n",
    "plt.xlabel(\"Latitude\")\n",
    "plt.ylabel(\"Cloudiness\")\n",
    "\n",
    "# Best practice to use plt.show()\n",
    "plt.show()\n",
    "\n",
    "# Save the plotted figure as .pngs\n",
    "plt.savefig(\"Images/Latitude v Cloudiness.png\")"
   ]
  },
  {
   "cell_type": "markdown",
   "metadata": {},
   "source": [
    "### This above plot shows the relationship between the change in latitude and how that potentially correlates to the Cloudiness value recorded.\n",
    "The data seems to suggest that that there is little to no discernable coorilation between the level of cloudiness and the latitude, as the points are dispersed across the chart"
   ]
  },
  {
   "cell_type": "markdown",
   "metadata": {},
   "source": [
    "## Latitude vs. Wind Speed Plot"
   ]
  },
  {
   "cell_type": "code",
   "execution_count": 17,
   "metadata": {},
   "outputs": [
    {
     "data": {
      "image/png": "[encoded data removed]",
      "text/plain": [
       "<Figure size 432x288 with 1 Axes>"
      ]
     },
     "metadata": {
      "needs_background": "light"
     },
     "output_type": "display_data"
    },
    {
     "data": {
      "text/plain": [
       "<Figure size 432x288 with 0 Axes>"
      ]
     },
     "metadata": {},
     "output_type": "display_data"
    }
   ],
   "source": [
    "# Create Latitude vs. Wind Speed scatter plot\n",
    "plt.scatter(cleaned_data_df[\"Lat\"], cleaned_data_df[\"Wind Speed\"])\n",
    "\n",
    "# Set the title and x and y labels of the plot\n",
    "plt.title(\"Latitude v Wind Speed\")\n",
    "plt.xlabel(\"Latitude\")\n",
    "plt.ylabel(\"Wind Speed\")\n",
    "\n",
    "# Best practice to use plt.show()\n",
    "plt.show()\n",
    "\n",
    "# Save the plotted figure as .pngs\n",
    "plt.savefig(\"Images/Latitude v Wind Speed.png\")"
   ]
  },
  {
   "cell_type": "markdown",
   "metadata": {},
   "source": [
    "### This above plot shows the relationship between the change in latitude and how that potentially correlates to the wind speed value recorded.\n",
    "This chart again depicts little correlation between latitude and wind speed as the data is spread across the whole chart, not being effected by the latitude value it is tied to."
   ]
  },
  {
   "cell_type": "markdown",
   "metadata": {},
   "source": [
    "## Linear Regression"
   ]
  },
  {
   "cell_type": "code",
   "execution_count": 18,
   "metadata": {},
   "outputs": [
    {
     "data": {
      "text/html": [
       "<div>\n",
       "<style scoped>\n",
       "    .dataframe tbody tr th:only-of-type {\n",
       "        vertical-align: middle;\n",
       "    }\n",
       "\n",
       "    .dataframe tbody tr th {\n",
       "        vertical-align: top;\n",
       "    }\n",
       "\n",
       "    .dataframe thead th {\n",
       "        text-align: right;\n",
       "    }\n",
       "</style>\n",
       "<table border=\"1\" class=\"dataframe\">\n",
       "  <thead>\n",
       "    <tr style=\"text-align: right;\">\n",
       "      <th></th>\n",
       "      <th>City</th>\n",
       "      <th>Country</th>\n",
       "      <th>Temperature (F)</th>\n",
       "      <th>Date</th>\n",
       "      <th>Humidity %</th>\n",
       "      <th>Cloud</th>\n",
       "      <th>Wind Speed</th>\n",
       "      <th>Lat</th>\n",
       "      <th>Lng</th>\n",
       "    </tr>\n",
       "  </thead>\n",
       "  <tbody>\n",
       "    <tr>\n",
       "      <th>0</th>\n",
       "      <td>Sun City West</td>\n",
       "      <td>US</td>\n",
       "      <td>66.97</td>\n",
       "      <td>1613152235</td>\n",
       "      <td>34</td>\n",
       "      <td>33</td>\n",
       "      <td>7.90</td>\n",
       "      <td>33.6620</td>\n",
       "      <td>-112.3413</td>\n",
       "    </tr>\n",
       "    <tr>\n",
       "      <th>1</th>\n",
       "      <td>Half Moon Bay</td>\n",
       "      <td>US</td>\n",
       "      <td>53.96</td>\n",
       "      <td>1613152353</td>\n",
       "      <td>82</td>\n",
       "      <td>1</td>\n",
       "      <td>13.80</td>\n",
       "      <td>37.4636</td>\n",
       "      <td>-122.4286</td>\n",
       "    </tr>\n",
       "    <tr>\n",
       "      <th>2</th>\n",
       "      <td>Weyburn</td>\n",
       "      <td>CA</td>\n",
       "      <td>-16.60</td>\n",
       "      <td>1613152357</td>\n",
       "      <td>63</td>\n",
       "      <td>100</td>\n",
       "      <td>12.66</td>\n",
       "      <td>49.6668</td>\n",
       "      <td>-103.8511</td>\n",
       "    </tr>\n",
       "    <tr>\n",
       "      <th>6</th>\n",
       "      <td>Çermik</td>\n",
       "      <td>TR</td>\n",
       "      <td>48.20</td>\n",
       "      <td>1613152364</td>\n",
       "      <td>66</td>\n",
       "      <td>40</td>\n",
       "      <td>5.75</td>\n",
       "      <td>38.1361</td>\n",
       "      <td>39.4493</td>\n",
       "    </tr>\n",
       "    <tr>\n",
       "      <th>7</th>\n",
       "      <td>Longyearbyen</td>\n",
       "      <td>SJ</td>\n",
       "      <td>10.40</td>\n",
       "      <td>1613152369</td>\n",
       "      <td>79</td>\n",
       "      <td>90</td>\n",
       "      <td>16.11</td>\n",
       "      <td>78.2186</td>\n",
       "      <td>15.6401</td>\n",
       "    </tr>\n",
       "  </tbody>\n",
       "</table>\n",
       "</div>"
      ],
      "text/plain": [
       "            City Country  Temperature (F)        Date  Humidity %  Cloud  \\\n",
       "0  Sun City West      US            66.97  1613152235          34     33   \n",
       "1  Half Moon Bay      US            53.96  1613152353          82      1   \n",
       "2        Weyburn      CA           -16.60  1613152357          63    100   \n",
       "6         Çermik      TR            48.20  1613152364          66     40   \n",
       "7   Longyearbyen      SJ            10.40  1613152369          79     90   \n",
       "\n",
       "   Wind Speed      Lat       Lng  \n",
       "0        7.90  33.6620 -112.3413  \n",
       "1       13.80  37.4636 -122.4286  \n",
       "2       12.66  49.6668 -103.8511  \n",
       "6        5.75  38.1361   39.4493  \n",
       "7       16.11  78.2186   15.6401  "
      ]
     },
     "execution_count": 18,
     "metadata": {},
     "output_type": "execute_result"
    }
   ],
   "source": [
    "# Create Northern and Southern hemisphere dataframes based on homework instructions\n",
    "# Norther hemisphere is if lat >= 0 and Southern is if it is < 0\n",
    "northern_hemisphere = cleaned_data_df.loc[cleaned_data_df[\"Lat\"] >= 0]\n",
    "southern_hemisphere = cleaned_data_df.loc[cleaned_data_df[\"Lat\"] < 0]\n",
    "northern_hemisphere.head()"
   ]
  },
  {
   "cell_type": "code",
   "execution_count": 19,
   "metadata": {},
   "outputs": [
    {
     "name": "stdout",
     "output_type": "stream",
     "text": [
      "0     34.322320\n",
      "1     31.723630\n",
      "2     23.381793\n",
      "3     57.838287\n",
      "4     86.578156\n",
      "5     71.933116\n",
      "6     31.263924\n",
      "7      3.864414\n",
      "8      8.600242\n",
      "9     84.015218\n",
      "10    80.938366\n",
      "11    22.994477\n",
      "12    71.220964\n",
      "13    80.335313\n",
      "14    31.003754\n",
      "15    71.238806\n",
      "16    30.548013\n",
      "17    53.371789\n",
      "18    79.898985\n",
      "19    19.227895\n",
      "20    26.990537\n",
      "Name: Lat, dtype: float64\n",
      "y = -0.68x + 57.33\n"
     ]
    }
   ],
   "source": [
    "# Generate x and y values to start\n",
    "# These will be updated for each chart, but the rest of the setup will stay\n",
    "x_values = cleaned_data_df[\"Lat\"]\n",
    "y_values = cleaned_data_df[\"Temperature (F)\"]\n",
    "\n",
    "# Set up linear regression equation\n",
    "(slope, intercept, rvalue, pvalue, stderr) = linregress(x_values, y_values)\n",
    "\n",
    "# Get regression values\n",
    "regress_values = x_values * slope + intercept\n",
    "print(regress_values)\n",
    "\n",
    "# Create a line equation using the linregress values generated above\n",
    "line_eq = \"y = \" + str(round(slope,2)) + \"x + \" + str(round(intercept,2))\n",
    "print(line_eq)"
   ]
  },
  {
   "cell_type": "markdown",
   "metadata": {},
   "source": [
    "####  Northern Hemisphere - Max Temp vs. Latitude Linear Regression"
   ]
  },
  {
   "cell_type": "code",
   "execution_count": 20,
   "metadata": {},
   "outputs": [
    {
     "name": "stdout",
     "output_type": "stream",
     "text": [
      "The r-value is: 0.5870528175620436\n"
     ]
    },
    {
     "data": {
      "image/png": "[encoded data removed]",
      "text/plain": [
       "<Figure size 432x288 with 1 Axes>"
      ]
     },
     "metadata": {
      "needs_background": "light"
     },
     "output_type": "display_data"
    },
    {
     "data": {
      "text/plain": [
       "<Figure size 432x288 with 0 Axes>"
      ]
     },
     "metadata": {},
     "output_type": "display_data"
    }
   ],
   "source": [
    "# Update the x and y values\n",
    "x_values = northern_hemisphere[\"Lat\"]\n",
    "y_values = northern_hemisphere[\"Temperature (F)\"]\n",
    "\n",
    "# Generate the scatter plot\n",
    "plt.scatter(x_values,y_values)\n",
    "\n",
    "# Set up linear regression equation\n",
    "(slope, intercept, rvalue, pvalue, stderr) = linregress(x_values, y_values)\n",
    "# Get regression values\n",
    "regress_values = x_values * slope + intercept\n",
    "#print(regress_values)\n",
    "\n",
    "# Generate regression values\n",
    "plt.plot(x_values,regress_values,\"r-\")\n",
    "\n",
    "# Label plot and annotate the line equation\n",
    "plt.title(\"Northern Latitude v Temperature (F)\")\n",
    "plt.xlabel(\"Latitude\")\n",
    "plt.ylabel(\"Temperature (F)\")\n",
    "# Update the coordinates here to make sure the chart displays properly\n",
    "plt.annotate(line_eq,(20,0), fontsize=15, color=\"red\")\n",
    "\n",
    "# Print r value\n",
    "print(f\"The r-value is: {rvalue**2}\")\n",
    "\n",
    "# Show plot\n",
    "plt.show()\n",
    "\n",
    "# Save the plotted figure as .pngs\n",
    "plt.savefig(\"Images/Northern Latitude v Temperature (F).png\")"
   ]
  },
  {
   "cell_type": "markdown",
   "metadata": {},
   "source": [
    "### This above plot for the northern hemisphere shows the relationship between the change in latitude and how that potentially correlates to the temperature value recorded. It also shows a regression line to further display any correlation.\n",
    "The regression line clearly shows the hypothesis to be true as the temperature drops the further the latitude is from 0 (the equator). Also, the r value being pretty close to 1.0 each time I've run this with new random cities gives me confidence that the correlation between these values is strong."
   ]
  },
  {
   "cell_type": "markdown",
   "metadata": {},
   "source": [
    "####  Southern Hemisphere - Max Temp vs. Latitude Linear Regression"
   ]
  },
  {
   "cell_type": "code",
   "execution_count": 21,
   "metadata": {},
   "outputs": [
    {
     "name": "stdout",
     "output_type": "stream",
     "text": [
      "The r-value is: 0.14708237649750938\n"
     ]
    },
    {
     "data": {
      "image/png": "[encoded data removed]",
      "text/plain": [
       "<Figure size 432x288 with 1 Axes>"
      ]
     },
     "metadata": {
      "needs_background": "light"
     },
     "output_type": "display_data"
    },
    {
     "data": {
      "text/plain": [
       "<Figure size 432x288 with 0 Axes>"
      ]
     },
     "metadata": {},
     "output_type": "display_data"
    }
   ],
   "source": [
    "# Update the x and y values\n",
    "x_values = southern_hemisphere[\"Lat\"]\n",
    "y_values = southern_hemisphere[\"Temperature (F)\"]\n",
    "\n",
    "# Generate the scatter plot and regression line\n",
    "plt.scatter(x_values,y_values)\n",
    "\n",
    "# Set up linear regression equation\n",
    "(slope, intercept, rvalue, pvalue, stderr) = linregress(x_values, y_values)\n",
    "# Get regression values\n",
    "regress_values = x_values * slope + intercept\n",
    "#print(regress_values)\n",
    "\n",
    "# Generate regression values\n",
    "plt.plot(x_values,regress_values,\"r-\")\n",
    "\n",
    "# Label plot and annotate the line equation\n",
    "plt.title(\"Southern Latitude v Temperature (F)\")\n",
    "plt.xlabel(\"Latitude\")\n",
    "plt.ylabel(\"Temperature (F)\")\n",
    "# Update the coordinates here to make sure the chart displays properly\n",
    "plt.annotate(line_eq,(-30,60), fontsize=15, color=\"red\")\n",
    "\n",
    "# Print r value\n",
    "print(f\"The r-value is: {rvalue**2}\")\n",
    "\n",
    "# Show plot\n",
    "plt.show()\n",
    "\n",
    "# Save the plotted figure as .pngs\n",
    "plt.savefig(\"Images/Southern Latitude v Temperature (F).png\")"
   ]
  },
  {
   "cell_type": "markdown",
   "metadata": {},
   "source": [
    "### This above plot for the southern hemisphere shows the relationship between the change in latitude and how that potentially correlates to the temperature value recorded. It also shows a regression line to further display any correlation.\n",
    "The regression line again clearly shows the hypothesis to be true as the temperature rises the closer the latitude gets to 0 (the equator). Also, the r value again is on the 'higher' side as it closer to 1.0, shows that the correlation between these values is strong."
   ]
  },
  {
   "cell_type": "markdown",
   "metadata": {},
   "source": [
    "####  Northern Hemisphere - Humidity (%) vs. Latitude Linear Regression"
   ]
  },
  {
   "cell_type": "code",
   "execution_count": 22,
   "metadata": {},
   "outputs": [
    {
     "name": "stdout",
     "output_type": "stream",
     "text": [
      "The r-value is: 0.0033470793238510295\n"
     ]
    },
    {
     "data": {
      "image/png": "[encoded data removed]",
      "text/plain": [
       "<Figure size 432x288 with 1 Axes>"
      ]
     },
     "metadata": {
      "needs_background": "light"
     },
     "output_type": "display_data"
    },
    {
     "data": {
      "text/plain": [
       "<Figure size 432x288 with 0 Axes>"
      ]
     },
     "metadata": {},
     "output_type": "display_data"
    }
   ],
   "source": [
    "# Update the x and y values\n",
    "x_values = northern_hemisphere[\"Lat\"]\n",
    "y_values = northern_hemisphere[\"Humidity %\"]\n",
    "\n",
    "# Generate the scatter plot and regression line\n",
    "plt.scatter(x_values,y_values)\n",
    "\n",
    "# Set up linear regression equation\n",
    "(slope, intercept, rvalue, pvalue, stderr) = linregress(x_values, y_values)\n",
    "# Get regression values\n",
    "regress_values = x_values * slope + intercept\n",
    "#print(regress_values)\n",
    "\n",
    "# Generate regression values\n",
    "plt.plot(x_values,regress_values,\"r-\")\n",
    "\n",
    "# Label plot and annotate the line equation\n",
    "plt.title(\"Northern Latitude v Humidity %\")\n",
    "plt.xlabel(\"Latitude\")\n",
    "plt.ylabel(\"Humidity %\")\n",
    "# Update the coordinates here to make sure the chart displays properly\n",
    "plt.annotate(line_eq,(38, 50), fontsize=15, color=\"red\")\n",
    "\n",
    "# Print r value\n",
    "print(f\"The r-value is: {rvalue**2}\")\n",
    "\n",
    "# Show plot\n",
    "plt.show()\n",
    "\n",
    "# Save the plotted figure as .pngs\n",
    "plt.savefig(\"Images/Northern Latitude v Humidity %.png\")"
   ]
  },
  {
   "cell_type": "markdown",
   "metadata": {},
   "source": [
    "### This above plot for the northern hemisphere shows the relationship between the change in latitude and how that potentially correlates to the percent humidity value recorded. It also shows a regression line to further display any correlation.\n",
    "The regression leads me to believe that there is very little correlation between the latitude and the percent humidity. A low r value is a telling sign of this."
   ]
  },
  {
   "cell_type": "markdown",
   "metadata": {},
   "source": [
    "####  Southern Hemisphere - Humidity (%) vs. Latitude Linear Regression"
   ]
  },
  {
   "cell_type": "code",
   "execution_count": 23,
   "metadata": {},
   "outputs": [
    {
     "name": "stdout",
     "output_type": "stream",
     "text": [
      "The r-value is: 0.08889732076830126\n"
     ]
    },
    {
     "data": {
      "image/png": "[encoded data removed]",
      "text/plain": [
       "<Figure size 432x288 with 1 Axes>"
      ]
     },
     "metadata": {
      "needs_background": "light"
     },
     "output_type": "display_data"
    },
    {
     "data": {
      "text/plain": [
       "<Figure size 432x288 with 0 Axes>"
      ]
     },
     "metadata": {},
     "output_type": "display_data"
    }
   ],
   "source": [
    "# Update the x and y values\n",
    "x_values = southern_hemisphere[\"Lat\"]\n",
    "y_values = southern_hemisphere[\"Humidity %\"]\n",
    "\n",
    "# Generate the scatter plot and regression line\n",
    "plt.scatter(x_values,y_values)\n",
    "\n",
    "# Set up linear regression equation\n",
    "(slope, intercept, rvalue, pvalue, stderr) = linregress(x_values, y_values)\n",
    "# Get regression values\n",
    "regress_values = x_values * slope + intercept\n",
    "#print(regress_values)\n",
    "\n",
    "# Generate regression values\n",
    "plt.plot(x_values,regress_values,\"r-\")\n",
    "\n",
    "# Label plot and annotate the line equation\n",
    "plt.title(\"Southern Latitude v Humidity %\")\n",
    "plt.xlabel(\"Latitude\")\n",
    "plt.ylabel(\"Humidity %\")\n",
    "# Update the coordinates here to make sure the chart displays properly\n",
    "plt.annotate(line_eq,(-32,50), fontsize=15, color=\"red\")\n",
    "\n",
    "# Print r value\n",
    "print(f\"The r-value is: {rvalue**2}\")\n",
    "\n",
    "# Show plot\n",
    "plt.show()\n",
    "\n",
    "# Save the plotted figure as .pngs\n",
    "plt.savefig(\"Images/Southern Latitude v Humidity %.png\")"
   ]
  },
  {
   "cell_type": "markdown",
   "metadata": {},
   "source": [
    "### This above plot for the southern hemisphere shows the relationship between the change in latitude and how that potentially correlates to the percent humidity value recorded. It also shows a regression line to further display any correlation.\n",
    "While there is a stronger correlation between the latitude and humidity in the southern hemisphere data gathered, the low r value and slope of the regression line indicate that this is still a weak correlation."
   ]
  },
  {
   "cell_type": "markdown",
   "metadata": {},
   "source": [
    "####  Northern Hemisphere - Cloudiness (%) vs. Latitude Linear Regression"
   ]
  },
  {
   "cell_type": "code",
   "execution_count": 24,
   "metadata": {},
   "outputs": [
    {
     "name": "stdout",
     "output_type": "stream",
     "text": [
      "The r-value is: 0.19434831778360545\n"
     ]
    },
    {
     "data": {
      "image/png": "[encoded data removed]",
      "text/plain": [
       "<Figure size 432x288 with 1 Axes>"
      ]
     },
     "metadata": {
      "needs_background": "light"
     },
     "output_type": "display_data"
    },
    {
     "data": {
      "text/plain": [
       "<Figure size 432x288 with 0 Axes>"
      ]
     },
     "metadata": {},
     "output_type": "display_data"
    }
   ],
   "source": [
    "# Update the x and y values\n",
    "x_values = northern_hemisphere[\"Lat\"]\n",
    "y_values = northern_hemisphere[\"Cloud\"]\n",
    "\n",
    "# Generate the scatter plot and regression line\n",
    "plt.scatter(x_values,y_values)\n",
    "\n",
    "# Set up linear regression equation\n",
    "(slope, intercept, rvalue, pvalue, stderr) = linregress(x_values, y_values)\n",
    "# Get regression values\n",
    "regress_values = x_values * slope + intercept\n",
    "#print(regress_values)\n",
    "\n",
    "# Generate regression values\n",
    "plt.plot(x_values,regress_values,\"r-\")\n",
    "\n",
    "# Label plot and annotate the line equation\n",
    "plt.title(\"Northern Latitude v Cloudiness\")\n",
    "plt.xlabel(\"Latitude\")\n",
    "plt.ylabel(\"Cloudiness\")\n",
    "# Update the coordinates here to make sure the chart displays properly\n",
    "plt.annotate(line_eq,(35,15), fontsize=15, color=\"red\")\n",
    "\n",
    "# Print r value\n",
    "print(f\"The r-value is: {rvalue**2}\")\n",
    "\n",
    "# Show plot\n",
    "plt.show()\n",
    "\n",
    "# Save the plotted figure as .pngs\n",
    "plt.savefig(\"Images/Northern Latitude v Cloudiness.png\")"
   ]
  },
  {
   "cell_type": "markdown",
   "metadata": {},
   "source": [
    "### This above plot for the northern hemisphere shows the relationship between the change in latitude and how that potentially correlates to the cloudiness value recorded. It also shows a regression line to further display any correlation.\n",
    "There is a positive correlation displayed here, however it is a weak correlation. Leading to the conclusion that the cloudiness and latitude values do not necessarily effect one another."
   ]
  },
  {
   "cell_type": "markdown",
   "metadata": {},
   "source": [
    "####  Southern Hemisphere - Cloudiness (%) vs. Latitude Linear Regression"
   ]
  },
  {
   "cell_type": "code",
   "execution_count": 25,
   "metadata": {},
   "outputs": [
    {
     "name": "stdout",
     "output_type": "stream",
     "text": [
      "The r-value is: 0.026624468047444515\n"
     ]
    },
    {
     "data": {
      "image/png": "[encoded data removed]",
      "text/plain": [
       "<Figure size 432x288 with 1 Axes>"
      ]
     },
     "metadata": {
      "needs_background": "light"
     },
     "output_type": "display_data"
    },
    {
     "data": {
      "text/plain": [
       "<Figure size 432x288 with 0 Axes>"
      ]
     },
     "metadata": {},
     "output_type": "display_data"
    }
   ],
   "source": [
    "# Update the x and y values\n",
    "x_values = southern_hemisphere[\"Lat\"]\n",
    "y_values = southern_hemisphere[\"Cloud\"]\n",
    "\n",
    "# Generate the scatter plot and regression line\n",
    "plt.scatter(x_values,y_values)\n",
    "\n",
    "# Set up linear regression equation\n",
    "(slope, intercept, rvalue, pvalue, stderr) = linregress(x_values, y_values)\n",
    "# Get regression values\n",
    "regress_values = x_values * slope + intercept\n",
    "#print(regress_values)\n",
    "\n",
    "# Generate regression values\n",
    "plt.plot(x_values,regress_values,\"r-\")\n",
    "\n",
    "# Label plot and annotate the line equation\n",
    "plt.title(\"Southern Latitude v Cloudiness\")\n",
    "plt.xlabel(\"Latitude\")\n",
    "plt.ylabel(\"Cloudiness\")\n",
    "# Update the coordinates here to make sure the chart displays properly\n",
    "plt.annotate(line_eq,(-32,20), fontsize=15, color=\"red\")\n",
    "\n",
    "# Print r value\n",
    "print(f\"The r-value is: {rvalue**2}\")\n",
    "\n",
    "# Show plot\n",
    "plt.show()\n",
    "\n",
    "# Save the plotted figure as .pngs\n",
    "plt.savefig(\"Images/Southern Latitude v Cloudiness.png\")"
   ]
  },
  {
   "cell_type": "markdown",
   "metadata": {},
   "source": [
    "### This above plot for the southern hemisphere shows the relationship between the change in latitude and how that potentially correlates to the temperature value recorded. It also shows a regression line to further display any correlation.\n",
    "There is a negative correlation displayed here, however it is a weak correlation. Leading to the conclusion that the cloudiness and latitude values do not necessarily effect one another."
   ]
  },
  {
   "cell_type": "markdown",
   "metadata": {},
   "source": [
    "####  Northern Hemisphere - Wind Speed (mph) vs. Latitude Linear Regression"
   ]
  },
  {
   "cell_type": "code",
   "execution_count": 26,
   "metadata": {},
   "outputs": [
    {
     "name": "stdout",
     "output_type": "stream",
     "text": [
      "The r-value is: 0.0030039424746621606\n"
     ]
    },
    {
     "data": {
      "image/png": "[encoded data removed]",
      "text/plain": [
       "<Figure size 432x288 with 1 Axes>"
      ]
     },
     "metadata": {
      "needs_background": "light"
     },
     "output_type": "display_data"
    },
    {
     "data": {
      "text/plain": [
       "<Figure size 432x288 with 0 Axes>"
      ]
     },
     "metadata": {},
     "output_type": "display_data"
    }
   ],
   "source": [
    "# Update the x and y values\n",
    "x_values = northern_hemisphere[\"Lat\"]\n",
    "y_values = northern_hemisphere[\"Wind Speed\"]\n",
    "\n",
    "# Generate the scatter plot and regression line\n",
    "plt.scatter(x_values,y_values)\n",
    "\n",
    "# Set up linear regression equation\n",
    "(slope, intercept, rvalue, pvalue, stderr) = linregress(x_values, y_values)\n",
    "# Get regression values\n",
    "regress_values = x_values * slope + intercept\n",
    "#print(regress_values)\n",
    "\n",
    "# Generate regression values\n",
    "plt.plot(x_values,regress_values,\"r-\")\n",
    "\n",
    "# Label plot and annotate the line equation\n",
    "plt.title(\"Northern Latitude v Wind Speed\")\n",
    "plt.xlabel(\"Latitude\")\n",
    "plt.ylabel(\"Wind Speed\")\n",
    "# Update the coordinates here to make sure the chart displays properly\n",
    "plt.annotate(line_eq,(35,2), fontsize=15, color=\"red\")\n",
    "\n",
    "# Print r value\n",
    "print(f\"The r-value is: {rvalue**2}\")\n",
    "\n",
    "# Show plot\n",
    "plt.show()\n",
    "\n",
    "# Save the plotted figure as .pngs\n",
    "plt.savefig(\"Images/Northern Latitude v Wind Speed.png\")"
   ]
  },
  {
   "cell_type": "markdown",
   "metadata": {},
   "source": [
    "### This above plot for the northern hemisphere shows the relationship between the change in latitude and how that potentially correlates to the wind speed value recorded. It also shows a regression line to further display any correlation.\n",
    "The chart and regression line show that in the northern hemisphere there is a weak, yet slightly positive correlation between the wind speed recorded and the latitude. The r value being very close to 0 is also telling that this correlation is very minimal."
   ]
  },
  {
   "cell_type": "markdown",
   "metadata": {},
   "source": [
    "####  Southern Hemisphere - Wind Speed (mph) vs. Latitude Linear Regression"
   ]
  },
  {
   "cell_type": "code",
   "execution_count": 27,
   "metadata": {},
   "outputs": [
    {
     "name": "stdout",
     "output_type": "stream",
     "text": [
      "The r-value is: 0.004909285856660392\n"
     ]
    },
    {
     "data": {
      "image/png": "[encoded data removed]",
      "text/plain": [
       "<Figure size 432x288 with 1 Axes>"
      ]
     },
     "metadata": {
      "needs_background": "light"
     },
     "output_type": "display_data"
    },
    {
     "data": {
      "text/plain": [
       "<Figure size 432x288 with 0 Axes>"
      ]
     },
     "metadata": {},
     "output_type": "display_data"
    }
   ],
   "source": [
    "# Update the x and y values\n",
    "x_values = southern_hemisphere[\"Lat\"]\n",
    "y_values = southern_hemisphere[\"Wind Speed\"]\n",
    "\n",
    "# Generate the scatter plot and regression line\n",
    "plt.scatter(x_values,y_values)\n",
    "\n",
    "# Set up linear regression equation\n",
    "(slope, intercept, rvalue, pvalue, stderr) = linregress(x_values, y_values)\n",
    "# Get regression values\n",
    "regress_values = x_values * slope + intercept\n",
    "#print(regress_values)\n",
    "\n",
    "# Generate regression values\n",
    "plt.plot(x_values,regress_values,\"r-\")\n",
    "\n",
    "# Label plot and annotate the line equation\n",
    "plt.title(\"Southern Latitude v Wind Speed\")\n",
    "plt.xlabel(\"Latitude\")\n",
    "plt.ylabel(\"Wind Speed\")\n",
    "# Update the coordinates here to make sure the chart displays properly\n",
    "plt.annotate(line_eq,(-50, 8), fontsize=15, color=\"red\")\n",
    "\n",
    "# Print r value\n",
    "print(f\"The r-value is: {rvalue**2}\")\n",
    "\n",
    "# Show plot\n",
    "plt.show()\n",
    "\n",
    "# Save the plotted figure as .pngs\n",
    "plt.savefig(\"Images/Southern Latitude v Wind Speed.png\")"
   ]
  },
  {
   "cell_type": "markdown",
   "metadata": {},
   "source": [
    "### This above plot for the southern hemisphere shows the relationship between the change in latitude and how that potentially correlates to the temperature value recorded. It also shows a regression line to further display any correlation.\n",
    "The chart and regression line show that in the southern hemisphere there is a weak, yet slightly negative correlation between the wind speed recorded and the latitude. The r value being very close to 0 is also telling that this correlation is very minimal."
   ]
  },
  {
   "cell_type": "code",
   "execution_count": null,
   "metadata": {},
   "outputs": [],
   "source": []
  }
 ],
 "metadata": {
  "anaconda-cloud": {},
  "kernel_info": {
   "name": "python3"
  },
  "kernelspec": {
   "display_name": "Python 3",
   "language": "python",
   "name": "python3"
  },
  "language_info": {
   "codemirror_mode": {
    "name": "ipython",
    "version": 3
   },
   "file_extension": ".py",
   "mimetype": "text/x-python",
   "name": "python",
   "nbconvert_exporter": "python",
   "pygments_lexer": "ipython3",
   "version": "3.6.10"
  },
  "latex_envs": {
   "LaTeX_envs_menu_present": true,
   "autoclose": false,
   "autocomplete": true,
   "bibliofile": "biblio.bib",
   "cite_by": "apalike",
   "current_citInitial": 1,
   "eqLabelWithNumbers": true,
   "eqNumInitial": 1,
   "hotkeys": {
    "equation": "Ctrl-E",
    "itemize": "Ctrl-I"
   },
   "labels_anchors": false,
   "latex_user_defs": false,
   "report_style_numbering": false,
   "user_envs_cfg": false
  },
  "nteract": {
   "version": "0.12.3"
  }
 },
 "nbformat": 4,
 "nbformat_minor": 2
}
