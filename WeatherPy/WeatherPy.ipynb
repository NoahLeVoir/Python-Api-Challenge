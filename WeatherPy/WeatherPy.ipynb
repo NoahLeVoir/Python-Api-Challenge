{
 "cells": [
  {
   "cell_type": "markdown",
   "metadata": {},
   "source": [
    "# WeatherPy\n",
    "----\n",
    "\n",
    "#### Note\n",
    "* Instructions have been included for each segment. You do not have to follow them exactly, but they are included to help you think through the steps."
   ]
  },
  {
   "cell_type": "markdown",
   "metadata": {},
   "source": [
    "## Observations and Analysis\n",
    "\n",
    "### 1.)\n",
    "The temperature does increase the closer the latitude is to the equator. We can see through both the overall, as well as the northern and southern hemisphere split charts. As the latitude value approaches 0, the temperature becomes consistently higher. This proves the initial hypothesis of the homework to be true in an statistical and easy to digest visual way!\n",
    "\n",
    "### 2.)\n",
    "Something that was surprising to me was that humidity % did not have a strong correlation with the latitude. I am unsure why, but I assumed it would at the start of this assignment. But as the graphs show, humidity is not necassarily dictatated by latitude but more likely other factors, perhaps by the amount of water to land mass in an area. This could be why we see such dispersion in our charts.\n",
    "\n",
    "### 3.)\n",
    "Both cloudiness and wind speed did not seem to have any correlation with latitude. Wind speed is more a factor of pressure currents which, to my knowledge are not effected by the tilt of the earth. This is likely why temperature is so closely correlated with latitude but the other values tested in this homework are not as much."
   ]
  },
  {
   "cell_type": "code",
   "execution_count": 1,
   "metadata": {},
   "outputs": [],
   "source": [
    "# Dependencies and Setup\n",
    "import matplotlib.pyplot as plt\n",
    "import pandas as pd\n",
    "import numpy as np\n",
    "import requests\n",
    "import json\n",
    "import time\n",
    "from scipy.stats import linregress\n",
    "\n",
    "# Import API key\n",
    "from config import weather_api_key"
   ]
  },
  {
   "cell_type": "code",
   "execution_count": 2,
   "metadata": {
    "scrolled": true
   },
   "outputs": [],
   "source": [
    "# Incorporated citipy to determine city based on latitude and longitude\n",
    "from citipy import citipy\n",
    "\n",
    "# Output File (CSV)\n",
    "output_data_file = \"output_data/cities.csv\"\n",
    "\n",
    "# Range of latitudes and longitudes\n",
    "lat_range = (-90, 90)\n",
    "lng_range = (-180, 180)"
   ]
  },
  {
   "cell_type": "markdown",
   "metadata": {},
   "source": [
    "## Generate Cities List"
   ]
  },
  {
   "cell_type": "code",
   "execution_count": 3,
   "metadata": {},
   "outputs": [
    {
     "name": "stdout",
     "output_type": "stream",
     "text": [
      "654\n",
      "['dikson', 'busselton', 'lompoc', 'nikolskoye', 'adavere', 'alofi', 'nalgonda', 'sabang', 'pitanga', 'santiago', 'tekkali', 'paamiut', 'muisne', 'cape town', 'mataura', 'albany', 'labutta', 'taolanaro', 'zittau', 'leningradskiy', 'ushuaia', 'erenhot', 'qaanaaq', 'kushima', 'adrar', 'rafsanjan', 'lillehammer', 'vaini', 'losevo', 'wuwei', 'barentsburg', 'punta arenas', 'morrisburg', 'arraial do cabo', 'port alfred', 'rikitea', 'sokolo', 'torquay', 'ponta do sol', 'amderma', 'nanortalik', 'illoqqortoormiut', 'puerto ayora', 'sorkjosen', 'longyearbyen', 'komsomolskiy', 'parfenyevo', 'togur', 'cidreira', 'hermanus', 'hobyo', 'san quintin', 'port elizabeth', 'halifax', 'aykhal', 'general jose eduvigis diaz', 'sainte-claire', 'gorele', 'oranjemund', 'pemberton', 'buala', 'avarua', 'sao filipe', 'puri', 'kichera', 'ugoofaaru', 'tasiilaq', 'port hawkesbury', 'liepaja', 'mabaruma', 'rock island', 'rebrikha', 'samusu', 'chuy', 'ribeira grande', 'kahului', 'port blair', 'sola', 'finschhafen', 'la malbaie', 'ocho rios', 'hami', 'castro', 'jamestown', 'lorengau', 'hilo', 'butaritari', 'katsuura', 'north platte', 'kieta', 'yellowknife', 'meulaboh', 'mys shmidta', 'usinsk', 'hobart', 'punta alta', 'chapais', 'upernavik', 'new norfolk', 'evinayong', 'thompson', 'tias', 'smithers', 'hita', 'mar del plata', 'clyde river', 'tiksi', 'san ramon de la nueva oran', 'marihatag', 'sandpoint', 'the pas', 'charters towers', 'guerrero negro', 'belushya guba', 'mongo', 'bluff', 'lisakovsk', 'gamba', 'kutum', 'atuona', 'yarada', 'huajuapan', 'ambon', 'tuatapere', 'kaeo', 'soyo', 'souillac', 'hithadhoo', 'milkovo', 'barrow', 'chokurdakh', 'shitanjing', 'yulara', 'meadow lake', 'sitka', 'bengkulu', 'balabac', 'luderitz', 'tasbuget', 'lokosovo', 'estelle', 'kamina', 'ishigaki', 'nova olinda do norte', 'kapaa', 'komsomolskoye', 'nizhneyansk', 'georgetown', 'mutsamudu', 'airai', 'saskylakh', 'vaitupu', 'derzhavinsk', 'vigrestad', 'lusambo', 'kendari', 'narsaq', 'saint george', 'sorong', 'elat', 'nalut', 'lakes entrance', 'dekoa', 'burica', 'kodiak', 'beyneu', 'wundanyi', 'blagoyevo', 'bundibugyo', 'mayskiy', 'kinsale', 'isangel', 'sulangan', 'lebu', 'sur', 'fortuna', 'vostok', 'manaure', 'kristinehamn', 'kulhudhuffushi', 'provideniya', 'lagoa', 'mindelo', 'notre-dame-du-lac', 'alekseyevsk', 'tuktoyaktuk', 'rio grande', 'maghama', 'betanzos', 'bredasdorp', 'port hardy', 'te anau', 'coihaique', 'pagudpud', 'salta', 'karkaralinsk', 'dawson creek', 'umzimvubu', 'coatepec harinas', 'natal', 'tsihombe', 'fez', 'xiaoyi', 'itarema', 'brae', 'pecos', 'bambous virieux', 'kruisfontein', 'jizan', 'necochea', 'cheney', 'kathu', 'sakakah', 'westport', 'xining', 'zhanaozen', 'tarakan', 'mosta', 'kaitangata', 'santo andre', 'itoman', 'jaguaruna', 'san andres', 'agua dulce', 'bandrele', 'basoko', 'esperance', 'belmonte', 'coquimbo', 'east london', 'vanavara', 'ancud', 'manicore', 'louisbourg', 'chekhov', 'palmer', 'tiarei', 'liyang', 'grand river south east', 'reo', 'shimoda', 'saint-philippe', 'mezen', 'zhigansk', 'whitley bay', 'manta', 'bethel', 'ketchikan', 'bartlesville', 'berlevag', 'tacuarembo', 'oktyabrskiy', 'vidisha', 'knysna', 'plettenberg bay', 'carnarvon', 'severo-kurilsk', 'jalu', 'tessalit', 'pisticci', 'grand gaube', 'burnie', 'wakefield', 'dzhebariki-khaya', 'tallahassee', 'dongsheng', 'bykovo', 'baculin', 'menzelinsk', 'bulolo', 'wadi musa', 'yatou', 'katherine', 'goderich', 'myre', 'utiroa', 'qurbah', 'sentyabrskiy', 'korla', 'slavutych', 'mecca', 'batagay', 'pevek', 'mayor pablo lagerenza', 'saint-louis', 'mangrol', 'sao gabriel da cachoeira', 'attawapiskat', 'alice springs', 'crotone', 'cherskiy', 'kaffrine', 'nemuro', 'sisimiut', 'svetlaya', 'beipiao', 'klaksvik', 'skibbereen', 'zorritos', 'palora', 'constitucion', 'awjilah', 'chicama', 'yar-sale', 'japura', 'yingcheng', 'zatoka', 'lavrentiya', 'vestmannaeyjar', 'cartagena del chaira', 'san fernando', 'karratha', 'kavieng', 'norman wells', 'bundaberg', 'abu samrah', 'vasylivka', 'mehamn', 'monroe', 'macapa', 'benguela', 'hihifo', 'bonthe', 'namibe', 'koulikoro', 'ust-kulom', 'yima', 'mastic beach', 'marcona', 'zhigalovo', 'mahebourg', 'mahibadhoo', 'jutai', 'karamay', 'dunedin', 'paducah', 'kyren', 'moose factory', 'beloha', 'providencia', 'khatanga', 'nikel', 'lata', 'misratah', 'higuey', 'xixiang', 'warqla', 'borogontsy', 'encheng', 'cabo san lucas', 'sretensk', 'saleaula', 'bryukhovychi', 'jam sahib', 'hudson bay', 'hasaki', 'safaga', 'san gavino monreale', 'palmas', 'morgan city', 'faya', 'krasnoselkup', 'takoradi', 'tahta', 'solovetskiy', 'pontianak', 'peniche', 'sikea', 'qaqortoq', 'koungheul', 'la ronge', 'tura', 'charleston', 'port macquarie', 'abbeville', 'yining', 'bowen', 'paita', 'port augusta', 'florianopolis', 'klichka', 'los llanos de aridane', 'husavik', 'caravelas', 'armacao dos buzios', 'batemans bay', 'ahipara', 'karaul', 'hamamatsu', 'lidkoping', 'otavi', 'kembe', 'ilulissat', 'kazalinsk', 'zachagansk', 'linkou', 'codrington', 'esmeraldas', 'majene', 'vicksburg', 'mackay', 'sibu', 'matagami', 'vila franca do campo', 'asau', 'srednekolymsk', 'kondinskoye', 'vestmanna', 'poindimie', 'virginia beach', 'shkotovo-26', 'olafsvik', 'rabo de peixe', 'mushie', 'trincomalee', 'rawson', 'kishtwar', 'fort dodge', 'valparaiso', 'dali', 'rockhampton', 'sayat', 'staryy nadym', 'burg', 'itarantim', 'kroya', 'anloga', 'saint combs', 'saint-andre-les-vergers', 'inhambane', 'emerald', 'green river', 'pangnirtung', 'toora-khem', 'san cristobal', 'christchurch', 'pahrump', 'uige', 'cayenne', 'longkou', 'vylgort', 'huanren', 'krasnovishersk', 'havoysund', 'faanui', 'pangoa', 'luanda', 'la libertad', 'sao jose da coroa grande', 'pilar do sul', 'luganville', 'talcahuano', 'daru', 'contai', 'hamilton', 'samarai', 'tumannyy', 'nam tha', 'inongo', 'zhangye', 'galveston', 'tateyama', 'namuac', 'alexandria', 'bokovskaya', 'ulladulla', 'riverton', 'bondoukou', 'cape elizabeth', 'mulege', 'dingle', 'fairbanks', 'labuhan', 'savalou', 'comodoro rivadavia', 'pudozh', 'izvoarele sucevei', 'mumbwa', 'acajutla', 'pochutla', 'melnikovo', 'ludhiana', 'hualmay', 'naze', 'vanimo', 'sinnamary', 'banjar', 'tynda', 'palencia', 'salalah', 'kupang', 'lulea', 'victoria', 'oranjestad', 'mount gambier', 'arandis', 'nome', 'coihueco', 'polunochnoye', 'merauke', 'aswan', 'sioni', 'laguna', 'port lincoln', 'wakkanai', 'empangeni', 'sechura', 'ossora', 'robertsport', 'flinders', 'afmadu', 'gorno-chuyskiy', 'bathsheba', 'dong xoai', 'karema', 'kisangani', 'nieuw nickerie', 'rio gallegos', 'porosozero', 'kyra', 'aksu', 'ijaki', 'alugan', 'shirokiy', 'zalantun', 'tazovskiy', 'ovruch', 'nuuk', 'ostrovnoy', 'edgecumbe', 'severnoye', 'kanigoro', 'vysokogornyy', 'gizo', 'bolintinu-din-vale', 'glens falls', 'dalbandin', 'pitimbu', 'langham', 'machico', 'coolum beach', 'ouahigouya', 'mariestad', 'dengzhou', 'kattivakkam', 'artyom', 'rucheng', 'atar', 'chachapoyas', 'dubbo', 'itapirapua', 'tan an', 'boralday', 'ngukurr', 'nieuw amsterdam', 'martapura', 'kenai', 'mazamari', 'bolungarvik', 'jiangyou', 'mhlume', 'sayyan', 'homer', 'torbay', 'tekeli', 'baraboo', 'lucapa', 'mendi', 'verkhnevilyuysk', 'chaman', 'billings', 'solnechnyy', 'baykit', 'jiuquan', 'verkhnyaya inta', 'okha', 'port hueneme', 'margasari', 'bambari', 'mount isa', 'moissala', 'hofn', 'campbellsville', 'tahe', 'vila', 'bereda', 'vardo', 'anderson', 'buraydah', 'kumta', 'ponta delgada', 'sao joao da barra', 'chacabuco', 'vanderhoof', 'hervey bay', 'zhaotong', 'henties bay', 'chernyshevskiy', 'avera', 'kashan', 'alta floresta', 'balkhash', 'college', 'at-bashi', 'upata', 'barawe', 'forst', 'yemtsa', 'auki', 'poya', 'liverpool', 'lafiagi', 'yantal', 'don marcelino', 'todos santos', 'padang', 'banda aceh', 'banmo', 'russell', 'teshie', 'suntar', 'kommunar', 'okhotsk', 'trairi', 'mwene-ditu', 'maniitsoq', 'nantucket', 'tautira', 'zermatt', 'khani', 'umm durman', 'gweta', 'totness', 'mokhsogollokh', 'borba', 'mago', 'haines junction', 'walvis bay', 'vestbygda', 'touros', 'saint anthony', 'prado', 'viransehir', 'salto del guaira', 'raga', 'koutsouras', 'asosa', 'camacha', 'iraan', 'itajai', 'quatre cocos', 'kallithea', 'matara', 'hongjiang']\n"
     ]
    }
   ],
   "source": [
    "# List for holding lat_lngs and cities\n",
    "lat_lngs = []\n",
    "cities = []\n",
    "\n",
    "# Create a set of random lat and lng combinations\n",
    "# Returning size of random selection back to original for hw submission\n",
    "lats = np.random.uniform(lat_range[0], lat_range[1], size=1500)\n",
    "lngs = np.random.uniform(lng_range[0], lng_range[1], size=1500)\n",
    "lat_lngs = zip(lats, lngs)\n",
    "\n",
    "# Identify nearest city for each lat, lng combination\n",
    "for lat_lng in lat_lngs:\n",
    "    city = citipy.nearest_city(lat_lng[0], lat_lng[1]).city_name\n",
    "    \n",
    "    # If the city is unique, then add it to a our cities list\n",
    "    if city not in cities:\n",
    "        cities.append(city)\n",
    "\n",
    "# Print the city count to confirm sufficient count\n",
    "print(len(cities))\n",
    "print(cities)"
   ]
  },
  {
   "cell_type": "markdown",
   "metadata": {},
   "source": [
    "### Perform API Calls\n",
    "* Perform a weather check on each city using a series of successive API calls.\n",
    "* Include a print log of each city as it'sbeing processed (with the city number and city name).\n"
   ]
  },
  {
   "cell_type": "code",
   "execution_count": 4,
   "metadata": {
    "scrolled": true
   },
   "outputs": [],
   "source": [
    "# Create the base url and query url that will be used for the API call\n",
    "base_url = \"http://api.openweathermap.org/data/2.5/weather?q=\"\n",
    "# Defult is kelvin, so I need to update units to read fahrenheit\n",
    "units = \"imperial\"\n",
    "query_url = base_url + city + \"&appid=\" + weather_api_key + \"&units=\" + units"
   ]
  },
  {
   "cell_type": "code",
   "execution_count": 5,
   "metadata": {},
   "outputs": [
    {
     "name": "stdout",
     "output_type": "stream",
     "text": [
      "{\n",
      "    \"base\": \"stations\",\n",
      "    \"clouds\": {\n",
      "        \"all\": 0\n",
      "    },\n",
      "    \"cod\": 200,\n",
      "    \"coord\": {\n",
      "        \"lat\": 71.0357,\n",
      "        \"lon\": 27.8492\n",
      "    },\n",
      "    \"dt\": 1613157825,\n",
      "    \"id\": 778707,\n",
      "    \"main\": {\n",
      "        \"feels_like\": 2.62,\n",
      "        \"humidity\": 73,\n",
      "        \"pressure\": 1017,\n",
      "        \"temp\": 15.62,\n",
      "        \"temp_max\": 23,\n",
      "        \"temp_min\": 14\n",
      "    },\n",
      "    \"name\": \"Mehamn\",\n",
      "    \"sys\": {\n",
      "        \"country\": \"NO\",\n",
      "        \"id\": 1620,\n",
      "        \"sunrise\": 1613113700,\n",
      "        \"sunset\": 1613137051,\n",
      "        \"type\": 1\n",
      "    },\n",
      "    \"timezone\": 3600,\n",
      "    \"visibility\": 10000,\n",
      "    \"weather\": [\n",
      "        {\n",
      "            \"description\": \"clear sky\",\n",
      "            \"icon\": \"01n\",\n",
      "            \"id\": 800,\n",
      "            \"main\": \"Clear\"\n",
      "        }\n",
      "    ],\n",
      "    \"wind\": {\n",
      "        \"deg\": 250,\n",
      "        \"speed\": 12.66\n",
      "    }\n",
      "}\n"
     ]
    }
   ],
   "source": [
    "# Perform a GET request\n",
    "response = requests.get(query_url)\n",
    "\n",
    "# Convert the response to a JSON\n",
    "weather_data = response.json()\n",
    "\n",
    "# To print in a more readable way, use json.dumps with indent and sort_keys\n",
    "print(json.dumps(weather_data, indent = 4, sort_keys = True))"
   ]
  },
  {
   "cell_type": "code",
   "execution_count": 6,
   "metadata": {},
   "outputs": [
    {
     "name": "stdout",
     "output_type": "stream",
     "text": [
      "Currently processing Mehamn, ID Number:1620\n"
     ]
    }
   ],
   "source": [
    "# Print the city number and name while it is being processed\n",
    "# I've found that sometimes there is no city ID listed so I added this try logic to ensure the cell runs regardless\n",
    "try:\n",
    "    city_num = weather_data[\"sys\"][\"id\"]\n",
    "except(KeyError, IndexError):\n",
    "    city_num = \"NA\"\n",
    "city_name = weather_data[\"name\"]\n",
    "print(f\"Currently processing {city_name}, ID Number:{city_num}\")"
   ]
  },
  {
   "cell_type": "code",
   "execution_count": 7,
   "metadata": {},
   "outputs": [
    {
     "name": "stdout",
     "output_type": "stream",
     "text": [
      "Requesting weather information from 654 random cities around the world\n",
      "-----------------------------\n",
      "1 of 654: Unfortunately unable to pull data for dikson, Skipping dikson for now\n",
      "2 of 654: Currently processing busselton, ID Number:2020551\n",
      "3 of 654: Currently processing lompoc, ID Number:4747\n",
      "4 of 654: Currently processing nikolskoye, ID Number:8926\n",
      "5 of 654: Currently processing adavere, ID Number:1335\n",
      "6 of 654: Currently processing alofi, ID Number:7306\n",
      "7 of 654: Unfortunately unable to pull data for nalgonda, Skipping nalgonda for now\n",
      "8 of 654: Unfortunately unable to pull data for sabang, Skipping sabang for now\n",
      "9 of 654: Unfortunately unable to pull data for pitanga, Skipping pitanga for now\n",
      "10 of 654: Currently processing santiago, ID Number:8506\n",
      "11 of 654: Unfortunately unable to pull data for tekkali, Skipping tekkali for now\n",
      "12 of 654: Unfortunately unable to pull data for paamiut, Skipping paamiut for now\n",
      "13 of 654: Currently processing muisne, ID Number:8550\n",
      "14 of 654: Currently processing cape town, ID Number:1899\n",
      "15 of 654: Currently processing mataura, ID Number:2008959\n",
      "16 of 654: Currently processing albany, ID Number:19530\n",
      "17 of 654: Unfortunately unable to pull data for labutta, Skipping labutta for now\n",
      "18 of 654: Unfortunately unable to pull data for taolanaro, Skipping taolanaro for now\n",
      "19 of 654: Currently processing zittau, ID Number:2012943\n",
      "20 of 654: Unfortunately unable to pull data for leningradskiy, Skipping leningradskiy for now\n",
      "21 of 654: Currently processing ushuaia, ID Number:8303\n",
      "22 of 654: Unfortunately unable to pull data for erenhot, Skipping erenhot for now\n",
      "23 of 654: Unfortunately unable to pull data for qaanaaq, Skipping qaanaaq for now\n",
      "24 of 654: Unfortunately unable to pull data for kushima, Skipping kushima for now\n",
      "25 of 654: Unfortunately unable to pull data for adrar, Skipping adrar for now\n",
      "26 of 654: Unfortunately unable to pull data for rafsanjan, Skipping rafsanjan for now\n",
      "27 of 654: Unfortunately unable to pull data for lillehammer, Skipping lillehammer for now\n",
      "28 of 654: Currently processing vaini, ID Number:7285\n",
      "29 of 654: Unfortunately unable to pull data for losevo, Skipping losevo for now\n",
      "30 of 654: Unfortunately unable to pull data for wuwei, Skipping wuwei for now\n",
      "31 of 654: Unfortunately unable to pull data for barentsburg, Skipping barentsburg for now\n",
      "32 of 654: Currently processing punta arenas, ID Number:8487\n",
      "33 of 654: Currently processing morrisburg, ID Number:4986\n",
      "34 of 654: Currently processing arraial do cabo, ID Number:8326\n",
      "35 of 654: Currently processing port alfred, ID Number:2011314\n",
      "36 of 654: Unfortunately unable to pull data for rikitea, Skipping rikitea for now\n",
      "37 of 654: Unfortunately unable to pull data for sokolo, Skipping sokolo for now\n",
      "38 of 654: Currently processing torquay, ID Number:2019244\n",
      "39 of 654: Currently processing ponta do sol, ID Number:2008291\n",
      "40 of 654: Unfortunately unable to pull data for amderma, Skipping amderma for now\n",
      "41 of 654: Unfortunately unable to pull data for nanortalik, Skipping nanortalik for now\n",
      "42 of 654: Unfortunately unable to pull data for illoqqortoormiut, Skipping illoqqortoormiut for now\n",
      "43 of 654: Currently processing puerto ayora, ID Number:8521\n",
      "44 of 654: Currently processing sorkjosen, ID Number:1672\n",
      "45 of 654: Currently processing longyearbyen, ID Number:1663\n",
      "46 of 654: Currently processing komsomolskiy, ID Number:9011\n",
      "47 of 654: Unfortunately unable to pull data for parfenyevo, Skipping parfenyevo for now\n",
      "48 of 654: Unfortunately unable to pull data for togur, Skipping togur for now\n",
      "49 of 654: Unfortunately unable to pull data for cidreira, Skipping cidreira for now\n",
      "50 of 654: Currently processing hermanus, ID Number:2006131\n",
      "51 of 654: Unfortunately unable to pull data for hobyo, Skipping hobyo for now\n",
      "52 of 654: Unfortunately unable to pull data for san quintin, Skipping san quintin for now\n",
      "53 of 654: Currently processing port elizabeth, ID Number:1973\n",
      "54 of 654: Currently processing halifax, ID Number:733\n",
      "55 of 654: Unfortunately unable to pull data for aykhal, Skipping aykhal for now\n",
      "56 of 654: Currently processing general jose eduvigis diaz, ID Number:8256\n",
      "57 of 654: Currently processing sainte-claire, ID Number:2003732\n",
      "58 of 654: Currently processing gorele, ID Number:6995\n",
      "59 of 654: Unfortunately unable to pull data for oranjemund, Skipping oranjemund for now\n",
      "60 of 654: Currently processing pemberton, ID Number:146\n",
      "61 of 654: Unfortunately unable to pull data for buala, Skipping buala for now\n",
      "62 of 654: Currently processing avarua, ID Number:7271\n",
      "63 of 654: Unfortunately unable to pull data for sao filipe, Skipping sao filipe for now\n",
      "64 of 654: Currently processing puri, ID Number:9113\n",
      "65 of 654: Unfortunately unable to pull data for kichera, Skipping kichera for now\n",
      "66 of 654: Unfortunately unable to pull data for ugoofaaru, Skipping ugoofaaru for now\n",
      "67 of 654: Currently processing tasiilaq, ID Number:81\n",
      "68 of 654: Currently processing port hawkesbury, ID Number:876\n",
      "69 of 654: Currently processing liepaja, ID Number:1875\n",
      "70 of 654: Currently processing mabaruma, ID Number:8760\n",
      "71 of 654: Currently processing rock island, ID Number:4924\n",
      "72 of 654: Unfortunately unable to pull data for rebrikha, Skipping rebrikha for now\n",
      "73 of 654: Unfortunately unable to pull data for samusu, Skipping samusu for now\n",
      "74 of 654: Unfortunately unable to pull data for chuy, Skipping chuy for now\n",
      "75 of 654: Currently processing ribeira grande, ID Number:6883\n",
      "76 of 654: Currently processing kahului, ID Number:7879\n",
      "77 of 654: Unfortunately unable to pull data for port blair, Skipping port blair for now\n",
      "78 of 654: Unfortunately unable to pull data for sola, Skipping sola for now\n",
      "79 of 654: Unfortunately unable to pull data for finschhafen, Skipping finschhafen for now\n",
      "80 of 654: Currently processing la malbaie, ID Number:495\n",
      "81 of 654: Currently processing ocho rios, ID Number:2026800\n",
      "82 of 654: Unfortunately unable to pull data for hami, Skipping hami for now\n",
      "83 of 654: Unfortunately unable to pull data for castro, Skipping castro for now\n",
      "84 of 654: Currently processing jamestown, ID Number:4588\n",
      "85 of 654: Unfortunately unable to pull data for lorengau, Skipping lorengau for now\n",
      "86 of 654: Currently processing hilo, ID Number:7881\n",
      "87 of 654: Unfortunately unable to pull data for butaritari, Skipping butaritari for now\n",
      "88 of 654: Currently processing katsuura, ID Number:8074\n",
      "89 of 654: Currently processing north platte, ID Number:4674\n",
      "90 of 654: Unfortunately unable to pull data for kieta, Skipping kieta for now\n",
      "91 of 654: Currently processing yellowknife, ID Number:1007\n",
      "92 of 654: Unfortunately unable to pull data for meulaboh, Skipping meulaboh for now\n",
      "93 of 654: Unfortunately unable to pull data for mys shmidta, Skipping mys shmidta for now\n",
      "94 of 654: Unfortunately unable to pull data for usinsk, Skipping usinsk for now\n",
      "95 of 654: Currently processing hobart, ID Number:9545\n",
      "96 of 654: Unfortunately unable to pull data for punta alta, Skipping punta alta for now\n",
      "97 of 654: Currently processing chapais, ID Number:859\n",
      "98 of 654: Unfortunately unable to pull data for upernavik, Skipping upernavik for now\n",
      "99 of 654: Currently processing new norfolk, ID Number:2031307\n",
      "100 of 654: Unfortunately unable to pull data for evinayong, Skipping evinayong for now\n",
      "101 of 654: Currently processing thompson, ID Number:935\n",
      "102 of 654: Currently processing tias, ID Number:2379\n",
      "103 of 654: Currently processing smithers, ID Number:990\n",
      "104 of 654: Currently processing hita, ID Number:18911\n",
      "105 of 654: Currently processing mar del plata, ID Number:8305\n",
      "106 of 654: Currently processing clyde river, ID Number:776\n",
      "107 of 654: Unfortunately unable to pull data for tiksi, Skipping tiksi for now\n",
      "108 of 654: Currently processing san ramon de la nueva oran, ID Number:2031308\n",
      "109 of 654: Unfortunately unable to pull data for marihatag, Skipping marihatag for now\n",
      "110 of 654: Currently processing sandpoint, ID Number:5967\n",
      "111 of 654: Currently processing the pas, ID Number:891\n",
      "112 of 654: Unfortunately unable to pull data for charters towers, Skipping charters towers for now\n",
      "113 of 654: Unfortunately unable to pull data for guerrero negro, Skipping guerrero negro for now\n"
     ]
    },
    {
     "name": "stdout",
     "output_type": "stream",
     "text": [
      "114 of 654: Unfortunately unable to pull data for belushya guba, Skipping belushya guba for now\n",
      "115 of 654: Unfortunately unable to pull data for mongo, Skipping mongo for now\n",
      "116 of 654: Currently processing bluff, ID Number:2008959\n",
      "117 of 654: Unfortunately unable to pull data for lisakovsk, Skipping lisakovsk for now\n",
      "118 of 654: Unfortunately unable to pull data for gamba, Skipping gamba for now\n",
      "119 of 654: Unfortunately unable to pull data for kutum, Skipping kutum for now\n",
      "120 of 654: Unfortunately unable to pull data for atuona, Skipping atuona for now\n",
      "121 of 654: Currently processing yarada, ID Number:9255\n",
      "122 of 654: Unfortunately unable to pull data for huajuapan, Skipping huajuapan for now\n",
      "123 of 654: Currently processing ambon, ID Number:9361\n",
      "124 of 654: Currently processing tuatapere, ID Number:2008959\n",
      "125 of 654: Currently processing kaeo, ID Number:2012217\n",
      "126 of 654: Unfortunately unable to pull data for soyo, Skipping soyo for now\n",
      "127 of 654: Currently processing souillac, ID Number:2061\n",
      "128 of 654: Unfortunately unable to pull data for hithadhoo, Skipping hithadhoo for now\n",
      "129 of 654: Unfortunately unable to pull data for milkovo, Skipping milkovo for now\n",
      "130 of 654: Currently processing barrow, ID Number:7649\n",
      "131 of 654: Unfortunately unable to pull data for chokurdakh, Skipping chokurdakh for now\n",
      "132 of 654: Unfortunately unable to pull data for shitanjing, Skipping shitanjing for now\n",
      "133 of 654: Currently processing yulara, ID Number:9487\n",
      "134 of 654: Currently processing meadow lake, ID Number:3205\n",
      "135 of 654: Currently processing sitka, ID Number:7795\n",
      "136 of 654: Unfortunately unable to pull data for bengkulu, Skipping bengkulu for now\n",
      "137 of 654: Unfortunately unable to pull data for balabac, Skipping balabac for now\n",
      "138 of 654: Unfortunately unable to pull data for luderitz, Skipping luderitz for now\n",
      "139 of 654: Unfortunately unable to pull data for tasbuget, Skipping tasbuget for now\n",
      "140 of 654: Unfortunately unable to pull data for lokosovo, Skipping lokosovo for now\n",
      "141 of 654: Currently processing estelle, ID Number:3104\n",
      "142 of 654: Unfortunately unable to pull data for kamina, Skipping kamina for now\n",
      "143 of 654: Unfortunately unable to pull data for ishigaki, Skipping ishigaki for now\n",
      "144 of 654: Unfortunately unable to pull data for nova olinda do norte, Skipping nova olinda do norte for now\n",
      "145 of 654: Currently processing kapaa, ID Number:7873\n",
      "146 of 654: Unfortunately unable to pull data for komsomolskoye, Skipping komsomolskoye for now\n",
      "147 of 654: Unfortunately unable to pull data for nizhneyansk, Skipping nizhneyansk for now\n",
      "148 of 654: Currently processing georgetown, ID Number:9429\n",
      "149 of 654: Unfortunately unable to pull data for mutsamudu, Skipping mutsamudu for now\n",
      "150 of 654: Unfortunately unable to pull data for airai, Skipping airai for now\n",
      "151 of 654: Unfortunately unable to pull data for saskylakh, Skipping saskylakh for now\n",
      "152 of 654: Unfortunately unable to pull data for vaitupu, Skipping vaitupu for now\n",
      "153 of 654: Unfortunately unable to pull data for derzhavinsk, Skipping derzhavinsk for now\n",
      "154 of 654: Currently processing vigrestad, ID Number:1680\n",
      "155 of 654: Unfortunately unable to pull data for lusambo, Skipping lusambo for now\n",
      "156 of 654: Unfortunately unable to pull data for kendari, Skipping kendari for now\n",
      "157 of 654: Currently processing narsaq, ID Number:47\n",
      "158 of 654: Currently processing saint george, ID Number:5832\n",
      "159 of 654: Unfortunately unable to pull data for sorong, Skipping sorong for now\n",
      "160 of 654: Currently processing elat, ID Number:7521\n",
      "161 of 654: Unfortunately unable to pull data for nalut, Skipping nalut for now\n",
      "162 of 654: Currently processing lakes entrance, ID Number:2011895\n",
      "163 of 654: Unfortunately unable to pull data for dekoa, Skipping dekoa for now\n",
      "164 of 654: Unfortunately unable to pull data for burica, Skipping burica for now\n",
      "165 of 654: Currently processing kodiak, ID Number:7668\n",
      "166 of 654: Unfortunately unable to pull data for beyneu, Skipping beyneu for now\n",
      "167 of 654: Unfortunately unable to pull data for wundanyi, Skipping wundanyi for now\n",
      "168 of 654: Unfortunately unable to pull data for blagoyevo, Skipping blagoyevo for now\n",
      "169 of 654: Unfortunately unable to pull data for bundibugyo, Skipping bundibugyo for now\n",
      "170 of 654: Currently processing mayskiy, ID Number:8971\n",
      "171 of 654: Currently processing kinsale, ID Number:1563\n",
      "172 of 654: Currently processing isangel, ID Number:7317\n",
      "173 of 654: Unfortunately unable to pull data for sulangan, Skipping sulangan for now\n",
      "174 of 654: Unfortunately unable to pull data for lebu, Skipping lebu for now\n",
      "175 of 654: Unfortunately unable to pull data for sur, Skipping sur for now\n",
      "176 of 654: Currently processing fortuna, ID Number:4127\n",
      "177 of 654: Unfortunately unable to pull data for vostok, Skipping vostok for now\n",
      "178 of 654: Unfortunately unable to pull data for manaure, Skipping manaure for now\n",
      "179 of 654: Currently processing kristinehamn, ID Number:1779\n",
      "180 of 654: Unfortunately unable to pull data for kulhudhuffushi, Skipping kulhudhuffushi for now\n",
      "181 of 654: Unfortunately unable to pull data for provideniya, Skipping provideniya for now\n",
      "182 of 654: Unfortunately unable to pull data for lagoa, Skipping lagoa for now\n",
      "183 of 654: Currently processing mindelo, ID Number:2467\n",
      "184 of 654: Currently processing notre-dame-du-lac, ID Number:94\n",
      "185 of 654: Unfortunately unable to pull data for alekseyevsk, Skipping alekseyevsk for now\n",
      "186 of 654: Currently processing tuktoyaktuk, ID Number:942\n",
      "187 of 654: Currently processing rio grande, ID Number:8408\n",
      "188 of 654: Unfortunately unable to pull data for maghama, Skipping maghama for now\n",
      "189 of 654: Currently processing betanzos, ID Number:6403\n",
      "190 of 654: Currently processing bredasdorp, ID Number:1966\n",
      "191 of 654: Currently processing port hardy, ID Number:1011\n",
      "192 of 654: Unfortunately unable to pull data for te anau, Skipping te anau for now\n",
      "193 of 654: Currently processing coihaique, ID Number:8491\n",
      "194 of 654: Currently processing pagudpud, ID Number:8159\n",
      "195 of 654: Currently processing salta, ID Number:8267\n",
      "196 of 654: Unfortunately unable to pull data for karkaralinsk, Skipping karkaralinsk for now\n",
      "197 of 654: Currently processing dawson creek, ID Number:783\n",
      "198 of 654: Unfortunately unable to pull data for umzimvubu, Skipping umzimvubu for now\n",
      "199 of 654: Currently processing coatepec harinas, ID Number:7101\n",
      "200 of 654: Currently processing natal, ID Number:8417\n",
      "201 of 654: Unfortunately unable to pull data for tsihombe, Skipping tsihombe for now\n",
      "202 of 654: Currently processing fez, ID Number:2390\n",
      "203 of 654: Unfortunately unable to pull data for xiaoyi, Skipping xiaoyi for now\n",
      "204 of 654: Unfortunately unable to pull data for itarema, Skipping itarema for now\n",
      "205 of 654: Currently processing brae, ID Number:1438\n",
      "206 of 654: Currently processing pecos, ID Number:5325\n",
      "207 of 654: Currently processing bambous virieux, ID Number:2061\n",
      "208 of 654: Currently processing kruisfontein, ID Number:2035063\n",
      "209 of 654: Currently processing jizan, ID Number:7407\n",
      "210 of 654: Currently processing necochea, ID Number:2010353\n",
      "211 of 654: Currently processing cheney, ID Number:4199\n",
      "212 of 654: Currently processing kathu, ID Number:9278\n",
      "213 of 654: Currently processing sakakah, ID Number:7431\n",
      "214 of 654: Currently processing westport, ID Number:3409\n",
      "215 of 654: Unfortunately unable to pull data for xining, Skipping xining for now\n",
      "216 of 654: Unfortunately unable to pull data for zhanaozen, Skipping zhanaozen for now\n",
      "217 of 654: Unfortunately unable to pull data for tarakan, Skipping tarakan for now\n",
      "218 of 654: Currently processing mosta, ID Number:6861\n",
      "219 of 654: Currently processing kaitangata, ID Number:2000217\n",
      "220 of 654: Currently processing santo andre, ID Number:8446\n",
      "221 of 654: Currently processing itoman, ID Number:8137\n",
      "222 of 654: Currently processing jaguaruna, ID Number:2038249\n",
      "223 of 654: Currently processing san andres, ID Number:8623\n",
      "224 of 654: Currently processing agua dulce, ID Number:7148\n",
      "225 of 654: Currently processing bandrele, ID Number:2131\n",
      "226 of 654: Unfortunately unable to pull data for basoko, Skipping basoko for now\n",
      "227 of 654: Currently processing esperance, ID Number:9525\n"
     ]
    },
    {
     "name": "stdout",
     "output_type": "stream",
     "text": [
      "228 of 654: Currently processing belmonte, ID Number:8436\n",
      "229 of 654: Currently processing coquimbo, ID Number:8514\n",
      "230 of 654: Currently processing east london, ID Number:1912\n",
      "231 of 654: Unfortunately unable to pull data for vanavara, Skipping vanavara for now\n",
      "232 of 654: Currently processing ancud, ID Number:8512\n",
      "233 of 654: Currently processing manicore, ID Number:8397\n",
      "234 of 654: Unfortunately unable to pull data for louisbourg, Skipping louisbourg for now\n",
      "235 of 654: Currently processing chekhov, ID Number:9021\n",
      "236 of 654: Currently processing palmer, ID Number:3598\n",
      "237 of 654: Currently processing tiarei, ID Number:7318\n",
      "238 of 654: Unfortunately unable to pull data for liyang, Skipping liyang for now\n",
      "239 of 654: Unfortunately unable to pull data for grand river south east, Skipping grand river south east for now\n",
      "240 of 654: Unfortunately unable to pull data for reo, Skipping reo for now\n",
      "241 of 654: Currently processing shimoda, ID Number:2019346\n",
      "242 of 654: Currently processing saint-philippe, ID Number:2127\n",
      "243 of 654: Unfortunately unable to pull data for mezen, Skipping mezen for now\n",
      "244 of 654: Unfortunately unable to pull data for zhigansk, Skipping zhigansk for now\n",
      "245 of 654: Currently processing whitley bay, ID Number:1427\n",
      "246 of 654: Currently processing manta, ID Number:8552\n",
      "247 of 654: Currently processing bethel, ID Number:3888\n",
      "248 of 654: Currently processing ketchikan, ID Number:7741\n",
      "249 of 654: Currently processing bartlesville, ID Number:2002373\n",
      "250 of 654: Currently processing berlevag, ID Number:1620\n",
      "251 of 654: Unfortunately unable to pull data for tacuarembo, Skipping tacuarembo for now\n",
      "252 of 654: Unfortunately unable to pull data for oktyabrskiy, Skipping oktyabrskiy for now\n",
      "253 of 654: Currently processing vidisha, ID Number:9063\n",
      "254 of 654: Currently processing knysna, ID Number:1918\n",
      "255 of 654: Unfortunately unable to pull data for plettenberg bay, Skipping plettenberg bay for now\n",
      "256 of 654: Currently processing carnarvon, ID Number:9505\n",
      "257 of 654: Unfortunately unable to pull data for severo-kurilsk, Skipping severo-kurilsk for now\n",
      "258 of 654: Unfortunately unable to pull data for jalu, Skipping jalu for now\n",
      "259 of 654: Unfortunately unable to pull data for tessalit, Skipping tessalit for now\n",
      "260 of 654: Currently processing pisticci, ID Number:6686\n",
      "261 of 654: Currently processing grand gaube, ID Number:2002134\n",
      "262 of 654: Unfortunately unable to pull data for burnie, Skipping burnie for now\n",
      "263 of 654: Currently processing wakefield, ID Number:2017811\n",
      "264 of 654: Unfortunately unable to pull data for dzhebariki-khaya, Skipping dzhebariki-khaya for now\n",
      "265 of 654: Currently processing tallahassee, ID Number:6031\n",
      "266 of 654: Unfortunately unable to pull data for dongsheng, Skipping dongsheng for now\n",
      "267 of 654: Currently processing bykovo, ID Number:9020\n",
      "268 of 654: Unfortunately unable to pull data for baculin, Skipping baculin for now\n",
      "269 of 654: Currently processing menzelinsk, ID Number:9039\n",
      "270 of 654: Unfortunately unable to pull data for bulolo, Skipping bulolo for now\n",
      "271 of 654: Unfortunately unable to pull data for wadi musa, Skipping wadi musa for now\n",
      "272 of 654: Unfortunately unable to pull data for yatou, Skipping yatou for now\n",
      "273 of 654: Currently processing katherine, ID Number:9589\n",
      "274 of 654: Currently processing goderich, ID Number:253\n",
      "275 of 654: Currently processing myre, ID Number:1603\n",
      "276 of 654: Unfortunately unable to pull data for utiroa, Skipping utiroa for now\n",
      "277 of 654: Unfortunately unable to pull data for qurbah, Skipping qurbah for now\n",
      "278 of 654: Unfortunately unable to pull data for sentyabrskiy, Skipping sentyabrskiy for now\n",
      "279 of 654: Unfortunately unable to pull data for korla, Skipping korla for now\n",
      "280 of 654: Unfortunately unable to pull data for slavutych, Skipping slavutych for now\n",
      "281 of 654: Unfortunately unable to pull data for mecca, Skipping mecca for now\n",
      "282 of 654: Unfortunately unable to pull data for batagay, Skipping batagay for now\n",
      "283 of 654: Unfortunately unable to pull data for pevek, Skipping pevek for now\n",
      "284 of 654: Unfortunately unable to pull data for mayor pablo lagerenza, Skipping mayor pablo lagerenza for now\n",
      "285 of 654: Currently processing saint-louis, ID Number:2427\n",
      "286 of 654: Unfortunately unable to pull data for mangrol, Skipping mangrol for now\n",
      "287 of 654: Currently processing sao gabriel da cachoeira, ID Number:8449\n",
      "288 of 654: Unfortunately unable to pull data for attawapiskat, Skipping attawapiskat for now\n",
      "289 of 654: Currently processing alice springs, ID Number:9483\n",
      "290 of 654: Currently processing crotone, ID Number:6667\n",
      "291 of 654: Unfortunately unable to pull data for cherskiy, Skipping cherskiy for now\n",
      "292 of 654: Currently processing kaffrine, ID Number:2417\n",
      "293 of 654: Unfortunately unable to pull data for nemuro, Skipping nemuro for now\n",
      "294 of 654: Unfortunately unable to pull data for sisimiut, Skipping sisimiut for now\n",
      "295 of 654: Unfortunately unable to pull data for svetlaya, Skipping svetlaya for now\n",
      "296 of 654: Unfortunately unable to pull data for beipiao, Skipping beipiao for now\n",
      "297 of 654: Currently processing klaksvik, ID Number:1596\n",
      "298 of 654: Currently processing skibbereen, ID Number:1563\n",
      "299 of 654: Currently processing zorritos, ID Number:8673\n",
      "300 of 654: Currently processing palora, ID Number:8545\n",
      "301 of 654: Unfortunately unable to pull data for constitucion, Skipping constitucion for now\n",
      "302 of 654: Unfortunately unable to pull data for awjilah, Skipping awjilah for now\n",
      "303 of 654: Currently processing chicama, ID Number:8690\n",
      "304 of 654: Unfortunately unable to pull data for yar-sale, Skipping yar-sale for now\n",
      "305 of 654: Unfortunately unable to pull data for japura, Skipping japura for now\n",
      "306 of 654: Currently processing yingcheng, ID Number:9634\n",
      "307 of 654: Currently processing zatoka, ID Number:8915\n",
      "308 of 654: Unfortunately unable to pull data for lavrentiya, Skipping lavrentiya for now\n",
      "309 of 654: Currently processing vestmannaeyjar, ID Number:93\n",
      "310 of 654: Unfortunately unable to pull data for cartagena del chaira, Skipping cartagena del chaira for now\n",
      "311 of 654: Currently processing san fernando, ID Number:8152\n",
      "312 of 654: Unfortunately unable to pull data for karratha, Skipping karratha for now\n",
      "313 of 654: Unfortunately unable to pull data for kavieng, Skipping kavieng for now\n",
      "314 of 654: Currently processing norman wells, ID Number:951\n",
      "315 of 654: Currently processing bundaberg, ID Number:9501\n",
      "316 of 654: Unfortunately unable to pull data for abu samrah, Skipping abu samrah for now\n",
      "317 of 654: Currently processing vasylivka, ID Number:8902\n",
      "318 of 654: Currently processing mehamn, ID Number:1620\n",
      "319 of 654: Currently processing monroe, ID Number:5698\n",
      "320 of 654: Currently processing macapa, ID Number:8415\n",
      "321 of 654: Unfortunately unable to pull data for benguela, Skipping benguela for now\n",
      "322 of 654: Unfortunately unable to pull data for hihifo, Skipping hihifo for now\n",
      "323 of 654: Unfortunately unable to pull data for bonthe, Skipping bonthe for now\n",
      "324 of 654: Unfortunately unable to pull data for namibe, Skipping namibe for now\n",
      "325 of 654: Unfortunately unable to pull data for koulikoro, Skipping koulikoro for now\n",
      "326 of 654: Unfortunately unable to pull data for ust-kulom, Skipping ust-kulom for now\n",
      "327 of 654: Currently processing yima, ID Number:266522\n",
      "328 of 654: Currently processing mastic beach, ID Number:4453\n",
      "329 of 654: Unfortunately unable to pull data for marcona, Skipping marcona for now\n",
      "330 of 654: Unfortunately unable to pull data for zhigalovo, Skipping zhigalovo for now\n",
      "331 of 654: Currently processing mahebourg, ID Number:2061\n",
      "332 of 654: Unfortunately unable to pull data for mahibadhoo, Skipping mahibadhoo for now\n",
      "333 of 654: Unfortunately unable to pull data for jutai, Skipping jutai for now\n",
      "334 of 654: Unfortunately unable to pull data for karamay, Skipping karamay for now\n",
      "335 of 654: Currently processing dunedin, ID Number:75281\n",
      "336 of 654: Currently processing paducah, ID Number:5305\n",
      "337 of 654: Unfortunately unable to pull data for kyren, Skipping kyren for now\n",
      "338 of 654: Currently processing moose factory, ID Number:860\n",
      "339 of 654: Unfortunately unable to pull data for beloha, Skipping beloha for now\n"
     ]
    },
    {
     "name": "stdout",
     "output_type": "stream",
     "text": [
      "340 of 654: Currently processing providencia, ID Number:2011859\n",
      "341 of 654: Unfortunately unable to pull data for khatanga, Skipping khatanga for now\n",
      "342 of 654: Currently processing nikel, ID Number:1639\n",
      "343 of 654: Currently processing lata, ID Number:2016210\n",
      "344 of 654: Unfortunately unable to pull data for misratah, Skipping misratah for now\n",
      "345 of 654: Unfortunately unable to pull data for higuey, Skipping higuey for now\n",
      "346 of 654: Unfortunately unable to pull data for xixiang, Skipping xixiang for now\n",
      "347 of 654: Unfortunately unable to pull data for warqla, Skipping warqla for now\n",
      "348 of 654: Unfortunately unable to pull data for borogontsy, Skipping borogontsy for now\n",
      "349 of 654: Unfortunately unable to pull data for encheng, Skipping encheng for now\n",
      "350 of 654: Currently processing cabo san lucas, ID Number:7151\n",
      "351 of 654: Unfortunately unable to pull data for sretensk, Skipping sretensk for now\n",
      "352 of 654: Unfortunately unable to pull data for saleaula, Skipping saleaula for now\n",
      "353 of 654: Currently processing bryukhovychi, ID Number:8909\n",
      "354 of 654: Currently processing jam sahib, ID Number:7587\n",
      "355 of 654: Unfortunately unable to pull data for hudson bay, Skipping hudson bay for now\n",
      "356 of 654: Currently processing hasaki, ID Number:7955\n",
      "357 of 654: Currently processing safaga, ID Number:2513\n",
      "358 of 654: Currently processing san gavino monreale, ID Number:6719\n",
      "359 of 654: Currently processing palmas, ID Number:8419\n",
      "360 of 654: Currently processing morgan city, ID Number:5422\n",
      "361 of 654: Currently processing faya, ID Number:7396\n",
      "362 of 654: Unfortunately unable to pull data for krasnoselkup, Skipping krasnoselkup for now\n",
      "363 of 654: Unfortunately unable to pull data for takoradi, Skipping takoradi for now\n",
      "364 of 654: Currently processing tahta, ID Number:2548\n",
      "365 of 654: Unfortunately unable to pull data for solovetskiy, Skipping solovetskiy for now\n",
      "366 of 654: Currently processing pontianak, ID Number:9421\n",
      "367 of 654: Currently processing peniche, ID Number:2002825\n",
      "368 of 654: Unfortunately unable to pull data for sikea, Skipping sikea for now\n",
      "369 of 654: Currently processing qaqortoq, ID Number:47\n",
      "370 of 654: Unfortunately unable to pull data for koungheul, Skipping koungheul for now\n",
      "371 of 654: Currently processing la ronge, ID Number:696\n",
      "372 of 654: Unfortunately unable to pull data for tura, Skipping tura for now\n",
      "373 of 654: Currently processing charleston, ID Number:4627\n",
      "374 of 654: Currently processing port macquarie, ID Number:2030397\n",
      "375 of 654: Currently processing abbeville, ID Number:2011713\n",
      "376 of 654: Unfortunately unable to pull data for yining, Skipping yining for now\n",
      "377 of 654: Currently processing bowen, ID Number:9503\n",
      "378 of 654: Currently processing paita, ID Number:8685\n",
      "379 of 654: Currently processing port augusta, ID Number:9613\n",
      "380 of 654: Currently processing florianopolis, ID Number:8360\n",
      "381 of 654: Unfortunately unable to pull data for klichka, Skipping klichka for now\n",
      "382 of 654: Currently processing los llanos de aridane, ID Number:2377\n",
      "383 of 654: Currently processing husavik, ID Number:83\n",
      "384 of 654: Unfortunately unable to pull data for caravelas, Skipping caravelas for now\n",
      "385 of 654: Unfortunately unable to pull data for armacao dos buzios, Skipping armacao dos buzios for now\n",
      "386 of 654: Currently processing batemans bay, ID Number:2010627\n",
      "387 of 654: Unfortunately unable to pull data for ahipara, Skipping ahipara for now\n",
      "388 of 654: Unfortunately unable to pull data for karaul, Skipping karaul for now\n",
      "389 of 654: Currently processing hamamatsu, ID Number:19932\n",
      "390 of 654: Currently processing lidkoping, ID Number:1754\n",
      "391 of 654: Unfortunately unable to pull data for otavi, Skipping otavi for now\n",
      "392 of 654: Unfortunately unable to pull data for kembe, Skipping kembe for now\n",
      "393 of 654: Currently processing ilulissat, ID Number:165\n",
      "394 of 654: Unfortunately unable to pull data for kazalinsk, Skipping kazalinsk for now\n",
      "395 of 654: Unfortunately unable to pull data for zachagansk, Skipping zachagansk for now\n",
      "396 of 654: Unfortunately unable to pull data for linkou, Skipping linkou for now\n",
      "397 of 654: Unfortunately unable to pull data for codrington, Skipping codrington for now\n",
      "398 of 654: Currently processing esmeraldas, ID Number:8344\n",
      "399 of 654: Unfortunately unable to pull data for majene, Skipping majene for now\n",
      "400 of 654: Currently processing vicksburg, ID Number:6181\n",
      "401 of 654: Currently processing mackay, ID Number:9498\n",
      "402 of 654: Currently processing sibu, ID Number:9369\n",
      "403 of 654: Currently processing matagami, ID Number:866\n",
      "404 of 654: Currently processing vila franca do campo, ID Number:6899\n",
      "405 of 654: Currently processing asau, ID Number:2033571\n",
      "406 of 654: Unfortunately unable to pull data for srednekolymsk, Skipping srednekolymsk for now\n",
      "407 of 654: Unfortunately unable to pull data for kondinskoye, Skipping kondinskoye for now\n",
      "408 of 654: Currently processing vestmanna, ID Number:1596\n",
      "409 of 654: Unfortunately unable to pull data for poindimie, Skipping poindimie for now\n",
      "410 of 654: Currently processing virginia beach, ID Number:5123\n",
      "411 of 654: Unfortunately unable to pull data for shkotovo-26, Skipping shkotovo-26 for now\n",
      "412 of 654: Unfortunately unable to pull data for olafsvik, Skipping olafsvik for now\n",
      "413 of 654: Currently processing rabo de peixe, ID Number:6899\n",
      "414 of 654: Unfortunately unable to pull data for mushie, Skipping mushie for now\n",
      "415 of 654: Unfortunately unable to pull data for trincomalee, Skipping trincomalee for now\n",
      "416 of 654: Unfortunately unable to pull data for rawson, Skipping rawson for now\n",
      "417 of 654: Unfortunately unable to pull data for kishtwar, Skipping kishtwar for now\n",
      "418 of 654: Currently processing fort dodge, ID Number:4126\n",
      "419 of 654: Currently processing valparaiso, ID Number:8498\n",
      "420 of 654: Unfortunately unable to pull data for dali, Skipping dali for now\n",
      "421 of 654: Currently processing rockhampton, ID Number:9499\n",
      "422 of 654: Currently processing sayat, ID Number:8994\n",
      "423 of 654: Unfortunately unable to pull data for staryy nadym, Skipping staryy nadym for now\n",
      "424 of 654: Currently processing burg, ID Number:2035260\n",
      "425 of 654: Unfortunately unable to pull data for itarantim, Skipping itarantim for now\n",
      "426 of 654: Unfortunately unable to pull data for kroya, Skipping kroya for now\n",
      "427 of 654: Currently processing anloga, ID Number:1218\n",
      "428 of 654: Unfortunately unable to pull data for saint combs, Skipping saint combs for now\n",
      "429 of 654: Currently processing saint-andre-les-vergers, ID Number:6555\n",
      "430 of 654: Currently processing inhambane, ID Number:2200\n",
      "431 of 654: Currently processing emerald, ID Number:9524\n",
      "432 of 654: Currently processing green river, ID Number:5674\n",
      "433 of 654: Currently processing pangnirtung, ID Number:968\n",
      "434 of 654: Unfortunately unable to pull data for toora-khem, Skipping toora-khem for now\n",
      "435 of 654: Currently processing san cristobal, ID Number:8587\n",
      "436 of 654: Currently processing christchurch, ID Number:7348\n",
      "437 of 654: Currently processing pahrump, ID Number:2002538\n",
      "438 of 654: Unfortunately unable to pull data for uige, Skipping uige for now\n",
      "439 of 654: Currently processing cayenne, ID Number:8669\n",
      "440 of 654: Unfortunately unable to pull data for longkou, Skipping longkou for now\n",
      "441 of 654: Unfortunately unable to pull data for vylgort, Skipping vylgort for now\n",
      "442 of 654: Unfortunately unable to pull data for huanren, Skipping huanren for now\n",
      "443 of 654: Unfortunately unable to pull data for krasnovishersk, Skipping krasnovishersk for now\n",
      "444 of 654: Currently processing havoysund, ID Number:1632\n",
      "445 of 654: Unfortunately unable to pull data for faanui, Skipping faanui for now\n",
      "446 of 654: Unfortunately unable to pull data for pangoa, Skipping pangoa for now\n",
      "447 of 654: Currently processing luanda, ID Number:2173\n",
      "448 of 654: Currently processing la libertad, ID Number:8538\n",
      "449 of 654: Unfortunately unable to pull data for sao jose da coroa grande, Skipping sao jose da coroa grande for now\n",
      "450 of 654: Unfortunately unable to pull data for pilar do sul, Skipping pilar do sul for now\n",
      "451 of 654: Unfortunately unable to pull data for luganville, Skipping luganville for now\n",
      "452 of 654: Currently processing talcahuano, ID Number:8499\n"
     ]
    },
    {
     "name": "stdout",
     "output_type": "stream",
     "text": [
      "453 of 654: Unfortunately unable to pull data for daru, Skipping daru for now\n",
      "454 of 654: Unfortunately unable to pull data for contai, Skipping contai for now\n",
      "455 of 654: Currently processing hamilton, ID Number:4776\n",
      "456 of 654: Unfortunately unable to pull data for samarai, Skipping samarai for now\n",
      "457 of 654: Unfortunately unable to pull data for tumannyy, Skipping tumannyy for now\n",
      "458 of 654: Unfortunately unable to pull data for nam tha, Skipping nam tha for now\n",
      "459 of 654: Unfortunately unable to pull data for inongo, Skipping inongo for now\n",
      "460 of 654: Unfortunately unable to pull data for zhangye, Skipping zhangye for now\n",
      "461 of 654: Currently processing galveston, ID Number:4231\n",
      "462 of 654: Currently processing tateyama, ID Number:20334\n",
      "463 of 654: Unfortunately unable to pull data for namuac, Skipping namuac for now\n",
      "464 of 654: Currently processing alexandria, ID Number:2511\n",
      "465 of 654: Unfortunately unable to pull data for bokovskaya, Skipping bokovskaya for now\n",
      "466 of 654: Currently processing ulladulla, ID Number:9594\n",
      "467 of 654: Currently processing riverton, ID Number:6116\n",
      "468 of 654: Unfortunately unable to pull data for bondoukou, Skipping bondoukou for now\n",
      "469 of 654: Unfortunately unable to pull data for cape elizabeth, Skipping cape elizabeth for now\n",
      "470 of 654: Unfortunately unable to pull data for mulege, Skipping mulege for now\n",
      "471 of 654: Unfortunately unable to pull data for dingle, Skipping dingle for now\n",
      "472 of 654: Currently processing fairbanks, ID Number:7684\n",
      "473 of 654: Unfortunately unable to pull data for labuhan, Skipping labuhan for now\n",
      "474 of 654: Unfortunately unable to pull data for savalou, Skipping savalou for now\n",
      "475 of 654: Currently processing comodoro rivadavia, ID Number:8284\n",
      "476 of 654: Unfortunately unable to pull data for pudozh, Skipping pudozh for now\n",
      "477 of 654: Currently processing izvoarele sucevei, ID Number:68472\n",
      "478 of 654: Unfortunately unable to pull data for mumbwa, Skipping mumbwa for now\n",
      "479 of 654: Currently processing acajutla, ID Number:7209\n",
      "480 of 654: Currently processing pochutla, ID Number:7096\n",
      "481 of 654: Currently processing melnikovo, ID Number:2020005\n",
      "482 of 654: Unfortunately unable to pull data for ludhiana, Skipping ludhiana for now\n",
      "483 of 654: Unfortunately unable to pull data for hualmay, Skipping hualmay for now\n",
      "484 of 654: Unfortunately unable to pull data for naze, Skipping naze for now\n",
      "485 of 654: Unfortunately unable to pull data for vanimo, Skipping vanimo for now\n",
      "486 of 654: Unfortunately unable to pull data for sinnamary, Skipping sinnamary for now\n",
      "487 of 654: Currently processing banjar, ID Number:9333\n",
      "488 of 654: Unfortunately unable to pull data for tynda, Skipping tynda for now\n",
      "489 of 654: Currently processing palencia, ID Number:147611\n",
      "490 of 654: Currently processing salalah, ID Number:7562\n",
      "491 of 654: Unfortunately unable to pull data for kupang, Skipping kupang for now\n",
      "492 of 654: Currently processing lulea, ID Number:1775\n",
      "493 of 654: Currently processing victoria, ID Number:2035800\n",
      "494 of 654: Currently processing oranjestad, ID Number:8791\n",
      "495 of 654: Currently processing mount gambier, ID Number:9560\n",
      "496 of 654: Currently processing arandis, ID Number:2012545\n",
      "497 of 654: Currently processing nome, ID Number:7770\n",
      "498 of 654: Currently processing coihueco, ID Number:8483\n",
      "499 of 654: Unfortunately unable to pull data for polunochnoye, Skipping polunochnoye for now\n",
      "500 of 654: Unfortunately unable to pull data for merauke, Skipping merauke for now\n",
      "501 of 654: Unfortunately unable to pull data for aswan, Skipping aswan for now\n",
      "502 of 654: Currently processing sioni, ID Number:8862\n",
      "503 of 654: Currently processing laguna, ID Number:5769\n",
      "504 of 654: Unfortunately unable to pull data for port lincoln, Skipping port lincoln for now\n",
      "505 of 654: Unfortunately unable to pull data for wakkanai, Skipping wakkanai for now\n",
      "506 of 654: Unfortunately unable to pull data for empangeni, Skipping empangeni for now\n",
      "507 of 654: Unfortunately unable to pull data for sechura, Skipping sechura for now\n",
      "508 of 654: Unfortunately unable to pull data for ossora, Skipping ossora for now\n",
      "509 of 654: Unfortunately unable to pull data for robertsport, Skipping robertsport for now\n",
      "510 of 654: Currently processing flinders, ID Number:2033627\n",
      "511 of 654: Unfortunately unable to pull data for afmadu, Skipping afmadu for now\n",
      "512 of 654: Unfortunately unable to pull data for gorno-chuyskiy, Skipping gorno-chuyskiy for now\n",
      "513 of 654: Currently processing bathsheba, ID Number:8772\n",
      "514 of 654: Unfortunately unable to pull data for dong xoai, Skipping dong xoai for now\n",
      "515 of 654: Unfortunately unable to pull data for karema, Skipping karema for now\n",
      "516 of 654: Unfortunately unable to pull data for kisangani, Skipping kisangani for now\n",
      "517 of 654: Unfortunately unable to pull data for nieuw nickerie, Skipping nieuw nickerie for now\n",
      "518 of 654: Currently processing rio gallegos, ID Number:8293\n",
      "519 of 654: Unfortunately unable to pull data for porosozero, Skipping porosozero for now\n",
      "520 of 654: Unfortunately unable to pull data for kyra, Skipping kyra for now\n",
      "521 of 654: Unfortunately unable to pull data for aksu, Skipping aksu for now\n",
      "522 of 654: Unfortunately unable to pull data for ijaki, Skipping ijaki for now\n",
      "523 of 654: Unfortunately unable to pull data for alugan, Skipping alugan for now\n",
      "524 of 654: Unfortunately unable to pull data for shirokiy, Skipping shirokiy for now\n",
      "525 of 654: Unfortunately unable to pull data for zalantun, Skipping zalantun for now\n",
      "526 of 654: Unfortunately unable to pull data for tazovskiy, Skipping tazovskiy for now\n",
      "527 of 654: Unfortunately unable to pull data for ovruch, Skipping ovruch for now\n",
      "528 of 654: Currently processing nuuk, ID Number:86\n",
      "529 of 654: Unfortunately unable to pull data for ostrovnoy, Skipping ostrovnoy for now\n",
      "530 of 654: Currently processing edgecumbe, ID Number:2000325\n",
      "531 of 654: Unfortunately unable to pull data for severnoye, Skipping severnoye for now\n",
      "532 of 654: Unfortunately unable to pull data for kanigoro, Skipping kanigoro for now\n",
      "533 of 654: Unfortunately unable to pull data for vysokogornyy, Skipping vysokogornyy for now\n",
      "534 of 654: Unfortunately unable to pull data for gizo, Skipping gizo for now\n",
      "535 of 654: Unfortunately unable to pull data for bolintinu-din-vale, Skipping bolintinu-din-vale for now\n",
      "536 of 654: Currently processing glens falls, ID Number:2036185\n",
      "537 of 654: Unfortunately unable to pull data for dalbandin, Skipping dalbandin for now\n",
      "538 of 654: Currently processing pitimbu, ID Number:8391\n",
      "539 of 654: Currently processing langham, ID Number:977\n",
      "540 of 654: Currently processing machico, ID Number:6894\n",
      "541 of 654: Currently processing coolum beach, ID Number:19651\n",
      "542 of 654: Unfortunately unable to pull data for ouahigouya, Skipping ouahigouya for now\n",
      "543 of 654: Currently processing mariestad, ID Number:1750\n",
      "544 of 654: Unfortunately unable to pull data for dengzhou, Skipping dengzhou for now\n",
      "545 of 654: Currently processing kattivakkam, ID Number:9218\n",
      "546 of 654: Currently processing artyom, ID Number:8841\n",
      "547 of 654: Currently processing rucheng, ID Number:2016019\n",
      "548 of 654: Unfortunately unable to pull data for atar, Skipping atar for now\n",
      "549 of 654: Unfortunately unable to pull data for chachapoyas, Skipping chachapoyas for now\n",
      "550 of 654: Currently processing dubbo, ID Number:9596\n",
      "551 of 654: Unfortunately unable to pull data for itapirapua, Skipping itapirapua for now\n",
      "552 of 654: Currently processing tan an, ID Number:9314\n",
      "553 of 654: Currently processing boralday, ID Number:8818\n",
      "554 of 654: Unfortunately unable to pull data for ngukurr, Skipping ngukurr for now\n",
      "555 of 654: Currently processing nieuw amsterdam, ID Number:8646\n",
      "556 of 654: Currently processing martapura, ID Number:9360\n",
      "557 of 654: Currently processing kenai, ID Number:7680\n",
      "558 of 654: Unfortunately unable to pull data for mazamari, Skipping mazamari for now\n",
      "559 of 654: Unfortunately unable to pull data for bolungarvik, Skipping bolungarvik for now\n",
      "560 of 654: Unfortunately unable to pull data for jiangyou, Skipping jiangyou for now\n",
      "561 of 654: Currently processing mhlume, ID Number:2005189\n",
      "562 of 654: Unfortunately unable to pull data for sayyan, Skipping sayyan for now\n"
     ]
    },
    {
     "name": "stdout",
     "output_type": "stream",
     "text": [
      "563 of 654: Currently processing homer, ID Number:7709\n",
      "564 of 654: Currently processing torbay, ID Number:998\n",
      "565 of 654: Unfortunately unable to pull data for tekeli, Skipping tekeli for now\n",
      "566 of 654: Currently processing baraboo, ID Number:3828\n",
      "567 of 654: Unfortunately unable to pull data for lucapa, Skipping lucapa for now\n",
      "568 of 654: Unfortunately unable to pull data for mendi, Skipping mendi for now\n",
      "569 of 654: Unfortunately unable to pull data for verkhnevilyuysk, Skipping verkhnevilyuysk for now\n",
      "570 of 654: Unfortunately unable to pull data for chaman, Skipping chaman for now\n",
      "571 of 654: Currently processing billings, ID Number:3440\n",
      "572 of 654: Unfortunately unable to pull data for solnechnyy, Skipping solnechnyy for now\n",
      "573 of 654: Unfortunately unable to pull data for baykit, Skipping baykit for now\n",
      "574 of 654: Unfortunately unable to pull data for jiuquan, Skipping jiuquan for now\n",
      "575 of 654: Unfortunately unable to pull data for verkhnyaya inta, Skipping verkhnyaya inta for now\n",
      "576 of 654: Unfortunately unable to pull data for okha, Skipping okha for now\n",
      "577 of 654: Currently processing port hueneme, ID Number:5254\n",
      "578 of 654: Unfortunately unable to pull data for margasari, Skipping margasari for now\n",
      "579 of 654: Unfortunately unable to pull data for bambari, Skipping bambari for now\n",
      "580 of 654: Currently processing mount isa, ID Number:9495\n",
      "581 of 654: Unfortunately unable to pull data for moissala, Skipping moissala for now\n",
      "582 of 654: Currently processing hofn, ID Number:76\n",
      "583 of 654: Currently processing campbellsville, ID Number:3057\n",
      "584 of 654: Unfortunately unable to pull data for tahe, Skipping tahe for now\n",
      "585 of 654: Currently processing vila, ID Number:2007751\n",
      "586 of 654: Currently processing bereda, ID Number:2013071\n",
      "587 of 654: Currently processing vardo, ID Number:1666\n",
      "588 of 654: Currently processing anderson, ID Number:3290\n",
      "589 of 654: Currently processing buraydah, ID Number:7411\n",
      "590 of 654: Unfortunately unable to pull data for kumta, Skipping kumta for now\n",
      "591 of 654: Currently processing ponta delgada, ID Number:6899\n",
      "592 of 654: Currently processing sao joao da barra, ID Number:8337\n",
      "593 of 654: Currently processing chacabuco, ID Number:2034138\n",
      "594 of 654: Unfortunately unable to pull data for vanderhoof, Skipping vanderhoof for now\n",
      "595 of 654: Currently processing hervey bay, ID Number:2032484\n",
      "596 of 654: Unfortunately unable to pull data for zhaotong, Skipping zhaotong for now\n",
      "597 of 654: Currently processing henties bay, ID Number:2012545\n",
      "598 of 654: Unfortunately unable to pull data for chernyshevskiy, Skipping chernyshevskiy for now\n",
      "599 of 654: Currently processing avera, ID Number:2827\n",
      "600 of 654: Unfortunately unable to pull data for kashan, Skipping kashan for now\n",
      "601 of 654: Currently processing alta floresta, ID Number:8308\n",
      "602 of 654: Unfortunately unable to pull data for balkhash, Skipping balkhash for now\n",
      "603 of 654: Currently processing college, ID Number:7683\n",
      "604 of 654: Unfortunately unable to pull data for at-bashi, Skipping at-bashi for now\n",
      "605 of 654: Currently processing upata, ID Number:2006479\n",
      "606 of 654: Unfortunately unable to pull data for barawe, Skipping barawe for now\n",
      "607 of 654: Currently processing forst, ID Number:2000627\n",
      "608 of 654: Unfortunately unable to pull data for yemtsa, Skipping yemtsa for now\n",
      "609 of 654: Unfortunately unable to pull data for auki, Skipping auki for now\n",
      "610 of 654: Unfortunately unable to pull data for poya, Skipping poya for now\n",
      "611 of 654: Currently processing liverpool, ID Number:1399\n",
      "612 of 654: Unfortunately unable to pull data for lafiagi, Skipping lafiagi for now\n",
      "613 of 654: Unfortunately unable to pull data for yantal, Skipping yantal for now\n",
      "614 of 654: Unfortunately unable to pull data for don marcelino, Skipping don marcelino for now\n",
      "615 of 654: Currently processing todos santos, ID Number:2005327\n",
      "616 of 654: Currently processing padang, ID Number:9423\n",
      "617 of 654: Unfortunately unable to pull data for banda aceh, Skipping banda aceh for now\n",
      "618 of 654: Unfortunately unable to pull data for banmo, Skipping banmo for now\n",
      "619 of 654: Currently processing russell, ID Number:4765\n",
      "620 of 654: Currently processing teshie, ID Number:1126\n",
      "621 of 654: Unfortunately unable to pull data for suntar, Skipping suntar for now\n",
      "622 of 654: Currently processing kommunar, ID Number:8926\n",
      "623 of 654: Unfortunately unable to pull data for okhotsk, Skipping okhotsk for now\n",
      "624 of 654: Unfortunately unable to pull data for trairi, Skipping trairi for now\n",
      "625 of 654: Unfortunately unable to pull data for mwene-ditu, Skipping mwene-ditu for now\n",
      "626 of 654: Unfortunately unable to pull data for maniitsoq, Skipping maniitsoq for now\n",
      "627 of 654: Currently processing nantucket, ID Number:3218\n",
      "628 of 654: Currently processing tautira, ID Number:7318\n",
      "629 of 654: Currently processing zermatt, ID Number:6741\n",
      "630 of 654: Currently processing khani, ID Number:8856\n",
      "631 of 654: Unfortunately unable to pull data for umm durman, Skipping umm durman for now\n",
      "632 of 654: Unfortunately unable to pull data for gweta, Skipping gweta for now\n",
      "633 of 654: Unfortunately unable to pull data for totness, Skipping totness for now\n",
      "634 of 654: Unfortunately unable to pull data for mokhsogollokh, Skipping mokhsogollokh for now\n",
      "635 of 654: Unfortunately unable to pull data for borba, Skipping borba for now\n",
      "636 of 654: Unfortunately unable to pull data for mago, Skipping mago for now\n",
      "637 of 654: Currently processing haines junction, ID Number:287\n",
      "638 of 654: Currently processing walvis bay, ID Number:2288\n",
      "639 of 654: Unfortunately unable to pull data for vestbygda, Skipping vestbygda for now\n",
      "640 of 654: Currently processing touros, ID Number:8452\n",
      "641 of 654: Currently processing saint anthony, ID Number:4900\n",
      "642 of 654: Unfortunately unable to pull data for prado, Skipping prado for now\n",
      "643 of 654: Unfortunately unable to pull data for viransehir, Skipping viransehir for now\n",
      "644 of 654: Unfortunately unable to pull data for salto del guaira, Skipping salto del guaira for now\n",
      "645 of 654: Unfortunately unable to pull data for raga, Skipping raga for now\n",
      "646 of 654: Currently processing koutsouras, ID Number:2017542\n",
      "647 of 654: Unfortunately unable to pull data for asosa, Skipping asosa for now\n",
      "648 of 654: Currently processing camacha, ID Number:6902\n",
      "649 of 654: Currently processing iraan, ID Number:5260\n",
      "650 of 654: Currently processing itajai, ID Number:8398\n",
      "651 of 654: Currently processing quatre cocos, ID Number:2061\n",
      "652 of 654: Currently processing kallithea, ID Number:6613\n",
      "653 of 654: Unfortunately unable to pull data for matara, Skipping matara for now\n",
      "654 of 654: Unfortunately unable to pull data for hongjiang, Skipping hongjiang for now\n",
      "-----------------------------\n",
      "Finished collecting weather information from 654 cities around the world\n"
     ]
    }
   ],
   "source": [
    "# Putting everything together into a for loop now to get API request to run the list of cities\n",
    "\n",
    "# Generate lists that will store the cities data as the loop runs\n",
    "# Lists developed based on what information the homework requests we gather\n",
    "city_name_list = []\n",
    "cloud_list = []\n",
    "country_list = []\n",
    "date_list = []\n",
    "humidity_list = []\n",
    "lat_list = []\n",
    "lng_list = []\n",
    "temp_list = []\n",
    "wind_list = []\n",
    "\n",
    "# Variable to track the request process\n",
    "counter = 0\n",
    "\n",
    "# Printing the log of cities as they are being requested per homework instructions\n",
    "print(f\"Requesting weather information from {len(cities)} random cities around the world\")\n",
    "print(\"-----------------------------\")\n",
    "\n",
    "\n",
    "# Set up loop to make an api call on each city in the list and store it's value before moving to the next\n",
    "for city in cities:    \n",
    "    \n",
    "    # Adding a counter to track the processing better\n",
    "    # I think this is what hw is asking, not city ID, but I will add both to be safe\n",
    "    counter += 1\n",
    "    \n",
    "   # Need try logic for cases where weather api does not have records for that city\n",
    "    try:\n",
    "        # Update the query url with a new city\n",
    "        query_url = base_url + city + \"&appid=\" + weather_api_key + \"&units=\" + units\n",
    "        # Perform a GET request\n",
    "        response = requests.get(query_url)\n",
    "        # Convert the response to a JSON\n",
    "        weather_data = response.json()\n",
    "        # print(json.dumps(weather_data, indent = 4, sort_keys = True))\n",
    "   \n",
    "        # Collect all weather information for that city\n",
    "        city_num = weather_data[\"sys\"][\"id\"]\n",
    "        city_name_list.append(weather_data[\"name\"])\n",
    "        cloud_list.append(weather_data[\"clouds\"][\"all\"])\n",
    "        country_list.append(weather_data[\"sys\"][\"country\"])\n",
    "        date_list.append(weather_data[\"dt\"])\n",
    "        humidity_list.append(weather_data[\"main\"][\"humidity\"])\n",
    "        lat_list.append(weather_data[\"coord\"][\"lat\"])\n",
    "        lng_list.append(weather_data[\"coord\"][\"lon\"])\n",
    "        temp_list.append(weather_data['main']['temp'])\n",
    "        wind_list.append(weather_data[\"wind\"][\"speed\"])\n",
    "    \n",
    "        # Print that the city is currently being processed per homework instructions\n",
    "        print(f\"{counter} of {len(cities)}: Currently processing {city}, ID Number:{city_num}\")\n",
    "    \n",
    "    # If city data is not found then use this except command and continue to the next city\n",
    "    except(KeyError, IndexError):\n",
    "        print(f\"{counter} of {len(cities)}: Unfortunately unable to pull data for {city}, Skipping {city} for now\")\n",
    "\n",
    "    # Adding in a one second sleep interval between queries to avoid exceeding the API query limits\n",
    "    time.sleep(1)\n",
    "        \n",
    "print(\"-----------------------------\")\n",
    "print(f\"Finished collecting weather information from {len(cities)} cities around the world\")\n",
    "    "
   ]
  },
  {
   "cell_type": "markdown",
   "metadata": {},
   "source": [
    "### Convert Raw Data to DataFrame\n",
    "* Export the city data into a .csv.\n",
    "* Display the DataFrame"
   ]
  },
  {
   "cell_type": "code",
   "execution_count": 8,
   "metadata": {},
   "outputs": [
    {
     "data": {
      "text/html": [
       "<div>\n",
       "<style scoped>\n",
       "    .dataframe tbody tr th:only-of-type {\n",
       "        vertical-align: middle;\n",
       "    }\n",
       "\n",
       "    .dataframe tbody tr th {\n",
       "        vertical-align: top;\n",
       "    }\n",
       "\n",
       "    .dataframe thead th {\n",
       "        text-align: right;\n",
       "    }\n",
       "</style>\n",
       "<table border=\"1\" class=\"dataframe\">\n",
       "  <thead>\n",
       "    <tr style=\"text-align: right;\">\n",
       "      <th></th>\n",
       "      <th>City</th>\n",
       "      <th>Country</th>\n",
       "      <th>Temperature (F)</th>\n",
       "      <th>Date</th>\n",
       "      <th>Humidity %</th>\n",
       "      <th>Cloud</th>\n",
       "      <th>Wind Speed</th>\n",
       "      <th>Lat</th>\n",
       "      <th>Lng</th>\n",
       "    </tr>\n",
       "  </thead>\n",
       "  <tbody>\n",
       "    <tr>\n",
       "      <th>0</th>\n",
       "      <td>Busselton</td>\n",
       "      <td>AU</td>\n",
       "      <td>57.24</td>\n",
       "      <td>1613157827</td>\n",
       "      <td>89</td>\n",
       "      <td>0</td>\n",
       "      <td>11.54</td>\n",
       "      <td>-33.6500</td>\n",
       "      <td>115.3333</td>\n",
       "    </tr>\n",
       "    <tr>\n",
       "      <th>1</th>\n",
       "      <td>Lompoc</td>\n",
       "      <td>US</td>\n",
       "      <td>54.23</td>\n",
       "      <td>1613157828</td>\n",
       "      <td>62</td>\n",
       "      <td>20</td>\n",
       "      <td>17.27</td>\n",
       "      <td>34.6391</td>\n",
       "      <td>-120.4579</td>\n",
       "    </tr>\n",
       "    <tr>\n",
       "      <th>2</th>\n",
       "      <td>Nikolskoye</td>\n",
       "      <td>RU</td>\n",
       "      <td>0.68</td>\n",
       "      <td>1613157829</td>\n",
       "      <td>78</td>\n",
       "      <td>75</td>\n",
       "      <td>6.71</td>\n",
       "      <td>59.7035</td>\n",
       "      <td>30.7861</td>\n",
       "    </tr>\n",
       "    <tr>\n",
       "      <th>3</th>\n",
       "      <td>Adavere</td>\n",
       "      <td>EE</td>\n",
       "      <td>6.93</td>\n",
       "      <td>1613157830</td>\n",
       "      <td>85</td>\n",
       "      <td>90</td>\n",
       "      <td>3.44</td>\n",
       "      <td>58.7086</td>\n",
       "      <td>25.8994</td>\n",
       "    </tr>\n",
       "    <tr>\n",
       "      <th>4</th>\n",
       "      <td>Alofi</td>\n",
       "      <td>NU</td>\n",
       "      <td>78.80</td>\n",
       "      <td>1613157831</td>\n",
       "      <td>94</td>\n",
       "      <td>99</td>\n",
       "      <td>6.91</td>\n",
       "      <td>-19.0595</td>\n",
       "      <td>-169.9187</td>\n",
       "    </tr>\n",
       "  </tbody>\n",
       "</table>\n",
       "</div>"
      ],
      "text/plain": [
       "         City Country  Temperature (F)        Date  Humidity %  Cloud  \\\n",
       "0   Busselton      AU            57.24  1613157827          89      0   \n",
       "1      Lompoc      US            54.23  1613157828          62     20   \n",
       "2  Nikolskoye      RU             0.68  1613157829          78     75   \n",
       "3     Adavere      EE             6.93  1613157830          85     90   \n",
       "4       Alofi      NU            78.80  1613157831          94     99   \n",
       "\n",
       "   Wind Speed      Lat       Lng  \n",
       "0       11.54 -33.6500  115.3333  \n",
       "1       17.27  34.6391 -120.4579  \n",
       "2        6.71  59.7035   30.7861  \n",
       "3        3.44  58.7086   25.8994  \n",
       "4        6.91 -19.0595 -169.9187  "
      ]
     },
     "execution_count": 8,
     "metadata": {},
     "output_type": "execute_result"
    }
   ],
   "source": [
    "# Use pandas function pd.DataFrame to create a dataframe from the list information generated above\n",
    "# I chose to re-arrange this order of the columns here to what I felt more logical\n",
    "cities_weather_df = pd.DataFrame({\"City\": city_name_list,\n",
    "                                  \"Country\": country_list,\n",
    "                                  \"Temperature (F)\": temp_list,\n",
    "                                  \"Date\": date_list,\n",
    "                                  \"Humidity %\": humidity_list,\n",
    "                                  \"Cloud\": cloud_list,\n",
    "                                  \"Wind Speed\": wind_list,\n",
    "                                  \"Lat\": lat_list,\n",
    "                                  \"Lng\":lng_list                                  \n",
    "                                })\n",
    "\n",
    "# Display the dataframe\n",
    "cities_weather_df.head()"
   ]
  },
  {
   "cell_type": "code",
   "execution_count": 9,
   "metadata": {},
   "outputs": [],
   "source": [
    "# Save city data into a csv file\n",
    "cities_weather_df.to_csv(output_data_file, index = False)"
   ]
  },
  {
   "cell_type": "markdown",
   "metadata": {},
   "source": [
    "## Inspect the data and remove the cities where the humidity > 100%.\n",
    "----\n",
    "Skip this step if there are no cities that have humidity > 100%. "
   ]
  },
  {
   "cell_type": "code",
   "execution_count": 10,
   "metadata": {},
   "outputs": [
    {
     "data": {
      "text/html": [
       "<div>\n",
       "<style scoped>\n",
       "    .dataframe tbody tr th:only-of-type {\n",
       "        vertical-align: middle;\n",
       "    }\n",
       "\n",
       "    .dataframe tbody tr th {\n",
       "        vertical-align: top;\n",
       "    }\n",
       "\n",
       "    .dataframe thead th {\n",
       "        text-align: right;\n",
       "    }\n",
       "</style>\n",
       "<table border=\"1\" class=\"dataframe\">\n",
       "  <thead>\n",
       "    <tr style=\"text-align: right;\">\n",
       "      <th></th>\n",
       "      <th>City</th>\n",
       "      <th>Country</th>\n",
       "      <th>Temperature (F)</th>\n",
       "      <th>Date</th>\n",
       "      <th>Humidity %</th>\n",
       "      <th>Cloud</th>\n",
       "      <th>Wind Speed</th>\n",
       "      <th>Lat</th>\n",
       "      <th>Lng</th>\n",
       "    </tr>\n",
       "  </thead>\n",
       "  <tbody>\n",
       "    <tr>\n",
       "      <th>0</th>\n",
       "      <td>Busselton</td>\n",
       "      <td>AU</td>\n",
       "      <td>57.24</td>\n",
       "      <td>1613157827</td>\n",
       "      <td>89</td>\n",
       "      <td>0</td>\n",
       "      <td>11.54</td>\n",
       "      <td>-33.6500</td>\n",
       "      <td>115.3333</td>\n",
       "    </tr>\n",
       "    <tr>\n",
       "      <th>1</th>\n",
       "      <td>Lompoc</td>\n",
       "      <td>US</td>\n",
       "      <td>54.23</td>\n",
       "      <td>1613157828</td>\n",
       "      <td>62</td>\n",
       "      <td>20</td>\n",
       "      <td>17.27</td>\n",
       "      <td>34.6391</td>\n",
       "      <td>-120.4579</td>\n",
       "    </tr>\n",
       "    <tr>\n",
       "      <th>2</th>\n",
       "      <td>Nikolskoye</td>\n",
       "      <td>RU</td>\n",
       "      <td>0.68</td>\n",
       "      <td>1613157829</td>\n",
       "      <td>78</td>\n",
       "      <td>75</td>\n",
       "      <td>6.71</td>\n",
       "      <td>59.7035</td>\n",
       "      <td>30.7861</td>\n",
       "    </tr>\n",
       "    <tr>\n",
       "      <th>3</th>\n",
       "      <td>Adavere</td>\n",
       "      <td>EE</td>\n",
       "      <td>6.93</td>\n",
       "      <td>1613157830</td>\n",
       "      <td>85</td>\n",
       "      <td>90</td>\n",
       "      <td>3.44</td>\n",
       "      <td>58.7086</td>\n",
       "      <td>25.8994</td>\n",
       "    </tr>\n",
       "    <tr>\n",
       "      <th>4</th>\n",
       "      <td>Alofi</td>\n",
       "      <td>NU</td>\n",
       "      <td>78.80</td>\n",
       "      <td>1613157831</td>\n",
       "      <td>94</td>\n",
       "      <td>99</td>\n",
       "      <td>6.91</td>\n",
       "      <td>-19.0595</td>\n",
       "      <td>-169.9187</td>\n",
       "    </tr>\n",
       "  </tbody>\n",
       "</table>\n",
       "</div>"
      ],
      "text/plain": [
       "         City Country  Temperature (F)        Date  Humidity %  Cloud  \\\n",
       "0   Busselton      AU            57.24  1613157827          89      0   \n",
       "1      Lompoc      US            54.23  1613157828          62     20   \n",
       "2  Nikolskoye      RU             0.68  1613157829          78     75   \n",
       "3     Adavere      EE             6.93  1613157830          85     90   \n",
       "4       Alofi      NU            78.80  1613157831          94     99   \n",
       "\n",
       "   Wind Speed      Lat       Lng  \n",
       "0       11.54 -33.6500  115.3333  \n",
       "1       17.27  34.6391 -120.4579  \n",
       "2        6.71  59.7035   30.7861  \n",
       "3        3.44  58.7086   25.8994  \n",
       "4        6.91 -19.0595 -169.9187  "
      ]
     },
     "execution_count": 10,
     "metadata": {},
     "output_type": "execute_result"
    }
   ],
   "source": [
    "# Running this cell anyway just to be sure\n",
    "cleaned_data_df = cities_weather_df[cities_weather_df[\"Humidity %\"] < 100]\n",
    "cleaned_data_df.head()"
   ]
  },
  {
   "cell_type": "code",
   "execution_count": 11,
   "metadata": {},
   "outputs": [
    {
     "data": {
      "text/plain": [
       "Int64Index([], dtype='int64')"
      ]
     },
     "execution_count": 11,
     "metadata": {},
     "output_type": "execute_result"
    }
   ],
   "source": [
    "#  Get the indices of cities that have humidity over 100%.\n",
    "high_humidity_df = cities_weather_df[cities_weather_df[\"Humidity %\"] > 100]\n",
    "\n",
    "high_humidity_df\n",
    "\n",
    "high_humidity_index = high_humidity_df.index\n",
    "high_humidity_index"
   ]
  },
  {
   "cell_type": "code",
   "execution_count": 12,
   "metadata": {},
   "outputs": [
    {
     "data": {
      "text/html": [
       "<div>\n",
       "<style scoped>\n",
       "    .dataframe tbody tr th:only-of-type {\n",
       "        vertical-align: middle;\n",
       "    }\n",
       "\n",
       "    .dataframe tbody tr th {\n",
       "        vertical-align: top;\n",
       "    }\n",
       "\n",
       "    .dataframe thead th {\n",
       "        text-align: right;\n",
       "    }\n",
       "</style>\n",
       "<table border=\"1\" class=\"dataframe\">\n",
       "  <thead>\n",
       "    <tr style=\"text-align: right;\">\n",
       "      <th></th>\n",
       "      <th>City</th>\n",
       "      <th>Country</th>\n",
       "      <th>Temperature (F)</th>\n",
       "      <th>Date</th>\n",
       "      <th>Humidity %</th>\n",
       "      <th>Cloud</th>\n",
       "      <th>Wind Speed</th>\n",
       "      <th>Lat</th>\n",
       "      <th>Lng</th>\n",
       "    </tr>\n",
       "  </thead>\n",
       "  <tbody>\n",
       "    <tr>\n",
       "      <th>0</th>\n",
       "      <td>Busselton</td>\n",
       "      <td>AU</td>\n",
       "      <td>57.24</td>\n",
       "      <td>1613157827</td>\n",
       "      <td>89</td>\n",
       "      <td>0</td>\n",
       "      <td>11.54</td>\n",
       "      <td>-33.6500</td>\n",
       "      <td>115.3333</td>\n",
       "    </tr>\n",
       "    <tr>\n",
       "      <th>1</th>\n",
       "      <td>Lompoc</td>\n",
       "      <td>US</td>\n",
       "      <td>54.23</td>\n",
       "      <td>1613157828</td>\n",
       "      <td>62</td>\n",
       "      <td>20</td>\n",
       "      <td>17.27</td>\n",
       "      <td>34.6391</td>\n",
       "      <td>-120.4579</td>\n",
       "    </tr>\n",
       "    <tr>\n",
       "      <th>2</th>\n",
       "      <td>Nikolskoye</td>\n",
       "      <td>RU</td>\n",
       "      <td>0.68</td>\n",
       "      <td>1613157829</td>\n",
       "      <td>78</td>\n",
       "      <td>75</td>\n",
       "      <td>6.71</td>\n",
       "      <td>59.7035</td>\n",
       "      <td>30.7861</td>\n",
       "    </tr>\n",
       "    <tr>\n",
       "      <th>3</th>\n",
       "      <td>Adavere</td>\n",
       "      <td>EE</td>\n",
       "      <td>6.93</td>\n",
       "      <td>1613157830</td>\n",
       "      <td>85</td>\n",
       "      <td>90</td>\n",
       "      <td>3.44</td>\n",
       "      <td>58.7086</td>\n",
       "      <td>25.8994</td>\n",
       "    </tr>\n",
       "    <tr>\n",
       "      <th>4</th>\n",
       "      <td>Alofi</td>\n",
       "      <td>NU</td>\n",
       "      <td>78.80</td>\n",
       "      <td>1613157831</td>\n",
       "      <td>94</td>\n",
       "      <td>99</td>\n",
       "      <td>6.91</td>\n",
       "      <td>-19.0595</td>\n",
       "      <td>-169.9187</td>\n",
       "    </tr>\n",
       "  </tbody>\n",
       "</table>\n",
       "</div>"
      ],
      "text/plain": [
       "         City Country  Temperature (F)        Date  Humidity %  Cloud  \\\n",
       "0   Busselton      AU            57.24  1613157827          89      0   \n",
       "1      Lompoc      US            54.23  1613157828          62     20   \n",
       "2  Nikolskoye      RU             0.68  1613157829          78     75   \n",
       "3     Adavere      EE             6.93  1613157830          85     90   \n",
       "4       Alofi      NU            78.80  1613157831          94     99   \n",
       "\n",
       "   Wind Speed      Lat       Lng  \n",
       "0       11.54 -33.6500  115.3333  \n",
       "1       17.27  34.6391 -120.4579  \n",
       "2        6.71  59.7035   30.7861  \n",
       "3        3.44  58.7086   25.8994  \n",
       "4        6.91 -19.0595 -169.9187  "
      ]
     },
     "execution_count": 12,
     "metadata": {},
     "output_type": "execute_result"
    }
   ],
   "source": [
    "# Make a new DataFrame equal to the city data to drop all humidity outliers by index.\n",
    "# The step above created this cleaned dataframe, here it is displayed again\n",
    "cleaned_data_df.head()"
   ]
  },
  {
   "cell_type": "markdown",
   "metadata": {},
   "source": [
    "## Plotting the Data\n",
    "* Use proper labeling of the plots using plot titles (including date of analysis) and axes labels.\n",
    "* Save the plotted figures as .pngs."
   ]
  },
  {
   "cell_type": "markdown",
   "metadata": {},
   "source": [
    "## Latitude vs. Temperature Plot"
   ]
  },
  {
   "cell_type": "code",
   "execution_count": 13,
   "metadata": {
    "scrolled": true
   },
   "outputs": [
    {
     "data": {
      "image/png": "[encoded data removed]",
      "text/plain": [
       "<Figure size 432x288 with 1 Axes>"
      ]
     },
     "metadata": {
      "needs_background": "light"
     },
     "output_type": "display_data"
    }
   ],
   "source": [
    "# Create Latitude vs. Temperature scatter plot\n",
    "plt.scatter(cleaned_data_df[\"Lat\"], cleaned_data_df[\"Temperature (F)\"])\n",
    "\n",
    "# Set the title and x and y labels of the plot\n",
    "plt.title(\"Latitude v Temperature (F) (Feb 12, 2021)\")\n",
    "plt.xlabel(\"Latitude\")\n",
    "plt.ylabel(\"Temperature (F)\")\n",
    "\n",
    "# Save the plotted figure as .pngs\n",
    "plt.savefig(\"Images/Latitude v Temperature (F).png\")\n",
    "\n",
    "# Best practice to use plt.show()\n",
    "plt.show()"
   ]
  },
  {
   "cell_type": "markdown",
   "metadata": {},
   "source": [
    "### This above plot shows the relationship between the change in latitude and how that potentially correlates to the temperature value recorded.\n",
    "The data seems to suggest that that the temperature seems to increase as it gets closer to 0 and decrease at varrying rates the further it gets from 0. This relationship supports the initial hypothesis that it gets warmer the closer you are to the equator."
   ]
  },
  {
   "cell_type": "markdown",
   "metadata": {},
   "source": [
    "## Latitude vs. Humidity Plot"
   ]
  },
  {
   "cell_type": "code",
   "execution_count": 14,
   "metadata": {},
   "outputs": [
    {
     "data": {
      "image/png": "[encoded data removed]",
      "text/plain": [
       "<Figure size 432x288 with 1 Axes>"
      ]
     },
     "metadata": {
      "needs_background": "light"
     },
     "output_type": "display_data"
    }
   ],
   "source": [
    "# Create Latitude vs. Humidity scatter plot\n",
    "plt.scatter(cleaned_data_df[\"Lat\"], cleaned_data_df[\"Humidity %\"])\n",
    "\n",
    "# Set the title and x and y labels of the plot\n",
    "plt.title(\"Latitude v Humidity % (Feb 12, 2021)\")\n",
    "plt.xlabel(\"Latitude\")\n",
    "plt.ylabel(\"Humidity %\")\n",
    "\n",
    "# Save the plotted figure as .pngs\n",
    "plt.savefig(\"Images/Latitude v Humidity %.png\")\n",
    "\n",
    "# Best practice to use plt.show()\n",
    "plt.show()"
   ]
  },
  {
   "cell_type": "markdown",
   "metadata": {},
   "source": [
    "### This above plot shows the relationship between the change in latitude and how that potentially correlates to the percent humidity value recorded.\n",
    "The data does not show a true correlation between the latitude and the percent humidity. While we do see the humidity values to trend lower at more extreme latitudes (-50, 50) the data is too dispersed in this chart to accurately say there is a strong correlation between the two"
   ]
  },
  {
   "cell_type": "markdown",
   "metadata": {},
   "source": [
    "## Latitude vs. Cloudiness Plot"
   ]
  },
  {
   "cell_type": "code",
   "execution_count": 15,
   "metadata": {},
   "outputs": [
    {
     "data": {
      "image/png": "[encoded data removed]",
      "text/plain": [
       "<Figure size 432x288 with 1 Axes>"
      ]
     },
     "metadata": {
      "needs_background": "light"
     },
     "output_type": "display_data"
    }
   ],
   "source": [
    "# Create Latitude vs. Cloudiness scatter plot\n",
    "plt.scatter(cleaned_data_df[\"Lat\"], cleaned_data_df[\"Cloud\"])\n",
    "\n",
    "# Set the title and x and y labels of the plot\n",
    "plt.title(\"Latitude v Cloudiness (Feb 12, 2021)\")\n",
    "plt.xlabel(\"Latitude\")\n",
    "plt.ylabel(\"Cloudiness\")\n",
    "\n",
    "# Save the plotted figure as .pngs\n",
    "plt.savefig(\"Images/Latitude v Cloudiness.png\")\n",
    "\n",
    "# Best practice to use plt.show()\n",
    "plt.show()"
   ]
  },
  {
   "cell_type": "markdown",
   "metadata": {},
   "source": [
    "### This above plot shows the relationship between the change in latitude and how that potentially correlates to the Cloudiness value recorded.\n",
    "The data seems to suggest that that there is little to no discernable coorilation between the level of cloudiness and the latitude, as the points are dispersed across the chart"
   ]
  },
  {
   "cell_type": "markdown",
   "metadata": {},
   "source": [
    "## Latitude vs. Wind Speed Plot"
   ]
  },
  {
   "cell_type": "code",
   "execution_count": 16,
   "metadata": {},
   "outputs": [
    {
     "data": {
      "image/png": "[encoded data removed]",
      "text/plain": [
       "<Figure size 432x288 with 1 Axes>"
      ]
     },
     "metadata": {
      "needs_background": "light"
     },
     "output_type": "display_data"
    }
   ],
   "source": [
    "# Create Latitude vs. Wind Speed scatter plot\n",
    "plt.scatter(cleaned_data_df[\"Lat\"], cleaned_data_df[\"Wind Speed\"])\n",
    "\n",
    "# Set the title and x and y labels of the plot\n",
    "plt.title(\"Latitude v Wind Speed (Feb 12, 2021)\")\n",
    "plt.xlabel(\"Latitude\")\n",
    "plt.ylabel(\"Wind Speed\")\n",
    "\n",
    "# Save the plotted figure as .pngs\n",
    "plt.savefig(\"Images/Latitude v Wind Speed.png\")\n",
    "\n",
    "# Best practice to use plt.show()\n",
    "plt.show()"
   ]
  },
  {
   "cell_type": "markdown",
   "metadata": {},
   "source": [
    "### This above plot shows the relationship between the change in latitude and how that potentially correlates to the wind speed value recorded.\n",
    "This chart again depicts little correlation between latitude and wind speed as the data is spread across the whole chart, not being effected by the latitude value it is tied to."
   ]
  },
  {
   "cell_type": "markdown",
   "metadata": {},
   "source": [
    "## Linear Regression"
   ]
  },
  {
   "cell_type": "code",
   "execution_count": 17,
   "metadata": {},
   "outputs": [
    {
     "data": {
      "text/html": [
       "<div>\n",
       "<style scoped>\n",
       "    .dataframe tbody tr th:only-of-type {\n",
       "        vertical-align: middle;\n",
       "    }\n",
       "\n",
       "    .dataframe tbody tr th {\n",
       "        vertical-align: top;\n",
       "    }\n",
       "\n",
       "    .dataframe thead th {\n",
       "        text-align: right;\n",
       "    }\n",
       "</style>\n",
       "<table border=\"1\" class=\"dataframe\">\n",
       "  <thead>\n",
       "    <tr style=\"text-align: right;\">\n",
       "      <th></th>\n",
       "      <th>City</th>\n",
       "      <th>Country</th>\n",
       "      <th>Temperature (F)</th>\n",
       "      <th>Date</th>\n",
       "      <th>Humidity %</th>\n",
       "      <th>Cloud</th>\n",
       "      <th>Wind Speed</th>\n",
       "      <th>Lat</th>\n",
       "      <th>Lng</th>\n",
       "    </tr>\n",
       "  </thead>\n",
       "  <tbody>\n",
       "    <tr>\n",
       "      <th>1</th>\n",
       "      <td>Lompoc</td>\n",
       "      <td>US</td>\n",
       "      <td>54.23</td>\n",
       "      <td>1613157828</td>\n",
       "      <td>62</td>\n",
       "      <td>20</td>\n",
       "      <td>17.27</td>\n",
       "      <td>34.6391</td>\n",
       "      <td>-120.4579</td>\n",
       "    </tr>\n",
       "    <tr>\n",
       "      <th>2</th>\n",
       "      <td>Nikolskoye</td>\n",
       "      <td>RU</td>\n",
       "      <td>0.68</td>\n",
       "      <td>1613157829</td>\n",
       "      <td>78</td>\n",
       "      <td>75</td>\n",
       "      <td>6.71</td>\n",
       "      <td>59.7035</td>\n",
       "      <td>30.7861</td>\n",
       "    </tr>\n",
       "    <tr>\n",
       "      <th>3</th>\n",
       "      <td>Adavere</td>\n",
       "      <td>EE</td>\n",
       "      <td>6.93</td>\n",
       "      <td>1613157830</td>\n",
       "      <td>85</td>\n",
       "      <td>90</td>\n",
       "      <td>3.44</td>\n",
       "      <td>58.7086</td>\n",
       "      <td>25.8994</td>\n",
       "    </tr>\n",
       "    <tr>\n",
       "      <th>6</th>\n",
       "      <td>Muisne</td>\n",
       "      <td>EC</td>\n",
       "      <td>84.20</td>\n",
       "      <td>1613157839</td>\n",
       "      <td>84</td>\n",
       "      <td>40</td>\n",
       "      <td>4.61</td>\n",
       "      <td>0.6000</td>\n",
       "      <td>-80.0333</td>\n",
       "    </tr>\n",
       "    <tr>\n",
       "      <th>9</th>\n",
       "      <td>Albany</td>\n",
       "      <td>US</td>\n",
       "      <td>17.80</td>\n",
       "      <td>1613157843</td>\n",
       "      <td>34</td>\n",
       "      <td>100</td>\n",
       "      <td>5.21</td>\n",
       "      <td>42.6001</td>\n",
       "      <td>-73.9662</td>\n",
       "    </tr>\n",
       "  </tbody>\n",
       "</table>\n",
       "</div>"
      ],
      "text/plain": [
       "         City Country  Temperature (F)        Date  Humidity %  Cloud  \\\n",
       "1      Lompoc      US            54.23  1613157828          62     20   \n",
       "2  Nikolskoye      RU             0.68  1613157829          78     75   \n",
       "3     Adavere      EE             6.93  1613157830          85     90   \n",
       "6      Muisne      EC            84.20  1613157839          84     40   \n",
       "9      Albany      US            17.80  1613157843          34    100   \n",
       "\n",
       "   Wind Speed      Lat       Lng  \n",
       "1       17.27  34.6391 -120.4579  \n",
       "2        6.71  59.7035   30.7861  \n",
       "3        3.44  58.7086   25.8994  \n",
       "6        4.61   0.6000  -80.0333  \n",
       "9        5.21  42.6001  -73.9662  "
      ]
     },
     "execution_count": 17,
     "metadata": {},
     "output_type": "execute_result"
    }
   ],
   "source": [
    "# Create Northern and Southern hemisphere dataframes based on homework instructions\n",
    "# Norther hemisphere is if lat >= 0 and Southern is if it is < 0\n",
    "northern_hemisphere = cleaned_data_df.loc[cleaned_data_df[\"Lat\"] >= 0]\n",
    "southern_hemisphere = cleaned_data_df.loc[cleaned_data_df[\"Lat\"] < 0]\n",
    "northern_hemisphere.head()"
   ]
  },
  {
   "cell_type": "code",
   "execution_count": 18,
   "metadata": {},
   "outputs": [
    {
     "name": "stdout",
     "output_type": "stream",
     "text": [
      "0      81.968518\n",
      "1      40.296140\n",
      "2      25.000974\n",
      "3      25.608097\n",
      "4      73.064889\n",
      "         ...    \n",
      "311    41.245544\n",
      "312    42.569326\n",
      "313    77.854194\n",
      "314    73.765621\n",
      "315    38.275714\n",
      "Name: Lat, Length: 301, dtype: float64\n",
      "y = -0.61x + 61.43\n"
     ]
    }
   ],
   "source": [
    "# Generate x and y values to start\n",
    "# These will be updated for each chart, but the rest of the setup will stay\n",
    "x_values = cleaned_data_df[\"Lat\"]\n",
    "y_values = cleaned_data_df[\"Temperature (F)\"]\n",
    "\n",
    "# Set up linear regression equation\n",
    "(slope, intercept, rvalue, pvalue, stderr) = linregress(x_values, y_values)\n",
    "\n",
    "# Get regression values\n",
    "regress_values = x_values * slope + intercept\n",
    "print(regress_values)\n",
    "\n",
    "# Create a line equation using the linregress values generated above\n",
    "line_eq = \"y = \" + str(round(slope,2)) + \"x + \" + str(round(intercept,2))\n",
    "print(line_eq)"
   ]
  },
  {
   "cell_type": "markdown",
   "metadata": {},
   "source": [
    "####  Northern Hemisphere - Max Temp vs. Latitude Linear Regression"
   ]
  },
  {
   "cell_type": "code",
   "execution_count": 19,
   "metadata": {},
   "outputs": [
    {
     "name": "stdout",
     "output_type": "stream",
     "text": [
      "The r-value is: 0.668247415450981\n"
     ]
    },
    {
     "data": {
      "image/png": "[encoded data removed]",
      "text/plain": [
       "<Figure size 432x288 with 1 Axes>"
      ]
     },
     "metadata": {
      "needs_background": "light"
     },
     "output_type": "display_data"
    }
   ],
   "source": [
    "# Update the x and y values\n",
    "x_values = northern_hemisphere[\"Lat\"]\n",
    "y_values = northern_hemisphere[\"Temperature (F)\"]\n",
    "\n",
    "# Generate the scatter plot\n",
    "plt.scatter(x_values,y_values)\n",
    "\n",
    "# Set up linear regression equation\n",
    "(slope, intercept, rvalue, pvalue, stderr) = linregress(x_values, y_values)\n",
    "# Get regression values\n",
    "regress_values = x_values * slope + intercept\n",
    "#print(regress_values)\n",
    "\n",
    "# Generate regression values\n",
    "plt.plot(x_values,regress_values,\"r-\")\n",
    "\n",
    "# Label plot and annotate the line equation\n",
    "plt.title(\"Northern Latitude v Temperature (F) (Feb 12, 2021)\")\n",
    "plt.xlabel(\"Latitude\")\n",
    "plt.ylabel(\"Temperature (F)\")\n",
    "# Update the coordinates here to make sure the chart displays properly\n",
    "plt.annotate(line_eq,(20,0), fontsize=15, color=\"red\")\n",
    "\n",
    "# Print r value\n",
    "print(f\"The r-value is: {rvalue**2}\")\n",
    "\n",
    "# Save the plotted figure as .pngs\n",
    "plt.savefig(\"Images/Northern Latitude v Temperature (F).png\")\n",
    "\n",
    "# Show plot\n",
    "plt.show()"
   ]
  },
  {
   "cell_type": "markdown",
   "metadata": {},
   "source": [
    "### This above plot for the northern hemisphere shows the relationship between the change in latitude and how that potentially correlates to the temperature value recorded. It also shows a regression line to further display any correlation.\n",
    "The regression line clearly shows the hypothesis to be true as the temperature drops the further the latitude is from 0 (the equator). Also, the r value being pretty close to 1.0 each time I've run this with new random cities gives me confidence that the correlation between these values is strong."
   ]
  },
  {
   "cell_type": "markdown",
   "metadata": {},
   "source": [
    "####  Southern Hemisphere - Max Temp vs. Latitude Linear Regression"
   ]
  },
  {
   "cell_type": "code",
   "execution_count": 20,
   "metadata": {},
   "outputs": [
    {
     "name": "stdout",
     "output_type": "stream",
     "text": [
      "The r-value is: 0.48916970006894855\n"
     ]
    },
    {
     "data": {
      "image/png": "[encoded data removed]",
      "text/plain": [
       "<Figure size 432x288 with 1 Axes>"
      ]
     },
     "metadata": {
      "needs_background": "light"
     },
     "output_type": "display_data"
    }
   ],
   "source": [
    "# Update the x and y values\n",
    "x_values = southern_hemisphere[\"Lat\"]\n",
    "y_values = southern_hemisphere[\"Temperature (F)\"]\n",
    "\n",
    "# Generate the scatter plot and regression line\n",
    "plt.scatter(x_values,y_values)\n",
    "\n",
    "# Set up linear regression equation\n",
    "(slope, intercept, rvalue, pvalue, stderr) = linregress(x_values, y_values)\n",
    "# Get regression values\n",
    "regress_values = x_values * slope + intercept\n",
    "#print(regress_values)\n",
    "\n",
    "# Generate regression values\n",
    "plt.plot(x_values,regress_values,\"r-\")\n",
    "\n",
    "# Label plot and annotate the line equation\n",
    "plt.title(\"Southern Latitude v Temperature (F) (Feb 12, 2021)\")\n",
    "plt.xlabel(\"Latitude\")\n",
    "plt.ylabel(\"Temperature (F)\")\n",
    "# Update the coordinates here to make sure the chart displays properly\n",
    "plt.annotate(line_eq,(-30,60), fontsize=15, color=\"red\")\n",
    "\n",
    "# Print r value\n",
    "print(f\"The r-value is: {rvalue**2}\")\n",
    "\n",
    "# Save the plotted figure as .pngs\n",
    "plt.savefig(\"Images/Southern Latitude v Temperature (F).png\")\n",
    "\n",
    "# Show plot\n",
    "plt.show()"
   ]
  },
  {
   "cell_type": "markdown",
   "metadata": {},
   "source": [
    "### This above plot for the southern hemisphere shows the relationship between the change in latitude and how that potentially correlates to the temperature value recorded. It also shows a regression line to further display any correlation.\n",
    "The regression line again clearly shows the hypothesis to be true as the temperature rises the closer the latitude gets to 0 (the equator). Also, the r value again is on the 'higher' side as it closer to 1.0, shows that the correlation between these values is strong."
   ]
  },
  {
   "cell_type": "markdown",
   "metadata": {},
   "source": [
    "####  Northern Hemisphere - Humidity (%) vs. Latitude Linear Regression"
   ]
  },
  {
   "cell_type": "code",
   "execution_count": 21,
   "metadata": {},
   "outputs": [
    {
     "name": "stdout",
     "output_type": "stream",
     "text": [
      "The r-value is: 0.006528231131705123\n"
     ]
    },
    {
     "data": {
      "image/png": "[encoded data removed]",
      "text/plain": [
       "<Figure size 432x288 with 1 Axes>"
      ]
     },
     "metadata": {
      "needs_background": "light"
     },
     "output_type": "display_data"
    }
   ],
   "source": [
    "# Update the x and y values\n",
    "x_values = northern_hemisphere[\"Lat\"]\n",
    "y_values = northern_hemisphere[\"Humidity %\"]\n",
    "\n",
    "# Generate the scatter plot and regression line\n",
    "plt.scatter(x_values,y_values)\n",
    "\n",
    "# Set up linear regression equation\n",
    "(slope, intercept, rvalue, pvalue, stderr) = linregress(x_values, y_values)\n",
    "# Get regression values\n",
    "regress_values = x_values * slope + intercept\n",
    "#print(regress_values)\n",
    "\n",
    "# Generate regression values\n",
    "plt.plot(x_values,regress_values,\"r-\")\n",
    "\n",
    "# Label plot and annotate the line equation\n",
    "plt.title(\"Northern Latitude v Humidity % (Feb 12, 2021)\")\n",
    "plt.xlabel(\"Latitude\")\n",
    "plt.ylabel(\"Humidity %\")\n",
    "# Update the coordinates here to make sure the chart displays properly\n",
    "plt.annotate(line_eq,(38, 50), fontsize=15, color=\"red\")\n",
    "\n",
    "# Print r value\n",
    "print(f\"The r-value is: {rvalue**2}\")\n",
    "\n",
    "# Save the plotted figure as .pngs\n",
    "plt.savefig(\"Images/Northern Latitude v Humidity %.png\")\n",
    "\n",
    "# Show plot\n",
    "plt.show()"
   ]
  },
  {
   "cell_type": "markdown",
   "metadata": {},
   "source": [
    "### This above plot for the northern hemisphere shows the relationship between the change in latitude and how that potentially correlates to the percent humidity value recorded. It also shows a regression line to further display any correlation.\n",
    "The regression leads me to believe that there is very little correlation between the latitude and the percent humidity. A low r value is a telling sign of this."
   ]
  },
  {
   "cell_type": "markdown",
   "metadata": {},
   "source": [
    "####  Southern Hemisphere - Humidity (%) vs. Latitude Linear Regression"
   ]
  },
  {
   "cell_type": "code",
   "execution_count": 22,
   "metadata": {},
   "outputs": [
    {
     "name": "stdout",
     "output_type": "stream",
     "text": [
      "The r-value is: 0.012530614544068232\n"
     ]
    },
    {
     "data": {
      "image/png": "[encoded data removed]",
      "text/plain": [
       "<Figure size 432x288 with 1 Axes>"
      ]
     },
     "metadata": {
      "needs_background": "light"
     },
     "output_type": "display_data"
    }
   ],
   "source": [
    "# Update the x and y values\n",
    "x_values = southern_hemisphere[\"Lat\"]\n",
    "y_values = southern_hemisphere[\"Humidity %\"]\n",
    "\n",
    "# Generate the scatter plot and regression line\n",
    "plt.scatter(x_values,y_values)\n",
    "\n",
    "# Set up linear regression equation\n",
    "(slope, intercept, rvalue, pvalue, stderr) = linregress(x_values, y_values)\n",
    "# Get regression values\n",
    "regress_values = x_values * slope + intercept\n",
    "#print(regress_values)\n",
    "\n",
    "# Generate regression values\n",
    "plt.plot(x_values,regress_values,\"r-\")\n",
    "\n",
    "# Label plot and annotate the line equation\n",
    "plt.title(\"Southern Latitude v Humidity % (Feb 12, 2021)\")\n",
    "plt.xlabel(\"Latitude\")\n",
    "plt.ylabel(\"Humidity %\")\n",
    "# Update the coordinates here to make sure the chart displays properly\n",
    "plt.annotate(line_eq,(-32,50), fontsize=15, color=\"red\")\n",
    "\n",
    "# Print r value\n",
    "print(f\"The r-value is: {rvalue**2}\")\n",
    "\n",
    "# Save the plotted figure as .pngs\n",
    "plt.savefig(\"Images/Southern Latitude v Humidity %.png\")\n",
    "\n",
    "# Show plot\n",
    "plt.show()"
   ]
  },
  {
   "cell_type": "markdown",
   "metadata": {},
   "source": [
    "### This above plot for the southern hemisphere shows the relationship between the change in latitude and how that potentially correlates to the percent humidity value recorded. It also shows a regression line to further display any correlation.\n",
    "While there is a stronger correlation between the latitude and humidity in the southern hemisphere data gathered, the low r value and slope of the regression line indicate that this is still a weak correlation."
   ]
  },
  {
   "cell_type": "markdown",
   "metadata": {},
   "source": [
    "####  Northern Hemisphere - Cloudiness (%) vs. Latitude Linear Regression"
   ]
  },
  {
   "cell_type": "code",
   "execution_count": 23,
   "metadata": {},
   "outputs": [
    {
     "name": "stdout",
     "output_type": "stream",
     "text": [
      "The r-value is: 0.01167691752706343\n"
     ]
    },
    {
     "data": {
      "image/png": "[encoded data removed]",
      "text/plain": [
       "<Figure size 432x288 with 1 Axes>"
      ]
     },
     "metadata": {
      "needs_background": "light"
     },
     "output_type": "display_data"
    }
   ],
   "source": [
    "# Update the x and y values\n",
    "x_values = northern_hemisphere[\"Lat\"]\n",
    "y_values = northern_hemisphere[\"Cloud\"]\n",
    "\n",
    "# Generate the scatter plot and regression line\n",
    "plt.scatter(x_values,y_values)\n",
    "\n",
    "# Set up linear regression equation\n",
    "(slope, intercept, rvalue, pvalue, stderr) = linregress(x_values, y_values)\n",
    "# Get regression values\n",
    "regress_values = x_values * slope + intercept\n",
    "#print(regress_values)\n",
    "\n",
    "# Generate regression values\n",
    "plt.plot(x_values,regress_values,\"r-\")\n",
    "\n",
    "# Label plot and annotate the line equation\n",
    "plt.title(\"Northern Latitude v Cloudiness (Feb 12, 2021)\")\n",
    "plt.xlabel(\"Latitude\")\n",
    "plt.ylabel(\"Cloudiness\")\n",
    "# Update the coordinates here to make sure the chart displays properly\n",
    "plt.annotate(line_eq,(35,15), fontsize=15, color=\"red\")\n",
    "\n",
    "# Print r value\n",
    "print(f\"The r-value is: {rvalue**2}\")\n",
    "\n",
    "# Save the plotted figure as .pngs\n",
    "plt.savefig(\"Images/Northern Latitude v Cloudiness.png\")\n",
    "\n",
    "# Show plot\n",
    "plt.show()"
   ]
  },
  {
   "cell_type": "markdown",
   "metadata": {},
   "source": [
    "### This above plot for the northern hemisphere shows the relationship between the change in latitude and how that potentially correlates to the cloudiness value recorded. It also shows a regression line to further display any correlation.\n",
    "There is a positive correlation displayed here, however it is a weak correlation. Leading to the conclusion that the cloudiness and latitude values do not necessarily effect one another."
   ]
  },
  {
   "cell_type": "markdown",
   "metadata": {},
   "source": [
    "####  Southern Hemisphere - Cloudiness (%) vs. Latitude Linear Regression"
   ]
  },
  {
   "cell_type": "code",
   "execution_count": 24,
   "metadata": {},
   "outputs": [
    {
     "name": "stdout",
     "output_type": "stream",
     "text": [
      "The r-value is: 0.0007023197607202388\n"
     ]
    },
    {
     "data": {
      "image/png": "[encoded data removed]",
      "text/plain": [
       "<Figure size 432x288 with 1 Axes>"
      ]
     },
     "metadata": {
      "needs_background": "light"
     },
     "output_type": "display_data"
    }
   ],
   "source": [
    "# Update the x and y values\n",
    "x_values = southern_hemisphere[\"Lat\"]\n",
    "y_values = southern_hemisphere[\"Cloud\"]\n",
    "\n",
    "# Generate the scatter plot and regression line\n",
    "plt.scatter(x_values,y_values)\n",
    "\n",
    "# Set up linear regression equation\n",
    "(slope, intercept, rvalue, pvalue, stderr) = linregress(x_values, y_values)\n",
    "# Get regression values\n",
    "regress_values = x_values * slope + intercept\n",
    "#print(regress_values)\n",
    "\n",
    "# Generate regression values\n",
    "plt.plot(x_values,regress_values,\"r-\")\n",
    "\n",
    "# Label plot and annotate the line equation\n",
    "plt.title(\"Southern Latitude v Cloudiness (Feb 12, 2021)\")\n",
    "plt.xlabel(\"Latitude\")\n",
    "plt.ylabel(\"Cloudiness\")\n",
    "# Update the coordinates here to make sure the chart displays properly\n",
    "plt.annotate(line_eq,(-32,20), fontsize=15, color=\"red\")\n",
    "\n",
    "# Print r value\n",
    "print(f\"The r-value is: {rvalue**2}\")\n",
    "\n",
    "# Save the plotted figure as .pngs\n",
    "plt.savefig(\"Images/Southern Latitude v Cloudiness.png\")\n",
    "\n",
    "# Show plot\n",
    "plt.show()"
   ]
  },
  {
   "cell_type": "markdown",
   "metadata": {},
   "source": [
    "### This above plot for the southern hemisphere shows the relationship between the change in latitude and how that potentially correlates to the temperature value recorded. It also shows a regression line to further display any correlation.\n",
    "There is a negative correlation displayed here, however it is a weak correlation. Leading to the conclusion that the cloudiness and latitude values do not necessarily effect one another."
   ]
  },
  {
   "cell_type": "markdown",
   "metadata": {},
   "source": [
    "####  Northern Hemisphere - Wind Speed (mph) vs. Latitude Linear Regression"
   ]
  },
  {
   "cell_type": "code",
   "execution_count": 25,
   "metadata": {},
   "outputs": [
    {
     "name": "stdout",
     "output_type": "stream",
     "text": [
      "The r-value is: 0.028877169159122886\n"
     ]
    },
    {
     "data": {
      "image/png": "[encoded data removed]",
      "text/plain": [
       "<Figure size 432x288 with 1 Axes>"
      ]
     },
     "metadata": {
      "needs_background": "light"
     },
     "output_type": "display_data"
    }
   ],
   "source": [
    "# Update the x and y values\n",
    "x_values = northern_hemisphere[\"Lat\"]\n",
    "y_values = northern_hemisphere[\"Wind Speed\"]\n",
    "\n",
    "# Generate the scatter plot and regression line\n",
    "plt.scatter(x_values,y_values)\n",
    "\n",
    "# Set up linear regression equation\n",
    "(slope, intercept, rvalue, pvalue, stderr) = linregress(x_values, y_values)\n",
    "# Get regression values\n",
    "regress_values = x_values * slope + intercept\n",
    "#print(regress_values)\n",
    "\n",
    "# Generate regression values\n",
    "plt.plot(x_values,regress_values,\"r-\")\n",
    "\n",
    "# Label plot and annotate the line equation\n",
    "plt.title(\"Northern Latitude v Wind Speed (Feb 12, 2021)\")\n",
    "plt.xlabel(\"Latitude\")\n",
    "plt.ylabel(\"Wind Speed\")\n",
    "# Update the coordinates here to make sure the chart displays properly\n",
    "plt.annotate(line_eq,(35,2), fontsize=15, color=\"red\")\n",
    "\n",
    "# Print r value\n",
    "print(f\"The r-value is: {rvalue**2}\")\n",
    "\n",
    "# Save the plotted figure as .pngs\n",
    "plt.savefig(\"Images/Northern Latitude v Wind Speed.png\")\n",
    "\n",
    "# Show plot\n",
    "plt.show()"
   ]
  },
  {
   "cell_type": "markdown",
   "metadata": {},
   "source": [
    "### This above plot for the northern hemisphere shows the relationship between the change in latitude and how that potentially correlates to the wind speed value recorded. It also shows a regression line to further display any correlation.\n",
    "The chart and regression line show that in the northern hemisphere there is a weak, yet slightly positive correlation between the wind speed recorded and the latitude. The r value being very close to 0 is also telling that this correlation is very minimal."
   ]
  },
  {
   "cell_type": "markdown",
   "metadata": {},
   "source": [
    "####  Southern Hemisphere - Wind Speed (mph) vs. Latitude Linear Regression"
   ]
  },
  {
   "cell_type": "code",
   "execution_count": 26,
   "metadata": {},
   "outputs": [
    {
     "name": "stdout",
     "output_type": "stream",
     "text": [
      "The r-value is: 0.00011009419148971916\n"
     ]
    },
    {
     "data": {
      "image/png": "[encoded data removed]",
      "text/plain": [
       "<Figure size 432x288 with 1 Axes>"
      ]
     },
     "metadata": {
      "needs_background": "light"
     },
     "output_type": "display_data"
    }
   ],
   "source": [
    "# Update the x and y values\n",
    "x_values = southern_hemisphere[\"Lat\"]\n",
    "y_values = southern_hemisphere[\"Wind Speed\"]\n",
    "\n",
    "# Generate the scatter plot and regression line\n",
    "plt.scatter(x_values,y_values)\n",
    "\n",
    "# Set up linear regression equation\n",
    "(slope, intercept, rvalue, pvalue, stderr) = linregress(x_values, y_values)\n",
    "# Get regression values\n",
    "regress_values = x_values * slope + intercept\n",
    "#print(regress_values)\n",
    "\n",
    "# Generate regression values\n",
    "plt.plot(x_values,regress_values,\"r-\")\n",
    "\n",
    "# Label plot and annotate the line equation\n",
    "plt.title(\"Southern Latitude v Wind Speed (Feb 12, 2021)\")\n",
    "plt.xlabel(\"Latitude\")\n",
    "plt.ylabel(\"Wind Speed\")\n",
    "# Update the coordinates here to make sure the chart displays properly\n",
    "plt.annotate(line_eq,(-50, 8), fontsize=15, color=\"red\")\n",
    "\n",
    "# Print r value\n",
    "print(f\"The r-value is: {rvalue**2}\")\n",
    "\n",
    "# Save the plotted figure as .pngs\n",
    "plt.savefig(\"Images/Southern Latitude v Wind Speed.png\")\n",
    "\n",
    "# Show plot\n",
    "plt.show()"
   ]
  },
  {
   "cell_type": "markdown",
   "metadata": {},
   "source": [
    "### This above plot for the southern hemisphere shows the relationship between the change in latitude and how that potentially correlates to the temperature value recorded. It also shows a regression line to further display any correlation.\n",
    "The chart and regression line show that in the southern hemisphere there is a weak, yet slightly negative correlation between the wind speed recorded and the latitude. The r value being very close to 0 is also telling that this correlation is very minimal."
   ]
  },
  {
   "cell_type": "code",
   "execution_count": null,
   "metadata": {},
   "outputs": [],
   "source": []
  }
 ],
 "metadata": {
  "anaconda-cloud": {},
  "kernel_info": {
   "name": "python3"
  },
  "kernelspec": {
   "display_name": "Python 3",
   "language": "python",
   "name": "python3"
  },
  "language_info": {
   "codemirror_mode": {
    "name": "ipython",
    "version": 3
   },
   "file_extension": ".py",
   "mimetype": "text/x-python",
   "name": "python",
   "nbconvert_exporter": "python",
   "pygments_lexer": "ipython3",
   "version": "3.6.10"
  },
  "latex_envs": {
   "LaTeX_envs_menu_present": true,
   "autoclose": false,
   "autocomplete": true,
   "bibliofile": "biblio.bib",
   "cite_by": "apalike",
   "current_citInitial": 1,
   "eqLabelWithNumbers": true,
   "eqNumInitial": 1,
   "hotkeys": {
    "equation": "Ctrl-E",
    "itemize": "Ctrl-I"
   },
   "labels_anchors": false,
   "latex_user_defs": false,
   "report_style_numbering": false,
   "user_envs_cfg": false
  },
  "nteract": {
   "version": "0.12.3"
  }
 },
 "nbformat": 4,
 "nbformat_minor": 2
}
