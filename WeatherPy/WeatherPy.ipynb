{
 "cells": [
  {
   "cell_type": "markdown",
   "metadata": {},
   "source": [
    "# WeatherPy\n",
    "----\n",
    "\n",
    "#### Note\n",
    "* Instructions have been included for each segment. You do not have to follow them exactly, but they are included to help you think through the steps."
   ]
  },
  {
   "cell_type": "code",
   "execution_count": 1,
   "metadata": {},
   "outputs": [],
   "source": [
    "# Dependencies and Setup\n",
    "import matplotlib.pyplot as plt\n",
    "import pandas as pd\n",
    "import numpy as np\n",
    "import requests\n",
    "import json\n",
    "import time\n",
    "from scipy.stats import linregress\n",
    "\n",
    "# Import API key\n",
    "from config import weather_api_key"
   ]
  },
  {
   "cell_type": "code",
   "execution_count": 2,
   "metadata": {
    "scrolled": true
   },
   "outputs": [],
   "source": [
    "# Incorporated citipy to determine city based on latitude and longitude\n",
    "from citipy import citipy\n",
    "\n",
    "# Output File (CSV)\n",
    "# output_data_file = \"output_data/cities.csv\"\n",
    "\n",
    "# Range of latitudes and longitudes\n",
    "lat_range = (-90, 90)\n",
    "lng_range = (-180, 180)"
   ]
  },
  {
   "cell_type": "markdown",
   "metadata": {},
   "source": [
    "## Generate Cities List"
   ]
  },
  {
   "cell_type": "code",
   "execution_count": 11,
   "metadata": {},
   "outputs": [
    {
     "name": "stdout",
     "output_type": "stream",
     "text": [
      "5\n",
      "['nemuro', 'kawana waters', 'albany', 'taolanaro', 'belm']\n"
     ]
    }
   ],
   "source": [
    "# List for holding lat_lngs and cities\n",
    "lat_lngs = []\n",
    "cities = []\n",
    "\n",
    "# Create a set of random lat and lng combinations\n",
    "\n",
    "# JUST RUNNING THREE WHILE I TEST -- SET SIZE BACK TO 1500 BEFORE TURNING IN\n",
    "# JUMPING UP TO 5 FOR CALCULATION PURPOSES\n",
    "                                                    #SET BACK\n",
    "lats = np.random.uniform(lat_range[0], lat_range[1], size=5)\n",
    "lngs = np.random.uniform(lng_range[0], lng_range[1], size=5)\n",
    "lat_lngs = zip(lats, lngs)\n",
    "\n",
    "# Identify nearest city for each lat, lng combination\n",
    "for lat_lng in lat_lngs:\n",
    "    city = citipy.nearest_city(lat_lng[0], lat_lng[1]).city_name\n",
    "    \n",
    "    # If the city is unique, then add it to a our cities list\n",
    "    if city not in cities:\n",
    "        cities.append(city)\n",
    "\n",
    "# Print the city count to confirm sufficient count\n",
    "print(len(cities))\n",
    "print(cities)"
   ]
  },
  {
   "cell_type": "markdown",
   "metadata": {},
   "source": [
    "### Perform API Calls\n",
    "* Perform a weather check on each city using a series of successive API calls.\n",
    "* Include a print log of each city as it'sbeing processed (with the city number and city name).\n"
   ]
  },
  {
   "cell_type": "code",
   "execution_count": 12,
   "metadata": {
    "scrolled": true
   },
   "outputs": [],
   "source": [
    "# Create the base url and query url that will be used for the API call\n",
    "base_url = \"http://api.openweathermap.org/data/2.5/weather?q=\"\n",
    "query_url = base_url + city + \"&appid=\" + weather_api_key"
   ]
  },
  {
   "cell_type": "code",
   "execution_count": 13,
   "metadata": {},
   "outputs": [
    {
     "name": "stdout",
     "output_type": "stream",
     "text": [
      "{\n",
      "    \"base\": \"stations\",\n",
      "    \"clouds\": {\n",
      "        \"all\": 75\n",
      "    },\n",
      "    \"cod\": 200,\n",
      "    \"coord\": {\n",
      "        \"lat\": 52.3,\n",
      "        \"lon\": 8.1333\n",
      "    },\n",
      "    \"dt\": 1612930973,\n",
      "    \"id\": 2951175,\n",
      "    \"main\": {\n",
      "        \"feels_like\": 259.73,\n",
      "        \"humidity\": 92,\n",
      "        \"pressure\": 1009,\n",
      "        \"temp\": 263.21,\n",
      "        \"temp_max\": 263.71,\n",
      "        \"temp_min\": 262.15\n",
      "    },\n",
      "    \"name\": \"Belm\",\n",
      "    \"sys\": {\n",
      "        \"country\": \"DE\",\n",
      "        \"id\": 1269,\n",
      "        \"sunrise\": 1612939969,\n",
      "        \"sunset\": 1612974643,\n",
      "        \"type\": 1\n",
      "    },\n",
      "    \"timezone\": 3600,\n",
      "    \"visibility\": 9000,\n",
      "    \"weather\": [\n",
      "        {\n",
      "            \"description\": \"light snow\",\n",
      "            \"icon\": \"13n\",\n",
      "            \"id\": 600,\n",
      "            \"main\": \"Snow\"\n",
      "        }\n",
      "    ],\n",
      "    \"wind\": {\n",
      "        \"deg\": 280,\n",
      "        \"speed\": 0.51\n",
      "    }\n",
      "}\n"
     ]
    }
   ],
   "source": [
    "# Perform a GET request\n",
    "response = requests.get(query_url)\n",
    "\n",
    "# Convert the response to a JSON\n",
    "weather_data = response.json()\n",
    "\n",
    "# To print in a more readable way, use json.dumps with indent and sort_keys\n",
    "print(json.dumps(weather_data, indent = 4, sort_keys = True))"
   ]
  },
  {
   "cell_type": "code",
   "execution_count": 14,
   "metadata": {},
   "outputs": [
    {
     "name": "stdout",
     "output_type": "stream",
     "text": [
      "Currently processing Belm, ID Number:1269\n"
     ]
    }
   ],
   "source": [
    "# Print the city number and name while it is being processed\n",
    "# JUST PRINTING NUMBER AND NAME FOR TEST NOW\n",
    "city_num = weather_data[\"sys\"][\"id\"]\n",
    "city_name = weather_data[\"name\"]\n",
    "print(f\"Currently processing {city_name}, ID Number:{city_num}\")"
   ]
  },
  {
   "cell_type": "code",
   "execution_count": 15,
   "metadata": {},
   "outputs": [
    {
     "name": "stdout",
     "output_type": "stream",
     "text": [
      "Requesting weather information from 5 random cities around the world\n",
      "-----------------------------\n",
      "Currently processing nemuro, ID Number:7976\n",
      "Unfortunately unable to pull data for kawana waters, Skipping kawana waters for now\n",
      "Currently processing albany, ID Number:2037353\n",
      "Unfortunately unable to pull data for taolanaro, Skipping taolanaro for now\n",
      "Currently processing belm, ID Number:1269\n",
      "-----------------------------\n",
      "Finished collecting weather information from 5 cities around the world\n"
     ]
    }
   ],
   "source": [
    "# Putting everything together into a for loop now to get API request to run the list of cities\n",
    "\n",
    "# Generate lists that will store the cities data as the loop runs\n",
    "# Lists developed based on what information the homework requests we gather\n",
    "city_name_list = []\n",
    "cloud_list = []\n",
    "country_list = []\n",
    "date_list = []\n",
    "humidity_list = []\n",
    "lat_list = []\n",
    "lng_list = []\n",
    "temp_list = []\n",
    "wind_list = []\n",
    "\n",
    "# Printing the log of cities as they are being requested per homework instructions\n",
    "print(f\"Requesting weather information from {len(cities)} random cities around the world\")\n",
    "print(\"-----------------------------\")\n",
    "\n",
    "\n",
    "# Set up loop to make an api call on each city in the list and store it's value before moving to the next\n",
    "for city in cities:    \n",
    "    \n",
    "    # Need try logic for cases where weather api does not have records for that city\n",
    "    try:\n",
    "        # Update the query url with a new city\n",
    "        query_url = base_url + city + \"&appid=\" + weather_api_key\n",
    "        # Perform a GET request\n",
    "        response = requests.get(query_url)\n",
    "        # Convert the response to a JSON\n",
    "        weather_data = response.json()\n",
    "        # print(json.dumps(weather_data, indent = 4, sort_keys = True))\n",
    "   \n",
    "        # Collect all weather information for that city\n",
    "        city_num = weather_data[\"sys\"][\"id\"]\n",
    "        city_name_list.append(weather_data[\"name\"])\n",
    "        cloud_list.append(weather_data[\"clouds\"][\"all\"])\n",
    "        country_list.append(weather_data[\"sys\"][\"country\"])\n",
    "        date_list.append(weather_data[\"dt\"])\n",
    "        humidity_list.append(weather_data[\"main\"][\"humidity\"])\n",
    "        lat_list.append(weather_data[\"coord\"][\"lat\"])\n",
    "        lng_list.append(weather_data[\"coord\"][\"lon\"])\n",
    "        temp_list.append(weather_data['main']['temp_max'])\n",
    "        wind_list.append(weather_data[\"wind\"][\"speed\"])\n",
    "    \n",
    "        # Print that the city is currently being processed per homework instructions\n",
    "        print(f\"Currently processing {city}, ID Number:{city_num}\")\n",
    "    \n",
    "    # If city data is not found then use this except command and continue to the next city\n",
    "    except(KeyError, IndexError):\n",
    "        print(f\"Unfortunately unable to pull data for {city}, Skipping {city} for now\")\n",
    "        \n",
    "print(\"-----------------------------\")\n",
    "print(f\"Finished collecting weather information from {len(cities)} cities around the world\")\n",
    "    "
   ]
  },
  {
   "cell_type": "markdown",
   "metadata": {},
   "source": [
    "### Convert Raw Data to DataFrame\n",
    "* Export the city data into a .csv.\n",
    "* Display the DataFrame"
   ]
  },
  {
   "cell_type": "code",
   "execution_count": 22,
   "metadata": {},
   "outputs": [
    {
     "data": {
      "text/html": [
       "<div>\n",
       "<style scoped>\n",
       "    .dataframe tbody tr th:only-of-type {\n",
       "        vertical-align: middle;\n",
       "    }\n",
       "\n",
       "    .dataframe tbody tr th {\n",
       "        vertical-align: top;\n",
       "    }\n",
       "\n",
       "    .dataframe thead th {\n",
       "        text-align: right;\n",
       "    }\n",
       "</style>\n",
       "<table border=\"1\" class=\"dataframe\">\n",
       "  <thead>\n",
       "    <tr style=\"text-align: right;\">\n",
       "      <th></th>\n",
       "      <th>City</th>\n",
       "      <th>Country</th>\n",
       "      <th>Temperature</th>\n",
       "      <th>Date</th>\n",
       "      <th>Humidity</th>\n",
       "      <th>Cloud</th>\n",
       "      <th>Wind Speed</th>\n",
       "      <th>Lat</th>\n",
       "      <th>Lng</th>\n",
       "    </tr>\n",
       "  </thead>\n",
       "  <tbody>\n",
       "    <tr>\n",
       "      <th>0</th>\n",
       "      <td>Nemuro</td>\n",
       "      <td>JP</td>\n",
       "      <td>271.15</td>\n",
       "      <td>1612930985</td>\n",
       "      <td>50</td>\n",
       "      <td>40</td>\n",
       "      <td>4.63</td>\n",
       "      <td>43.3236</td>\n",
       "      <td>145.5750</td>\n",
       "    </tr>\n",
       "    <tr>\n",
       "      <th>1</th>\n",
       "      <td>Albany</td>\n",
       "      <td>US</td>\n",
       "      <td>267.59</td>\n",
       "      <td>1612930815</td>\n",
       "      <td>86</td>\n",
       "      <td>2</td>\n",
       "      <td>3.15</td>\n",
       "      <td>42.6001</td>\n",
       "      <td>-73.9662</td>\n",
       "    </tr>\n",
       "    <tr>\n",
       "      <th>2</th>\n",
       "      <td>Belm</td>\n",
       "      <td>DE</td>\n",
       "      <td>263.71</td>\n",
       "      <td>1612930986</td>\n",
       "      <td>92</td>\n",
       "      <td>75</td>\n",
       "      <td>0.51</td>\n",
       "      <td>52.3000</td>\n",
       "      <td>8.1333</td>\n",
       "    </tr>\n",
       "  </tbody>\n",
       "</table>\n",
       "</div>"
      ],
      "text/plain": [
       "     City Country  Temperature        Date  Humidity  Cloud  Wind Speed  \\\n",
       "0  Nemuro      JP       271.15  1612930985        50     40        4.63   \n",
       "1  Albany      US       267.59  1612930815        86      2        3.15   \n",
       "2    Belm      DE       263.71  1612930986        92     75        0.51   \n",
       "\n",
       "       Lat       Lng  \n",
       "0  43.3236  145.5750  \n",
       "1  42.6001  -73.9662  \n",
       "2  52.3000    8.1333  "
      ]
     },
     "execution_count": 22,
     "metadata": {},
     "output_type": "execute_result"
    }
   ],
   "source": [
    "# Use pandas function pd.DataFrame to create a dataframe from the list information generated above\n",
    "# I chose to re-arrange this order of the columns here to what I felt more logical\n",
    "cities_weather_df = pd.DataFrame({\"City\": city_name_list,\n",
    "                                  \"Country\": country_list,\n",
    "                                  \"Temperature\": temp_list,\n",
    "                                  \"Date\": date_list,\n",
    "                                  \"Humidity\": humidity_list,\n",
    "                                  \"Cloud\": cloud_list,\n",
    "                                  \"Wind Speed\": wind_list,\n",
    "                                  \"Lat\": lat_list,\n",
    "                                  \"Lng\":lng_list                                  \n",
    "                                })\n",
    "\n",
    "# Display the dataframe\n",
    "cities_weather_df"
   ]
  },
  {
   "cell_type": "code",
   "execution_count": null,
   "metadata": {},
   "outputs": [],
   "source": [
    "# DO I NEED TO EXPORT TO CSV?? ASK IN OFFICE HOURS"
   ]
  },
  {
   "cell_type": "markdown",
   "metadata": {},
   "source": [
    "## Inspect the data and remove the cities where the humidity > 100%.\n",
    "----\n",
    "Skip this step if there are no cities that have humidity > 100%. "
   ]
  },
  {
   "cell_type": "code",
   "execution_count": 24,
   "metadata": {},
   "outputs": [
    {
     "data": {
      "text/html": [
       "<div>\n",
       "<style scoped>\n",
       "    .dataframe tbody tr th:only-of-type {\n",
       "        vertical-align: middle;\n",
       "    }\n",
       "\n",
       "    .dataframe tbody tr th {\n",
       "        vertical-align: top;\n",
       "    }\n",
       "\n",
       "    .dataframe thead th {\n",
       "        text-align: right;\n",
       "    }\n",
       "</style>\n",
       "<table border=\"1\" class=\"dataframe\">\n",
       "  <thead>\n",
       "    <tr style=\"text-align: right;\">\n",
       "      <th></th>\n",
       "      <th>City</th>\n",
       "      <th>Country</th>\n",
       "      <th>Temperature</th>\n",
       "      <th>Date</th>\n",
       "      <th>Humidity</th>\n",
       "      <th>Cloud</th>\n",
       "      <th>Wind Speed</th>\n",
       "      <th>Lat</th>\n",
       "      <th>Lng</th>\n",
       "    </tr>\n",
       "  </thead>\n",
       "  <tbody>\n",
       "    <tr>\n",
       "      <th>0</th>\n",
       "      <td>Nemuro</td>\n",
       "      <td>JP</td>\n",
       "      <td>271.15</td>\n",
       "      <td>1612930985</td>\n",
       "      <td>50</td>\n",
       "      <td>40</td>\n",
       "      <td>4.63</td>\n",
       "      <td>43.3236</td>\n",
       "      <td>145.5750</td>\n",
       "    </tr>\n",
       "    <tr>\n",
       "      <th>1</th>\n",
       "      <td>Albany</td>\n",
       "      <td>US</td>\n",
       "      <td>267.59</td>\n",
       "      <td>1612930815</td>\n",
       "      <td>86</td>\n",
       "      <td>2</td>\n",
       "      <td>3.15</td>\n",
       "      <td>42.6001</td>\n",
       "      <td>-73.9662</td>\n",
       "    </tr>\n",
       "  </tbody>\n",
       "</table>\n",
       "</div>"
      ],
      "text/plain": [
       "     City Country  Temperature        Date  Humidity  Cloud  Wind Speed  \\\n",
       "0  Nemuro      JP       271.15  1612930985        50     40        4.63   \n",
       "1  Albany      US       267.59  1612930815        86      2        3.15   \n",
       "\n",
       "       Lat       Lng  \n",
       "0  43.3236  145.5750  \n",
       "1  42.6001  -73.9662  "
      ]
     },
     "execution_count": 24,
     "metadata": {},
     "output_type": "execute_result"
    }
   ],
   "source": [
    "# JUST FOR TEST PURPOSES I WILL USE 90%\n",
    "cleaned_data_df = cities_weather_df[cities_weather_df[\"Humidity\"] <= 90]\n",
    "cleaned_data_df"
   ]
  },
  {
   "cell_type": "code",
   "execution_count": 27,
   "metadata": {},
   "outputs": [
    {
     "data": {
      "text/plain": [
       "Int64Index([2], dtype='int64')"
      ]
     },
     "execution_count": 27,
     "metadata": {},
     "output_type": "execute_result"
    }
   ],
   "source": [
    "#  Get the indices of cities that have humidity over 100%.\n",
    "high_humidity_df = cities_weather_df[cities_weather_df[\"Humidity\"] >= 90]\n",
    "\n",
    "high_humidity_df\n",
    "\n",
    "high_humidity_index = high_humidity_df.index\n",
    "high_humidity_index"
   ]
  },
  {
   "cell_type": "code",
   "execution_count": 28,
   "metadata": {},
   "outputs": [
    {
     "data": {
      "text/html": [
       "<div>\n",
       "<style scoped>\n",
       "    .dataframe tbody tr th:only-of-type {\n",
       "        vertical-align: middle;\n",
       "    }\n",
       "\n",
       "    .dataframe tbody tr th {\n",
       "        vertical-align: top;\n",
       "    }\n",
       "\n",
       "    .dataframe thead th {\n",
       "        text-align: right;\n",
       "    }\n",
       "</style>\n",
       "<table border=\"1\" class=\"dataframe\">\n",
       "  <thead>\n",
       "    <tr style=\"text-align: right;\">\n",
       "      <th></th>\n",
       "      <th>City</th>\n",
       "      <th>Country</th>\n",
       "      <th>Temperature</th>\n",
       "      <th>Date</th>\n",
       "      <th>Humidity</th>\n",
       "      <th>Cloud</th>\n",
       "      <th>Wind Speed</th>\n",
       "      <th>Lat</th>\n",
       "      <th>Lng</th>\n",
       "    </tr>\n",
       "  </thead>\n",
       "  <tbody>\n",
       "    <tr>\n",
       "      <th>0</th>\n",
       "      <td>Nemuro</td>\n",
       "      <td>JP</td>\n",
       "      <td>271.15</td>\n",
       "      <td>1612930985</td>\n",
       "      <td>50</td>\n",
       "      <td>40</td>\n",
       "      <td>4.63</td>\n",
       "      <td>43.3236</td>\n",
       "      <td>145.5750</td>\n",
       "    </tr>\n",
       "    <tr>\n",
       "      <th>1</th>\n",
       "      <td>Albany</td>\n",
       "      <td>US</td>\n",
       "      <td>267.59</td>\n",
       "      <td>1612930815</td>\n",
       "      <td>86</td>\n",
       "      <td>2</td>\n",
       "      <td>3.15</td>\n",
       "      <td>42.6001</td>\n",
       "      <td>-73.9662</td>\n",
       "    </tr>\n",
       "  </tbody>\n",
       "</table>\n",
       "</div>"
      ],
      "text/plain": [
       "     City Country  Temperature        Date  Humidity  Cloud  Wind Speed  \\\n",
       "0  Nemuro      JP       271.15  1612930985        50     40        4.63   \n",
       "1  Albany      US       267.59  1612930815        86      2        3.15   \n",
       "\n",
       "       Lat       Lng  \n",
       "0  43.3236  145.5750  \n",
       "1  42.6001  -73.9662  "
      ]
     },
     "execution_count": 28,
     "metadata": {},
     "output_type": "execute_result"
    }
   ],
   "source": [
    "# Make a new DataFrame equal to the city data to drop all humidity outliers by index.\n",
    "# The step above created this cleaned dataframe, here it is displayed again\n",
    "cleaned_data_df"
   ]
  },
  {
   "cell_type": "markdown",
   "metadata": {},
   "source": [
    "## Plotting the Data\n",
    "* Use proper labeling of the plots using plot titles (including date of analysis) and axes labels.\n",
    "* Save the plotted figures as .pngs."
   ]
  },
  {
   "cell_type": "markdown",
   "metadata": {},
   "source": [
    "## Latitude vs. Temperature Plot"
   ]
  },
  {
   "cell_type": "code",
   "execution_count": 30,
   "metadata": {
    "scrolled": true
   },
   "outputs": [
    {
     "data": {
      "image/png": "[encoded data removed]",
      "text/plain": [
       "<Figure size 432x288 with 1 Axes>"
      ]
     },
     "metadata": {
      "needs_background": "light"
     },
     "output_type": "display_data"
    }
   ],
   "source": [
    "# I KNOW THE TEMP VALUES ARE ODD AND PROBABLY NEED TO BE UPDATED\n",
    "# BUT THAT IS THE VALUE IN THE JSON SO I WILL LEAVE IT FOR NOW\n",
    "\n",
    "# Create Latitude vs. Temperature scatter plot\n",
    "plt.scatter(cleaned_data_df[\"Lat\"], cleaned_data_df[\"Temperature\"])\n",
    "\n",
    "# Set the title and x and y labels of the plot\n",
    "plt.title(\"Latitude vs. Temperature\")\n",
    "plt.xlabel(\"Laitude\")\n",
    "plt.ylabel(\"Temperature\")\n",
    "\n",
    "# Best practice to use plt.show()\n",
    "plt.show()"
   ]
  },
  {
   "cell_type": "markdown",
   "metadata": {},
   "source": [
    "## Latitude vs. Humidity Plot"
   ]
  },
  {
   "cell_type": "code",
   "execution_count": 31,
   "metadata": {},
   "outputs": [
    {
     "data": {
      "image/png": "[encoded data removed]",
      "text/plain": [
       "<Figure size 432x288 with 1 Axes>"
      ]
     },
     "metadata": {
      "needs_background": "light"
     },
     "output_type": "display_data"
    }
   ],
   "source": [
    "# Create Latitude vs. Humidity scatter plot\n",
    "plt.scatter(cleaned_data_df[\"Lat\"], cleaned_data_df[\"Humidity\"])\n",
    "\n",
    "# Set the title and x and y labels of the plot\n",
    "plt.title(\"Latitude vs. Humidity\")\n",
    "plt.xlabel(\"Laitude\")\n",
    "plt.ylabel(\"Humidity\")\n",
    "\n",
    "# Best practice to use plt.show()\n",
    "plt.show()"
   ]
  },
  {
   "cell_type": "markdown",
   "metadata": {},
   "source": [
    "## Latitude vs. Cloudiness Plot"
   ]
  },
  {
   "cell_type": "code",
   "execution_count": 32,
   "metadata": {},
   "outputs": [
    {
     "data": {
      "image/png": "[encoded data removed]",
      "text/plain": [
       "<Figure size 432x288 with 1 Axes>"
      ]
     },
     "metadata": {
      "needs_background": "light"
     },
     "output_type": "display_data"
    }
   ],
   "source": [
    "# Create Latitude vs. Cloudiness scatter plot\n",
    "plt.scatter(cleaned_data_df[\"Lat\"], cleaned_data_df[\"Cloud\"])\n",
    "\n",
    "# Set the title and x and y labels of the plot\n",
    "plt.title(\"Latitude vs. Cloudiness\")\n",
    "plt.xlabel(\"Laitude\")\n",
    "plt.ylabel(\"Cloudiness\")\n",
    "\n",
    "# Best practice to use plt.show()\n",
    "plt.show()"
   ]
  },
  {
   "cell_type": "markdown",
   "metadata": {},
   "source": [
    "## Latitude vs. Wind Speed Plot"
   ]
  },
  {
   "cell_type": "code",
   "execution_count": 34,
   "metadata": {},
   "outputs": [
    {
     "data": {
      "image/png": "[encoded data removed]",
      "text/plain": [
       "<Figure size 432x288 with 1 Axes>"
      ]
     },
     "metadata": {
      "needs_background": "light"
     },
     "output_type": "display_data"
    }
   ],
   "source": [
    "# Create Latitude vs. Wind Speed scatter plot\n",
    "plt.scatter(cleaned_data_df[\"Lat\"], cleaned_data_df[\"Wind Speed\"])\n",
    "\n",
    "# Set the title and x and y labels of the plot\n",
    "plt.title(\"Latitude vs. Wind Speed\")\n",
    "plt.xlabel(\"Laitude\")\n",
    "plt.ylabel(\"Wind Speed\")\n",
    "\n",
    "# Best practice to use plt.show()\n",
    "plt.show()"
   ]
  },
  {
   "cell_type": "markdown",
   "metadata": {},
   "source": [
    "## Linear Regression"
   ]
  },
  {
   "cell_type": "code",
   "execution_count": 37,
   "metadata": {},
   "outputs": [
    {
     "data": {
      "text/html": [
       "<div>\n",
       "<style scoped>\n",
       "    .dataframe tbody tr th:only-of-type {\n",
       "        vertical-align: middle;\n",
       "    }\n",
       "\n",
       "    .dataframe tbody tr th {\n",
       "        vertical-align: top;\n",
       "    }\n",
       "\n",
       "    .dataframe thead th {\n",
       "        text-align: right;\n",
       "    }\n",
       "</style>\n",
       "<table border=\"1\" class=\"dataframe\">\n",
       "  <thead>\n",
       "    <tr style=\"text-align: right;\">\n",
       "      <th></th>\n",
       "      <th>City</th>\n",
       "      <th>Country</th>\n",
       "      <th>Temperature</th>\n",
       "      <th>Date</th>\n",
       "      <th>Humidity</th>\n",
       "      <th>Cloud</th>\n",
       "      <th>Wind Speed</th>\n",
       "      <th>Lat</th>\n",
       "      <th>Lng</th>\n",
       "    </tr>\n",
       "  </thead>\n",
       "  <tbody>\n",
       "    <tr>\n",
       "      <th>0</th>\n",
       "      <td>Nemuro</td>\n",
       "      <td>JP</td>\n",
       "      <td>271.15</td>\n",
       "      <td>1612930985</td>\n",
       "      <td>50</td>\n",
       "      <td>40</td>\n",
       "      <td>4.63</td>\n",
       "      <td>43.3236</td>\n",
       "      <td>145.5750</td>\n",
       "    </tr>\n",
       "    <tr>\n",
       "      <th>1</th>\n",
       "      <td>Albany</td>\n",
       "      <td>US</td>\n",
       "      <td>267.59</td>\n",
       "      <td>1612930815</td>\n",
       "      <td>86</td>\n",
       "      <td>2</td>\n",
       "      <td>3.15</td>\n",
       "      <td>42.6001</td>\n",
       "      <td>-73.9662</td>\n",
       "    </tr>\n",
       "  </tbody>\n",
       "</table>\n",
       "</div>"
      ],
      "text/plain": [
       "     City Country  Temperature        Date  Humidity  Cloud  Wind Speed  \\\n",
       "0  Nemuro      JP       271.15  1612930985        50     40        4.63   \n",
       "1  Albany      US       267.59  1612930815        86      2        3.15   \n",
       "\n",
       "       Lat       Lng  \n",
       "0  43.3236  145.5750  \n",
       "1  42.6001  -73.9662  "
      ]
     },
     "execution_count": 37,
     "metadata": {},
     "output_type": "execute_result"
    }
   ],
   "source": [
    "# Create Northern and Southern hemisphere dataframes based on homework instructions\n",
    "# Norther hemisphere is if lat >= 0 and Southern is if it is < 0\n",
    "northern_hemisphere = cleaned_data_df.loc[cleaned_data_df[\"Lat\"] >= 0]\n",
    "southern_hemisphere = cleaned_data_df.loc[cleaned_data_df[\"Lat\"] < 0]\n",
    "northern_hemisphere"
   ]
  },
  {
   "cell_type": "markdown",
   "metadata": {},
   "source": [
    "####  Northern Hemisphere - Max Temp vs. Latitude Linear Regression"
   ]
  },
  {
   "cell_type": "code",
   "execution_count": null,
   "metadata": {},
   "outputs": [],
   "source": []
  },
  {
   "cell_type": "markdown",
   "metadata": {},
   "source": [
    "####  Southern Hemisphere - Max Temp vs. Latitude Linear Regression"
   ]
  },
  {
   "cell_type": "code",
   "execution_count": null,
   "metadata": {},
   "outputs": [],
   "source": []
  },
  {
   "cell_type": "markdown",
   "metadata": {},
   "source": [
    "####  Northern Hemisphere - Humidity (%) vs. Latitude Linear Regression"
   ]
  },
  {
   "cell_type": "code",
   "execution_count": null,
   "metadata": {},
   "outputs": [],
   "source": []
  },
  {
   "cell_type": "markdown",
   "metadata": {},
   "source": [
    "####  Southern Hemisphere - Humidity (%) vs. Latitude Linear Regression"
   ]
  },
  {
   "cell_type": "code",
   "execution_count": null,
   "metadata": {},
   "outputs": [],
   "source": []
  },
  {
   "cell_type": "markdown",
   "metadata": {},
   "source": [
    "####  Northern Hemisphere - Cloudiness (%) vs. Latitude Linear Regression"
   ]
  },
  {
   "cell_type": "code",
   "execution_count": null,
   "metadata": {},
   "outputs": [],
   "source": []
  },
  {
   "cell_type": "markdown",
   "metadata": {},
   "source": [
    "####  Southern Hemisphere - Cloudiness (%) vs. Latitude Linear Regression"
   ]
  },
  {
   "cell_type": "code",
   "execution_count": null,
   "metadata": {},
   "outputs": [],
   "source": []
  },
  {
   "cell_type": "markdown",
   "metadata": {},
   "source": [
    "####  Northern Hemisphere - Wind Speed (mph) vs. Latitude Linear Regression"
   ]
  },
  {
   "cell_type": "code",
   "execution_count": null,
   "metadata": {},
   "outputs": [],
   "source": []
  },
  {
   "cell_type": "markdown",
   "metadata": {},
   "source": [
    "####  Southern Hemisphere - Wind Speed (mph) vs. Latitude Linear Regression"
   ]
  },
  {
   "cell_type": "code",
   "execution_count": null,
   "metadata": {},
   "outputs": [],
   "source": []
  },
  {
   "cell_type": "code",
   "execution_count": null,
   "metadata": {},
   "outputs": [],
   "source": []
  }
 ],
 "metadata": {
  "anaconda-cloud": {},
  "kernel_info": {
   "name": "python3"
  },
  "kernelspec": {
   "display_name": "Python 3",
   "language": "python",
   "name": "python3"
  },
  "language_info": {
   "codemirror_mode": {
    "name": "ipython",
    "version": 3
   },
   "file_extension": ".py",
   "mimetype": "text/x-python",
   "name": "python",
   "nbconvert_exporter": "python",
   "pygments_lexer": "ipython3",
   "version": "3.6.10"
  },
  "latex_envs": {
   "LaTeX_envs_menu_present": true,
   "autoclose": false,
   "autocomplete": true,
   "bibliofile": "biblio.bib",
   "cite_by": "apalike",
   "current_citInitial": 1,
   "eqLabelWithNumbers": true,
   "eqNumInitial": 1,
   "hotkeys": {
    "equation": "Ctrl-E",
    "itemize": "Ctrl-I"
   },
   "labels_anchors": false,
   "latex_user_defs": false,
   "report_style_numbering": false,
   "user_envs_cfg": false
  },
  "nteract": {
   "version": "0.12.3"
  }
 },
 "nbformat": 4,
 "nbformat_minor": 2
}
