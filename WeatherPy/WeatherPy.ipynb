{
 "cells": [
  {
   "cell_type": "markdown",
   "metadata": {},
   "source": [
    "# WeatherPy\n",
    "----\n",
    "\n",
    "#### Note\n",
    "* Instructions have been included for each segment. You do not have to follow them exactly, but they are included to help you think through the steps."
   ]
  },
  {
   "cell_type": "code",
   "execution_count": 1,
   "metadata": {},
   "outputs": [],
   "source": [
    "# Dependencies and Setup\n",
    "import matplotlib.pyplot as plt\n",
    "import pandas as pd\n",
    "import numpy as np\n",
    "import requests\n",
    "import json\n",
    "import time\n",
    "from scipy.stats import linregress\n",
    "\n",
    "# Import API key\n",
    "from config import weather_api_key"
   ]
  },
  {
   "cell_type": "code",
   "execution_count": 2,
   "metadata": {
    "scrolled": true
   },
   "outputs": [],
   "source": [
    "# Incorporated citipy to determine city based on latitude and longitude\n",
    "from citipy import citipy\n",
    "\n",
    "# Output File (CSV)\n",
    "# output_data_file = \"output_data/cities.csv\"\n",
    "\n",
    "# Range of latitudes and longitudes\n",
    "lat_range = (-90, 90)\n",
    "lng_range = (-180, 180)"
   ]
  },
  {
   "cell_type": "markdown",
   "metadata": {},
   "source": [
    "## Generate Cities List"
   ]
  },
  {
   "cell_type": "code",
   "execution_count": 3,
   "metadata": {},
   "outputs": [
    {
     "name": "stdout",
     "output_type": "stream",
     "text": [
      "620\n",
      "['punta arenas', 'kapaa', 'bredasdorp', 'guerrero negro', 'jamestown', 'busselton', 'nikolskoye', 'tecoanapa', 'touros', 'grindavik', 'berdigestyakh', 'saravan', 'hilo', 'calama', 'bluff', 'ushuaia', 'dikson', 'nouadhibou', 'hasaki', 'lodja', 'nome', 'ahuimanu', 'hermanus', 'beringovskiy', 'port blair', 'belushya guba', 'illoqqortoormiut', 'slave lake', 'port alfred', 'sucre', 'albany', 'acarau', 'miri', 'blora', 'wulanhaote', 'barentsburg', 'mys shmidta', 'lorengau', 'atuona', 'tucurui', 'mahebourg', 'mataura', 'rikitea', 'cukai', 'granja', 'mar del plata', 'sitka', 'doha', 'romny', 'dunedin', 'rungata', 'kiama', 'lavrentiya', 'coria', 'faya', 'iqaluit', 'flinders', 'puerto ayora', 'cabo san lucas', 'tasiilaq', 'vaini', 'anadyr', 'leningradskiy', 'noumea', 'evensk', 'new norfolk', 'saint-philippe', 'longyearbyen', 'nanortalik', 'bilibino', 'cidreira', 'mount isa', 'lixourion', 'airai', 'jijiga', 'avarua', 'cockburn town', 'santa luzia', 'kalmunai', 'isangel', 'castro', 'independencia', 'san vicente', 'labuhan', 'debre tabor', 'henties bay', 'upernavik', 'bethel', 'gigmoto', 'naze', 'bengkulu', 'madaoua', 'butaritari', 'luanda', 'bulungu', 'manthani', 'tsihombe', 'marhaura', 'tubruq', 'fukue', 'shimoda', 'wuning', 'hearst', 'sabang', 'burnie', 'aksarka', 'lebu', 'geraldton', 'provideniya', 'port-gentil', 'yellowknife', 'san patricio', 'pitimbu', 'hithadhoo', 'georgetown', 'norman wells', 'chokurdakh', 'khatanga', 'amderma', 'tiksi', 'oistins', 'cape town', 'victoria', 'berani', 'mitzic', 'koppang', 'ancud', 'bambous virieux', 'esperance', 'mount gambier', 'batemans bay', 'arraial do cabo', 'luang prabang', 'guozhen', 'rio gallegos', 'taolanaro', 'klaeng', 'fevralsk', 'norton shores', 'saskylakh', 'severo-kurilsk', 'forbes', 'hobart', 'quatre cocos', 'xinyu', 'faanui', 'menongue', 'skalistyy', 'nishihara', 'general roca', 'ostrovnoy', 'batagay-alyta', 'florian', 'komsomolskiy', 'tyrma', 'laguna', 'benguela', 'laerdalsoyri', 'vaitupu', 'pevek', 'maraba', 'nizhneyansk', 'broome', 'klaksvik', 'alexandria', 'bardiyah', 'pangoa', 'penzance', 'bindura', 'bargal', 'cabedelo', 'kodiak', 'katsuura', 'san jose', 'coshocton', 'barrow', 'navirai', 'novoagansk', 'faizabad', 'portland', 'pacific grove', 'verkhnyaya inta', 'upata', 'coahuayana', 'barawe', 'camacha', 'derbent', 'kuching', 'wanning', 'port shepstone', 'guayaramerin', 'bokoro', 'vanimo', 'pokanayevka', 'benavente', 'kahului', 'pemangkat', 'hamilton', 'saint-georges', 'bonito', 'constitucion', 'vila franca do campo', 'tateyama', 'canyon lake', 'mareeba', 'souillac', 'ust-nera', 'dingle', 'luderitz', 'ponta do sol', 'cap-aux-meules', 'rumuruti', 'najran', 'bom jesus', 'hualmay', 'san cristobal', 'alofi', 'torbay', 'port elizabeth', 'port hardy', 'avera', 'kresttsy', 'evans', 'richards bay', 'sinnamary', 'college', 'prosvet', 'salinopolis', 'cherskiy', 'bauchi', 'sentyabrskiy', 'rimini', 'ngukurr', 'lichinga', 'san quintin', 'gberia fotombu', 'nantucket', 'ventspils', 'meyungs', 'boundiali', 'abu samrah', 'bud', 'paracatu', 'kaitangata', 'tuatapere', 'auxerre', 'port lincoln', 'celinac', 'sherpur', 'los llanos de aridane', 'matara', 'nakhon thai', 'paamiut', 'colares', 'codrington', 'conde', 'coquimbo', 'loa janan', 'srednekolymsk', 'erenhot', 'rawson', 'olafsvik', 'carnarvon', 'acapulco', 'derzhavinsk', 'okhotsk', 'sur', 'alice springs', 'kaka', 'shahrud', 'umzimvubu', 'hirara', 'katherine', 'myanaung', 'pochutla', 'lafia', 'puerto del rosario', 'mazamari', 'urengoy', 'develi', 'ashtabula', 'talnakh', 'kruisfontein', 'la ronge', 'talara', 'ishigaki', 'ribeira grande', 'mitsamiouli', 'alotau', 'saleaula', 'williston', 'belmonte', 'fare', 'kpandu', 'conceicao da barra', 'praia da vitoria', 'tautira', 'thinadhoo', 'ruatoria', 'marechal deodoro', 'yarim', 'port moresby', 'san matias', 'wilson', 'zhigansk', 'sawtell', 'attawapiskat', 'san julian', 'pangnirtung', 'eureka', 'humaita', 'tazovskiy', 'zharkent', 'kenora', 'kyren', 'at-bashi', 'chokwe', 'praia', 'marihatag', 'saldanha', 'tuktoyaktuk', 'wuchang', 'port hueneme', 'mahibadhoo', 'dakoro', 'abancay', 'kavaratti', 'chuy', 'pirgos', 'rocha', 'soyo', 'gat', 'irbit', 'ponta delgada', 'boddam', 'normandin', 'barbar', 'asosa', 'nijar', 'ewo', 'ritchie', 'roald', 'hastings', 'oriximina', 'talcahuano', 'katakwi', 'sisimiut', 'ilulissat', 'formoso do araguaia', 'nuuk', 'takaka', 'sarakhs', 'novoanninskiy', 'sovetskiy', 'kununurra', 'dzaoudzi', 'kharp', 'wanaka', 'codajas', 'sfantu gheorghe', 'champerico', 'ucluelet', 'necochea', 'mehamn', 'samarai', 'yerofey pavlovich', 'vorotynets', 'sembe', 'villa guerrero', 'beloha', 'lompoc', 'grand gaube', 'qaanaaq', 'douentza', 'rheinbach', 'panzhihua', 'palmer', 'micheweni', 'iberia', 'avdon', 'husavik', 'kyra', 'marsh harbour', 'chimore', 'hofn', 'sungai besar', 'surgut', 'belaya gora', 'macieira de cambra', 'khandyga', 'tomatlan', 'krasnovishersk', 'maniitsoq', 'vila velha', 'macau', 'shingu', 'kirakira', 'tura', 'meadow lake', 'cabras', 'saint george', 'thompson', 'senneterre', 'kindu', 'yerbogachen', 'te anau', 'haines junction', 'kadykchan', 'grand river south east', 'ahipara', 'azar shahr', 'verkhnevilyuysk', 'victor harbor', 'dekar', 'zhob', 'port charlotte', 'kytlym', 'baft', 'kongwa', 'lagoa', 'ternate', 'ust-kuyga', 'djambala', 'falealupo', 'flin flon', 'teya', 'karaidel', 'iralaya', 'arlit', 'grand centre', 'sokol', 'tual', 'san-pedro', 'fairbanks', 'mujiayingzi', 'lata', 'isla mujeres', 'robertsport', 'portoferraio', 'astakos', 'xining', 'begunitsy', 'sansai', 'caronport', 'arman', 'cheremshanka', 'camargo', 'chernyshevskiy', 'russell', 'dolbeau', 'dawei', 'tahta', 'tutoia', 'vardo', 'bohuslav', 'omboue', 'sao filipe', 'bintulu', 'bitung', 'muzhi', 'karratha', 'garowe', 'itaqui', 'boyolangu', 'sao felix do xingu', 'babushkin', 'zhangye', 'barmer', 'jinchengjiang', 'santa cruz cabralia', 'uaua', 'sorland', 'columbus', 'mackay', 'bushehr', 'koyelga', 'tefe', 'samalaeulu', 'kleive', 'polunochnoye', 'wahiawa', 'uige', 'caucaia', 'vreed en hoop', 'koygorodok', 'inhambane', 'mulege', 'pisco', 'shush', 'san luis', 'waidhofen', 'tahoua', 'yumen', 'sol-iletsk', 'ixtapa', 'wenling', 'luwuk', 'baruun-urt', 'yulara', 'encheng', 'ushtobe', 'uyuni', 'vyyezdnoye', 'tillabery', 'coihaique', 'wajima', 'vestmannaeyjar', 'muros', 'caravelas', 'iquique', 'kulunda', 'ust-omchug', 'havre-saint-pierre', 'kulhudhuffushi', 'clyde river', 'bubaque', 'santa lucia', 'det udom', 'gaya', 'koutsouras', 'angoche', 'berlevag', 'jaguey grande', 'tucuma', 'maceio', 'the pas', 'taranagar', 'nanchang', 'karasjok', 'mokrousovo', 'tessalit', 'oranjemund', 'ingham', 'celestun', 'antofagasta', 'devrek', 'viedma', 'toamasina', 'san carlos', 'golden', 'marawi', 'sergeyevka', 'nago', 'vilhena', 'corn island', 'fort-shevchenko', 'stokmarknes', 'east london', 'moindou', 'blagoyevo', 'helong', 'tunduru', 'tabiauea', 'marfino', 'villefranche-de-rouergue', 'kerman', 'yuzhno-yeniseyskiy', 'lasa', 'ketchikan', 'jumla', 'springdale', 'stornoway', 'neiafu', 'grootfontein', 'riyadh', 'imeni babushkina', 'san pedro de uraba', 'avezzano', 'acajutla', 'road town', 'sept-iles', 'burica', 'bonavista', 'iraquara', 'uruzgan', 'alvorada', 'kavieng', 'sunamganj', 'artvin', 'constantine', 'dzheyrakh', 'halifax', 'dalvik', 'homer', 'ciras', 'harper', 'marystown', 'dymer', 'kamenka', 'nadrag', 'jizan', 'kidal', 'dillon', 'hervey bay', 'dixon', 'abu dhabi', 'merauke', 'salalah', 'tigil', 'tatawin', 'caidian', 'elko', 'laredo', 'vigrestad', 'fortuna', 'guaruja', 'umm lajj', 'tuggurt', 'jiuquan', 'sonqor', 'hambantota', 'zaraza', 'san felipe', 'marcona', 'hadrut', 'zyryanka', 'todos santos', 'puerto princesa', 'nikko', 'baldone']\n"
     ]
    }
   ],
   "source": [
    "# List for holding lat_lngs and cities\n",
    "lat_lngs = []\n",
    "cities = []\n",
    "\n",
    "# Create a set of random lat and lng combinations\n",
    "# Returning size of random selection back to original for hw submission\n",
    "lats = np.random.uniform(lat_range[0], lat_range[1], size=1500)\n",
    "lngs = np.random.uniform(lng_range[0], lng_range[1], size=1500)\n",
    "lat_lngs = zip(lats, lngs)\n",
    "\n",
    "# Identify nearest city for each lat, lng combination\n",
    "for lat_lng in lat_lngs:\n",
    "    city = citipy.nearest_city(lat_lng[0], lat_lng[1]).city_name\n",
    "    \n",
    "    # If the city is unique, then add it to a our cities list\n",
    "    if city not in cities:\n",
    "        cities.append(city)\n",
    "\n",
    "# Print the city count to confirm sufficient count\n",
    "print(len(cities))\n",
    "print(cities)"
   ]
  },
  {
   "cell_type": "markdown",
   "metadata": {},
   "source": [
    "### Perform API Calls\n",
    "* Perform a weather check on each city using a series of successive API calls.\n",
    "* Include a print log of each city as it'sbeing processed (with the city number and city name).\n"
   ]
  },
  {
   "cell_type": "code",
   "execution_count": 4,
   "metadata": {
    "scrolled": true
   },
   "outputs": [],
   "source": [
    "# Create the base url and query url that will be used for the API call\n",
    "base_url = \"http://api.openweathermap.org/data/2.5/weather?q=\"\n",
    "query_url = base_url + city + \"&appid=\" + weather_api_key"
   ]
  },
  {
   "cell_type": "code",
   "execution_count": 5,
   "metadata": {},
   "outputs": [
    {
     "name": "stdout",
     "output_type": "stream",
     "text": [
      "{\n",
      "    \"base\": \"stations\",\n",
      "    \"clouds\": {\n",
      "        \"all\": 90\n",
      "    },\n",
      "    \"cod\": 200,\n",
      "    \"coord\": {\n",
      "        \"lat\": 39.1834,\n",
      "        \"lon\": -84.5333\n",
      "    },\n",
      "    \"dt\": 1613148222,\n",
      "    \"id\": 4513583,\n",
      "    \"main\": {\n",
      "        \"feels_like\": 265.38,\n",
      "        \"humidity\": 63,\n",
      "        \"pressure\": 1025,\n",
      "        \"temp\": 270.37,\n",
      "        \"temp_max\": 271.48,\n",
      "        \"temp_min\": 269.15\n",
      "    },\n",
      "    \"name\": \"Hamilton\",\n",
      "    \"sys\": {\n",
      "        \"country\": \"US\",\n",
      "        \"id\": 4776,\n",
      "        \"sunrise\": 1613133196,\n",
      "        \"sunset\": 1613171499,\n",
      "        \"type\": 1\n",
      "    },\n",
      "    \"timezone\": -18000,\n",
      "    \"visibility\": 10000,\n",
      "    \"weather\": [\n",
      "        {\n",
      "            \"description\": \"overcast clouds\",\n",
      "            \"icon\": \"04d\",\n",
      "            \"id\": 804,\n",
      "            \"main\": \"Clouds\"\n",
      "        }\n",
      "    ],\n",
      "    \"wind\": {\n",
      "        \"deg\": 2,\n",
      "        \"speed\": 2.89\n",
      "    }\n",
      "}\n"
     ]
    }
   ],
   "source": [
    "# Perform a GET request\n",
    "response = requests.get(query_url)\n",
    "\n",
    "# Convert the response to a JSON\n",
    "weather_data = response.json()\n",
    "\n",
    "# To print in a more readable way, use json.dumps with indent and sort_keys\n",
    "print(json.dumps(weather_data, indent = 4, sort_keys = True))"
   ]
  },
  {
   "cell_type": "code",
   "execution_count": 6,
   "metadata": {},
   "outputs": [
    {
     "name": "stdout",
     "output_type": "stream",
     "text": [
      "Currently processing Hamilton, ID Number:4776\n"
     ]
    }
   ],
   "source": [
    "# Print the city number and name while it is being processed\n",
    "# JUST PRINTING NUMBER AND NAME FOR TEST NOW\n",
    "city_num = weather_data[\"sys\"][\"id\"]\n",
    "city_name = weather_data[\"name\"]\n",
    "print(f\"Currently processing {city_name}, ID Number:{city_num}\")"
   ]
  },
  {
   "cell_type": "code",
   "execution_count": 7,
   "metadata": {},
   "outputs": [
    {
     "name": "stdout",
     "output_type": "stream",
     "text": [
      "Requesting weather information from 620 random cities around the world\n",
      "-----------------------------\n",
      "Currently processing punta arenas, ID Number:8487\n",
      "Currently processing kapaa, ID Number:7873\n",
      "Currently processing bredasdorp, ID Number:2006131\n",
      "Unfortunately unable to pull data for guerrero negro, Skipping guerrero negro for now\n",
      "Currently processing jamestown, ID Number:4588\n",
      "Currently processing busselton, ID Number:2020551\n",
      "Currently processing nikolskoye, ID Number:8926\n",
      "Unfortunately unable to pull data for tecoanapa, Skipping tecoanapa for now\n",
      "Currently processing touros, ID Number:8452\n",
      "Currently processing grindavik, ID Number:90\n",
      "Unfortunately unable to pull data for berdigestyakh, Skipping berdigestyakh for now\n",
      "Currently processing saravan, ID Number:8839\n",
      "Currently processing hilo, ID Number:7881\n",
      "Currently processing calama, ID Number:8480\n",
      "Currently processing bluff, ID Number:2008959\n",
      "Currently processing ushuaia, ID Number:8303\n",
      "Unfortunately unable to pull data for dikson, Skipping dikson for now\n",
      "Currently processing nouadhibou, ID Number:2444\n",
      "Currently processing hasaki, ID Number:7955\n",
      "Unfortunately unable to pull data for lodja, Skipping lodja for now\n",
      "Currently processing nome, ID Number:7770\n",
      "Currently processing ahuimanu, ID Number:7877\n",
      "Currently processing hermanus, ID Number:2006131\n",
      "Unfortunately unable to pull data for beringovskiy, Skipping beringovskiy for now\n",
      "Unfortunately unable to pull data for port blair, Skipping port blair for now\n",
      "Unfortunately unable to pull data for belushya guba, Skipping belushya guba for now\n",
      "Unfortunately unable to pull data for illoqqortoormiut, Skipping illoqqortoormiut for now\n",
      "Currently processing slave lake, ID Number:1008\n",
      "Unfortunately unable to pull data for port alfred, Skipping port alfred for now\n",
      "Unfortunately unable to pull data for sucre, Skipping sucre for now\n",
      "Currently processing albany, ID Number:19530\n",
      "Unfortunately unable to pull data for acarau, Skipping acarau for now\n",
      "Currently processing miri, ID Number:9368\n",
      "Unfortunately unable to pull data for blora, Skipping blora for now\n",
      "Unfortunately unable to pull data for wulanhaote, Skipping wulanhaote for now\n",
      "Unfortunately unable to pull data for barentsburg, Skipping barentsburg for now\n",
      "Unfortunately unable to pull data for mys shmidta, Skipping mys shmidta for now\n",
      "Unfortunately unable to pull data for lorengau, Skipping lorengau for now\n",
      "Unfortunately unable to pull data for atuona, Skipping atuona for now\n",
      "Unfortunately unable to pull data for tucurui, Skipping tucurui for now\n",
      "Currently processing mahebourg, ID Number:2061\n",
      "Currently processing mataura, ID Number:2008959\n",
      "Unfortunately unable to pull data for rikitea, Skipping rikitea for now\n",
      "Currently processing cukai, ID Number:9433\n",
      "Unfortunately unable to pull data for granja, Skipping granja for now\n",
      "Currently processing mar del plata, ID Number:8305\n",
      "Currently processing sitka, ID Number:7795\n",
      "Currently processing doha, ID Number:7614\n",
      "Unfortunately unable to pull data for romny, Skipping romny for now\n",
      "Currently processing dunedin, ID Number:2031989\n",
      "Unfortunately unable to pull data for rungata, Skipping rungata for now\n",
      "Currently processing kiama, ID Number:20106\n",
      "Unfortunately unable to pull data for lavrentiya, Skipping lavrentiya for now\n",
      "Currently processing coria, ID Number:2030597\n",
      "Currently processing faya, ID Number:7396\n",
      "Currently processing iqaluit, ID Number:797\n",
      "Currently processing flinders, ID Number:2033627\n",
      "Currently processing puerto ayora, ID Number:8521\n",
      "Currently processing cabo san lucas, ID Number:7151\n",
      "Currently processing tasiilaq, ID Number:81\n",
      "Currently processing vaini, ID Number:7285\n",
      "Currently processing anadyr, ID Number:8872\n",
      "Unfortunately unable to pull data for leningradskiy, Skipping leningradskiy for now\n",
      "Currently processing noumea, ID Number:7344\n",
      "Unfortunately unable to pull data for evensk, Skipping evensk for now\n",
      "Currently processing new norfolk, ID Number:2031307\n",
      "Currently processing saint-philippe, ID Number:2127\n",
      "Currently processing longyearbyen, ID Number:1663\n",
      "Unfortunately unable to pull data for nanortalik, Skipping nanortalik for now\n",
      "Unfortunately unable to pull data for bilibino, Skipping bilibino for now\n",
      "Unfortunately unable to pull data for cidreira, Skipping cidreira for now\n",
      "Currently processing mount isa, ID Number:9495\n",
      "Currently processing lixourion, ID Number:6653\n",
      "Unfortunately unable to pull data for airai, Skipping airai for now\n",
      "Unfortunately unable to pull data for jijiga, Skipping jijiga for now\n",
      "Currently processing avarua, ID Number:7271\n",
      "Unfortunately unable to pull data for cockburn town, Skipping cockburn town for now\n",
      "Currently processing santa luzia, ID Number:8381\n",
      "Unfortunately unable to pull data for kalmunai, Skipping kalmunai for now\n",
      "Unfortunately unable to pull data for isangel, Skipping isangel for now\n",
      "Unfortunately unable to pull data for castro, Skipping castro for now\n",
      "Unfortunately unable to pull data for independencia, Skipping independencia for now\n",
      "Unfortunately unable to pull data for san vicente, Skipping san vicente for now\n",
      "Unfortunately unable to pull data for labuhan, Skipping labuhan for now\n",
      "Unfortunately unable to pull data for debre tabor, Skipping debre tabor for now\n",
      "Currently processing henties bay, ID Number:2012545\n",
      "Unfortunately unable to pull data for upernavik, Skipping upernavik for now\n",
      "Currently processing bethel, ID Number:3888\n",
      "Unfortunately unable to pull data for gigmoto, Skipping gigmoto for now\n",
      "Unfortunately unable to pull data for naze, Skipping naze for now\n",
      "Unfortunately unable to pull data for bengkulu, Skipping bengkulu for now\n",
      "Unfortunately unable to pull data for madaoua, Skipping madaoua for now\n",
      "Unfortunately unable to pull data for butaritari, Skipping butaritari for now\n",
      "Currently processing luanda, ID Number:2173\n",
      "Unfortunately unable to pull data for bulungu, Skipping bulungu for now\n",
      "Unfortunately unable to pull data for manthani, Skipping manthani for now\n",
      "Unfortunately unable to pull data for tsihombe, Skipping tsihombe for now\n",
      "Currently processing marhaura, ID Number:9129\n",
      "Unfortunately unable to pull data for tubruq, Skipping tubruq for now\n",
      "Unfortunately unable to pull data for fukue, Skipping fukue for now\n",
      "Currently processing shimoda, ID Number:2019346\n",
      "Unfortunately unable to pull data for wuning, Skipping wuning for now\n",
      "Currently processing hearst, ID Number:402\n",
      "Unfortunately unable to pull data for sabang, Skipping sabang for now\n",
      "Unfortunately unable to pull data for burnie, Skipping burnie for now\n",
      "Unfortunately unable to pull data for aksarka, Skipping aksarka for now\n",
      "Unfortunately unable to pull data for lebu, Skipping lebu for now\n",
      "Currently processing geraldton, ID Number:9522\n",
      "Unfortunately unable to pull data for provideniya, Skipping provideniya for now\n",
      "Currently processing port-gentil, ID Number:2188\n",
      "Currently processing yellowknife, ID Number:1007\n",
      "Currently processing san patricio, ID Number:3705\n",
      "Currently processing pitimbu, ID Number:8391\n",
      "Unfortunately unable to pull data for hithadhoo, Skipping hithadhoo for now\n",
      "Currently processing georgetown, ID Number:9429\n",
      "Currently processing norman wells, ID Number:951\n",
      "Unfortunately unable to pull data for chokurdakh, Skipping chokurdakh for now\n",
      "Unfortunately unable to pull data for khatanga, Skipping khatanga for now\n",
      "Unfortunately unable to pull data for amderma, Skipping amderma for now\n",
      "Unfortunately unable to pull data for tiksi, Skipping tiksi for now\n",
      "Currently processing oistins, ID Number:8772\n",
      "Currently processing cape town, ID Number:1899\n",
      "Currently processing victoria, ID Number:2035800\n",
      "Currently processing berani, ID Number:7587\n",
      "Unfortunately unable to pull data for mitzic, Skipping mitzic for now\n",
      "Unfortunately unable to pull data for koppang, Skipping koppang for now\n",
      "Currently processing ancud, ID Number:8512\n",
      "Currently processing bambous virieux, ID Number:2061\n",
      "Currently processing esperance, ID Number:9525\n",
      "Currently processing mount gambier, ID Number:9560\n",
      "Currently processing batemans bay, ID Number:2010627\n",
      "Currently processing arraial do cabo, ID Number:8326\n",
      "Unfortunately unable to pull data for luang prabang, Skipping luang prabang for now\n",
      "Unfortunately unable to pull data for guozhen, Skipping guozhen for now\n",
      "Currently processing rio gallegos, ID Number:8293\n"
     ]
    },
    {
     "name": "stdout",
     "output_type": "stream",
     "text": [
      "Unfortunately unable to pull data for taolanaro, Skipping taolanaro for now\n",
      "Currently processing klaeng, ID Number:2001084\n",
      "Unfortunately unable to pull data for fevralsk, Skipping fevralsk for now\n",
      "Currently processing norton shores, ID Number:4912\n",
      "Unfortunately unable to pull data for saskylakh, Skipping saskylakh for now\n",
      "Unfortunately unable to pull data for severo-kurilsk, Skipping severo-kurilsk for now\n",
      "Currently processing forbes, ID Number:20556\n",
      "Currently processing hobart, ID Number:9545\n",
      "Currently processing quatre cocos, ID Number:2061\n",
      "Unfortunately unable to pull data for xinyu, Skipping xinyu for now\n",
      "Unfortunately unable to pull data for faanui, Skipping faanui for now\n",
      "Unfortunately unable to pull data for menongue, Skipping menongue for now\n",
      "Unfortunately unable to pull data for skalistyy, Skipping skalistyy for now\n",
      "Currently processing nishihara, ID Number:8156\n",
      "Currently processing general roca, ID Number:8310\n",
      "Unfortunately unable to pull data for ostrovnoy, Skipping ostrovnoy for now\n",
      "Unfortunately unable to pull data for batagay-alyta, Skipping batagay-alyta for now\n",
      "Unfortunately unable to pull data for florian, Skipping florian for now\n",
      "Currently processing komsomolskiy, ID Number:9011\n",
      "Unfortunately unable to pull data for tyrma, Skipping tyrma for now\n",
      "Currently processing laguna, ID Number:4887\n",
      "Unfortunately unable to pull data for benguela, Skipping benguela for now\n",
      "Currently processing laerdalsoyri, ID Number:1665\n",
      "Unfortunately unable to pull data for vaitupu, Skipping vaitupu for now\n",
      "Unfortunately unable to pull data for pevek, Skipping pevek for now\n",
      "Currently processing maraba, ID Number:8403\n",
      "Unfortunately unable to pull data for nizhneyansk, Skipping nizhneyansk for now\n",
      "Currently processing broome, ID Number:3429\n",
      "Currently processing klaksvik, ID Number:1596\n",
      "Currently processing alexandria, ID Number:2511\n",
      "Unfortunately unable to pull data for bardiyah, Skipping bardiyah for now\n",
      "Unfortunately unable to pull data for pangoa, Skipping pangoa for now\n",
      "Currently processing penzance, ID Number:1389\n",
      "Currently processing bindura, ID Number:2036454\n",
      "Unfortunately unable to pull data for bargal, Skipping bargal for now\n",
      "Currently processing cabedelo, ID Number:8391\n",
      "Currently processing kodiak, ID Number:7668\n",
      "Currently processing katsuura, ID Number:8074\n",
      "Currently processing san jose, ID Number:5845\n",
      "Currently processing coshocton, ID Number:2037031\n",
      "Currently processing barrow, ID Number:7649\n",
      "Unfortunately unable to pull data for navirai, Skipping navirai for now\n",
      "Unfortunately unable to pull data for novoagansk, Skipping novoagansk for now\n",
      "Unfortunately unable to pull data for faizabad, Skipping faizabad for now\n",
      "Currently processing portland, ID Number:5321\n",
      "Currently processing pacific grove, ID Number:4980\n",
      "Unfortunately unable to pull data for verkhnyaya inta, Skipping verkhnyaya inta for now\n",
      "Unfortunately unable to pull data for upata, Skipping upata for now\n",
      "Currently processing coahuayana, ID Number:7116\n",
      "Unfortunately unable to pull data for barawe, Skipping barawe for now\n",
      "Currently processing camacha, ID Number:6902\n",
      "Unfortunately unable to pull data for derbent, Skipping derbent for now\n",
      "Currently processing kuching, ID Number:9366\n",
      "Unfortunately unable to pull data for wanning, Skipping wanning for now\n",
      "Unfortunately unable to pull data for port shepstone, Skipping port shepstone for now\n",
      "Currently processing guayaramerin, ID Number:8357\n",
      "Unfortunately unable to pull data for bokoro, Skipping bokoro for now\n",
      "Unfortunately unable to pull data for vanimo, Skipping vanimo for now\n",
      "Unfortunately unable to pull data for pokanayevka, Skipping pokanayevka for now\n",
      "Currently processing benavente, ID Number:6415\n",
      "Currently processing kahului, ID Number:7879\n",
      "Unfortunately unable to pull data for pemangkat, Skipping pemangkat for now\n",
      "Currently processing hamilton, ID Number:4776\n",
      "Currently processing saint-georges, ID Number:8781\n",
      "Unfortunately unable to pull data for bonito, Skipping bonito for now\n",
      "Unfortunately unable to pull data for constitucion, Skipping constitucion for now\n",
      "Currently processing vila franca do campo, ID Number:6899\n",
      "Currently processing tateyama, ID Number:20334\n",
      "Currently processing canyon lake, ID Number:2006128\n",
      "Currently processing mareeba, ID Number:9490\n",
      "Currently processing souillac, ID Number:2061\n",
      "Unfortunately unable to pull data for ust-nera, Skipping ust-nera for now\n",
      "Unfortunately unable to pull data for dingle, Skipping dingle for now\n",
      "Unfortunately unable to pull data for luderitz, Skipping luderitz for now\n",
      "Currently processing ponta do sol, ID Number:2008291\n",
      "Currently processing cap-aux-meules, ID Number:274\n",
      "Unfortunately unable to pull data for rumuruti, Skipping rumuruti for now\n",
      "Currently processing najran, ID Number:7421\n",
      "Unfortunately unable to pull data for bom jesus, Skipping bom jesus for now\n",
      "Unfortunately unable to pull data for hualmay, Skipping hualmay for now\n",
      "Currently processing san cristobal, ID Number:8587\n",
      "Currently processing alofi, ID Number:7306\n",
      "Currently processing torbay, ID Number:998\n",
      "Currently processing port elizabeth, ID Number:1973\n",
      "Currently processing port hardy, ID Number:1011\n",
      "Currently processing avera, ID Number:2827\n",
      "Unfortunately unable to pull data for kresttsy, Skipping kresttsy for now\n",
      "Currently processing evans, ID Number:3848\n",
      "Unfortunately unable to pull data for richards bay, Skipping richards bay for now\n",
      "Unfortunately unable to pull data for sinnamary, Skipping sinnamary for now\n",
      "Currently processing college, ID Number:7683\n",
      "Unfortunately unable to pull data for prosvet, Skipping prosvet for now\n",
      "Unfortunately unable to pull data for salinopolis, Skipping salinopolis for now\n",
      "Unfortunately unable to pull data for cherskiy, Skipping cherskiy for now\n",
      "Unfortunately unable to pull data for bauchi, Skipping bauchi for now\n",
      "Unfortunately unable to pull data for sentyabrskiy, Skipping sentyabrskiy for now\n",
      "Currently processing rimini, ID Number:6770\n",
      "Unfortunately unable to pull data for ngukurr, Skipping ngukurr for now\n",
      "Currently processing lichinga, ID Number:2203\n",
      "Unfortunately unable to pull data for san quintin, Skipping san quintin for now\n",
      "Unfortunately unable to pull data for gberia fotombu, Skipping gberia fotombu for now\n",
      "Currently processing nantucket, ID Number:3218\n",
      "Currently processing ventspils, ID Number:1877\n",
      "Unfortunately unable to pull data for meyungs, Skipping meyungs for now\n",
      "Unfortunately unable to pull data for boundiali, Skipping boundiali for now\n",
      "Unfortunately unable to pull data for abu samrah, Skipping abu samrah for now\n",
      "Currently processing bud, ID Number:4345\n",
      "Unfortunately unable to pull data for paracatu, Skipping paracatu for now\n",
      "Currently processing kaitangata, ID Number:2000217\n",
      "Currently processing tuatapere, ID Number:2008959\n",
      "Currently processing auxerre, ID Number:2007717\n",
      "Unfortunately unable to pull data for port lincoln, Skipping port lincoln for now\n",
      "Currently processing celinac, ID Number:6904\n",
      "Unfortunately unable to pull data for sherpur, Skipping sherpur for now\n",
      "Currently processing los llanos de aridane, ID Number:2377\n",
      "Unfortunately unable to pull data for matara, Skipping matara for now\n",
      "Unfortunately unable to pull data for nakhon thai, Skipping nakhon thai for now\n",
      "Unfortunately unable to pull data for paamiut, Skipping paamiut for now\n",
      "Currently processing colares, ID Number:6888\n",
      "Unfortunately unable to pull data for codrington, Skipping codrington for now\n",
      "Currently processing conde, ID Number:8391\n",
      "Currently processing coquimbo, ID Number:8514\n",
      "Unfortunately unable to pull data for loa janan, Skipping loa janan for now\n",
      "Unfortunately unable to pull data for srednekolymsk, Skipping srednekolymsk for now\n",
      "Unfortunately unable to pull data for erenhot, Skipping erenhot for now\n",
      "Unfortunately unable to pull data for rawson, Skipping rawson for now\n",
      "Unfortunately unable to pull data for olafsvik, Skipping olafsvik for now\n",
      "Currently processing carnarvon, ID Number:9505\n",
      "Currently processing acapulco, ID Number:7103\n",
      "Unfortunately unable to pull data for derzhavinsk, Skipping derzhavinsk for now\n",
      "Unfortunately unable to pull data for okhotsk, Skipping okhotsk for now\n",
      "Unfortunately unable to pull data for sur, Skipping sur for now\n",
      "Currently processing alice springs, ID Number:9483\n"
     ]
    },
    {
     "name": "stdout",
     "output_type": "stream",
     "text": [
      "Unfortunately unable to pull data for kaka, Skipping kaka for now\n",
      "Unfortunately unable to pull data for shahrud, Skipping shahrud for now\n",
      "Unfortunately unable to pull data for umzimvubu, Skipping umzimvubu for now\n",
      "Unfortunately unable to pull data for hirara, Skipping hirara for now\n",
      "Currently processing katherine, ID Number:9589\n",
      "Unfortunately unable to pull data for myanaung, Skipping myanaung for now\n",
      "Currently processing pochutla, ID Number:7096\n",
      "Unfortunately unable to pull data for lafia, Skipping lafia for now\n",
      "Currently processing puerto del rosario, ID Number:2371\n",
      "Unfortunately unable to pull data for mazamari, Skipping mazamari for now\n",
      "Unfortunately unable to pull data for urengoy, Skipping urengoy for now\n",
      "Currently processing develi, ID Number:6963\n",
      "Currently processing ashtabula, ID Number:4469\n",
      "Unfortunately unable to pull data for talnakh, Skipping talnakh for now\n",
      "Unfortunately unable to pull data for kruisfontein, Skipping kruisfontein for now\n",
      "Currently processing la ronge, ID Number:696\n",
      "Currently processing talara, ID Number:8685\n",
      "Unfortunately unable to pull data for ishigaki, Skipping ishigaki for now\n",
      "Currently processing ribeira grande, ID Number:6883\n",
      "Unfortunately unable to pull data for mitsamiouli, Skipping mitsamiouli for now\n",
      "Unfortunately unable to pull data for alotau, Skipping alotau for now\n",
      "Unfortunately unable to pull data for saleaula, Skipping saleaula for now\n",
      "Currently processing williston, ID Number:2009760\n",
      "Currently processing belmonte, ID Number:8436\n",
      "Unfortunately unable to pull data for fare, Skipping fare for now\n",
      "Unfortunately unable to pull data for kpandu, Skipping kpandu for now\n",
      "Unfortunately unable to pull data for conceicao da barra, Skipping conceicao da barra for now\n",
      "Currently processing praia da vitoria, ID Number:6895\n",
      "Currently processing tautira, ID Number:7318\n",
      "Unfortunately unable to pull data for thinadhoo, Skipping thinadhoo for now\n",
      "Unfortunately unable to pull data for ruatoria, Skipping ruatoria for now\n",
      "Currently processing marechal deodoro, ID Number:8413\n",
      "Unfortunately unable to pull data for yarim, Skipping yarim for now\n",
      "Currently processing port moresby, ID Number:42\n",
      "Unfortunately unable to pull data for san matias, Skipping san matias for now\n",
      "Currently processing wilson, ID Number:4821\n",
      "Unfortunately unable to pull data for zhigansk, Skipping zhigansk for now\n",
      "Currently processing sawtell, ID Number:9521\n",
      "Unfortunately unable to pull data for attawapiskat, Skipping attawapiskat for now\n",
      "Unfortunately unable to pull data for san julian, Skipping san julian for now\n",
      "Currently processing pangnirtung, ID Number:968\n",
      "Currently processing eureka, ID Number:2019045\n",
      "Unfortunately unable to pull data for humaita, Skipping humaita for now\n",
      "Unfortunately unable to pull data for tazovskiy, Skipping tazovskiy for now\n",
      "Unfortunately unable to pull data for zharkent, Skipping zharkent for now\n",
      "Currently processing kenora, ID Number:894\n",
      "Unfortunately unable to pull data for kyren, Skipping kyren for now\n",
      "Unfortunately unable to pull data for at-bashi, Skipping at-bashi for now\n",
      "Unfortunately unable to pull data for chokwe, Skipping chokwe for now\n",
      "Currently processing praia, ID Number:2462\n",
      "Unfortunately unable to pull data for marihatag, Skipping marihatag for now\n",
      "Unfortunately unable to pull data for saldanha, Skipping saldanha for now\n",
      "Currently processing tuktoyaktuk, ID Number:942\n",
      "Unfortunately unable to pull data for wuchang, Skipping wuchang for now\n",
      "Currently processing port hueneme, ID Number:5254\n",
      "Unfortunately unable to pull data for mahibadhoo, Skipping mahibadhoo for now\n",
      "Unfortunately unable to pull data for dakoro, Skipping dakoro for now\n",
      "Currently processing abancay, ID Number:8658\n",
      "Unfortunately unable to pull data for kavaratti, Skipping kavaratti for now\n",
      "Unfortunately unable to pull data for chuy, Skipping chuy for now\n",
      "Currently processing pirgos, ID Number:2017542\n",
      "Unfortunately unable to pull data for rocha, Skipping rocha for now\n",
      "Unfortunately unable to pull data for soyo, Skipping soyo for now\n",
      "Currently processing gat, ID Number:2002441\n",
      "Unfortunately unable to pull data for irbit, Skipping irbit for now\n",
      "Currently processing ponta delgada, ID Number:6899\n",
      "Currently processing boddam, ID Number:1440\n",
      "Currently processing normandin, ID Number:405\n",
      "Unfortunately unable to pull data for barbar, Skipping barbar for now\n",
      "Unfortunately unable to pull data for asosa, Skipping asosa for now\n",
      "Currently processing nijar, ID Number:6393\n",
      "Unfortunately unable to pull data for ewo, Skipping ewo for now\n",
      "Currently processing ritchie, ID Number:1928\n",
      "Currently processing roald, ID Number:1602\n",
      "Currently processing hastings, ID Number:2032234\n",
      "Unfortunately unable to pull data for oriximina, Skipping oriximina for now\n",
      "Currently processing talcahuano, ID Number:8499\n",
      "Unfortunately unable to pull data for katakwi, Skipping katakwi for now\n",
      "Unfortunately unable to pull data for sisimiut, Skipping sisimiut for now\n",
      "Currently processing ilulissat, ID Number:165\n",
      "Unfortunately unable to pull data for formoso do araguaia, Skipping formoso do araguaia for now\n",
      "Currently processing nuuk, ID Number:86\n",
      "Currently processing takaka, ID Number:2002166\n",
      "Currently processing sarakhs, ID Number:7484\n",
      "Currently processing novoanninskiy, ID Number:2016483\n",
      "Unfortunately unable to pull data for sovetskiy, Skipping sovetskiy for now\n",
      "Currently processing kununurra, ID Number:9587\n",
      "Currently processing dzaoudzi, ID Number:2131\n",
      "Unfortunately unable to pull data for kharp, Skipping kharp for now\n",
      "Unfortunately unable to pull data for wanaka, Skipping wanaka for now\n",
      "Unfortunately unable to pull data for codajas, Skipping codajas for now\n",
      "Currently processing sfantu gheorghe, ID Number:80250\n",
      "Currently processing champerico, ID Number:7068\n",
      "Currently processing ucluelet, ID Number:735\n",
      "Currently processing necochea, ID Number:2010353\n",
      "Currently processing mehamn, ID Number:1633\n",
      "Unfortunately unable to pull data for samarai, Skipping samarai for now\n",
      "Unfortunately unable to pull data for yerofey pavlovich, Skipping yerofey pavlovich for now\n",
      "Unfortunately unable to pull data for vorotynets, Skipping vorotynets for now\n",
      "Unfortunately unable to pull data for sembe, Skipping sembe for now\n",
      "Currently processing villa guerrero, ID Number:7101\n",
      "Unfortunately unable to pull data for beloha, Skipping beloha for now\n",
      "Currently processing lompoc, ID Number:4747\n",
      "Currently processing grand gaube, ID Number:2002134\n",
      "Unfortunately unable to pull data for qaanaaq, Skipping qaanaaq for now\n",
      "Unfortunately unable to pull data for douentza, Skipping douentza for now\n",
      "Currently processing rheinbach, ID Number:19003\n",
      "Currently processing panzhihua, ID Number:2000456\n",
      "Currently processing palmer, ID Number:2010865\n",
      "Unfortunately unable to pull data for micheweni, Skipping micheweni for now\n",
      "Currently processing iberia, ID Number:3312\n",
      "Currently processing avdon, ID Number:9050\n",
      "Currently processing husavik, ID Number:83\n",
      "Unfortunately unable to pull data for kyra, Skipping kyra for now\n",
      "Unfortunately unable to pull data for marsh harbour, Skipping marsh harbour for now\n",
      "Unfortunately unable to pull data for chimore, Skipping chimore for now\n",
      "Currently processing hofn, ID Number:76\n",
      "Currently processing sungai besar, ID Number:9426\n",
      "Currently processing surgut, ID Number:8987\n",
      "Unfortunately unable to pull data for belaya gora, Skipping belaya gora for now\n",
      "Currently processing macieira de cambra, ID Number:6898\n",
      "Unfortunately unable to pull data for khandyga, Skipping khandyga for now\n",
      "Unfortunately unable to pull data for tomatlan, Skipping tomatlan for now\n",
      "Unfortunately unable to pull data for krasnovishersk, Skipping krasnovishersk for now\n",
      "Unfortunately unable to pull data for maniitsoq, Skipping maniitsoq for now\n",
      "Currently processing vila velha, ID Number:8474\n",
      "Currently processing macau, ID Number:9204\n",
      "Unfortunately unable to pull data for shingu, Skipping shingu for now\n",
      "Unfortunately unable to pull data for kirakira, Skipping kirakira for now\n",
      "Unfortunately unable to pull data for tura, Skipping tura for now\n",
      "Currently processing meadow lake, ID Number:3205\n",
      "Unfortunately unable to pull data for cabras, Skipping cabras for now\n",
      "Currently processing saint george, ID Number:5832\n",
      "Currently processing thompson, ID Number:935\n"
     ]
    },
    {
     "name": "stdout",
     "output_type": "stream",
     "text": [
      "Currently processing senneterre, ID Number:950\n",
      "Unfortunately unable to pull data for kindu, Skipping kindu for now\n",
      "Unfortunately unable to pull data for yerbogachen, Skipping yerbogachen for now\n",
      "Unfortunately unable to pull data for te anau, Skipping te anau for now\n",
      "Currently processing haines junction, ID Number:287\n",
      "Unfortunately unable to pull data for kadykchan, Skipping kadykchan for now\n",
      "Unfortunately unable to pull data for grand river south east, Skipping grand river south east for now\n",
      "Unfortunately unable to pull data for ahipara, Skipping ahipara for now\n",
      "Unfortunately unable to pull data for azar shahr, Skipping azar shahr for now\n",
      "Unfortunately unable to pull data for verkhnevilyuysk, Skipping verkhnevilyuysk for now\n",
      "Currently processing victor harbor, ID Number:2005401\n",
      "Unfortunately unable to pull data for dekar, Skipping dekar for now\n",
      "Unfortunately unable to pull data for zhob, Skipping zhob for now\n",
      "Currently processing port charlotte, ID Number:5343\n",
      "Unfortunately unable to pull data for kytlym, Skipping kytlym for now\n",
      "Unfortunately unable to pull data for baft, Skipping baft for now\n",
      "Unfortunately unable to pull data for kongwa, Skipping kongwa for now\n",
      "Unfortunately unable to pull data for lagoa, Skipping lagoa for now\n",
      "Unfortunately unable to pull data for ternate, Skipping ternate for now\n",
      "Unfortunately unable to pull data for ust-kuyga, Skipping ust-kuyga for now\n",
      "Unfortunately unable to pull data for djambala, Skipping djambala for now\n",
      "Unfortunately unable to pull data for falealupo, Skipping falealupo for now\n",
      "Currently processing flin flon, ID Number:782\n",
      "Unfortunately unable to pull data for teya, Skipping teya for now\n",
      "Unfortunately unable to pull data for karaidel, Skipping karaidel for now\n",
      "Currently processing iralaya, ID Number:7087\n",
      "Unfortunately unable to pull data for arlit, Skipping arlit for now\n",
      "Unfortunately unable to pull data for grand centre, Skipping grand centre for now\n",
      "Unfortunately unable to pull data for sokol, Skipping sokol for now\n",
      "Unfortunately unable to pull data for tual, Skipping tual for now\n",
      "Unfortunately unable to pull data for san-pedro, Skipping san-pedro for now\n",
      "Currently processing fairbanks, ID Number:7684\n",
      "Unfortunately unable to pull data for mujiayingzi, Skipping mujiayingzi for now\n",
      "Currently processing lata, ID Number:6896\n",
      "Currently processing isla mujeres, ID Number:7177\n",
      "Unfortunately unable to pull data for robertsport, Skipping robertsport for now\n",
      "Currently processing portoferraio, ID Number:6810\n",
      "Currently processing astakos, ID Number:6638\n",
      "Unfortunately unable to pull data for xining, Skipping xining for now\n",
      "Currently processing begunitsy, ID Number:8926\n",
      "Unfortunately unable to pull data for sansai, Skipping sansai for now\n",
      "Currently processing caronport, ID Number:1041\n",
      "Unfortunately unable to pull data for arman, Skipping arman for now\n",
      "Unfortunately unable to pull data for cheremshanka, Skipping cheremshanka for now\n",
      "Unfortunately unable to pull data for camargo, Skipping camargo for now\n",
      "Unfortunately unable to pull data for chernyshevskiy, Skipping chernyshevskiy for now\n",
      "Currently processing russell, ID Number:4765\n",
      "Unfortunately unable to pull data for dolbeau, Skipping dolbeau for now\n",
      "Unfortunately unable to pull data for dawei, Skipping dawei for now\n",
      "Currently processing tahta, ID Number:2548\n",
      "Currently processing tutoia, ID Number:8404\n",
      "Currently processing vardo, ID Number:1666\n",
      "Unfortunately unable to pull data for bohuslav, Skipping bohuslav for now\n",
      "Unfortunately unable to pull data for omboue, Skipping omboue for now\n",
      "Unfortunately unable to pull data for sao filipe, Skipping sao filipe for now\n",
      "Currently processing bintulu, ID Number:9365\n",
      "Currently processing bitung, ID Number:9356\n",
      "Unfortunately unable to pull data for muzhi, Skipping muzhi for now\n",
      "Unfortunately unable to pull data for karratha, Skipping karratha for now\n",
      "Unfortunately unable to pull data for garowe, Skipping garowe for now\n",
      "Unfortunately unable to pull data for itaqui, Skipping itaqui for now\n",
      "Unfortunately unable to pull data for boyolangu, Skipping boyolangu for now\n",
      "Unfortunately unable to pull data for sao felix do xingu, Skipping sao felix do xingu for now\n",
      "Unfortunately unable to pull data for babushkin, Skipping babushkin for now\n",
      "Unfortunately unable to pull data for zhangye, Skipping zhangye for now\n",
      "Unfortunately unable to pull data for barmer, Skipping barmer for now\n",
      "Unfortunately unable to pull data for jinchengjiang, Skipping jinchengjiang for now\n",
      "Currently processing santa cruz cabralia, ID Number:8422\n",
      "Unfortunately unable to pull data for uaua, Skipping uaua for now\n",
      "Currently processing sorland, ID Number:1642\n",
      "Currently processing columbus, ID Number:3656\n",
      "Currently processing mackay, ID Number:9498\n",
      "Currently processing bushehr, ID Number:7444\n",
      "Unfortunately unable to pull data for koyelga, Skipping koyelga for now\n",
      "Currently processing tefe, ID Number:8438\n",
      "Unfortunately unable to pull data for samalaeulu, Skipping samalaeulu for now\n",
      "Currently processing kleive, ID Number:1643\n",
      "Unfortunately unable to pull data for polunochnoye, Skipping polunochnoye for now\n",
      "Currently processing wahiawa, ID Number:7866\n",
      "Currently processing uige, ID Number:2158\n",
      "Currently processing caucaia, ID Number:8363\n",
      "Unfortunately unable to pull data for vreed en hoop, Skipping vreed en hoop for now\n",
      "Unfortunately unable to pull data for koygorodok, Skipping koygorodok for now\n",
      "Currently processing inhambane, ID Number:2200\n",
      "Unfortunately unable to pull data for mulege, Skipping mulege for now\n",
      "Currently processing pisco, ID Number:8691\n",
      "Unfortunately unable to pull data for shush, Skipping shush for now\n",
      "Unfortunately unable to pull data for san luis, Skipping san luis for now\n",
      "Currently processing waidhofen, ID Number:1866\n",
      "Currently processing tahoua, ID Number:1189\n",
      "Unfortunately unable to pull data for yumen, Skipping yumen for now\n",
      "Unfortunately unable to pull data for sol-iletsk, Skipping sol-iletsk for now\n",
      "Currently processing ixtapa, ID Number:7156\n",
      "Currently processing wenling, ID Number:268031\n",
      "Unfortunately unable to pull data for luwuk, Skipping luwuk for now\n",
      "Unfortunately unable to pull data for baruun-urt, Skipping baruun-urt for now\n",
      "Currently processing yulara, ID Number:9487\n",
      "Unfortunately unable to pull data for encheng, Skipping encheng for now\n",
      "Unfortunately unable to pull data for ushtobe, Skipping ushtobe for now\n",
      "Unfortunately unable to pull data for uyuni, Skipping uyuni for now\n",
      "Unfortunately unable to pull data for vyyezdnoye, Skipping vyyezdnoye for now\n",
      "Unfortunately unable to pull data for tillabery, Skipping tillabery for now\n",
      "Currently processing coihaique, ID Number:8491\n",
      "Unfortunately unable to pull data for wajima, Skipping wajima for now\n",
      "Currently processing vestmannaeyjar, ID Number:93\n",
      "Currently processing muros, ID Number:72671\n",
      "Unfortunately unable to pull data for caravelas, Skipping caravelas for now\n",
      "Currently processing iquique, ID Number:8492\n",
      "Unfortunately unable to pull data for kulunda, Skipping kulunda for now\n",
      "Unfortunately unable to pull data for ust-omchug, Skipping ust-omchug for now\n",
      "Currently processing havre-saint-pierre, ID Number:812\n",
      "Unfortunately unable to pull data for kulhudhuffushi, Skipping kulhudhuffushi for now\n",
      "Currently processing clyde river, ID Number:776\n",
      "Unfortunately unable to pull data for bubaque, Skipping bubaque for now\n",
      "Currently processing santa lucia, ID Number:2378\n",
      "Currently processing det udom, ID Number:9299\n",
      "Currently processing gaya, ID Number:9115\n",
      "Currently processing koutsouras, ID Number:2017542\n",
      "Unfortunately unable to pull data for angoche, Skipping angoche for now\n",
      "Currently processing berlevag, ID Number:1620\n",
      "Currently processing jaguey grande, ID Number:7254\n",
      "Unfortunately unable to pull data for tucuma, Skipping tucuma for now\n",
      "Currently processing maceio, ID Number:8413\n",
      "Currently processing the pas, ID Number:891\n",
      "Unfortunately unable to pull data for taranagar, Skipping taranagar for now\n",
      "Unfortunately unable to pull data for nanchang, Skipping nanchang for now\n",
      "Currently processing karasjok, ID Number:1646\n",
      "Unfortunately unable to pull data for mokrousovo, Skipping mokrousovo for now\n",
      "Unfortunately unable to pull data for tessalit, Skipping tessalit for now\n",
      "Unfortunately unable to pull data for oranjemund, Skipping oranjemund for now\n"
     ]
    },
    {
     "name": "stdout",
     "output_type": "stream",
     "text": [
      "Currently processing ingham, ID Number:6016\n",
      "Unfortunately unable to pull data for celestun, Skipping celestun for now\n",
      "Currently processing antofagasta, ID Number:8488\n",
      "Unfortunately unable to pull data for devrek, Skipping devrek for now\n",
      "Currently processing viedma, ID Number:2030260\n",
      "Currently processing toamasina, ID Number:2139\n",
      "Unfortunately unable to pull data for san carlos, Skipping san carlos for now\n",
      "Currently processing golden, ID Number:3444\n",
      "Currently processing marawi, ID Number:2007154\n",
      "Unfortunately unable to pull data for sergeyevka, Skipping sergeyevka for now\n",
      "Currently processing nago, ID Number:8156\n",
      "Currently processing vilhena, ID Number:8457\n",
      "Unfortunately unable to pull data for corn island, Skipping corn island for now\n",
      "Unfortunately unable to pull data for fort-shevchenko, Skipping fort-shevchenko for now\n",
      "Currently processing stokmarknes, ID Number:1669\n",
      "Currently processing east london, ID Number:1912\n",
      "Currently processing moindou, ID Number:7344\n",
      "Unfortunately unable to pull data for blagoyevo, Skipping blagoyevo for now\n",
      "Unfortunately unable to pull data for helong, Skipping helong for now\n",
      "Unfortunately unable to pull data for tunduru, Skipping tunduru for now\n",
      "Unfortunately unable to pull data for tabiauea, Skipping tabiauea for now\n",
      "Currently processing marfino, ID Number:9033\n",
      "Currently processing villefranche-de-rouergue, ID Number:6480\n",
      "Currently processing kerman, ID Number:7478\n",
      "Unfortunately unable to pull data for yuzhno-yeniseyskiy, Skipping yuzhno-yeniseyskiy for now\n",
      "Currently processing lasa, ID Number:6813\n",
      "Currently processing ketchikan, ID Number:7741\n",
      "Unfortunately unable to pull data for jumla, Skipping jumla for now\n",
      "Currently processing springdale, ID Number:3318\n",
      "Currently processing stornoway, ID Number:1450\n",
      "Currently processing neiafu, ID Number:7292\n",
      "Unfortunately unable to pull data for grootfontein, Skipping grootfontein for now\n",
      "Currently processing riyadh, ID Number:7426\n",
      "Unfortunately unable to pull data for imeni babushkina, Skipping imeni babushkina for now\n",
      "Unfortunately unable to pull data for san pedro de uraba, Skipping san pedro de uraba for now\n",
      "Currently processing avezzano, ID Number:19498\n",
      "Unfortunately unable to pull data for acajutla, Skipping acajutla for now\n",
      "Currently processing road town, ID Number:8799\n",
      "Currently processing sept-iles, ID Number:1013\n",
      "Unfortunately unable to pull data for burica, Skipping burica for now\n",
      "Currently processing bonavista, ID Number:719\n",
      "Unfortunately unable to pull data for iraquara, Skipping iraquara for now\n",
      "Unfortunately unable to pull data for uruzgan, Skipping uruzgan for now\n",
      "Unfortunately unable to pull data for alvorada, Skipping alvorada for now\n",
      "Unfortunately unable to pull data for kavieng, Skipping kavieng for now\n",
      "Unfortunately unable to pull data for sunamganj, Skipping sunamganj for now\n",
      "Currently processing artvin, ID Number:8858\n",
      "Currently processing constantine, ID Number:1074\n",
      "Currently processing dzheyrakh, ID Number:8969\n",
      "Currently processing halifax, ID Number:733\n",
      "Currently processing dalvik, ID Number:83\n",
      "Currently processing homer, ID Number:7709\n",
      "Unfortunately unable to pull data for ciras, Skipping ciras for now\n",
      "Unfortunately unable to pull data for harper, Skipping harper for now\n",
      "Unfortunately unable to pull data for marystown, Skipping marystown for now\n",
      "Currently processing dymer, ID Number:8907\n",
      "Currently processing kamenka, ID Number:2021293\n",
      "Currently processing nadrag, ID Number:6926\n",
      "Currently processing jizan, ID Number:7407\n",
      "Unfortunately unable to pull data for kidal, Skipping kidal for now\n",
      "Currently processing dillon, ID Number:4833\n",
      "Currently processing hervey bay, ID Number:2032484\n",
      "Currently processing dixon, ID Number:6159\n",
      "Currently processing abu dhabi, ID Number:7533\n",
      "Unfortunately unable to pull data for merauke, Skipping merauke for now\n",
      "Currently processing salalah, ID Number:7562\n",
      "Unfortunately unable to pull data for tigil, Skipping tigil for now\n",
      "Currently processing tatawin, ID Number:1198\n",
      "Currently processing caidian, ID Number:9634\n",
      "Currently processing elko, ID Number:2008952\n",
      "Currently processing laredo, ID Number:4756\n",
      "Currently processing vigrestad, ID Number:1680\n",
      "Currently processing fortuna, ID Number:4127\n",
      "Currently processing guaruja, ID Number:8432\n",
      "Unfortunately unable to pull data for umm lajj, Skipping umm lajj for now\n",
      "Unfortunately unable to pull data for tuggurt, Skipping tuggurt for now\n",
      "Unfortunately unable to pull data for jiuquan, Skipping jiuquan for now\n",
      "Currently processing sonqor, ID Number:7455\n",
      "Unfortunately unable to pull data for hambantota, Skipping hambantota for now\n",
      "Unfortunately unable to pull data for zaraza, Skipping zaraza for now\n",
      "Unfortunately unable to pull data for san felipe, Skipping san felipe for now\n",
      "Unfortunately unable to pull data for marcona, Skipping marcona for now\n",
      "Unfortunately unable to pull data for hadrut, Skipping hadrut for now\n",
      "Unfortunately unable to pull data for zyryanka, Skipping zyryanka for now\n",
      "Currently processing todos santos, ID Number:2004498\n",
      "Unfortunately unable to pull data for puerto princesa, Skipping puerto princesa for now\n",
      "Currently processing nikko, ID Number:264076\n",
      "Currently processing baldone, ID Number:1876\n",
      "-----------------------------\n",
      "Finished collecting weather information from 620 cities around the world\n"
     ]
    }
   ],
   "source": [
    "# Putting everything together into a for loop now to get API request to run the list of cities\n",
    "\n",
    "# Generate lists that will store the cities data as the loop runs\n",
    "# Lists developed based on what information the homework requests we gather\n",
    "city_name_list = []\n",
    "cloud_list = []\n",
    "country_list = []\n",
    "date_list = []\n",
    "humidity_list = []\n",
    "lat_list = []\n",
    "lng_list = []\n",
    "temp_list = []\n",
    "wind_list = []\n",
    "\n",
    "# Printing the log of cities as they are being requested per homework instructions\n",
    "print(f\"Requesting weather information from {len(cities)} random cities around the world\")\n",
    "print(\"-----------------------------\")\n",
    "\n",
    "\n",
    "# Set up loop to make an api call on each city in the list and store it's value before moving to the next\n",
    "for city in cities:    \n",
    "    \n",
    "    # Need try logic for cases where weather api does not have records for that city\n",
    "    try:\n",
    "        # Update the query url with a new city\n",
    "        query_url = base_url + city + \"&appid=\" + weather_api_key\n",
    "        # Perform a GET request\n",
    "        response = requests.get(query_url)\n",
    "        # Convert the response to a JSON\n",
    "        weather_data = response.json()\n",
    "        # print(json.dumps(weather_data, indent = 4, sort_keys = True))\n",
    "   \n",
    "        # Collect all weather information for that city\n",
    "        city_num = weather_data[\"sys\"][\"id\"]\n",
    "        city_name_list.append(weather_data[\"name\"])\n",
    "        cloud_list.append(weather_data[\"clouds\"][\"all\"])\n",
    "        country_list.append(weather_data[\"sys\"][\"country\"])\n",
    "        date_list.append(weather_data[\"dt\"])\n",
    "        humidity_list.append(weather_data[\"main\"][\"humidity\"])\n",
    "        lat_list.append(weather_data[\"coord\"][\"lat\"])\n",
    "        lng_list.append(weather_data[\"coord\"][\"lon\"])\n",
    "        temp_list.append(weather_data['main']['temp_max'])\n",
    "        wind_list.append(weather_data[\"wind\"][\"speed\"])\n",
    "    \n",
    "        # Print that the city is currently being processed per homework instructions\n",
    "        print(f\"Currently processing {city}, ID Number:{city_num}\")\n",
    "    \n",
    "    # If city data is not found then use this except command and continue to the next city\n",
    "    except(KeyError, IndexError):\n",
    "        print(f\"Unfortunately unable to pull data for {city}, Skipping {city} for now\")\n",
    "\n",
    "    # Adding in a one second sleep interval between queries to avoid exceeding the API query limits\n",
    "    time.sleep(1)\n",
    "        \n",
    "print(\"-----------------------------\")\n",
    "print(f\"Finished collecting weather information from {len(cities)} cities around the world\")\n",
    "    "
   ]
  },
  {
   "cell_type": "markdown",
   "metadata": {},
   "source": [
    "### Convert Raw Data to DataFrame\n",
    "* Export the city data into a .csv.\n",
    "* Display the DataFrame"
   ]
  },
  {
   "cell_type": "code",
   "execution_count": 9,
   "metadata": {},
   "outputs": [
    {
     "data": {
      "text/html": [
       "<div>\n",
       "<style scoped>\n",
       "    .dataframe tbody tr th:only-of-type {\n",
       "        vertical-align: middle;\n",
       "    }\n",
       "\n",
       "    .dataframe tbody tr th {\n",
       "        vertical-align: top;\n",
       "    }\n",
       "\n",
       "    .dataframe thead th {\n",
       "        text-align: right;\n",
       "    }\n",
       "</style>\n",
       "<table border=\"1\" class=\"dataframe\">\n",
       "  <thead>\n",
       "    <tr style=\"text-align: right;\">\n",
       "      <th></th>\n",
       "      <th>City</th>\n",
       "      <th>Country</th>\n",
       "      <th>Temperature</th>\n",
       "      <th>Date</th>\n",
       "      <th>Humidity</th>\n",
       "      <th>Cloud</th>\n",
       "      <th>Wind Speed</th>\n",
       "      <th>Lat</th>\n",
       "      <th>Lng</th>\n",
       "    </tr>\n",
       "  </thead>\n",
       "  <tbody>\n",
       "    <tr>\n",
       "      <th>0</th>\n",
       "      <td>Punta Arenas</td>\n",
       "      <td>CL</td>\n",
       "      <td>287.15</td>\n",
       "      <td>1613148319</td>\n",
       "      <td>41</td>\n",
       "      <td>0</td>\n",
       "      <td>5.66</td>\n",
       "      <td>-53.1500</td>\n",
       "      <td>-70.9167</td>\n",
       "    </tr>\n",
       "    <tr>\n",
       "      <th>1</th>\n",
       "      <td>Kapaa</td>\n",
       "      <td>US</td>\n",
       "      <td>295.15</td>\n",
       "      <td>1613148320</td>\n",
       "      <td>68</td>\n",
       "      <td>40</td>\n",
       "      <td>5.66</td>\n",
       "      <td>22.0752</td>\n",
       "      <td>-159.3190</td>\n",
       "    </tr>\n",
       "    <tr>\n",
       "      <th>2</th>\n",
       "      <td>Bredasdorp</td>\n",
       "      <td>ZA</td>\n",
       "      <td>297.04</td>\n",
       "      <td>1613148321</td>\n",
       "      <td>76</td>\n",
       "      <td>58</td>\n",
       "      <td>1.34</td>\n",
       "      <td>-34.5322</td>\n",
       "      <td>20.0403</td>\n",
       "    </tr>\n",
       "    <tr>\n",
       "      <th>3</th>\n",
       "      <td>Jamestown</td>\n",
       "      <td>US</td>\n",
       "      <td>267.04</td>\n",
       "      <td>1613148179</td>\n",
       "      <td>67</td>\n",
       "      <td>90</td>\n",
       "      <td>4.12</td>\n",
       "      <td>42.0970</td>\n",
       "      <td>-79.2353</td>\n",
       "    </tr>\n",
       "    <tr>\n",
       "      <th>4</th>\n",
       "      <td>Busselton</td>\n",
       "      <td>AU</td>\n",
       "      <td>288.15</td>\n",
       "      <td>1613148325</td>\n",
       "      <td>89</td>\n",
       "      <td>0</td>\n",
       "      <td>5.78</td>\n",
       "      <td>-33.6500</td>\n",
       "      <td>115.3333</td>\n",
       "    </tr>\n",
       "  </tbody>\n",
       "</table>\n",
       "</div>"
      ],
      "text/plain": [
       "           City Country  Temperature        Date  Humidity  Cloud  Wind Speed  \\\n",
       "0  Punta Arenas      CL       287.15  1613148319        41      0        5.66   \n",
       "1         Kapaa      US       295.15  1613148320        68     40        5.66   \n",
       "2    Bredasdorp      ZA       297.04  1613148321        76     58        1.34   \n",
       "3     Jamestown      US       267.04  1613148179        67     90        4.12   \n",
       "4     Busselton      AU       288.15  1613148325        89      0        5.78   \n",
       "\n",
       "       Lat       Lng  \n",
       "0 -53.1500  -70.9167  \n",
       "1  22.0752 -159.3190  \n",
       "2 -34.5322   20.0403  \n",
       "3  42.0970  -79.2353  \n",
       "4 -33.6500  115.3333  "
      ]
     },
     "execution_count": 9,
     "metadata": {},
     "output_type": "execute_result"
    }
   ],
   "source": [
    "# Use pandas function pd.DataFrame to create a dataframe from the list information generated above\n",
    "# I chose to re-arrange this order of the columns here to what I felt more logical\n",
    "cities_weather_df = pd.DataFrame({\"City\": city_name_list,\n",
    "                                  \"Country\": country_list,\n",
    "                                  \"Temperature\": temp_list,\n",
    "                                  \"Date\": date_list,\n",
    "                                  \"Humidity\": humidity_list,\n",
    "                                  \"Cloud\": cloud_list,\n",
    "                                  \"Wind Speed\": wind_list,\n",
    "                                  \"Lat\": lat_list,\n",
    "                                  \"Lng\":lng_list                                  \n",
    "                                })\n",
    "\n",
    "# Display the dataframe\n",
    "cities_weather_df.head()"
   ]
  },
  {
   "cell_type": "code",
   "execution_count": null,
   "metadata": {},
   "outputs": [],
   "source": [
    "# Save city data into a csv file\n",
    "# cities_weather_df.to_csv(output_data_file, index = False)"
   ]
  },
  {
   "cell_type": "markdown",
   "metadata": {},
   "source": [
    "## Inspect the data and remove the cities where the humidity > 100%.\n",
    "----\n",
    "Skip this step if there are no cities that have humidity > 100%. "
   ]
  },
  {
   "cell_type": "code",
   "execution_count": 10,
   "metadata": {},
   "outputs": [
    {
     "data": {
      "text/html": [
       "<div>\n",
       "<style scoped>\n",
       "    .dataframe tbody tr th:only-of-type {\n",
       "        vertical-align: middle;\n",
       "    }\n",
       "\n",
       "    .dataframe tbody tr th {\n",
       "        vertical-align: top;\n",
       "    }\n",
       "\n",
       "    .dataframe thead th {\n",
       "        text-align: right;\n",
       "    }\n",
       "</style>\n",
       "<table border=\"1\" class=\"dataframe\">\n",
       "  <thead>\n",
       "    <tr style=\"text-align: right;\">\n",
       "      <th></th>\n",
       "      <th>City</th>\n",
       "      <th>Country</th>\n",
       "      <th>Temperature</th>\n",
       "      <th>Date</th>\n",
       "      <th>Humidity</th>\n",
       "      <th>Cloud</th>\n",
       "      <th>Wind Speed</th>\n",
       "      <th>Lat</th>\n",
       "      <th>Lng</th>\n",
       "    </tr>\n",
       "  </thead>\n",
       "  <tbody>\n",
       "    <tr>\n",
       "      <th>0</th>\n",
       "      <td>Punta Arenas</td>\n",
       "      <td>CL</td>\n",
       "      <td>287.15</td>\n",
       "      <td>1613148319</td>\n",
       "      <td>41</td>\n",
       "      <td>0</td>\n",
       "      <td>5.66</td>\n",
       "      <td>-53.1500</td>\n",
       "      <td>-70.9167</td>\n",
       "    </tr>\n",
       "    <tr>\n",
       "      <th>1</th>\n",
       "      <td>Kapaa</td>\n",
       "      <td>US</td>\n",
       "      <td>295.15</td>\n",
       "      <td>1613148320</td>\n",
       "      <td>68</td>\n",
       "      <td>40</td>\n",
       "      <td>5.66</td>\n",
       "      <td>22.0752</td>\n",
       "      <td>-159.3190</td>\n",
       "    </tr>\n",
       "    <tr>\n",
       "      <th>2</th>\n",
       "      <td>Bredasdorp</td>\n",
       "      <td>ZA</td>\n",
       "      <td>297.04</td>\n",
       "      <td>1613148321</td>\n",
       "      <td>76</td>\n",
       "      <td>58</td>\n",
       "      <td>1.34</td>\n",
       "      <td>-34.5322</td>\n",
       "      <td>20.0403</td>\n",
       "    </tr>\n",
       "    <tr>\n",
       "      <th>3</th>\n",
       "      <td>Jamestown</td>\n",
       "      <td>US</td>\n",
       "      <td>267.04</td>\n",
       "      <td>1613148179</td>\n",
       "      <td>67</td>\n",
       "      <td>90</td>\n",
       "      <td>4.12</td>\n",
       "      <td>42.0970</td>\n",
       "      <td>-79.2353</td>\n",
       "    </tr>\n",
       "    <tr>\n",
       "      <th>4</th>\n",
       "      <td>Busselton</td>\n",
       "      <td>AU</td>\n",
       "      <td>288.15</td>\n",
       "      <td>1613148325</td>\n",
       "      <td>89</td>\n",
       "      <td>0</td>\n",
       "      <td>5.78</td>\n",
       "      <td>-33.6500</td>\n",
       "      <td>115.3333</td>\n",
       "    </tr>\n",
       "  </tbody>\n",
       "</table>\n",
       "</div>"
      ],
      "text/plain": [
       "           City Country  Temperature        Date  Humidity  Cloud  Wind Speed  \\\n",
       "0  Punta Arenas      CL       287.15  1613148319        41      0        5.66   \n",
       "1         Kapaa      US       295.15  1613148320        68     40        5.66   \n",
       "2    Bredasdorp      ZA       297.04  1613148321        76     58        1.34   \n",
       "3     Jamestown      US       267.04  1613148179        67     90        4.12   \n",
       "4     Busselton      AU       288.15  1613148325        89      0        5.78   \n",
       "\n",
       "       Lat       Lng  \n",
       "0 -53.1500  -70.9167  \n",
       "1  22.0752 -159.3190  \n",
       "2 -34.5322   20.0403  \n",
       "3  42.0970  -79.2353  \n",
       "4 -33.6500  115.3333  "
      ]
     },
     "execution_count": 10,
     "metadata": {},
     "output_type": "execute_result"
    }
   ],
   "source": [
    "# JUST FOR TEST PURPOSES I WILL USE 90%\n",
    "cleaned_data_df = cities_weather_df[cities_weather_df[\"Humidity\"] < 100]\n",
    "cleaned_data_df.head()"
   ]
  },
  {
   "cell_type": "code",
   "execution_count": 11,
   "metadata": {},
   "outputs": [
    {
     "data": {
      "text/plain": [
       "Int64Index([], dtype='int64')"
      ]
     },
     "execution_count": 11,
     "metadata": {},
     "output_type": "execute_result"
    }
   ],
   "source": [
    "#  Get the indices of cities that have humidity over 100%.\n",
    "high_humidity_df = cities_weather_df[cities_weather_df[\"Humidity\"] > 100]\n",
    "\n",
    "high_humidity_df\n",
    "\n",
    "high_humidity_index = high_humidity_df.index\n",
    "high_humidity_index"
   ]
  },
  {
   "cell_type": "code",
   "execution_count": 12,
   "metadata": {},
   "outputs": [
    {
     "data": {
      "text/html": [
       "<div>\n",
       "<style scoped>\n",
       "    .dataframe tbody tr th:only-of-type {\n",
       "        vertical-align: middle;\n",
       "    }\n",
       "\n",
       "    .dataframe tbody tr th {\n",
       "        vertical-align: top;\n",
       "    }\n",
       "\n",
       "    .dataframe thead th {\n",
       "        text-align: right;\n",
       "    }\n",
       "</style>\n",
       "<table border=\"1\" class=\"dataframe\">\n",
       "  <thead>\n",
       "    <tr style=\"text-align: right;\">\n",
       "      <th></th>\n",
       "      <th>City</th>\n",
       "      <th>Country</th>\n",
       "      <th>Temperature</th>\n",
       "      <th>Date</th>\n",
       "      <th>Humidity</th>\n",
       "      <th>Cloud</th>\n",
       "      <th>Wind Speed</th>\n",
       "      <th>Lat</th>\n",
       "      <th>Lng</th>\n",
       "    </tr>\n",
       "  </thead>\n",
       "  <tbody>\n",
       "    <tr>\n",
       "      <th>0</th>\n",
       "      <td>Punta Arenas</td>\n",
       "      <td>CL</td>\n",
       "      <td>287.15</td>\n",
       "      <td>1613148319</td>\n",
       "      <td>41</td>\n",
       "      <td>0</td>\n",
       "      <td>5.66</td>\n",
       "      <td>-53.1500</td>\n",
       "      <td>-70.9167</td>\n",
       "    </tr>\n",
       "    <tr>\n",
       "      <th>1</th>\n",
       "      <td>Kapaa</td>\n",
       "      <td>US</td>\n",
       "      <td>295.15</td>\n",
       "      <td>1613148320</td>\n",
       "      <td>68</td>\n",
       "      <td>40</td>\n",
       "      <td>5.66</td>\n",
       "      <td>22.0752</td>\n",
       "      <td>-159.3190</td>\n",
       "    </tr>\n",
       "    <tr>\n",
       "      <th>2</th>\n",
       "      <td>Bredasdorp</td>\n",
       "      <td>ZA</td>\n",
       "      <td>297.04</td>\n",
       "      <td>1613148321</td>\n",
       "      <td>76</td>\n",
       "      <td>58</td>\n",
       "      <td>1.34</td>\n",
       "      <td>-34.5322</td>\n",
       "      <td>20.0403</td>\n",
       "    </tr>\n",
       "    <tr>\n",
       "      <th>3</th>\n",
       "      <td>Jamestown</td>\n",
       "      <td>US</td>\n",
       "      <td>267.04</td>\n",
       "      <td>1613148179</td>\n",
       "      <td>67</td>\n",
       "      <td>90</td>\n",
       "      <td>4.12</td>\n",
       "      <td>42.0970</td>\n",
       "      <td>-79.2353</td>\n",
       "    </tr>\n",
       "    <tr>\n",
       "      <th>4</th>\n",
       "      <td>Busselton</td>\n",
       "      <td>AU</td>\n",
       "      <td>288.15</td>\n",
       "      <td>1613148325</td>\n",
       "      <td>89</td>\n",
       "      <td>0</td>\n",
       "      <td>5.78</td>\n",
       "      <td>-33.6500</td>\n",
       "      <td>115.3333</td>\n",
       "    </tr>\n",
       "  </tbody>\n",
       "</table>\n",
       "</div>"
      ],
      "text/plain": [
       "           City Country  Temperature        Date  Humidity  Cloud  Wind Speed  \\\n",
       "0  Punta Arenas      CL       287.15  1613148319        41      0        5.66   \n",
       "1         Kapaa      US       295.15  1613148320        68     40        5.66   \n",
       "2    Bredasdorp      ZA       297.04  1613148321        76     58        1.34   \n",
       "3     Jamestown      US       267.04  1613148179        67     90        4.12   \n",
       "4     Busselton      AU       288.15  1613148325        89      0        5.78   \n",
       "\n",
       "       Lat       Lng  \n",
       "0 -53.1500  -70.9167  \n",
       "1  22.0752 -159.3190  \n",
       "2 -34.5322   20.0403  \n",
       "3  42.0970  -79.2353  \n",
       "4 -33.6500  115.3333  "
      ]
     },
     "execution_count": 12,
     "metadata": {},
     "output_type": "execute_result"
    }
   ],
   "source": [
    "# Make a new DataFrame equal to the city data to drop all humidity outliers by index.\n",
    "# The step above created this cleaned dataframe, here it is displayed again\n",
    "cleaned_data_df.head()"
   ]
  },
  {
   "cell_type": "markdown",
   "metadata": {},
   "source": [
    "## Plotting the Data\n",
    "* Use proper labeling of the plots using plot titles (including date of analysis) and axes labels.\n",
    "* Save the plotted figures as .pngs."
   ]
  },
  {
   "cell_type": "markdown",
   "metadata": {},
   "source": [
    "## Latitude vs. Temperature Plot"
   ]
  },
  {
   "cell_type": "code",
   "execution_count": 13,
   "metadata": {
    "scrolled": true
   },
   "outputs": [
    {
     "data": {
      "image/png": "[encoded data removed]",
      "text/plain": [
       "<Figure size 432x288 with 1 Axes>"
      ]
     },
     "metadata": {
      "needs_background": "light"
     },
     "output_type": "display_data"
    }
   ],
   "source": [
    "# I KNOW THE TEMP VALUES ARE ODD AND PROBABLY NEED TO BE UPDATED\n",
    "# BUT THAT IS THE VALUE IN THE JSON SO I WILL LEAVE IT FOR NOW\n",
    "\n",
    "# Create Latitude vs. Temperature scatter plot\n",
    "plt.scatter(cleaned_data_df[\"Lat\"], cleaned_data_df[\"Temperature\"])\n",
    "\n",
    "# Set the title and x and y labels of the plot\n",
    "plt.title(\"Latitude vs. Temperature\")\n",
    "plt.xlabel(\"Laitude\")\n",
    "plt.ylabel(\"Temperature\")\n",
    "\n",
    "# Best practice to use plt.show()\n",
    "plt.show()"
   ]
  },
  {
   "cell_type": "markdown",
   "metadata": {},
   "source": [
    "### This above plot shows the relationship between the change in latitude and how that potentially correlates to the temperature value recorded.\n",
    "The data seems to suggest that that the temperature seems to increase as it gets closer to 0 and decrease at varrying rates the further it gets from 0. This relationship supports the initial hypothesis that it gets warmer the closer you are to the equator."
   ]
  },
  {
   "cell_type": "markdown",
   "metadata": {},
   "source": [
    "## Latitude vs. Humidity Plot"
   ]
  },
  {
   "cell_type": "code",
   "execution_count": 14,
   "metadata": {},
   "outputs": [
    {
     "data": {
      "image/png": "[encoded data removed]",
      "text/plain": [
       "<Figure size 432x288 with 1 Axes>"
      ]
     },
     "metadata": {
      "needs_background": "light"
     },
     "output_type": "display_data"
    }
   ],
   "source": [
    "# Create Latitude vs. Humidity scatter plot\n",
    "plt.scatter(cleaned_data_df[\"Lat\"], cleaned_data_df[\"Humidity\"])\n",
    "\n",
    "# Set the title and x and y labels of the plot\n",
    "plt.title(\"Latitude vs. Humidity\")\n",
    "plt.xlabel(\"Laitude\")\n",
    "plt.ylabel(\"Humidity\")\n",
    "\n",
    "# Best practice to use plt.show()\n",
    "plt.show()"
   ]
  },
  {
   "cell_type": "markdown",
   "metadata": {},
   "source": [
    "### This above plot shows the relationship between the change in latitude and how that potentially correlates to the percent humidity value recorded.\n",
    "The data does not show a true correlation between the latitude and the percent humidity. While we do see the humidity values to trend lower at more extreme latitudes (-50, 50) the data is too dispersed in this chart to accurately say there is a strong correlation between the two"
   ]
  },
  {
   "cell_type": "markdown",
   "metadata": {},
   "source": [
    "## Latitude vs. Cloudiness Plot"
   ]
  },
  {
   "cell_type": "code",
   "execution_count": 15,
   "metadata": {},
   "outputs": [
    {
     "data": {
      "image/png": "[encoded data removed]",
      "text/plain": [
       "<Figure size 432x288 with 1 Axes>"
      ]
     },
     "metadata": {
      "needs_background": "light"
     },
     "output_type": "display_data"
    }
   ],
   "source": [
    "# Create Latitude vs. Cloudiness scatter plot\n",
    "plt.scatter(cleaned_data_df[\"Lat\"], cleaned_data_df[\"Cloud\"])\n",
    "\n",
    "# Set the title and x and y labels of the plot\n",
    "plt.title(\"Latitude vs. Cloudiness\")\n",
    "plt.xlabel(\"Laitude\")\n",
    "plt.ylabel(\"Cloudiness\")\n",
    "\n",
    "# Best practice to use plt.show()\n",
    "plt.show()"
   ]
  },
  {
   "cell_type": "markdown",
   "metadata": {},
   "source": [
    "### This above plot shows the relationship between the change in latitude and how that potentially correlates to the Cloudiness value recorded.\n",
    "The data seems to suggest that that there is little to no discernable coorilation between the level of cloudiness and the latitude, as the points are dispersed across the chart"
   ]
  },
  {
   "cell_type": "markdown",
   "metadata": {},
   "source": [
    "## Latitude vs. Wind Speed Plot"
   ]
  },
  {
   "cell_type": "code",
   "execution_count": 16,
   "metadata": {},
   "outputs": [
    {
     "data": {
      "image/png": "[encoded data removed]",
      "text/plain": [
       "<Figure size 432x288 with 1 Axes>"
      ]
     },
     "metadata": {
      "needs_background": "light"
     },
     "output_type": "display_data"
    }
   ],
   "source": [
    "# Create Latitude vs. Wind Speed scatter plot\n",
    "plt.scatter(cleaned_data_df[\"Lat\"], cleaned_data_df[\"Wind Speed\"])\n",
    "\n",
    "# Set the title and x and y labels of the plot\n",
    "plt.title(\"Latitude vs. Wind Speed\")\n",
    "plt.xlabel(\"Laitude\")\n",
    "plt.ylabel(\"Wind Speed\")\n",
    "\n",
    "# Best practice to use plt.show()\n",
    "plt.show()"
   ]
  },
  {
   "cell_type": "markdown",
   "metadata": {},
   "source": [
    "### This above plot shows the relationship between the change in latitude and how that potentially correlates to the wind speed value recorded.\n",
    "This chart again depicts little correlation between latitude and wind speed as the data is spread across the whole chart, not being effected by the latitude value it is tied to."
   ]
  },
  {
   "cell_type": "markdown",
   "metadata": {},
   "source": [
    "## Linear Regression"
   ]
  },
  {
   "cell_type": "code",
   "execution_count": 17,
   "metadata": {},
   "outputs": [
    {
     "data": {
      "text/html": [
       "<div>\n",
       "<style scoped>\n",
       "    .dataframe tbody tr th:only-of-type {\n",
       "        vertical-align: middle;\n",
       "    }\n",
       "\n",
       "    .dataframe tbody tr th {\n",
       "        vertical-align: top;\n",
       "    }\n",
       "\n",
       "    .dataframe thead th {\n",
       "        text-align: right;\n",
       "    }\n",
       "</style>\n",
       "<table border=\"1\" class=\"dataframe\">\n",
       "  <thead>\n",
       "    <tr style=\"text-align: right;\">\n",
       "      <th></th>\n",
       "      <th>City</th>\n",
       "      <th>Country</th>\n",
       "      <th>Temperature</th>\n",
       "      <th>Date</th>\n",
       "      <th>Humidity</th>\n",
       "      <th>Cloud</th>\n",
       "      <th>Wind Speed</th>\n",
       "      <th>Lat</th>\n",
       "      <th>Lng</th>\n",
       "    </tr>\n",
       "  </thead>\n",
       "  <tbody>\n",
       "    <tr>\n",
       "      <th>1</th>\n",
       "      <td>Kapaa</td>\n",
       "      <td>US</td>\n",
       "      <td>295.15</td>\n",
       "      <td>1613148320</td>\n",
       "      <td>68</td>\n",
       "      <td>40</td>\n",
       "      <td>5.66</td>\n",
       "      <td>22.0752</td>\n",
       "      <td>-159.3190</td>\n",
       "    </tr>\n",
       "    <tr>\n",
       "      <th>3</th>\n",
       "      <td>Jamestown</td>\n",
       "      <td>US</td>\n",
       "      <td>267.04</td>\n",
       "      <td>1613148179</td>\n",
       "      <td>67</td>\n",
       "      <td>90</td>\n",
       "      <td>4.12</td>\n",
       "      <td>42.0970</td>\n",
       "      <td>-79.2353</td>\n",
       "    </tr>\n",
       "    <tr>\n",
       "      <th>5</th>\n",
       "      <td>Nikolskoye</td>\n",
       "      <td>RU</td>\n",
       "      <td>258.71</td>\n",
       "      <td>1613148326</td>\n",
       "      <td>85</td>\n",
       "      <td>75</td>\n",
       "      <td>4.00</td>\n",
       "      <td>59.7035</td>\n",
       "      <td>30.7861</td>\n",
       "    </tr>\n",
       "    <tr>\n",
       "      <th>7</th>\n",
       "      <td>Grindavik</td>\n",
       "      <td>IS</td>\n",
       "      <td>278.15</td>\n",
       "      <td>1613148329</td>\n",
       "      <td>65</td>\n",
       "      <td>75</td>\n",
       "      <td>19.03</td>\n",
       "      <td>63.8424</td>\n",
       "      <td>-22.4338</td>\n",
       "    </tr>\n",
       "    <tr>\n",
       "      <th>8</th>\n",
       "      <td>Saravan</td>\n",
       "      <td>AM</td>\n",
       "      <td>279.15</td>\n",
       "      <td>1613148331</td>\n",
       "      <td>65</td>\n",
       "      <td>40</td>\n",
       "      <td>3.09</td>\n",
       "      <td>39.7196</td>\n",
       "      <td>45.6483</td>\n",
       "    </tr>\n",
       "  </tbody>\n",
       "</table>\n",
       "</div>"
      ],
      "text/plain": [
       "         City Country  Temperature        Date  Humidity  Cloud  Wind Speed  \\\n",
       "1       Kapaa      US       295.15  1613148320        68     40        5.66   \n",
       "3   Jamestown      US       267.04  1613148179        67     90        4.12   \n",
       "5  Nikolskoye      RU       258.71  1613148326        85     75        4.00   \n",
       "7   Grindavik      IS       278.15  1613148329        65     75       19.03   \n",
       "8     Saravan      AM       279.15  1613148331        65     40        3.09   \n",
       "\n",
       "       Lat       Lng  \n",
       "1  22.0752 -159.3190  \n",
       "3  42.0970  -79.2353  \n",
       "5  59.7035   30.7861  \n",
       "7  63.8424  -22.4338  \n",
       "8  39.7196   45.6483  "
      ]
     },
     "execution_count": 17,
     "metadata": {},
     "output_type": "execute_result"
    }
   ],
   "source": [
    "# Create Northern and Southern hemisphere dataframes based on homework instructions\n",
    "# Norther hemisphere is if lat >= 0 and Southern is if it is < 0\n",
    "northern_hemisphere = cleaned_data_df.loc[cleaned_data_df[\"Lat\"] >= 0]\n",
    "southern_hemisphere = cleaned_data_df.loc[cleaned_data_df[\"Lat\"] < 0]\n",
    "northern_hemisphere.head()"
   ]
  },
  {
   "cell_type": "code",
   "execution_count": 18,
   "metadata": {},
   "outputs": [
    {
     "name": "stdout",
     "output_type": "stream",
     "text": [
      "0      309.079748\n",
      "1      283.225841\n",
      "2      302.681056\n",
      "3      276.344613\n",
      "4      302.377855\n",
      "          ...    \n",
      "293    299.058907\n",
      "294    278.858097\n",
      "295    282.753340\n",
      "296    278.182306\n",
      "297    271.311045\n",
      "Name: Lat, Length: 280, dtype: float64\n",
      "y = -0.34x + 290.81\n"
     ]
    }
   ],
   "source": [
    "# Generate x and y values to start\n",
    "# These will be updated for each chart, but the rest of the setup will stay\n",
    "x_values = cleaned_data_df[\"Lat\"]\n",
    "y_values = cleaned_data_df[\"Temperature\"]\n",
    "\n",
    "# Set up linear regression equation\n",
    "(slope, intercept, rvalue, pvalue, stderr) = linregress(x_values, y_values)\n",
    "\n",
    "# Get regression values\n",
    "regress_values = x_values * slope + intercept\n",
    "print(regress_values)\n",
    "\n",
    "# Create a line equation using the linregress values generated above\n",
    "line_eq = \"y = \" + str(round(slope,2)) + \"x + \" + str(round(intercept,2))\n",
    "print(line_eq)"
   ]
  },
  {
   "cell_type": "markdown",
   "metadata": {},
   "source": [
    "####  Northern Hemisphere - Max Temp vs. Latitude Linear Regression"
   ]
  },
  {
   "cell_type": "code",
   "execution_count": 19,
   "metadata": {},
   "outputs": [
    {
     "name": "stdout",
     "output_type": "stream",
     "text": [
      "The r-value is: 0.6483186386118306\n"
     ]
    },
    {
     "data": {
      "image/png": "[encoded data removed]",
      "text/plain": [
       "<Figure size 432x288 with 1 Axes>"
      ]
     },
     "metadata": {
      "needs_background": "light"
     },
     "output_type": "display_data"
    }
   ],
   "source": [
    "# Update the x and y values\n",
    "x_values = northern_hemisphere[\"Lat\"]\n",
    "y_values = northern_hemisphere[\"Temperature\"]\n",
    "\n",
    "# Generate the scatter plot\n",
    "plt.scatter(x_values,y_values)\n",
    "\n",
    "# Set up linear regression equation\n",
    "(slope, intercept, rvalue, pvalue, stderr) = linregress(x_values, y_values)\n",
    "# Get regression values\n",
    "regress_values = x_values * slope + intercept\n",
    "#print(regress_values)\n",
    "\n",
    "# Generate regression values\n",
    "plt.plot(x_values,regress_values,\"r-\")\n",
    "\n",
    "# Label plot and annotate the line equation\n",
    "plt.title(\"Temperature v Latitude\")\n",
    "plt.xlabel(\"Latitude\")\n",
    "plt.ylabel(\"Temperature\")\n",
    "# Update the coordinates here to make sure the chart displays properly\n",
    "plt.annotate(line_eq,(43,268), fontsize=15, color=\"red\")\n",
    "\n",
    "# Print r value\n",
    "print(f\"The r-value is: {rvalue**2}\")\n",
    "\n",
    "# Show plot\n",
    "plt.show()"
   ]
  },
  {
   "cell_type": "markdown",
   "metadata": {},
   "source": [
    "### This above plot for the northern hemisphere shows the relationship between the change in latitude and how that potentially correlates to the temperature value recorded. It also shows a regression line to further display any correlation.\n",
    "The regression line clearly shows the hypothesis to be true as the temperature drops the further the latitude is from 0 (the equator). Also, the r value being pretty close to 1.0 each time I've run this with new random cities gives me confidence that the correlation between these values is strong."
   ]
  },
  {
   "cell_type": "markdown",
   "metadata": {},
   "source": [
    "####  Southern Hemisphere - Max Temp vs. Latitude Linear Regression"
   ]
  },
  {
   "cell_type": "code",
   "execution_count": 20,
   "metadata": {},
   "outputs": [
    {
     "name": "stdout",
     "output_type": "stream",
     "text": [
      "The r-value is: 0.5144824041042296\n"
     ]
    },
    {
     "data": {
      "image/png": "[encoded data removed]",
      "text/plain": [
       "<Figure size 432x288 with 1 Axes>"
      ]
     },
     "metadata": {
      "needs_background": "light"
     },
     "output_type": "display_data"
    }
   ],
   "source": [
    "# Update the x and y values\n",
    "x_values = southern_hemisphere[\"Lat\"]\n",
    "y_values = southern_hemisphere[\"Temperature\"]\n",
    "\n",
    "# Generate the scatter plot and regression line\n",
    "plt.scatter(x_values,y_values)\n",
    "\n",
    "# Set up linear regression equation\n",
    "(slope, intercept, rvalue, pvalue, stderr) = linregress(x_values, y_values)\n",
    "# Get regression values\n",
    "regress_values = x_values * slope + intercept\n",
    "#print(regress_values)\n",
    "\n",
    "# Generate regression values\n",
    "plt.plot(x_values,regress_values,\"r-\")\n",
    "\n",
    "# Label plot and annotate the line equation\n",
    "plt.title(\"Temp v Latitude\")\n",
    "plt.xlabel(\"Latitude\")\n",
    "plt.ylabel(\"Temperature\")\n",
    "# Update the coordinates here to make sure the chart displays properly\n",
    "plt.annotate(line_eq,(-25,293), fontsize=15, color=\"red\")\n",
    "\n",
    "# Print r value\n",
    "print(f\"The r-value is: {rvalue**2}\")\n",
    "\n",
    "# Show plot\n",
    "plt.show()"
   ]
  },
  {
   "cell_type": "markdown",
   "metadata": {},
   "source": [
    "### This above plot for the southern hemisphere shows the relationship between the change in latitude and how that potentially correlates to the temperature value recorded. It also shows a regression line to further display any correlation.\n",
    "The regression line again clearly shows the hypothesis to be true as the temperature rises the closer the latitude gets to 0 (the equator). Also, the r value again is on the 'higher' side as it closer to 1.0, shows that the correlation between these values is strong."
   ]
  },
  {
   "cell_type": "markdown",
   "metadata": {},
   "source": [
    "####  Northern Hemisphere - Humidity (%) vs. Latitude Linear Regression"
   ]
  },
  {
   "cell_type": "code",
   "execution_count": 21,
   "metadata": {},
   "outputs": [
    {
     "name": "stdout",
     "output_type": "stream",
     "text": [
      "The r-value is: 0.008496928843849663\n"
     ]
    },
    {
     "data": {
      "image/png": "[encoded data removed]",
      "text/plain": [
       "<Figure size 432x288 with 1 Axes>"
      ]
     },
     "metadata": {
      "needs_background": "light"
     },
     "output_type": "display_data"
    }
   ],
   "source": [
    "# Update the x and y values\n",
    "x_values = northern_hemisphere[\"Lat\"]\n",
    "y_values = northern_hemisphere[\"Humidity\"]\n",
    "\n",
    "# Generate the scatter plot and regression line\n",
    "plt.scatter(x_values,y_values)\n",
    "\n",
    "# Set up linear regression equation\n",
    "(slope, intercept, rvalue, pvalue, stderr) = linregress(x_values, y_values)\n",
    "# Get regression values\n",
    "regress_values = x_values * slope + intercept\n",
    "#print(regress_values)\n",
    "\n",
    "# Generate regression values\n",
    "plt.plot(x_values,regress_values,\"r-\")\n",
    "\n",
    "# Label plot and annotate the line equation\n",
    "plt.title(\"Humidity v Latitude\")\n",
    "plt.xlabel(\"Latitude\")\n",
    "plt.ylabel(\"Humidity\")\n",
    "# Update the coordinates here to make sure the chart displays properly\n",
    "plt.annotate(line_eq,(38, 50), fontsize=15, color=\"red\")\n",
    "\n",
    "# Print r value\n",
    "print(f\"The r-value is: {rvalue**2}\")\n",
    "\n",
    "# Show plot\n",
    "plt.show()"
   ]
  },
  {
   "cell_type": "markdown",
   "metadata": {},
   "source": [
    "### This above plot for the northern hemisphere shows the relationship between the change in latitude and how that potentially correlates to the percent humidity value recorded. It also shows a regression line to further display any correlation.\n",
    "The regression leads me to believe that there is very little correlation between the latitude and the percent humidity. A low r value is a telling sign of this."
   ]
  },
  {
   "cell_type": "markdown",
   "metadata": {},
   "source": [
    "####  Southern Hemisphere - Humidity (%) vs. Latitude Linear Regression"
   ]
  },
  {
   "cell_type": "code",
   "execution_count": 22,
   "metadata": {},
   "outputs": [
    {
     "name": "stdout",
     "output_type": "stream",
     "text": [
      "The r-value is: 0.003367968352162029\n"
     ]
    },
    {
     "data": {
      "image/png": "[encoded data removed]",
      "text/plain": [
       "<Figure size 432x288 with 1 Axes>"
      ]
     },
     "metadata": {
      "needs_background": "light"
     },
     "output_type": "display_data"
    }
   ],
   "source": [
    "# Update the x and y values\n",
    "x_values = southern_hemisphere[\"Lat\"]\n",
    "y_values = southern_hemisphere[\"Humidity\"]\n",
    "\n",
    "# Generate the scatter plot and regression line\n",
    "plt.scatter(x_values,y_values)\n",
    "\n",
    "# Set up linear regression equation\n",
    "(slope, intercept, rvalue, pvalue, stderr) = linregress(x_values, y_values)\n",
    "# Get regression values\n",
    "regress_values = x_values * slope + intercept\n",
    "#print(regress_values)\n",
    "\n",
    "# Generate regression values\n",
    "plt.plot(x_values,regress_values,\"r-\")\n",
    "\n",
    "# Label plot and annotate the line equation\n",
    "plt.title(\"Humidity v Latitude\")\n",
    "plt.xlabel(\"Latitude\")\n",
    "plt.ylabel(\"Humidity\")\n",
    "# Update the coordinates here to make sure the chart displays properly\n",
    "plt.annotate(line_eq,(-32,82), fontsize=15, color=\"red\")\n",
    "\n",
    "# Print r value\n",
    "print(f\"The r-value is: {rvalue**2}\")\n",
    "\n",
    "# Show plot\n",
    "plt.show()"
   ]
  },
  {
   "cell_type": "markdown",
   "metadata": {},
   "source": [
    "### This above plot for the southern hemisphere shows the relationship between the change in latitude and how that potentially correlates to the percent humidity value recorded. It also shows a regression line to further display any correlation.\n",
    "While there is a stronger correlation between the latitude and humidity in the southern hemisphere data gathered, the low r value and slope of the regression line indicate that this is still a weak correlation."
   ]
  },
  {
   "cell_type": "markdown",
   "metadata": {},
   "source": [
    "####  Northern Hemisphere - Cloudiness (%) vs. Latitude Linear Regression"
   ]
  },
  {
   "cell_type": "code",
   "execution_count": 23,
   "metadata": {},
   "outputs": [
    {
     "name": "stdout",
     "output_type": "stream",
     "text": [
      "The r-value is: 0.04578608585491488\n"
     ]
    },
    {
     "data": {
      "image/png": "[encoded data removed]",
      "text/plain": [
       "<Figure size 432x288 with 1 Axes>"
      ]
     },
     "metadata": {
      "needs_background": "light"
     },
     "output_type": "display_data"
    }
   ],
   "source": [
    "# Update the x and y values\n",
    "x_values = northern_hemisphere[\"Lat\"]\n",
    "y_values = northern_hemisphere[\"Cloud\"]\n",
    "\n",
    "# Generate the scatter plot and regression line\n",
    "plt.scatter(x_values,y_values)\n",
    "\n",
    "# Set up linear regression equation\n",
    "(slope, intercept, rvalue, pvalue, stderr) = linregress(x_values, y_values)\n",
    "# Get regression values\n",
    "regress_values = x_values * slope + intercept\n",
    "#print(regress_values)\n",
    "\n",
    "# Generate regression values\n",
    "plt.plot(x_values,regress_values,\"r-\")\n",
    "\n",
    "# Label plot and annotate the line equation\n",
    "plt.title(\"Cloudiness v Latitude\")\n",
    "plt.xlabel(\"Latitude\")\n",
    "plt.ylabel(\"Cloudiness %\")\n",
    "# Update the coordinates here to make sure the chart displays properly\n",
    "plt.annotate(line_eq,(35,15), fontsize=15, color=\"red\")\n",
    "\n",
    "# Print r value\n",
    "print(f\"The r-value is: {rvalue**2}\")\n",
    "\n",
    "# Show plot\n",
    "plt.show()"
   ]
  },
  {
   "cell_type": "markdown",
   "metadata": {},
   "source": [
    "### This above plot for the northern hemisphere shows the relationship between the change in latitude and how that potentially correlates to the cloudiness value recorded. It also shows a regression line to further display any correlation.\n",
    "There is a positive correlation displayed here, however it is a weak correlation. Leading to the conclusion that the cloudiness and latitude values do not necessarily effect one another."
   ]
  },
  {
   "cell_type": "markdown",
   "metadata": {},
   "source": [
    "####  Southern Hemisphere - Cloudiness (%) vs. Latitude Linear Regression"
   ]
  },
  {
   "cell_type": "code",
   "execution_count": 24,
   "metadata": {},
   "outputs": [
    {
     "name": "stdout",
     "output_type": "stream",
     "text": [
      "The r-value is: 0.001299803934078213\n"
     ]
    },
    {
     "data": {
      "image/png": "[encoded data removed]",
      "text/plain": [
       "<Figure size 432x288 with 1 Axes>"
      ]
     },
     "metadata": {
      "needs_background": "light"
     },
     "output_type": "display_data"
    }
   ],
   "source": [
    "# Update the x and y values\n",
    "x_values = southern_hemisphere[\"Lat\"]\n",
    "y_values = southern_hemisphere[\"Cloud\"]\n",
    "\n",
    "# Generate the scatter plot and regression line\n",
    "plt.scatter(x_values,y_values)\n",
    "\n",
    "# Set up linear regression equation\n",
    "(slope, intercept, rvalue, pvalue, stderr) = linregress(x_values, y_values)\n",
    "# Get regression values\n",
    "regress_values = x_values * slope + intercept\n",
    "#print(regress_values)\n",
    "\n",
    "# Generate regression values\n",
    "plt.plot(x_values,regress_values,\"r-\")\n",
    "\n",
    "# Label plot and annotate the line equation\n",
    "plt.title(\"Cloudiness v Latitude\")\n",
    "plt.xlabel(\"Latitude\")\n",
    "plt.ylabel(\"Cloudiness %\")\n",
    "# Update the coordinates here to make sure the chart displays properly\n",
    "plt.annotate(line_eq,(-32,20), fontsize=15, color=\"red\")\n",
    "\n",
    "# Print r value\n",
    "print(f\"The r-value is: {rvalue**2}\")\n",
    "\n",
    "# Show plot\n",
    "plt.show()"
   ]
  },
  {
   "cell_type": "markdown",
   "metadata": {},
   "source": [
    "### This above plot for the southern hemisphere shows the relationship between the change in latitude and how that potentially correlates to the temperature value recorded. It also shows a regression line to further display any correlation.\n",
    "There is a negative correlation displayed here, however it is a weak correlation. Leading to the conclusion that the cloudiness and latitude values do not necessarily effect one another."
   ]
  },
  {
   "cell_type": "markdown",
   "metadata": {},
   "source": [
    "####  Northern Hemisphere - Wind Speed (mph) vs. Latitude Linear Regression"
   ]
  },
  {
   "cell_type": "code",
   "execution_count": 25,
   "metadata": {},
   "outputs": [
    {
     "name": "stdout",
     "output_type": "stream",
     "text": [
      "The r-value is: 0.050183844255624964\n"
     ]
    },
    {
     "data": {
      "image/png": "[encoded data removed]",
      "text/plain": [
       "<Figure size 432x288 with 1 Axes>"
      ]
     },
     "metadata": {
      "needs_background": "light"
     },
     "output_type": "display_data"
    }
   ],
   "source": [
    "# Update the x and y values\n",
    "x_values = northern_hemisphere[\"Lat\"]\n",
    "y_values = northern_hemisphere[\"Wind Speed\"]\n",
    "\n",
    "# Generate the scatter plot and regression line\n",
    "plt.scatter(x_values,y_values)\n",
    "\n",
    "# Set up linear regression equation\n",
    "(slope, intercept, rvalue, pvalue, stderr) = linregress(x_values, y_values)\n",
    "# Get regression values\n",
    "regress_values = x_values * slope + intercept\n",
    "#print(regress_values)\n",
    "\n",
    "# Generate regression values\n",
    "plt.plot(x_values,regress_values,\"r-\")\n",
    "\n",
    "# Label plot and annotate the line equation\n",
    "plt.title(\"Wind Speed v Latitude\")\n",
    "plt.xlabel(\"Latitude\")\n",
    "plt.ylabel(\"Wind Speed\")\n",
    "# Update the coordinates here to make sure the chart displays properly\n",
    "plt.annotate(line_eq,(35,2), fontsize=15, color=\"red\")\n",
    "\n",
    "# Print r value\n",
    "print(f\"The r-value is: {rvalue**2}\")\n",
    "\n",
    "# Show plot\n",
    "plt.show()"
   ]
  },
  {
   "cell_type": "markdown",
   "metadata": {},
   "source": [
    "### This above plot for the northern hemisphere shows the relationship between the change in latitude and how that potentially correlates to the wind speed value recorded. It also shows a regression line to further display any correlation.\n",
    "The chart and regression line show that in the northern hemisphere there is a weak, yet slightly positive correlation between the wind speed recorded and the latitude. The r value being very close to 0 is also telling that this correlation is very minimal."
   ]
  },
  {
   "cell_type": "markdown",
   "metadata": {},
   "source": [
    "####  Southern Hemisphere - Wind Speed (mph) vs. Latitude Linear Regression"
   ]
  },
  {
   "cell_type": "code",
   "execution_count": 26,
   "metadata": {},
   "outputs": [
    {
     "name": "stdout",
     "output_type": "stream",
     "text": [
      "The r-value is: 0.04541632050685132\n"
     ]
    },
    {
     "data": {
      "image/png": "[encoded data removed]",
      "text/plain": [
       "<Figure size 432x288 with 1 Axes>"
      ]
     },
     "metadata": {
      "needs_background": "light"
     },
     "output_type": "display_data"
    }
   ],
   "source": [
    "# Update the x and y values\n",
    "x_values = southern_hemisphere[\"Lat\"]\n",
    "y_values = southern_hemisphere[\"Wind Speed\"]\n",
    "\n",
    "# Generate the scatter plot and regression line\n",
    "plt.scatter(x_values,y_values)\n",
    "\n",
    "# Set up linear regression equation\n",
    "(slope, intercept, rvalue, pvalue, stderr) = linregress(x_values, y_values)\n",
    "# Get regression values\n",
    "regress_values = x_values * slope + intercept\n",
    "#print(regress_values)\n",
    "\n",
    "# Generate regression values\n",
    "plt.plot(x_values,regress_values,\"r-\")\n",
    "\n",
    "# Label plot and annotate the line equation\n",
    "plt.title(\"Wind Speed v Latitude\")\n",
    "plt.xlabel(\"Latitude\")\n",
    "plt.ylabel(\"Wind Speed\")\n",
    "# Update the coordinates here to make sure the chart displays properly\n",
    "plt.annotate(line_eq,(-25, 2), fontsize=15, color=\"red\")\n",
    "\n",
    "# Print r value\n",
    "print(f\"The r-value is: {rvalue**2}\")\n",
    "\n",
    "# Show plot\n",
    "plt.show()"
   ]
  },
  {
   "cell_type": "markdown",
   "metadata": {},
   "source": [
    "### This above plot for the southern hemisphere shows the relationship between the change in latitude and how that potentially correlates to the temperature value recorded. It also shows a regression line to further display any correlation.\n",
    "The chart and regression line show that in the southern hemisphere there is a weak, yet slightly negative correlation between the wind speed recorded and the latitude. The r value being very close to 0 is also telling that this correlation is very minimal."
   ]
  },
  {
   "cell_type": "code",
   "execution_count": null,
   "metadata": {},
   "outputs": [],
   "source": []
  }
 ],
 "metadata": {
  "anaconda-cloud": {},
  "kernel_info": {
   "name": "python3"
  },
  "kernelspec": {
   "display_name": "Python 3",
   "language": "python",
   "name": "python3"
  },
  "language_info": {
   "codemirror_mode": {
    "name": "ipython",
    "version": 3
   },
   "file_extension": ".py",
   "mimetype": "text/x-python",
   "name": "python",
   "nbconvert_exporter": "python",
   "pygments_lexer": "ipython3",
   "version": "3.6.10"
  },
  "latex_envs": {
   "LaTeX_envs_menu_present": true,
   "autoclose": false,
   "autocomplete": true,
   "bibliofile": "biblio.bib",
   "cite_by": "apalike",
   "current_citInitial": 1,
   "eqLabelWithNumbers": true,
   "eqNumInitial": 1,
   "hotkeys": {
    "equation": "Ctrl-E",
    "itemize": "Ctrl-I"
   },
   "labels_anchors": false,
   "latex_user_defs": false,
   "report_style_numbering": false,
   "user_envs_cfg": false
  },
  "nteract": {
   "version": "0.12.3"
  }
 },
 "nbformat": 4,
 "nbformat_minor": 2
}
