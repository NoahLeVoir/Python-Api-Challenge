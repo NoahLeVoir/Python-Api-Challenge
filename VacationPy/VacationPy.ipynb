{
 "cells": [
  {
   "cell_type": "markdown",
   "metadata": {},
   "source": [
    "# VacationPy\n",
    "----\n",
    "\n",
    "#### Note\n",
    "* Keep an eye on your API usage. Use https://developers.google.com/maps/reporting/gmp-reporting as reference for how to monitor your usage and billing.\n",
    "\n",
    "* Instructions have been included for each segment. You do not have to follow them exactly, but they are included to help you think through the steps."
   ]
  },
  {
   "cell_type": "code",
   "execution_count": null,
   "metadata": {},
   "outputs": [],
   "source": [
    "# Dependencies and Setup\n",
    "import matplotlib.pyplot as plt\n",
    "import pandas as pd\n",
    "import numpy as np\n",
    "import requests\n",
    "import gmaps\n",
    "import os\n",
    "import json\n",
    "import time\n",
    "\n",
    "# Adding this to hide the pink warnings after they have been viewed once\n",
    "import warnings\n",
    "warnings.filterwarnings('ignore')\n",
    "\n",
    "# Import API key\n",
    "from config import g_key"
   ]
  },
  {
   "cell_type": "markdown",
   "metadata": {},
   "source": [
    "### Store Part I results into DataFrame\n",
    "* Load the csv exported in Part I to a DataFrame"
   ]
  },
  {
   "cell_type": "code",
   "execution_count": null,
   "metadata": {},
   "outputs": [],
   "source": [
    "file = \"../WeatherPy/output_data/cities.csv\"\n",
    "\n",
    "weather_df = pd.read_csv(file)\n",
    "weather_df.head()"
   ]
  },
  {
   "cell_type": "markdown",
   "metadata": {},
   "source": [
    "### Humidity Heatmap\n",
    "* Configure gmaps.\n",
    "* Use the Lat and Lng as locations and Humidity as the weight.\n",
    "* Add Heatmap layer to map."
   ]
  },
  {
   "cell_type": "code",
   "execution_count": null,
   "metadata": {},
   "outputs": [],
   "source": [
    "# Configure gmaps\n",
    "gmaps.configure(api_key = g_key)\n",
    "\n",
    "# Use the lat and lng columns as the locations variable\n",
    "locations = weather_df[[\"Lat\", \"Lng\"]]\n",
    "\n",
    "# Use the humidity % column of the df as the weight variable\n",
    "humidity = weather_df[\"Humidity %\"]"
   ]
  },
  {
   "cell_type": "code",
   "execution_count": null,
   "metadata": {},
   "outputs": [],
   "source": [
    "# Generate the map\n",
    "# From class discussion, it is important to set a center, and a zoom level to help make the map display properly\n",
    "# Got the center and zoom_level values through trial and error\n",
    "fig = gmaps.figure(center=(25.0, 15.0), zoom_level = 1.8)\n",
    "\n",
    "# Generate a new layer on the map - Heat layer\n",
    "heat_layer = gmaps.heatmap_layer(locations, weights = humidity,\n",
    "                                 dissipating = False, max_intensity = 100,\n",
    "                                 point_radius = 3)\n",
    "\n",
    "# Add layer\n",
    "fig.add_layer(heat_layer)\n",
    "\n",
    "# Display figure\n",
    "fig"
   ]
  },
  {
   "cell_type": "markdown",
   "metadata": {},
   "source": [
    "### Create new DataFrame fitting weather criteria\n",
    "* Narrow down the cities to fit weather conditions.\n",
    "* Drop any rows will null values."
   ]
  },
  {
   "cell_type": "code",
   "execution_count": null,
   "metadata": {},
   "outputs": [],
   "source": [
    "# Per homework instructions, I will narrow down to cities with the following:\n",
    "# Temp 80 > and < 70, Wind Speed < 10, Cloudiness = 0\n",
    "# Actually, going to be a little more lax on \"perfect\" so that I can get more results for later in the assignment (And I like it a little warmer)\n",
    "\n",
    "\n",
    "# Start by dropping NA values\n",
    "weather_df.dropna(inplace = True)\n",
    "\n",
    "# Start by finding cities with the perfect temperature (Temp 80 > and < 70)\n",
    "# Switching to 85 for the high to improve results\n",
    "perfect_temperature = weather_df.loc[(weather_df[\"Temperature (F)\"] < 85) & (weather_df[\"Temperature (F)\"] > 70)]\n",
    "perfect_temperature\n",
    "\n",
    "# Next narrow it down further by looking for lower wind speeds (< 10)\n",
    "less_wind = perfect_temperature.loc[(perfect_temperature[\"Wind Speed\"] < 10)]\n",
    "less_wind\n",
    "\n",
    "# Finally remove all clouds in the sky by setting cloudiness equal to zero\n",
    "# Switching to a little cloudy to improve results (and because I don't mind some shade)\n",
    "# This creates our perfect weather dataframe\n",
    "perfect_weather = less_wind.loc[(less_wind[\"Cloud\"] <= 15)]\n",
    "perfect_weather"
   ]
  },
  {
   "cell_type": "markdown",
   "metadata": {},
   "source": [
    "### Hotel Map\n",
    "* Store into variable named `hotel_df`.\n",
    "* Add a \"Hotel Name\" column to the DataFrame.\n",
    "* Set parameters to search for hotels with 5000 meters.\n",
    "* Hit the Google Places API for each city's coordinates.\n",
    "* Store the first Hotel result into the DataFrame.\n",
    "* Plot markers on top of the heatmap."
   ]
  },
  {
   "cell_type": "code",
   "execution_count": null,
   "metadata": {},
   "outputs": [],
   "source": [
    "# Create hotel_df based on the perfect weather df above\n",
    "hotel_df = perfect_weather\n",
    "hotel_df"
   ]
  },
  {
   "cell_type": "code",
   "execution_count": null,
   "metadata": {},
   "outputs": [],
   "source": [
    "# Adding column \"Hotel Name\"\n",
    "# Because I don't have the values for that column yet, I will set it equal to quotes to leave it blank (ignore pink message box)\n",
    "hotel_df[\"Hotel Name\"] = \"\"\n",
    "hotel_df"
   ]
  },
  {
   "cell_type": "code",
   "execution_count": null,
   "metadata": {},
   "outputs": [],
   "source": [
    "# Prepare the api requests by setting up the url and parameters\n",
    "# Using the \"nearby search\" type to perform this request\n",
    "url = \"https://maps.googleapis.com/maps/api/place/nearbysearch/json\"\n",
    "\n",
    "# Parameters for search based on hw and (https://developers.google.com/places/web-service/supported_types)\n",
    "params = {\"type\" : \"hotel\",\n",
    "          \"keyword\" : \"hotel\",\n",
    "          \"radius\" : 5000,\n",
    "          \"key\" : g_key}\n"
   ]
  },
  {
   "cell_type": "code",
   "execution_count": null,
   "metadata": {},
   "outputs": [],
   "source": [
    "# Run API request to find the hotels within 5,000 meters of the cities in our dataframe\n",
    "\n",
    "# Even though this is a small dataframe, I am still going to use a counter here to keep track\n",
    "counter = 0\n",
    "\n",
    "# Use for loop to run through each row in the dataframe\n",
    "for index, perfect_city in hotel_df.iterrows():\n",
    "    \n",
    "    # Increase counter as we move through to the each row in the dataframe\n",
    "    counter += 1\n",
    "    \n",
    "    # Pull the city name, lat, and lng values from the row in hotel_df\n",
    "    lat = perfect_city[\"Lat\"]\n",
    "    lng = perfect_city[\"Lng\"]\n",
    "    city_name = perfect_city[\"City\"]\n",
    "    \n",
    "    # add keyword to params dict\n",
    "    params[\"location\"] = (f\"{lat}, {lng}\")\n",
    "\n",
    "    # assemble url and make API request\n",
    "    #print(f\"Retrieving Results for Index {index}: {city_name}.\")\n",
    "    response = requests.get(url, params)\n",
    "    # Convert to json\n",
    "    response_json = response.json()\n",
    "    \n",
    "    # Extract the results and store them in a well-named variable\n",
    "    results = response_json[\"results\"]\n",
    "    \n",
    "    # Print statement to show where we are in the counting process of the dataframe search\n",
    "    print(f\"{counter} of {len(hotel_df)}: Looking for hotels near {city_name}\")\n",
    "    #print(json.dumps(results, indent = 4, sort_keys = True))   \n",
    "    \n",
    "    # If possible save the hotel name to dataframe\n",
    "    # Need to use try logic hear so that even if it doesn't find a value for one city, it can move on and find the others\n",
    "    try:\n",
    "        hotel_name = results[0][\"name\"]\n",
    "        print(f\"Hotel found! {hotel_name}\")\n",
    "        hotel_df.loc[index, \"Hotel Name\"] = results[0][\"name\"]\n",
    "\n",
    "    # Display a message if unable to find a hotel with the given parameters\n",
    "    except (KeyError, IndexError):\n",
    "        print(f\"Sorry, we could not find a hotel near {city_name}\")\n",
    "        hotel_df.loc[index, \"Hotel Name\"] = \"NA\"\n",
    "    \n",
    "    # Adding in a one second sleep interval between queries to avoid exceeding the API query limits\n",
    "    time.sleep(1)\n",
    "    \n",
    "# Print end of search once searching is completed\n",
    "print(\"-----------------------------\")\n",
    "print(f\"Finished collecting hotel information from {len(hotel_df)} cities with perfect weather conditions\")\n",
    "\n",
    "hotel_df"
   ]
  },
  {
   "cell_type": "code",
   "execution_count": null,
   "metadata": {},
   "outputs": [],
   "source": [
    "# NOTE: Do not change any of the code in this cell\n",
    "\n",
    "# Using the template add the hotel marks to the heatmap\n",
    "info_box_template = \"\"\"\n",
    "<dl>\n",
    "<dt>Name</dt><dd>{Hotel Name}</dd>\n",
    "<dt>City</dt><dd>{City}</dd>\n",
    "<dt>Country</dt><dd>{Country}</dd>\n",
    "</dl>\n",
    "\"\"\"\n",
    "# Store the DataFrame Row\n",
    "# NOTE: be sure to update with your DataFrame name\n",
    "hotel_info = [info_box_template.format(**row) for index, row in hotel_df.iterrows()]\n",
    "locations = hotel_df[[\"Lat\", \"Lng\"]]"
   ]
  },
  {
   "cell_type": "code",
   "execution_count": null,
   "metadata": {
    "scrolled": true
   },
   "outputs": [],
   "source": [
    "# Add marker layer and info box content ontop of heat map\n",
    "markers = gmaps.marker_layer(locations, info_box_content = hotel_info)\n",
    "\n",
    "# Add the layer to the map\n",
    "fig.add_layer(markers)\n",
    "\n",
    "# Display Map\n",
    "fig"
   ]
  },
  {
   "cell_type": "code",
   "execution_count": null,
   "metadata": {},
   "outputs": [],
   "source": []
  }
 ],
 "metadata": {
  "kernelspec": {
   "display_name": "Python 3",
   "language": "python",
   "name": "python3"
  },
  "language_info": {
   "codemirror_mode": {
    "name": "ipython",
    "version": 3
   },
   "file_extension": ".py",
   "mimetype": "text/x-python",
   "name": "python",
   "nbconvert_exporter": "python",
   "pygments_lexer": "ipython3",
   "version": "3.6.10"
  },
  "latex_envs": {
   "LaTeX_envs_menu_present": true,
   "autoclose": false,
   "autocomplete": true,
   "bibliofile": "biblio.bib",
   "cite_by": "apalike",
   "current_citInitial": 1,
   "eqLabelWithNumbers": true,
   "eqNumInitial": 1,
   "hotkeys": {
    "equation": "Ctrl-E",
    "itemize": "Ctrl-I"
   },
   "labels_anchors": false,
   "latex_user_defs": false,
   "report_style_numbering": false,
   "user_envs_cfg": false
  }
 },
 "nbformat": 4,
 "nbformat_minor": 4
}
